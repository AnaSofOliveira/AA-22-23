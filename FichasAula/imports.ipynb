{
 "cells": [
  {
   "cell_type": "code",
   "execution_count": null,
   "metadata": {},
   "outputs": [],
   "source": [
    "import numpy as np\n",
    "import matplotlib.pyplot as plt\n",
    "import pickle\n",
    "from sklearn.metrics import confusion_matrix\n",
    "\n",
    "import scipy.linalg as la\n",
    "\n",
    "from sklearn.preprocessing import PolynomialFeatures\n",
    "from sklearn.linear_model import LinearRegression\n"
   ]
  },
  {
   "cell_type": "markdown",
   "metadata": {},
   "source": []
  },
  {
   "cell_type": "markdown",
   "metadata": {},
   "source": []
  },
  {
   "cell_type": "markdown",
   "metadata": {},
   "source": []
  },
  {
   "cell_type": "markdown",
   "metadata": {},
   "source": []
  },
  {
   "cell_type": "markdown",
   "metadata": {},
   "source": []
  },
  {
   "cell_type": "markdown",
   "metadata": {},
   "source": []
  },
  {
   "cell_type": "code",
   "execution_count": null,
   "metadata": {},
   "outputs": [],
   "source": [
    "import numpy as np\n",
    "import matplotlib.pyplot as plt\n",
    "import pickle\n",
    "from sklearn.metrics import confusion_matrix\n",
    "D=pickle.load(open('Lab4-T51N-P1.p','rb'))\n",
    "print(D.keys())\n",
    "\n",
    "X = D.data\n",
    "y = D.target\n",
    "foldTrain = D.foldTrain\n",
    "foldTest = D.foldTest\n",
    "\n",
    "# Treino\n",
    "X1 = X[:, foldTrain]\n",
    "y1 = y[foldTrain]\n",
    "\n",
    "# Teste\n",
    "X2 = X[:, foldTest]\n",
    "y2 = y[foldTest]\n"
   ]
  },
  {
   "cell_type": "code",
   "execution_count": null,
   "metadata": {},
   "outputs": [],
   "source": [
    "from sklearn.preprocessing import PolynomialFeatures\n",
    "import scipy.linalg as la\n",
    "## 1. a) Use os dados de treino para estimar discriminante polinomial de 4ª ordem.\n",
    "\n",
    "poly = PolynomialFeatures(4, include_bias=False).fit(X1.T)\n",
    "X1p = poly.transform(X1.T)\n",
    "\n",
    "n_classes_treino = np.unique(y1).shape[0]\n",
    "n_amostras_treino = y1.shape[0]\n",
    "\n",
    "# print(\"Número de classes no treino: \", n_classes_treino)\n",
    "# print(\"Número de amostras no treino: \", n_amostras_treino)\n",
    "\n",
    "Y1 = -np.ones((n_classes_treino, n_amostras_treino))\n",
    "\n",
    "for i in range(n_classes_treino): \n",
    "    Y1[i, y1==i] = 1\n",
    "\n",
    "Xb = X1p.T\n",
    "\n",
    "Rx = np.dot(Xb, Xb.T)\n",
    "rxy = np.dot(Xb, Y1.T)\n",
    "\n",
    "w = np.dot(la.pinv(Rx), rxy)\n",
    "\n",
    "print(w.shape)"
   ]
  },
  {
   "cell_type": "code",
   "execution_count": null,
   "metadata": {},
   "outputs": [],
   "source": [
    "## 1. b) Calcule as matrizes de confusão e o número total de erros nos dados de treino e de teste. Imprima os resultados.\n",
    "X2p = poly.transform(X2.T)\n",
    "\n",
    "n_classes_teste = np.unique(y2).shape[0]\n",
    "n_amostras_teste = y2.shape[0]\n",
    "\n",
    "# print(\"Número de classes no teste: \", n_classes_teste)\n",
    "# print(\"Número de amostras no teste: \", n_amostras_teste)\n",
    "\n",
    "Y2 = -np.ones((n_classes_teste, n_amostras_teste))\n",
    "\n",
    "for i in range(n_classes_teste): \n",
    "    Y2[i, y2==i] = 1\n",
    "\n",
    "\n",
    "Y1e = np.dot(w.T, X1p.T)\n",
    "Y2e = np.dot(w.T, X2p.T)\n",
    "\n",
    "y1e = np.argmax(Y1e, axis=0)\n",
    "y2e = np.argmax(Y2e, axis=0)\n",
    "\n",
    "\n",
    "# Treino \n",
    "print(\"Matriz de Confusão do Treino: \\n\", confusion_matrix(y1, y1e))\n",
    "print(\"Erros no Treino: \", np.sum(y1 != y1e))\n",
    "print(\"\")\n",
    "# Teste\n",
    "print(\"Matriz de Confusão do Teste: \\n\", confusion_matrix(y2, y2e))\n",
    "print(\"Erros no Teste: \", np.sum(y2 != y2e))\n"
   ]
  },
  {
   "cell_type": "code",
   "execution_count": null,
   "metadata": {},
   "outputs": [],
   "source": [
    "## 1. c) Faça um \"plot\" dos dados de teste por classe, e dos erros do discriminante polinomial.\n",
    "\n",
    "plt.figure(figsize=(10, 5))\n",
    "plt.subplot(121)\n",
    "plt.title(\"Treino\")\n",
    "plt.plot(X1[0, y1==0], X1[1, y1==0], '.')\n",
    "plt.plot(X1[0, y1==1], X1[1, y1==1], '.')\n",
    "plt.plot(X1[0, y1==2], X1[1, y1==2], '.')\n",
    "plt.plot(X1[0, y1==3], X1[1, y1==3], '.')\n",
    "plt.plot(X1[0, y1 != y1e], X1[1, y1 != y1e], 'ok', alpha=0.3)\n",
    "\n",
    "plt.subplot(122)\n",
    "plt.title(\"Teste\")\n",
    "plt.plot(X2[0, y2==0], X2[1, y2==0], '.')\n",
    "plt.plot(X2[0, y2==1], X2[1, y2==1], '.')\n",
    "plt.plot(X2[0, y2==2], X2[1, y2==2], '.')\n",
    "plt.plot(X2[0, y2==3], X2[1, y2==3], '.')\n",
    "plt.plot(X2[0, y2 != y2e], X2[1, y2 != y2e], 'ok', alpha=0.3)"
   ]
  },
  {
   "cell_type": "code",
   "execution_count": null,
   "metadata": {},
   "outputs": [],
   "source": [
    "## 1. d) Explique brevemente porque é que mais de metade dos pontos da classe \"1\" não são bem classificados \n",
    "\n",
    "## Conforme a imagem a cima, os dados de treino não são representativos da distribuição dos dados de dataset fornecido. \n"
   ]
  },
  {
   "cell_type": "code",
   "execution_count": null,
   "metadata": {},
   "outputs": [],
   "source": []
  },
  {
   "cell_type": "code",
   "execution_count": null,
   "metadata": {},
   "outputs": [],
   "source": [
    "D=pickle.load(open('Lab4-T51N-P2.p','rb'))\n",
    "D.keys()\n",
    "\n",
    "X = D.x\n",
    "y = D.y\n",
    "foldTrain = D.foldTrain\n",
    "foldTest = D.foldTest\n",
    "\n",
    "# Treino\n",
    "X1 = X[foldTrain][:, np.newaxis]\n",
    "y1 = y[foldTrain]\n",
    "\n",
    "\n",
    "# Teste\n",
    "X2 = X[foldTest][:, np.newaxis]\n",
    "y2 = y[foldTest]\n"
   ]
  },
  {
   "cell_type": "code",
   "execution_count": null,
   "metadata": {},
   "outputs": [],
   "source": [
    "## 2. a) Use os dados de treino para estimar um regressor polinomial de 5ª ordem. Imprima os valores dos pesos.\n",
    "poly = PolynomialFeatures(5, include_bias=False).fit(X1)\n",
    "X1p = poly.transform(X1)\n",
    "\n",
    "from sklearn.linear_model import LinearRegression\n",
    "\n",
    "lr = LinearRegression().fit(X1p, y1)\n",
    "\n",
    "w0 = lr.intercept_\n",
    "ws = lr.coef_\n",
    "\n",
    "print(\"W 0 :  \", w0)\n",
    "\n",
    "for i in range(len(ws)): \n",
    "    print(\"W\", i+1, \": \", ws[i])"
   ]
  },
  {
   "cell_type": "code",
   "execution_count": null,
   "metadata": {},
   "outputs": [],
   "source": [
    "## 2. b) Calcule o coeficiente de determinação ($\\bf R^2$) para os dados de treino e para os dados de teste.\n",
    "X2p = poly.transform(X2)\n",
    "\n",
    "score_treino = lr.score(X1p, y1)\n",
    "score_teste = lr.score(X2p, y2)\n",
    "\n",
    "print(\"Score Treino: \", score_treino)\n",
    "print(\"Score Teste: \", score_teste)"
   ]
  },
  {
   "cell_type": "code",
   "execution_count": null,
   "metadata": {},
   "outputs": [],
   "source": [
    "## 2. c) Faça um \"plot\" do polinómio estimado. Visualize o polinómio conjutamente com os dados de teste. \n",
    "\n",
    "xtmp = np.linspace(-5, 5, 200)\n",
    "ytmp = w0 + ws[0]*xtmp + ws[1]*xtmp**2 + ws[2]*xtmp**3 + ws[3]*xtmp**4 + ws[4]*xtmp**5\n",
    "\n",
    "plt.figure(figsize=(10, 5))\n",
    "plt.subplot(121)\n",
    "plt.title(\"Teste\")\n",
    "plt.plot(X1, y1, '.')\n",
    "plt.axis('scaled')\n",
    "plt.grid(True)\n",
    "plt.plot(xtmp, ytmp, 'r')\n",
    "\n",
    "plt.subplot(122)\n",
    "plt.title(\"Treino\")\n",
    "plt.plot(X2, y2, '.')\n",
    "plt.axis('scaled')\n",
    "plt.grid(True)\n",
    "plt.plot(xtmp, ytmp, 'r')"
   ]
  },
  {
   "cell_type": "code",
   "execution_count": null,
   "metadata": {},
   "outputs": [],
   "source": [
    "## 2. d)  Explique brevemente porque é que o modelo não está bem adaptado aos dados de teste.\n",
    "\n",
    "## Conforme a imagem acima, o modelo não acompanha a distribuição dos dados de teste pois \n",
    "## não foi treinado com a mesma distribuição nos dados de treino. "
   ]
  }
 ],
 "metadata": {
  "kernelspec": {
   "display_name": "Python 3.8.11 ('base')",
   "language": "python",
   "name": "python3"
  },
  "language_info": {
   "name": "python",
   "version": "3.8.11"
  },
  "orig_nbformat": 4,
  "vscode": {
   "interpreter": {
    "hash": "4b40f68814b93475b29075cb0adeb1712a4387a9e06914676246b503f1ae483b"
   }
  }
 },
 "nbformat": 4,
 "nbformat_minor": 2
}
