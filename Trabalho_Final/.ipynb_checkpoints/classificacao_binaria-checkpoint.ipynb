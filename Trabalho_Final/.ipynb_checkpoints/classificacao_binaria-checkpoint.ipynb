{
 "cells": [
  {
   "cell_type": "code",
   "execution_count": 3,
   "id": "e8f9e82a-81c5-4d3f-8438-5fd766b93bac",
   "metadata": {},
   "outputs": [],
   "source": [
    "import pickle\n",
    "\n",
    "import numpy as np\n",
    "import matplotlib.pyplot as plt\n",
    "\n",
    "import nltk\n",
    "from nltk.corpus import stopwords\n",
    "stop_words = set(stopwords.words('english'))\n",
    "\n",
    "from nltk.stem import WordNetLemmatizer\n",
    "lemma = WordNetLemmatizer()\n",
    "\n",
    "from sklearn.model_selection import train_test_split, GridSearchCV, cross_val_score\n",
    "from sklearn.pipeline import make_pipeline\n",
    "\n",
    "from sklearn.feature_extraction.text import TfidfVectorizer\n",
    "from sklearn.preprocessing import StandardScaler\n",
    "from sklearn.linear_model import LogisticRegression\n",
    "from sklearn.svm import LinearSVC, SVC\n",
    "from sklearn.naive_bayes import MultinomialNB\n",
    "\n",
    "import mglearn\n",
    "from sklearn.metrics import confusion_matrix, ConfusionMatrixDisplay, accuracy_score, roc_curve\n"
   ]
  },
  {
   "cell_type": "markdown",
   "id": "d9e20229-1942-465e-9144-41e67688c95b",
   "metadata": {},
   "source": [
    "## Leitura dos dados"
   ]
  },
  {
   "cell_type": "code",
   "execution_count": 4,
   "id": "53b5aa87-ca22-4974-b079-75f3735360cd",
   "metadata": {},
   "outputs": [],
   "source": [
    "fN = '/Users/anaso/Documents/AA/AA-22-23/Trabalho Final/imdbFull.p'\n",
    "\n",
    "D = pickle.load(open(fN, 'rb'))\n",
    "\n",
    "nDocs = 5000\n",
    "\n",
    "corpus = D.data[:nDocs]\n",
    "y = D.target[:nDocs]\n",
    "\n",
    "y = [1 if val>5 else 0 for val in y]"
   ]
  },
  {
   "cell_type": "code",
   "execution_count": 5,
   "id": "8a46f103-f5a1-4b78-aa4d-8791c0f1a05d",
   "metadata": {},
   "outputs": [
    {
     "name": "stdout",
     "output_type": "stream",
     "text": [
      "Número de documentos no corpus: 5000\n",
      "Número de classes: 2\n",
      "Distribuição de amostras por classe: [2496 2504]\n"
     ]
    }
   ],
   "source": [
    "print(\"Número de documentos no corpus:\", len(corpus))\n",
    "print(\"Número de classes:\", len(np.bincount(y)))\n",
    "print(\"Distribuição de amostras por classe:\", np.bincount(y))"
   ]
  },
  {
   "cell_type": "markdown",
   "id": "33dba24f-50c0-44c9-a549-edbeee6e9689",
   "metadata": {},
   "source": [
    "## Limpeza de dados"
   ]
  },
  {
   "cell_type": "code",
   "execution_count": 7,
   "id": "c11ac6c2-6ddc-4dc1-b81c-d0630f4a8e9c",
   "metadata": {},
   "outputs": [],
   "source": [
    "corpus = [critica.replace(\"<br />\", \" \") for critica in corpus]\n",
    "corpus = [\" \".join((palavra if palavra not in stop_words else \" \") for palavra in critica.split()) for critica in corpus]\n",
    "corpus = [\" \".join(lemma.lemmatize(palavra) for palavra in critica.split()) for critica in corpus]"
   ]
  },
  {
   "cell_type": "markdown",
   "id": "d9ad89cc-41ed-4933-9104-ee119b664053",
   "metadata": {},
   "source": [
    "## Divisão dos dados em teste, validação e treino "
   ]
  },
  {
   "cell_type": "code",
   "execution_count": 8,
   "id": "2a46c81d-4e46-486d-bc28-97e0e3a4fe51",
   "metadata": {},
   "outputs": [],
   "source": [
    "corpus_treino, corpus_teste, y_treino, y_teste = train_test_split(corpus, y, test_size=1/3, shuffle=True, stratify=y)\n",
    "_, corpus_validacao, _, y_validacao = train_test_split(corpus_treino, y_treino, test_size=1/2, shuffle=True, stratify=y_treino)"
   ]
  },
  {
   "cell_type": "code",
   "execution_count": 9,
   "id": "566d60a4-35de-4f5e-a7dd-f1b5e5e6f86d",
   "metadata": {},
   "outputs": [
    {
     "name": "stdout",
     "output_type": "stream",
     "text": [
      "Treino (Treino+Validação)\n",
      "- Número de documentos para treino:  3333\n",
      "- Número de avaliações para treino:  3333\n",
      "\n",
      "Validação\n",
      "- Número de documentos para validação:  1667\n",
      "- Número de avaliações para validação:  1667\n",
      "\n",
      "Teste\n",
      "- Número de documentos para teste:  1667\n",
      "- Número de avaliações para teste:  1667\n"
     ]
    }
   ],
   "source": [
    "print(\"Treino (Treino+Validação)\")\n",
    "print(\"- Número de documentos para treino: \", len(corpus_treino))\n",
    "print(\"- Número de avaliações para treino: \", len(y_treino))\n",
    "\n",
    "print(\"\\nValidação\")\n",
    "print(\"- Número de documentos para validação: \", len(corpus_validacao))\n",
    "print(\"- Número de avaliações para validação: \", len(y_validacao))\n",
    "\n",
    "print(\"\\nTeste\")\n",
    "print(\"- Número de documentos para teste: \", len(corpus_teste))\n",
    "print(\"- Número de avaliações para teste: \", len(y_teste))"
   ]
  },
  {
   "cell_type": "markdown",
   "id": "426f2488-6af9-47a0-b3dc-e828b5ecb092",
   "metadata": {},
   "source": [
    "## Extração de Caracteristicas"
   ]
  },
  {
   "cell_type": "code",
   "execution_count": 10,
   "id": "2a8401a4-c575-43f9-9cc6-06cb57783b46",
   "metadata": {},
   "outputs": [],
   "source": [
    "tf = TfidfVectorizer(min_df=3, max_df=0.75, ngram_range=(1,3), token_pattern=r'\\b\\w{3,}\\b').fit(corpus_treino) \n",
    "\n",
    "corpus_treino_p = tf.transform(corpus_treino)\n",
    "corpus_validacao_p = tf.transform(corpus_validacao)\n",
    "corpus_teste_p = tf.transform(corpus_teste)\n",
    "\n",
    "st = StandardScaler(with_mean=False).fit(corpus_treino_p)\n",
    "\n",
    "corpus_treino_s = st.transform(corpus_treino_p)\n",
    "corpus_validacao_s = st.transform(corpus_validacao_p)\n",
    "corpus_teste_s = st.transform(corpus_teste_p)\n"
   ]
  },
  {
   "cell_type": "markdown",
   "id": "f91083ad-64c6-47c5-9858-ed5dc5a07b22",
   "metadata": {},
   "source": [
    "# Classificador LogisticRegression"
   ]
  },
  {
   "cell_type": "markdown",
   "id": "938b938c-49a0-4b34-9b95-6120de70e67b",
   "metadata": {},
   "source": [
    "- Resultados sem parametrização do classificador"
   ]
  },
  {
   "cell_type": "code",
   "execution_count": 11,
   "id": "9a1be4c2-ca2d-41d5-8819-483cbfc7a95c",
   "metadata": {},
   "outputs": [
    {
     "name": "stdout",
     "output_type": "stream",
     "text": [
      "Mean cross-validation accuracy: 0.85\n"
     ]
    }
   ],
   "source": [
    "scores = cross_val_score(LogisticRegression(max_iter=5000), corpus_treino_s, y_treino, cv=5)\n",
    "print(\"Mean cross-validation accuracy: {:.2f}\".format(np.mean(scores)))"
   ]
  },
  {
   "cell_type": "markdown",
   "id": "7bf8af86-8777-4017-8ce1-bac2658a87f4",
   "metadata": {},
   "source": [
    "- Ajuste dos hiperparametros"
   ]
  },
  {
   "cell_type": "code",
   "execution_count": 12,
   "id": "b213f195-ee7f-4326-b67e-bde0ccd4e93f",
   "metadata": {},
   "outputs": [
    {
     "name": "stdout",
     "output_type": "stream",
     "text": [
      "Fitting 3 folds for each of 120 candidates, totalling 360 fits\n",
      "[CV 1/3] END C=0.01, multi_class=ovr, penalty=l1, solver=liblinear, tol=0.001;, score=0.595 total time=   0.0s\n",
      "[CV 2/3] END C=0.01, multi_class=ovr, penalty=l1, solver=liblinear, tol=0.001;, score=0.665 total time=   0.0s\n",
      "[CV 3/3] END C=0.01, multi_class=ovr, penalty=l1, solver=liblinear, tol=0.001;, score=0.647 total time=   0.0s\n",
      "[CV 1/3] END C=0.01, multi_class=ovr, penalty=l1, solver=liblinear, tol=0.0001;, score=0.595 total time=   0.0s\n",
      "[CV 2/3] END C=0.01, multi_class=ovr, penalty=l1, solver=liblinear, tol=0.0001;, score=0.665 total time=   0.0s\n",
      "[CV 3/3] END C=0.01, multi_class=ovr, penalty=l1, solver=liblinear, tol=0.0001;, score=0.647 total time=   0.0s\n",
      "[CV 1/3] END C=0.01, multi_class=ovr, penalty=l1, solver=liblinear, tol=1e-05;, score=0.595 total time=   0.0s\n",
      "[CV 2/3] END C=0.01, multi_class=ovr, penalty=l1, solver=liblinear, tol=1e-05;, score=0.665 total time=   0.0s\n",
      "[CV 3/3] END C=0.01, multi_class=ovr, penalty=l1, solver=liblinear, tol=1e-05;, score=0.647 total time=   0.0s\n",
      "[CV 1/3] END C=0.01, multi_class=ovr, penalty=l1, solver=saga, tol=0.001;, score=0.656 total time=   0.5s\n",
      "[CV 2/3] END C=0.01, multi_class=ovr, penalty=l1, solver=saga, tol=0.001;, score=0.637 total time=   0.6s\n",
      "[CV 3/3] END C=0.01, multi_class=ovr, penalty=l1, solver=saga, tol=0.001;, score=0.650 total time=   0.5s\n",
      "[CV 1/3] END C=0.01, multi_class=ovr, penalty=l1, solver=saga, tol=0.0001;, score=0.656 total time=   1.2s\n",
      "[CV 2/3] END C=0.01, multi_class=ovr, penalty=l1, solver=saga, tol=0.0001;, score=0.635 total time=   1.2s\n",
      "[CV 3/3] END C=0.01, multi_class=ovr, penalty=l1, solver=saga, tol=0.0001;, score=0.650 total time=   1.3s\n",
      "[CV 1/3] END C=0.01, multi_class=ovr, penalty=l1, solver=saga, tol=1e-05;, score=0.656 total time=  10.1s\n",
      "[CV 2/3] END C=0.01, multi_class=ovr, penalty=l1, solver=saga, tol=1e-05;, score=0.635 total time=   2.1s\n",
      "[CV 3/3] END C=0.01, multi_class=ovr, penalty=l1, solver=saga, tol=1e-05;, score=0.645 total time=   2.3s\n",
      "[CV 1/3] END C=0.01, multi_class=ovr, penalty=l2, solver=liblinear, tol=0.001;, score=0.799 total time=   0.0s\n",
      "[CV 2/3] END C=0.01, multi_class=ovr, penalty=l2, solver=liblinear, tol=0.001;, score=0.777 total time=   0.0s\n",
      "[CV 3/3] END C=0.01, multi_class=ovr, penalty=l2, solver=liblinear, tol=0.001;, score=0.796 total time=   0.0s\n",
      "[CV 1/3] END C=0.01, multi_class=ovr, penalty=l2, solver=liblinear, tol=0.0001;, score=0.799 total time=   0.0s\n",
      "[CV 2/3] END C=0.01, multi_class=ovr, penalty=l2, solver=liblinear, tol=0.0001;, score=0.777 total time=   0.0s\n",
      "[CV 3/3] END C=0.01, multi_class=ovr, penalty=l2, solver=liblinear, tol=0.0001;, score=0.796 total time=   0.0s\n",
      "[CV 1/3] END C=0.01, multi_class=ovr, penalty=l2, solver=liblinear, tol=1e-05;, score=0.799 total time=   0.0s\n",
      "[CV 2/3] END C=0.01, multi_class=ovr, penalty=l2, solver=liblinear, tol=1e-05;, score=0.777 total time=   0.0s\n",
      "[CV 3/3] END C=0.01, multi_class=ovr, penalty=l2, solver=liblinear, tol=1e-05;, score=0.796 total time=   0.0s\n",
      "[CV 1/3] END C=0.01, multi_class=ovr, penalty=l2, solver=saga, tol=0.001;, score=0.800 total time=   0.2s\n",
      "[CV 2/3] END C=0.01, multi_class=ovr, penalty=l2, solver=saga, tol=0.001;, score=0.773 total time=   0.1s\n",
      "[CV 3/3] END C=0.01, multi_class=ovr, penalty=l2, solver=saga, tol=0.001;, score=0.802 total time=   0.1s\n",
      "[CV 1/3] END C=0.01, multi_class=ovr, penalty=l2, solver=saga, tol=0.0001;, score=0.800 total time=   0.5s\n",
      "[CV 2/3] END C=0.01, multi_class=ovr, penalty=l2, solver=saga, tol=0.0001;, score=0.777 total time=   0.3s\n",
      "[CV 3/3] END C=0.01, multi_class=ovr, penalty=l2, solver=saga, tol=0.0001;, score=0.796 total time=   0.4s\n",
      "[CV 1/3] END C=0.01, multi_class=ovr, penalty=l2, solver=saga, tol=1e-05;, score=0.799 total time=   0.9s\n",
      "[CV 2/3] END C=0.01, multi_class=ovr, penalty=l2, solver=saga, tol=1e-05;, score=0.777 total time=   0.8s\n",
      "[CV 3/3] END C=0.01, multi_class=ovr, penalty=l2, solver=saga, tol=1e-05;, score=0.796 total time=   0.8s\n",
      "[CV 1/3] END C=0.01, multi_class=auto, penalty=l1, solver=liblinear, tol=0.001;, score=0.595 total time=   0.0s\n",
      "[CV 2/3] END C=0.01, multi_class=auto, penalty=l1, solver=liblinear, tol=0.001;, score=0.665 total time=   0.0s\n",
      "[CV 3/3] END C=0.01, multi_class=auto, penalty=l1, solver=liblinear, tol=0.001;, score=0.647 total time=   0.0s\n",
      "[CV 1/3] END C=0.01, multi_class=auto, penalty=l1, solver=liblinear, tol=0.0001;, score=0.595 total time=   0.0s\n",
      "[CV 2/3] END C=0.01, multi_class=auto, penalty=l1, solver=liblinear, tol=0.0001;, score=0.665 total time=   0.0s\n",
      "[CV 3/3] END C=0.01, multi_class=auto, penalty=l1, solver=liblinear, tol=0.0001;, score=0.647 total time=   0.0s\n",
      "[CV 1/3] END C=0.01, multi_class=auto, penalty=l1, solver=liblinear, tol=1e-05;, score=0.595 total time=   0.0s\n",
      "[CV 2/3] END C=0.01, multi_class=auto, penalty=l1, solver=liblinear, tol=1e-05;, score=0.665 total time=   0.0s\n",
      "[CV 3/3] END C=0.01, multi_class=auto, penalty=l1, solver=liblinear, tol=1e-05;, score=0.647 total time=   0.0s\n",
      "[CV 1/3] END C=0.01, multi_class=auto, penalty=l1, solver=saga, tol=0.001;, score=0.656 total time=   0.5s\n",
      "[CV 2/3] END C=0.01, multi_class=auto, penalty=l1, solver=saga, tol=0.001;, score=0.637 total time=   0.5s\n",
      "[CV 3/3] END C=0.01, multi_class=auto, penalty=l1, solver=saga, tol=0.001;, score=0.650 total time=   0.5s\n",
      "[CV 1/3] END C=0.01, multi_class=auto, penalty=l1, solver=saga, tol=0.0001;, score=0.656 total time=   1.1s\n",
      "[CV 2/3] END C=0.01, multi_class=auto, penalty=l1, solver=saga, tol=0.0001;, score=0.635 total time=   1.1s\n",
      "[CV 3/3] END C=0.01, multi_class=auto, penalty=l1, solver=saga, tol=0.0001;, score=0.650 total time=   1.3s\n",
      "[CV 1/3] END C=0.01, multi_class=auto, penalty=l1, solver=saga, tol=1e-05;, score=0.656 total time=   9.5s\n",
      "[CV 2/3] END C=0.01, multi_class=auto, penalty=l1, solver=saga, tol=1e-05;, score=0.635 total time=   1.9s\n",
      "[CV 3/3] END C=0.01, multi_class=auto, penalty=l1, solver=saga, tol=1e-05;, score=0.645 total time=   2.3s\n",
      "[CV 1/3] END C=0.01, multi_class=auto, penalty=l2, solver=liblinear, tol=0.001;, score=0.799 total time=   0.0s\n",
      "[CV 2/3] END C=0.01, multi_class=auto, penalty=l2, solver=liblinear, tol=0.001;, score=0.777 total time=   0.0s\n",
      "[CV 3/3] END C=0.01, multi_class=auto, penalty=l2, solver=liblinear, tol=0.001;, score=0.796 total time=   0.0s\n",
      "[CV 1/3] END C=0.01, multi_class=auto, penalty=l2, solver=liblinear, tol=0.0001;, score=0.799 total time=   0.0s\n",
      "[CV 2/3] END C=0.01, multi_class=auto, penalty=l2, solver=liblinear, tol=0.0001;, score=0.777 total time=   0.0s\n",
      "[CV 3/3] END C=0.01, multi_class=auto, penalty=l2, solver=liblinear, tol=0.0001;, score=0.796 total time=   0.0s\n",
      "[CV 1/3] END C=0.01, multi_class=auto, penalty=l2, solver=liblinear, tol=1e-05;, score=0.799 total time=   0.0s\n",
      "[CV 2/3] END C=0.01, multi_class=auto, penalty=l2, solver=liblinear, tol=1e-05;, score=0.777 total time=   0.0s\n",
      "[CV 3/3] END C=0.01, multi_class=auto, penalty=l2, solver=liblinear, tol=1e-05;, score=0.796 total time=   0.0s\n",
      "[CV 1/3] END C=0.01, multi_class=auto, penalty=l2, solver=saga, tol=0.001;, score=0.800 total time=   0.1s\n",
      "[CV 2/3] END C=0.01, multi_class=auto, penalty=l2, solver=saga, tol=0.001;, score=0.773 total time=   0.1s\n",
      "[CV 3/3] END C=0.01, multi_class=auto, penalty=l2, solver=saga, tol=0.001;, score=0.802 total time=   0.2s\n",
      "[CV 1/3] END C=0.01, multi_class=auto, penalty=l2, solver=saga, tol=0.0001;, score=0.800 total time=   0.5s\n",
      "[CV 2/3] END C=0.01, multi_class=auto, penalty=l2, solver=saga, tol=0.0001;, score=0.777 total time=   0.4s\n",
      "[CV 3/3] END C=0.01, multi_class=auto, penalty=l2, solver=saga, tol=0.0001;, score=0.796 total time=   0.4s\n",
      "[CV 1/3] END C=0.01, multi_class=auto, penalty=l2, solver=saga, tol=1e-05;, score=0.799 total time=   0.9s\n",
      "[CV 2/3] END C=0.01, multi_class=auto, penalty=l2, solver=saga, tol=1e-05;, score=0.777 total time=   0.8s\n",
      "[CV 3/3] END C=0.01, multi_class=auto, penalty=l2, solver=saga, tol=1e-05;, score=0.796 total time=   0.8s\n",
      "[CV 1/3] END C=0.1, multi_class=ovr, penalty=l1, solver=liblinear, tol=0.001;, score=0.773 total time=   0.0s\n",
      "[CV 2/3] END C=0.1, multi_class=ovr, penalty=l1, solver=liblinear, tol=0.001;, score=0.788 total time=   0.0s\n",
      "[CV 3/3] END C=0.1, multi_class=ovr, penalty=l1, solver=liblinear, tol=0.001;, score=0.751 total time=   0.0s\n",
      "[CV 1/3] END C=0.1, multi_class=ovr, penalty=l1, solver=liblinear, tol=0.0001;, score=0.770 total time=   0.0s\n",
      "[CV 2/3] END C=0.1, multi_class=ovr, penalty=l1, solver=liblinear, tol=0.0001;, score=0.793 total time=   0.0s\n",
      "[CV 3/3] END C=0.1, multi_class=ovr, penalty=l1, solver=liblinear, tol=0.0001;, score=0.750 total time=   0.0s\n",
      "[CV 1/3] END C=0.1, multi_class=ovr, penalty=l1, solver=liblinear, tol=1e-05;, score=0.766 total time=   0.0s\n",
      "[CV 2/3] END C=0.1, multi_class=ovr, penalty=l1, solver=liblinear, tol=1e-05;, score=0.790 total time=   0.0s\n",
      "[CV 3/3] END C=0.1, multi_class=ovr, penalty=l1, solver=liblinear, tol=1e-05;, score=0.748 total time=   0.0s\n"
     ]
    },
    {
     "name": "stdout",
     "output_type": "stream",
     "text": [
      "[CV 1/3] END C=0.1, multi_class=ovr, penalty=l1, solver=saga, tol=0.001;, score=0.784 total time=   3.8s\n",
      "[CV 2/3] END C=0.1, multi_class=ovr, penalty=l1, solver=saga, tol=0.001;, score=0.795 total time=   3.3s\n",
      "[CV 3/3] END C=0.1, multi_class=ovr, penalty=l1, solver=saga, tol=0.001;, score=0.798 total time=   3.9s\n",
      "[CV 1/3] END C=0.1, multi_class=ovr, penalty=l1, solver=saga, tol=0.0001;, score=0.777 total time=  12.8s\n",
      "[CV 2/3] END C=0.1, multi_class=ovr, penalty=l1, solver=saga, tol=0.0001;, score=0.793 total time=  11.8s\n",
      "[CV 3/3] END C=0.1, multi_class=ovr, penalty=l1, solver=saga, tol=0.0001;, score=0.753 total time=  11.9s\n"
     ]
    },
    {
     "name": "stderr",
     "output_type": "stream",
     "text": [
      "C:\\Users\\anaso\\anaconda3\\lib\\site-packages\\sklearn\\linear_model\\_sag.py:350: ConvergenceWarning: The max_iter was reached which means the coef_ did not converge\n",
      "  warnings.warn(\n"
     ]
    },
    {
     "name": "stdout",
     "output_type": "stream",
     "text": [
      "[CV 1/3] END C=0.1, multi_class=ovr, penalty=l1, solver=saga, tol=1e-05;, score=0.775 total time=  21.9s\n"
     ]
    },
    {
     "name": "stderr",
     "output_type": "stream",
     "text": [
      "C:\\Users\\anaso\\anaconda3\\lib\\site-packages\\sklearn\\linear_model\\_sag.py:350: ConvergenceWarning: The max_iter was reached which means the coef_ did not converge\n",
      "  warnings.warn(\n"
     ]
    },
    {
     "name": "stdout",
     "output_type": "stream",
     "text": [
      "[CV 2/3] END C=0.1, multi_class=ovr, penalty=l1, solver=saga, tol=1e-05;, score=0.791 total time=  21.2s\n"
     ]
    },
    {
     "name": "stderr",
     "output_type": "stream",
     "text": [
      "C:\\Users\\anaso\\anaconda3\\lib\\site-packages\\sklearn\\linear_model\\_sag.py:350: ConvergenceWarning: The max_iter was reached which means the coef_ did not converge\n",
      "  warnings.warn(\n"
     ]
    },
    {
     "name": "stdout",
     "output_type": "stream",
     "text": [
      "[CV 3/3] END C=0.1, multi_class=ovr, penalty=l1, solver=saga, tol=1e-05;, score=0.753 total time=  21.4s\n",
      "[CV 1/3] END C=0.1, multi_class=ovr, penalty=l2, solver=liblinear, tol=0.001;, score=0.799 total time=   0.0s\n",
      "[CV 2/3] END C=0.1, multi_class=ovr, penalty=l2, solver=liblinear, tol=0.001;, score=0.775 total time=   0.0s\n",
      "[CV 3/3] END C=0.1, multi_class=ovr, penalty=l2, solver=liblinear, tol=0.001;, score=0.796 total time=   0.0s\n",
      "[CV 1/3] END C=0.1, multi_class=ovr, penalty=l2, solver=liblinear, tol=0.0001;, score=0.800 total time=   0.0s\n",
      "[CV 2/3] END C=0.1, multi_class=ovr, penalty=l2, solver=liblinear, tol=0.0001;, score=0.777 total time=   0.0s\n",
      "[CV 3/3] END C=0.1, multi_class=ovr, penalty=l2, solver=liblinear, tol=0.0001;, score=0.795 total time=   0.0s\n",
      "[CV 1/3] END C=0.1, multi_class=ovr, penalty=l2, solver=liblinear, tol=1e-05;, score=0.800 total time=   0.0s\n",
      "[CV 2/3] END C=0.1, multi_class=ovr, penalty=l2, solver=liblinear, tol=1e-05;, score=0.777 total time=   0.0s\n",
      "[CV 3/3] END C=0.1, multi_class=ovr, penalty=l2, solver=liblinear, tol=1e-05;, score=0.795 total time=   0.0s\n",
      "[CV 1/3] END C=0.1, multi_class=ovr, penalty=l2, solver=saga, tol=0.001;, score=0.800 total time=   0.3s\n",
      "[CV 2/3] END C=0.1, multi_class=ovr, penalty=l2, solver=saga, tol=0.001;, score=0.773 total time=   0.2s\n",
      "[CV 3/3] END C=0.1, multi_class=ovr, penalty=l2, solver=saga, tol=0.001;, score=0.798 total time=   0.3s\n",
      "[CV 1/3] END C=0.1, multi_class=ovr, penalty=l2, solver=saga, tol=0.0001;, score=0.800 total time=   1.3s\n",
      "[CV 2/3] END C=0.1, multi_class=ovr, penalty=l2, solver=saga, tol=0.0001;, score=0.779 total time=   1.0s\n",
      "[CV 3/3] END C=0.1, multi_class=ovr, penalty=l2, solver=saga, tol=0.0001;, score=0.796 total time=   1.4s\n",
      "[CV 1/3] END C=0.1, multi_class=ovr, penalty=l2, solver=saga, tol=1e-05;, score=0.800 total time=   3.5s\n",
      "[CV 2/3] END C=0.1, multi_class=ovr, penalty=l2, solver=saga, tol=1e-05;, score=0.779 total time=   2.7s\n",
      "[CV 3/3] END C=0.1, multi_class=ovr, penalty=l2, solver=saga, tol=1e-05;, score=0.796 total time=   3.5s\n",
      "[CV 1/3] END C=0.1, multi_class=auto, penalty=l1, solver=liblinear, tol=0.001;, score=0.773 total time=   0.0s\n",
      "[CV 2/3] END C=0.1, multi_class=auto, penalty=l1, solver=liblinear, tol=0.001;, score=0.788 total time=   0.0s\n",
      "[CV 3/3] END C=0.1, multi_class=auto, penalty=l1, solver=liblinear, tol=0.001;, score=0.751 total time=   0.0s\n",
      "[CV 1/3] END C=0.1, multi_class=auto, penalty=l1, solver=liblinear, tol=0.0001;, score=0.770 total time=   0.0s\n",
      "[CV 2/3] END C=0.1, multi_class=auto, penalty=l1, solver=liblinear, tol=0.0001;, score=0.793 total time=   0.0s\n",
      "[CV 3/3] END C=0.1, multi_class=auto, penalty=l1, solver=liblinear, tol=0.0001;, score=0.750 total time=   0.0s\n",
      "[CV 1/3] END C=0.1, multi_class=auto, penalty=l1, solver=liblinear, tol=1e-05;, score=0.766 total time=   0.0s\n",
      "[CV 2/3] END C=0.1, multi_class=auto, penalty=l1, solver=liblinear, tol=1e-05;, score=0.790 total time=   0.0s\n",
      "[CV 3/3] END C=0.1, multi_class=auto, penalty=l1, solver=liblinear, tol=1e-05;, score=0.748 total time=   0.0s\n",
      "[CV 1/3] END C=0.1, multi_class=auto, penalty=l1, solver=saga, tol=0.001;, score=0.784 total time=   3.9s\n",
      "[CV 2/3] END C=0.1, multi_class=auto, penalty=l1, solver=saga, tol=0.001;, score=0.795 total time=   3.4s\n",
      "[CV 3/3] END C=0.1, multi_class=auto, penalty=l1, solver=saga, tol=0.001;, score=0.798 total time=   3.9s\n",
      "[CV 1/3] END C=0.1, multi_class=auto, penalty=l1, solver=saga, tol=0.0001;, score=0.777 total time=  13.2s\n",
      "[CV 2/3] END C=0.1, multi_class=auto, penalty=l1, solver=saga, tol=0.0001;, score=0.793 total time=  12.3s\n",
      "[CV 3/3] END C=0.1, multi_class=auto, penalty=l1, solver=saga, tol=0.0001;, score=0.753 total time=  12.0s\n"
     ]
    },
    {
     "name": "stderr",
     "output_type": "stream",
     "text": [
      "C:\\Users\\anaso\\anaconda3\\lib\\site-packages\\sklearn\\linear_model\\_sag.py:350: ConvergenceWarning: The max_iter was reached which means the coef_ did not converge\n",
      "  warnings.warn(\n"
     ]
    },
    {
     "name": "stdout",
     "output_type": "stream",
     "text": [
      "[CV 1/3] END C=0.1, multi_class=auto, penalty=l1, solver=saga, tol=1e-05;, score=0.775 total time=  22.7s\n"
     ]
    },
    {
     "name": "stderr",
     "output_type": "stream",
     "text": [
      "C:\\Users\\anaso\\anaconda3\\lib\\site-packages\\sklearn\\linear_model\\_sag.py:350: ConvergenceWarning: The max_iter was reached which means the coef_ did not converge\n",
      "  warnings.warn(\n"
     ]
    },
    {
     "name": "stdout",
     "output_type": "stream",
     "text": [
      "[CV 2/3] END C=0.1, multi_class=auto, penalty=l1, solver=saga, tol=1e-05;, score=0.791 total time=  21.7s\n"
     ]
    },
    {
     "name": "stderr",
     "output_type": "stream",
     "text": [
      "C:\\Users\\anaso\\anaconda3\\lib\\site-packages\\sklearn\\linear_model\\_sag.py:350: ConvergenceWarning: The max_iter was reached which means the coef_ did not converge\n",
      "  warnings.warn(\n"
     ]
    },
    {
     "name": "stdout",
     "output_type": "stream",
     "text": [
      "[CV 3/3] END C=0.1, multi_class=auto, penalty=l1, solver=saga, tol=1e-05;, score=0.753 total time=  22.0s\n",
      "[CV 1/3] END C=0.1, multi_class=auto, penalty=l2, solver=liblinear, tol=0.001;, score=0.799 total time=   0.0s\n",
      "[CV 2/3] END C=0.1, multi_class=auto, penalty=l2, solver=liblinear, tol=0.001;, score=0.775 total time=   0.0s\n",
      "[CV 3/3] END C=0.1, multi_class=auto, penalty=l2, solver=liblinear, tol=0.001;, score=0.796 total time=   0.0s\n",
      "[CV 1/3] END C=0.1, multi_class=auto, penalty=l2, solver=liblinear, tol=0.0001;, score=0.800 total time=   0.0s\n",
      "[CV 2/3] END C=0.1, multi_class=auto, penalty=l2, solver=liblinear, tol=0.0001;, score=0.777 total time=   0.0s\n",
      "[CV 3/3] END C=0.1, multi_class=auto, penalty=l2, solver=liblinear, tol=0.0001;, score=0.795 total time=   0.0s\n",
      "[CV 1/3] END C=0.1, multi_class=auto, penalty=l2, solver=liblinear, tol=1e-05;, score=0.800 total time=   0.0s\n",
      "[CV 2/3] END C=0.1, multi_class=auto, penalty=l2, solver=liblinear, tol=1e-05;, score=0.777 total time=   0.0s\n",
      "[CV 3/3] END C=0.1, multi_class=auto, penalty=l2, solver=liblinear, tol=1e-05;, score=0.795 total time=   0.0s\n",
      "[CV 1/3] END C=0.1, multi_class=auto, penalty=l2, solver=saga, tol=0.001;, score=0.800 total time=   0.3s\n",
      "[CV 2/3] END C=0.1, multi_class=auto, penalty=l2, solver=saga, tol=0.001;, score=0.773 total time=   0.2s\n",
      "[CV 3/3] END C=0.1, multi_class=auto, penalty=l2, solver=saga, tol=0.001;, score=0.798 total time=   0.2s\n",
      "[CV 1/3] END C=0.1, multi_class=auto, penalty=l2, solver=saga, tol=0.0001;, score=0.800 total time=   1.4s\n",
      "[CV 2/3] END C=0.1, multi_class=auto, penalty=l2, solver=saga, tol=0.0001;, score=0.779 total time=   1.2s\n",
      "[CV 3/3] END C=0.1, multi_class=auto, penalty=l2, solver=saga, tol=0.0001;, score=0.796 total time=   1.5s\n",
      "[CV 1/3] END C=0.1, multi_class=auto, penalty=l2, solver=saga, tol=1e-05;, score=0.800 total time=   3.5s\n",
      "[CV 2/3] END C=0.1, multi_class=auto, penalty=l2, solver=saga, tol=1e-05;, score=0.779 total time=   2.7s\n",
      "[CV 3/3] END C=0.1, multi_class=auto, penalty=l2, solver=saga, tol=1e-05;, score=0.796 total time=   4.1s\n",
      "[CV 1/3] END C=1, multi_class=ovr, penalty=l1, solver=liblinear, tol=0.001;, score=0.786 total time=   0.0s\n",
      "[CV 2/3] END C=1, multi_class=ovr, penalty=l1, solver=liblinear, tol=0.001;, score=0.786 total time=   0.0s\n",
      "[CV 3/3] END C=1, multi_class=ovr, penalty=l1, solver=liblinear, tol=0.001;, score=0.762 total time=   0.0s\n",
      "[CV 1/3] END C=1, multi_class=ovr, penalty=l1, solver=liblinear, tol=0.0001;, score=0.770 total time=   0.0s\n",
      "[CV 2/3] END C=1, multi_class=ovr, penalty=l1, solver=liblinear, tol=0.0001;, score=0.784 total time=   0.0s\n",
      "[CV 3/3] END C=1, multi_class=ovr, penalty=l1, solver=liblinear, tol=0.0001;, score=0.751 total time=   0.0s\n",
      "[CV 1/3] END C=1, multi_class=ovr, penalty=l1, solver=liblinear, tol=1e-05;, score=0.777 total time=   0.0s\n",
      "[CV 2/3] END C=1, multi_class=ovr, penalty=l1, solver=liblinear, tol=1e-05;, score=0.779 total time=   0.0s\n",
      "[CV 3/3] END C=1, multi_class=ovr, penalty=l1, solver=liblinear, tol=1e-05;, score=0.751 total time=   0.0s\n",
      "[CV 1/3] END C=1, multi_class=ovr, penalty=l1, solver=saga, tol=0.001;, score=0.793 total time=  13.4s\n",
      "[CV 2/3] END C=1, multi_class=ovr, penalty=l1, solver=saga, tol=0.001;, score=0.804 total time=  12.4s\n",
      "[CV 3/3] END C=1, multi_class=ovr, penalty=l1, solver=saga, tol=0.001;, score=0.827 total time=  13.5s\n"
     ]
    },
    {
     "name": "stderr",
     "output_type": "stream",
     "text": [
      "C:\\Users\\anaso\\anaconda3\\lib\\site-packages\\sklearn\\linear_model\\_sag.py:350: ConvergenceWarning: The max_iter was reached which means the coef_ did not converge\n",
      "  warnings.warn(\n"
     ]
    },
    {
     "name": "stdout",
     "output_type": "stream",
     "text": [
      "[CV 1/3] END C=1, multi_class=ovr, penalty=l1, solver=saga, tol=0.0001;, score=0.793 total time=  49.7s\n"
     ]
    },
    {
     "name": "stderr",
     "output_type": "stream",
     "text": [
      "C:\\Users\\anaso\\anaconda3\\lib\\site-packages\\sklearn\\linear_model\\_sag.py:350: ConvergenceWarning: The max_iter was reached which means the coef_ did not converge\n",
      "  warnings.warn(\n"
     ]
    },
    {
     "name": "stdout",
     "output_type": "stream",
     "text": [
      "[CV 2/3] END C=1, multi_class=ovr, penalty=l1, solver=saga, tol=0.0001;, score=0.795 total time=  46.3s\n"
     ]
    },
    {
     "name": "stderr",
     "output_type": "stream",
     "text": [
      "C:\\Users\\anaso\\anaconda3\\lib\\site-packages\\sklearn\\linear_model\\_sag.py:350: ConvergenceWarning: The max_iter was reached which means the coef_ did not converge\n",
      "  warnings.warn(\n"
     ]
    },
    {
     "name": "stdout",
     "output_type": "stream",
     "text": [
      "[CV 3/3] END C=1, multi_class=ovr, penalty=l1, solver=saga, tol=0.0001;, score=0.823 total time=  50.0s\n"
     ]
    },
    {
     "name": "stderr",
     "output_type": "stream",
     "text": [
      "C:\\Users\\anaso\\anaconda3\\lib\\site-packages\\sklearn\\linear_model\\_sag.py:350: ConvergenceWarning: The max_iter was reached which means the coef_ did not converge\n",
      "  warnings.warn(\n"
     ]
    },
    {
     "name": "stdout",
     "output_type": "stream",
     "text": [
      "[CV 1/3] END C=1, multi_class=ovr, penalty=l1, solver=saga, tol=1e-05;, score=0.793 total time=  50.3s\n"
     ]
    },
    {
     "name": "stderr",
     "output_type": "stream",
     "text": [
      "C:\\Users\\anaso\\anaconda3\\lib\\site-packages\\sklearn\\linear_model\\_sag.py:350: ConvergenceWarning: The max_iter was reached which means the coef_ did not converge\n",
      "  warnings.warn(\n"
     ]
    },
    {
     "name": "stdout",
     "output_type": "stream",
     "text": [
      "[CV 2/3] END C=1, multi_class=ovr, penalty=l1, solver=saga, tol=1e-05;, score=0.795 total time=  47.0s\n"
     ]
    },
    {
     "name": "stderr",
     "output_type": "stream",
     "text": [
      "C:\\Users\\anaso\\anaconda3\\lib\\site-packages\\sklearn\\linear_model\\_sag.py:350: ConvergenceWarning: The max_iter was reached which means the coef_ did not converge\n",
      "  warnings.warn(\n"
     ]
    },
    {
     "name": "stdout",
     "output_type": "stream",
     "text": [
      "[CV 3/3] END C=1, multi_class=ovr, penalty=l1, solver=saga, tol=1e-05;, score=0.823 total time=  50.5s\n",
      "[CV 1/3] END C=1, multi_class=ovr, penalty=l2, solver=liblinear, tol=0.001;, score=0.797 total time=   0.0s\n",
      "[CV 2/3] END C=1, multi_class=ovr, penalty=l2, solver=liblinear, tol=0.001;, score=0.781 total time=   0.0s\n",
      "[CV 3/3] END C=1, multi_class=ovr, penalty=l2, solver=liblinear, tol=0.001;, score=0.791 total time=   0.0s\n",
      "[CV 1/3] END C=1, multi_class=ovr, penalty=l2, solver=liblinear, tol=0.0001;, score=0.797 total time=   0.0s\n",
      "[CV 2/3] END C=1, multi_class=ovr, penalty=l2, solver=liblinear, tol=0.0001;, score=0.779 total time=   0.0s\n",
      "[CV 3/3] END C=1, multi_class=ovr, penalty=l2, solver=liblinear, tol=0.0001;, score=0.795 total time=   0.0s\n",
      "[CV 1/3] END C=1, multi_class=ovr, penalty=l2, solver=liblinear, tol=1e-05;, score=0.797 total time=   0.0s\n",
      "[CV 2/3] END C=1, multi_class=ovr, penalty=l2, solver=liblinear, tol=1e-05;, score=0.777 total time=   0.0s\n",
      "[CV 3/3] END C=1, multi_class=ovr, penalty=l2, solver=liblinear, tol=1e-05;, score=0.795 total time=   0.0s\n",
      "[CV 1/3] END C=1, multi_class=ovr, penalty=l2, solver=saga, tol=0.001;, score=0.800 total time=   0.3s\n",
      "[CV 2/3] END C=1, multi_class=ovr, penalty=l2, solver=saga, tol=0.001;, score=0.775 total time=   0.2s\n",
      "[CV 3/3] END C=1, multi_class=ovr, penalty=l2, solver=saga, tol=0.001;, score=0.798 total time=   0.3s\n",
      "[CV 1/3] END C=1, multi_class=ovr, penalty=l2, solver=saga, tol=0.0001;, score=0.800 total time=   2.4s\n",
      "[CV 2/3] END C=1, multi_class=ovr, penalty=l2, solver=saga, tol=0.0001;, score=0.777 total time=   2.2s\n",
      "[CV 3/3] END C=1, multi_class=ovr, penalty=l2, solver=saga, tol=0.0001;, score=0.796 total time=   2.4s\n"
     ]
    },
    {
     "name": "stderr",
     "output_type": "stream",
     "text": [
      "C:\\Users\\anaso\\anaconda3\\lib\\site-packages\\sklearn\\linear_model\\_sag.py:350: ConvergenceWarning: The max_iter was reached which means the coef_ did not converge\n",
      "  warnings.warn(\n"
     ]
    },
    {
     "name": "stdout",
     "output_type": "stream",
     "text": [
      "[CV 1/3] END C=1, multi_class=ovr, penalty=l2, solver=saga, tol=1e-05;, score=0.799 total time=   9.6s\n",
      "[CV 2/3] END C=1, multi_class=ovr, penalty=l2, solver=saga, tol=1e-05;, score=0.781 total time=   9.3s\n"
     ]
    },
    {
     "name": "stderr",
     "output_type": "stream",
     "text": [
      "C:\\Users\\anaso\\anaconda3\\lib\\site-packages\\sklearn\\linear_model\\_sag.py:350: ConvergenceWarning: The max_iter was reached which means the coef_ did not converge\n",
      "  warnings.warn(\n"
     ]
    },
    {
     "name": "stdout",
     "output_type": "stream",
     "text": [
      "[CV 3/3] END C=1, multi_class=ovr, penalty=l2, solver=saga, tol=1e-05;, score=0.795 total time=   9.7s\n",
      "[CV 1/3] END C=1, multi_class=auto, penalty=l1, solver=liblinear, tol=0.001;, score=0.786 total time=   0.0s\n",
      "[CV 2/3] END C=1, multi_class=auto, penalty=l1, solver=liblinear, tol=0.001;, score=0.786 total time=   0.0s\n",
      "[CV 3/3] END C=1, multi_class=auto, penalty=l1, solver=liblinear, tol=0.001;, score=0.762 total time=   0.0s\n",
      "[CV 1/3] END C=1, multi_class=auto, penalty=l1, solver=liblinear, tol=0.0001;, score=0.770 total time=   0.0s\n",
      "[CV 2/3] END C=1, multi_class=auto, penalty=l1, solver=liblinear, tol=0.0001;, score=0.784 total time=   0.0s\n",
      "[CV 3/3] END C=1, multi_class=auto, penalty=l1, solver=liblinear, tol=0.0001;, score=0.751 total time=   0.0s\n",
      "[CV 1/3] END C=1, multi_class=auto, penalty=l1, solver=liblinear, tol=1e-05;, score=0.777 total time=   0.0s\n",
      "[CV 2/3] END C=1, multi_class=auto, penalty=l1, solver=liblinear, tol=1e-05;, score=0.779 total time=   0.0s\n",
      "[CV 3/3] END C=1, multi_class=auto, penalty=l1, solver=liblinear, tol=1e-05;, score=0.751 total time=   0.0s\n",
      "[CV 1/3] END C=1, multi_class=auto, penalty=l1, solver=saga, tol=0.001;, score=0.793 total time=  13.2s\n",
      "[CV 2/3] END C=1, multi_class=auto, penalty=l1, solver=saga, tol=0.001;, score=0.804 total time=  11.7s\n",
      "[CV 3/3] END C=1, multi_class=auto, penalty=l1, solver=saga, tol=0.001;, score=0.827 total time=  13.3s\n"
     ]
    },
    {
     "name": "stderr",
     "output_type": "stream",
     "text": [
      "C:\\Users\\anaso\\anaconda3\\lib\\site-packages\\sklearn\\linear_model\\_sag.py:350: ConvergenceWarning: The max_iter was reached which means the coef_ did not converge\n",
      "  warnings.warn(\n"
     ]
    },
    {
     "name": "stdout",
     "output_type": "stream",
     "text": [
      "[CV 1/3] END C=1, multi_class=auto, penalty=l1, solver=saga, tol=0.0001;, score=0.793 total time=  48.7s\n"
     ]
    },
    {
     "name": "stderr",
     "output_type": "stream",
     "text": [
      "C:\\Users\\anaso\\anaconda3\\lib\\site-packages\\sklearn\\linear_model\\_sag.py:350: ConvergenceWarning: The max_iter was reached which means the coef_ did not converge\n",
      "  warnings.warn(\n"
     ]
    },
    {
     "name": "stdout",
     "output_type": "stream",
     "text": [
      "[CV 2/3] END C=1, multi_class=auto, penalty=l1, solver=saga, tol=0.0001;, score=0.795 total time=  43.0s\n"
     ]
    },
    {
     "name": "stderr",
     "output_type": "stream",
     "text": [
      "C:\\Users\\anaso\\anaconda3\\lib\\site-packages\\sklearn\\linear_model\\_sag.py:350: ConvergenceWarning: The max_iter was reached which means the coef_ did not converge\n",
      "  warnings.warn(\n"
     ]
    },
    {
     "name": "stdout",
     "output_type": "stream",
     "text": [
      "[CV 3/3] END C=1, multi_class=auto, penalty=l1, solver=saga, tol=0.0001;, score=0.823 total time=  50.0s\n"
     ]
    },
    {
     "ename": "KeyboardInterrupt",
     "evalue": "",
     "output_type": "error",
     "traceback": [
      "\u001b[1;31m---------------------------------------------------------------------------\u001b[0m",
      "\u001b[1;31mKeyboardInterrupt\u001b[0m                         Traceback (most recent call last)",
      "Input \u001b[1;32mIn [12]\u001b[0m, in \u001b[0;36m<cell line: 10>\u001b[1;34m()\u001b[0m\n\u001b[0;32m      3\u001b[0m param_grid \u001b[38;5;241m=\u001b[39m {\u001b[38;5;124m'\u001b[39m\u001b[38;5;124mpenalty\u001b[39m\u001b[38;5;124m'\u001b[39m: [\u001b[38;5;124m'\u001b[39m\u001b[38;5;124ml1\u001b[39m\u001b[38;5;124m'\u001b[39m, \u001b[38;5;124m'\u001b[39m\u001b[38;5;124ml2\u001b[39m\u001b[38;5;124m'\u001b[39m], \n\u001b[0;32m      4\u001b[0m             \u001b[38;5;124m'\u001b[39m\u001b[38;5;124mtol\u001b[39m\u001b[38;5;124m'\u001b[39m: [\u001b[38;5;241m1e-3\u001b[39m, \u001b[38;5;241m1e-4\u001b[39m, \u001b[38;5;241m1e-5\u001b[39m], \n\u001b[0;32m      5\u001b[0m             \u001b[38;5;124m'\u001b[39m\u001b[38;5;124mC\u001b[39m\u001b[38;5;124m'\u001b[39m: [\u001b[38;5;241m0.01\u001b[39m, \u001b[38;5;241m0.1\u001b[39m, \u001b[38;5;241m1\u001b[39m, \u001b[38;5;241m10\u001b[39m, \u001b[38;5;241m100\u001b[39m], \n\u001b[0;32m      6\u001b[0m             \u001b[38;5;124m'\u001b[39m\u001b[38;5;124msolver\u001b[39m\u001b[38;5;124m'\u001b[39m: [\u001b[38;5;124m'\u001b[39m\u001b[38;5;124mliblinear\u001b[39m\u001b[38;5;124m'\u001b[39m, \u001b[38;5;124m'\u001b[39m\u001b[38;5;124msaga\u001b[39m\u001b[38;5;124m'\u001b[39m],\n\u001b[0;32m      7\u001b[0m              \u001b[38;5;124m'\u001b[39m\u001b[38;5;124mmulti_class\u001b[39m\u001b[38;5;124m'\u001b[39m: [\u001b[38;5;124m'\u001b[39m\u001b[38;5;124movr\u001b[39m\u001b[38;5;124m'\u001b[39m, \u001b[38;5;124m'\u001b[39m\u001b[38;5;124mauto\u001b[39m\u001b[38;5;124m'\u001b[39m]}\n\u001b[0;32m      9\u001b[0m grid \u001b[38;5;241m=\u001b[39m GridSearchCV(LogisticRegression(max_iter\u001b[38;5;241m=\u001b[39m\u001b[38;5;241m5000\u001b[39m, random_state\u001b[38;5;241m=\u001b[39m\u001b[38;5;241m42\u001b[39m), param_grid, cv\u001b[38;5;241m=\u001b[39m\u001b[38;5;241m3\u001b[39m, verbose\u001b[38;5;241m=\u001b[39m\u001b[38;5;241m3\u001b[39m)\n\u001b[1;32m---> 10\u001b[0m \u001b[43mgrid\u001b[49m\u001b[38;5;241;43m.\u001b[39;49m\u001b[43mfit\u001b[49m\u001b[43m(\u001b[49m\u001b[43mcorpus_validacao_s\u001b[49m\u001b[43m,\u001b[49m\u001b[43m \u001b[49m\u001b[43my_validacao\u001b[49m\u001b[43m)\u001b[49m\n",
      "File \u001b[1;32m~\\anaconda3\\lib\\site-packages\\sklearn\\model_selection\\_search.py:875\u001b[0m, in \u001b[0;36mBaseSearchCV.fit\u001b[1;34m(self, X, y, groups, **fit_params)\u001b[0m\n\u001b[0;32m    869\u001b[0m     results \u001b[38;5;241m=\u001b[39m \u001b[38;5;28mself\u001b[39m\u001b[38;5;241m.\u001b[39m_format_results(\n\u001b[0;32m    870\u001b[0m         all_candidate_params, n_splits, all_out, all_more_results\n\u001b[0;32m    871\u001b[0m     )\n\u001b[0;32m    873\u001b[0m     \u001b[38;5;28;01mreturn\u001b[39;00m results\n\u001b[1;32m--> 875\u001b[0m \u001b[38;5;28;43mself\u001b[39;49m\u001b[38;5;241;43m.\u001b[39;49m\u001b[43m_run_search\u001b[49m\u001b[43m(\u001b[49m\u001b[43mevaluate_candidates\u001b[49m\u001b[43m)\u001b[49m\n\u001b[0;32m    877\u001b[0m \u001b[38;5;66;03m# multimetric is determined here because in the case of a callable\u001b[39;00m\n\u001b[0;32m    878\u001b[0m \u001b[38;5;66;03m# self.scoring the return type is only known after calling\u001b[39;00m\n\u001b[0;32m    879\u001b[0m first_test_score \u001b[38;5;241m=\u001b[39m all_out[\u001b[38;5;241m0\u001b[39m][\u001b[38;5;124m\"\u001b[39m\u001b[38;5;124mtest_scores\u001b[39m\u001b[38;5;124m\"\u001b[39m]\n",
      "File \u001b[1;32m~\\anaconda3\\lib\\site-packages\\sklearn\\model_selection\\_search.py:1375\u001b[0m, in \u001b[0;36mGridSearchCV._run_search\u001b[1;34m(self, evaluate_candidates)\u001b[0m\n\u001b[0;32m   1373\u001b[0m \u001b[38;5;28;01mdef\u001b[39;00m \u001b[38;5;21m_run_search\u001b[39m(\u001b[38;5;28mself\u001b[39m, evaluate_candidates):\n\u001b[0;32m   1374\u001b[0m     \u001b[38;5;124;03m\"\"\"Search all candidates in param_grid\"\"\"\u001b[39;00m\n\u001b[1;32m-> 1375\u001b[0m     \u001b[43mevaluate_candidates\u001b[49m\u001b[43m(\u001b[49m\u001b[43mParameterGrid\u001b[49m\u001b[43m(\u001b[49m\u001b[38;5;28;43mself\u001b[39;49m\u001b[38;5;241;43m.\u001b[39;49m\u001b[43mparam_grid\u001b[49m\u001b[43m)\u001b[49m\u001b[43m)\u001b[49m\n",
      "File \u001b[1;32m~\\anaconda3\\lib\\site-packages\\sklearn\\model_selection\\_search.py:822\u001b[0m, in \u001b[0;36mBaseSearchCV.fit.<locals>.evaluate_candidates\u001b[1;34m(candidate_params, cv, more_results)\u001b[0m\n\u001b[0;32m    814\u001b[0m \u001b[38;5;28;01mif\u001b[39;00m \u001b[38;5;28mself\u001b[39m\u001b[38;5;241m.\u001b[39mverbose \u001b[38;5;241m>\u001b[39m \u001b[38;5;241m0\u001b[39m:\n\u001b[0;32m    815\u001b[0m     \u001b[38;5;28mprint\u001b[39m(\n\u001b[0;32m    816\u001b[0m         \u001b[38;5;124m\"\u001b[39m\u001b[38;5;124mFitting \u001b[39m\u001b[38;5;132;01m{0}\u001b[39;00m\u001b[38;5;124m folds for each of \u001b[39m\u001b[38;5;132;01m{1}\u001b[39;00m\u001b[38;5;124m candidates,\u001b[39m\u001b[38;5;124m\"\u001b[39m\n\u001b[0;32m    817\u001b[0m         \u001b[38;5;124m\"\u001b[39m\u001b[38;5;124m totalling \u001b[39m\u001b[38;5;132;01m{2}\u001b[39;00m\u001b[38;5;124m fits\u001b[39m\u001b[38;5;124m\"\u001b[39m\u001b[38;5;241m.\u001b[39mformat(\n\u001b[0;32m    818\u001b[0m             n_splits, n_candidates, n_candidates \u001b[38;5;241m*\u001b[39m n_splits\n\u001b[0;32m    819\u001b[0m         )\n\u001b[0;32m    820\u001b[0m     )\n\u001b[1;32m--> 822\u001b[0m out \u001b[38;5;241m=\u001b[39m \u001b[43mparallel\u001b[49m\u001b[43m(\u001b[49m\n\u001b[0;32m    823\u001b[0m \u001b[43m    \u001b[49m\u001b[43mdelayed\u001b[49m\u001b[43m(\u001b[49m\u001b[43m_fit_and_score\u001b[49m\u001b[43m)\u001b[49m\u001b[43m(\u001b[49m\n\u001b[0;32m    824\u001b[0m \u001b[43m        \u001b[49m\u001b[43mclone\u001b[49m\u001b[43m(\u001b[49m\u001b[43mbase_estimator\u001b[49m\u001b[43m)\u001b[49m\u001b[43m,\u001b[49m\n\u001b[0;32m    825\u001b[0m \u001b[43m        \u001b[49m\u001b[43mX\u001b[49m\u001b[43m,\u001b[49m\n\u001b[0;32m    826\u001b[0m \u001b[43m        \u001b[49m\u001b[43my\u001b[49m\u001b[43m,\u001b[49m\n\u001b[0;32m    827\u001b[0m \u001b[43m        \u001b[49m\u001b[43mtrain\u001b[49m\u001b[38;5;241;43m=\u001b[39;49m\u001b[43mtrain\u001b[49m\u001b[43m,\u001b[49m\n\u001b[0;32m    828\u001b[0m \u001b[43m        \u001b[49m\u001b[43mtest\u001b[49m\u001b[38;5;241;43m=\u001b[39;49m\u001b[43mtest\u001b[49m\u001b[43m,\u001b[49m\n\u001b[0;32m    829\u001b[0m \u001b[43m        \u001b[49m\u001b[43mparameters\u001b[49m\u001b[38;5;241;43m=\u001b[39;49m\u001b[43mparameters\u001b[49m\u001b[43m,\u001b[49m\n\u001b[0;32m    830\u001b[0m \u001b[43m        \u001b[49m\u001b[43msplit_progress\u001b[49m\u001b[38;5;241;43m=\u001b[39;49m\u001b[43m(\u001b[49m\u001b[43msplit_idx\u001b[49m\u001b[43m,\u001b[49m\u001b[43m \u001b[49m\u001b[43mn_splits\u001b[49m\u001b[43m)\u001b[49m\u001b[43m,\u001b[49m\n\u001b[0;32m    831\u001b[0m \u001b[43m        \u001b[49m\u001b[43mcandidate_progress\u001b[49m\u001b[38;5;241;43m=\u001b[39;49m\u001b[43m(\u001b[49m\u001b[43mcand_idx\u001b[49m\u001b[43m,\u001b[49m\u001b[43m \u001b[49m\u001b[43mn_candidates\u001b[49m\u001b[43m)\u001b[49m\u001b[43m,\u001b[49m\n\u001b[0;32m    832\u001b[0m \u001b[43m        \u001b[49m\u001b[38;5;241;43m*\u001b[39;49m\u001b[38;5;241;43m*\u001b[39;49m\u001b[43mfit_and_score_kwargs\u001b[49m\u001b[43m,\u001b[49m\n\u001b[0;32m    833\u001b[0m \u001b[43m    \u001b[49m\u001b[43m)\u001b[49m\n\u001b[0;32m    834\u001b[0m \u001b[43m    \u001b[49m\u001b[38;5;28;43;01mfor\u001b[39;49;00m\u001b[43m \u001b[49m\u001b[43m(\u001b[49m\u001b[43mcand_idx\u001b[49m\u001b[43m,\u001b[49m\u001b[43m \u001b[49m\u001b[43mparameters\u001b[49m\u001b[43m)\u001b[49m\u001b[43m,\u001b[49m\u001b[43m \u001b[49m\u001b[43m(\u001b[49m\u001b[43msplit_idx\u001b[49m\u001b[43m,\u001b[49m\u001b[43m \u001b[49m\u001b[43m(\u001b[49m\u001b[43mtrain\u001b[49m\u001b[43m,\u001b[49m\u001b[43m \u001b[49m\u001b[43mtest\u001b[49m\u001b[43m)\u001b[49m\u001b[43m)\u001b[49m\u001b[43m \u001b[49m\u001b[38;5;129;43;01min\u001b[39;49;00m\u001b[43m \u001b[49m\u001b[43mproduct\u001b[49m\u001b[43m(\u001b[49m\n\u001b[0;32m    835\u001b[0m \u001b[43m        \u001b[49m\u001b[38;5;28;43menumerate\u001b[39;49m\u001b[43m(\u001b[49m\u001b[43mcandidate_params\u001b[49m\u001b[43m)\u001b[49m\u001b[43m,\u001b[49m\u001b[43m \u001b[49m\u001b[38;5;28;43menumerate\u001b[39;49m\u001b[43m(\u001b[49m\u001b[43mcv\u001b[49m\u001b[38;5;241;43m.\u001b[39;49m\u001b[43msplit\u001b[49m\u001b[43m(\u001b[49m\u001b[43mX\u001b[49m\u001b[43m,\u001b[49m\u001b[43m \u001b[49m\u001b[43my\u001b[49m\u001b[43m,\u001b[49m\u001b[43m \u001b[49m\u001b[43mgroups\u001b[49m\u001b[43m)\u001b[49m\u001b[43m)\u001b[49m\n\u001b[0;32m    836\u001b[0m \u001b[43m    \u001b[49m\u001b[43m)\u001b[49m\n\u001b[0;32m    837\u001b[0m \u001b[43m\u001b[49m\u001b[43m)\u001b[49m\n\u001b[0;32m    839\u001b[0m \u001b[38;5;28;01mif\u001b[39;00m \u001b[38;5;28mlen\u001b[39m(out) \u001b[38;5;241m<\u001b[39m \u001b[38;5;241m1\u001b[39m:\n\u001b[0;32m    840\u001b[0m     \u001b[38;5;28;01mraise\u001b[39;00m \u001b[38;5;167;01mValueError\u001b[39;00m(\n\u001b[0;32m    841\u001b[0m         \u001b[38;5;124m\"\u001b[39m\u001b[38;5;124mNo fits were performed. \u001b[39m\u001b[38;5;124m\"\u001b[39m\n\u001b[0;32m    842\u001b[0m         \u001b[38;5;124m\"\u001b[39m\u001b[38;5;124mWas the CV iterator empty? \u001b[39m\u001b[38;5;124m\"\u001b[39m\n\u001b[0;32m    843\u001b[0m         \u001b[38;5;124m\"\u001b[39m\u001b[38;5;124mWere there no candidates?\u001b[39m\u001b[38;5;124m\"\u001b[39m\n\u001b[0;32m    844\u001b[0m     )\n",
      "File \u001b[1;32m~\\anaconda3\\lib\\site-packages\\joblib\\parallel.py:1046\u001b[0m, in \u001b[0;36mParallel.__call__\u001b[1;34m(self, iterable)\u001b[0m\n\u001b[0;32m   1043\u001b[0m \u001b[38;5;28;01mif\u001b[39;00m \u001b[38;5;28mself\u001b[39m\u001b[38;5;241m.\u001b[39mdispatch_one_batch(iterator):\n\u001b[0;32m   1044\u001b[0m     \u001b[38;5;28mself\u001b[39m\u001b[38;5;241m.\u001b[39m_iterating \u001b[38;5;241m=\u001b[39m \u001b[38;5;28mself\u001b[39m\u001b[38;5;241m.\u001b[39m_original_iterator \u001b[38;5;129;01mis\u001b[39;00m \u001b[38;5;129;01mnot\u001b[39;00m \u001b[38;5;28;01mNone\u001b[39;00m\n\u001b[1;32m-> 1046\u001b[0m \u001b[38;5;28;01mwhile\u001b[39;00m \u001b[38;5;28;43mself\u001b[39;49m\u001b[38;5;241;43m.\u001b[39;49m\u001b[43mdispatch_one_batch\u001b[49m\u001b[43m(\u001b[49m\u001b[43miterator\u001b[49m\u001b[43m)\u001b[49m:\n\u001b[0;32m   1047\u001b[0m     \u001b[38;5;28;01mpass\u001b[39;00m\n\u001b[0;32m   1049\u001b[0m \u001b[38;5;28;01mif\u001b[39;00m pre_dispatch \u001b[38;5;241m==\u001b[39m \u001b[38;5;124m\"\u001b[39m\u001b[38;5;124mall\u001b[39m\u001b[38;5;124m\"\u001b[39m \u001b[38;5;129;01mor\u001b[39;00m n_jobs \u001b[38;5;241m==\u001b[39m \u001b[38;5;241m1\u001b[39m:\n\u001b[0;32m   1050\u001b[0m     \u001b[38;5;66;03m# The iterable was consumed all at once by the above for loop.\u001b[39;00m\n\u001b[0;32m   1051\u001b[0m     \u001b[38;5;66;03m# No need to wait for async callbacks to trigger to\u001b[39;00m\n\u001b[0;32m   1052\u001b[0m     \u001b[38;5;66;03m# consumption.\u001b[39;00m\n",
      "File \u001b[1;32m~\\anaconda3\\lib\\site-packages\\joblib\\parallel.py:861\u001b[0m, in \u001b[0;36mParallel.dispatch_one_batch\u001b[1;34m(self, iterator)\u001b[0m\n\u001b[0;32m    859\u001b[0m     \u001b[38;5;28;01mreturn\u001b[39;00m \u001b[38;5;28;01mFalse\u001b[39;00m\n\u001b[0;32m    860\u001b[0m \u001b[38;5;28;01melse\u001b[39;00m:\n\u001b[1;32m--> 861\u001b[0m     \u001b[38;5;28;43mself\u001b[39;49m\u001b[38;5;241;43m.\u001b[39;49m\u001b[43m_dispatch\u001b[49m\u001b[43m(\u001b[49m\u001b[43mtasks\u001b[49m\u001b[43m)\u001b[49m\n\u001b[0;32m    862\u001b[0m     \u001b[38;5;28;01mreturn\u001b[39;00m \u001b[38;5;28;01mTrue\u001b[39;00m\n",
      "File \u001b[1;32m~\\anaconda3\\lib\\site-packages\\joblib\\parallel.py:779\u001b[0m, in \u001b[0;36mParallel._dispatch\u001b[1;34m(self, batch)\u001b[0m\n\u001b[0;32m    777\u001b[0m \u001b[38;5;28;01mwith\u001b[39;00m \u001b[38;5;28mself\u001b[39m\u001b[38;5;241m.\u001b[39m_lock:\n\u001b[0;32m    778\u001b[0m     job_idx \u001b[38;5;241m=\u001b[39m \u001b[38;5;28mlen\u001b[39m(\u001b[38;5;28mself\u001b[39m\u001b[38;5;241m.\u001b[39m_jobs)\n\u001b[1;32m--> 779\u001b[0m     job \u001b[38;5;241m=\u001b[39m \u001b[38;5;28;43mself\u001b[39;49m\u001b[38;5;241;43m.\u001b[39;49m\u001b[43m_backend\u001b[49m\u001b[38;5;241;43m.\u001b[39;49m\u001b[43mapply_async\u001b[49m\u001b[43m(\u001b[49m\u001b[43mbatch\u001b[49m\u001b[43m,\u001b[49m\u001b[43m \u001b[49m\u001b[43mcallback\u001b[49m\u001b[38;5;241;43m=\u001b[39;49m\u001b[43mcb\u001b[49m\u001b[43m)\u001b[49m\n\u001b[0;32m    780\u001b[0m     \u001b[38;5;66;03m# A job can complete so quickly than its callback is\u001b[39;00m\n\u001b[0;32m    781\u001b[0m     \u001b[38;5;66;03m# called before we get here, causing self._jobs to\u001b[39;00m\n\u001b[0;32m    782\u001b[0m     \u001b[38;5;66;03m# grow. To ensure correct results ordering, .insert is\u001b[39;00m\n\u001b[0;32m    783\u001b[0m     \u001b[38;5;66;03m# used (rather than .append) in the following line\u001b[39;00m\n\u001b[0;32m    784\u001b[0m     \u001b[38;5;28mself\u001b[39m\u001b[38;5;241m.\u001b[39m_jobs\u001b[38;5;241m.\u001b[39minsert(job_idx, job)\n",
      "File \u001b[1;32m~\\anaconda3\\lib\\site-packages\\joblib\\_parallel_backends.py:208\u001b[0m, in \u001b[0;36mSequentialBackend.apply_async\u001b[1;34m(self, func, callback)\u001b[0m\n\u001b[0;32m    206\u001b[0m \u001b[38;5;28;01mdef\u001b[39;00m \u001b[38;5;21mapply_async\u001b[39m(\u001b[38;5;28mself\u001b[39m, func, callback\u001b[38;5;241m=\u001b[39m\u001b[38;5;28;01mNone\u001b[39;00m):\n\u001b[0;32m    207\u001b[0m     \u001b[38;5;124;03m\"\"\"Schedule a func to be run\"\"\"\u001b[39;00m\n\u001b[1;32m--> 208\u001b[0m     result \u001b[38;5;241m=\u001b[39m \u001b[43mImmediateResult\u001b[49m\u001b[43m(\u001b[49m\u001b[43mfunc\u001b[49m\u001b[43m)\u001b[49m\n\u001b[0;32m    209\u001b[0m     \u001b[38;5;28;01mif\u001b[39;00m callback:\n\u001b[0;32m    210\u001b[0m         callback(result)\n",
      "File \u001b[1;32m~\\anaconda3\\lib\\site-packages\\joblib\\_parallel_backends.py:572\u001b[0m, in \u001b[0;36mImmediateResult.__init__\u001b[1;34m(self, batch)\u001b[0m\n\u001b[0;32m    569\u001b[0m \u001b[38;5;28;01mdef\u001b[39;00m \u001b[38;5;21m__init__\u001b[39m(\u001b[38;5;28mself\u001b[39m, batch):\n\u001b[0;32m    570\u001b[0m     \u001b[38;5;66;03m# Don't delay the application, to avoid keeping the input\u001b[39;00m\n\u001b[0;32m    571\u001b[0m     \u001b[38;5;66;03m# arguments in memory\u001b[39;00m\n\u001b[1;32m--> 572\u001b[0m     \u001b[38;5;28mself\u001b[39m\u001b[38;5;241m.\u001b[39mresults \u001b[38;5;241m=\u001b[39m \u001b[43mbatch\u001b[49m\u001b[43m(\u001b[49m\u001b[43m)\u001b[49m\n",
      "File \u001b[1;32m~\\anaconda3\\lib\\site-packages\\joblib\\parallel.py:262\u001b[0m, in \u001b[0;36mBatchedCalls.__call__\u001b[1;34m(self)\u001b[0m\n\u001b[0;32m    258\u001b[0m \u001b[38;5;28;01mdef\u001b[39;00m \u001b[38;5;21m__call__\u001b[39m(\u001b[38;5;28mself\u001b[39m):\n\u001b[0;32m    259\u001b[0m     \u001b[38;5;66;03m# Set the default nested backend to self._backend but do not set the\u001b[39;00m\n\u001b[0;32m    260\u001b[0m     \u001b[38;5;66;03m# change the default number of processes to -1\u001b[39;00m\n\u001b[0;32m    261\u001b[0m     \u001b[38;5;28;01mwith\u001b[39;00m parallel_backend(\u001b[38;5;28mself\u001b[39m\u001b[38;5;241m.\u001b[39m_backend, n_jobs\u001b[38;5;241m=\u001b[39m\u001b[38;5;28mself\u001b[39m\u001b[38;5;241m.\u001b[39m_n_jobs):\n\u001b[1;32m--> 262\u001b[0m         \u001b[38;5;28;01mreturn\u001b[39;00m [func(\u001b[38;5;241m*\u001b[39margs, \u001b[38;5;241m*\u001b[39m\u001b[38;5;241m*\u001b[39mkwargs)\n\u001b[0;32m    263\u001b[0m                 \u001b[38;5;28;01mfor\u001b[39;00m func, args, kwargs \u001b[38;5;129;01min\u001b[39;00m \u001b[38;5;28mself\u001b[39m\u001b[38;5;241m.\u001b[39mitems]\n",
      "File \u001b[1;32m~\\anaconda3\\lib\\site-packages\\joblib\\parallel.py:262\u001b[0m, in \u001b[0;36m<listcomp>\u001b[1;34m(.0)\u001b[0m\n\u001b[0;32m    258\u001b[0m \u001b[38;5;28;01mdef\u001b[39;00m \u001b[38;5;21m__call__\u001b[39m(\u001b[38;5;28mself\u001b[39m):\n\u001b[0;32m    259\u001b[0m     \u001b[38;5;66;03m# Set the default nested backend to self._backend but do not set the\u001b[39;00m\n\u001b[0;32m    260\u001b[0m     \u001b[38;5;66;03m# change the default number of processes to -1\u001b[39;00m\n\u001b[0;32m    261\u001b[0m     \u001b[38;5;28;01mwith\u001b[39;00m parallel_backend(\u001b[38;5;28mself\u001b[39m\u001b[38;5;241m.\u001b[39m_backend, n_jobs\u001b[38;5;241m=\u001b[39m\u001b[38;5;28mself\u001b[39m\u001b[38;5;241m.\u001b[39m_n_jobs):\n\u001b[1;32m--> 262\u001b[0m         \u001b[38;5;28;01mreturn\u001b[39;00m [\u001b[43mfunc\u001b[49m\u001b[43m(\u001b[49m\u001b[38;5;241;43m*\u001b[39;49m\u001b[43margs\u001b[49m\u001b[43m,\u001b[49m\u001b[43m \u001b[49m\u001b[38;5;241;43m*\u001b[39;49m\u001b[38;5;241;43m*\u001b[39;49m\u001b[43mkwargs\u001b[49m\u001b[43m)\u001b[49m\n\u001b[0;32m    263\u001b[0m                 \u001b[38;5;28;01mfor\u001b[39;00m func, args, kwargs \u001b[38;5;129;01min\u001b[39;00m \u001b[38;5;28mself\u001b[39m\u001b[38;5;241m.\u001b[39mitems]\n",
      "File \u001b[1;32m~\\anaconda3\\lib\\site-packages\\sklearn\\utils\\fixes.py:117\u001b[0m, in \u001b[0;36m_FuncWrapper.__call__\u001b[1;34m(self, *args, **kwargs)\u001b[0m\n\u001b[0;32m    115\u001b[0m \u001b[38;5;28;01mdef\u001b[39;00m \u001b[38;5;21m__call__\u001b[39m(\u001b[38;5;28mself\u001b[39m, \u001b[38;5;241m*\u001b[39margs, \u001b[38;5;241m*\u001b[39m\u001b[38;5;241m*\u001b[39mkwargs):\n\u001b[0;32m    116\u001b[0m     \u001b[38;5;28;01mwith\u001b[39;00m config_context(\u001b[38;5;241m*\u001b[39m\u001b[38;5;241m*\u001b[39m\u001b[38;5;28mself\u001b[39m\u001b[38;5;241m.\u001b[39mconfig):\n\u001b[1;32m--> 117\u001b[0m         \u001b[38;5;28;01mreturn\u001b[39;00m \u001b[38;5;28;43mself\u001b[39;49m\u001b[38;5;241;43m.\u001b[39;49m\u001b[43mfunction\u001b[49m\u001b[43m(\u001b[49m\u001b[38;5;241;43m*\u001b[39;49m\u001b[43margs\u001b[49m\u001b[43m,\u001b[49m\u001b[43m \u001b[49m\u001b[38;5;241;43m*\u001b[39;49m\u001b[38;5;241;43m*\u001b[39;49m\u001b[43mkwargs\u001b[49m\u001b[43m)\u001b[49m\n",
      "File \u001b[1;32m~\\anaconda3\\lib\\site-packages\\sklearn\\model_selection\\_validation.py:686\u001b[0m, in \u001b[0;36m_fit_and_score\u001b[1;34m(estimator, X, y, scorer, train, test, verbose, parameters, fit_params, return_train_score, return_parameters, return_n_test_samples, return_times, return_estimator, split_progress, candidate_progress, error_score)\u001b[0m\n\u001b[0;32m    684\u001b[0m         estimator\u001b[38;5;241m.\u001b[39mfit(X_train, \u001b[38;5;241m*\u001b[39m\u001b[38;5;241m*\u001b[39mfit_params)\n\u001b[0;32m    685\u001b[0m     \u001b[38;5;28;01melse\u001b[39;00m:\n\u001b[1;32m--> 686\u001b[0m         \u001b[43mestimator\u001b[49m\u001b[38;5;241;43m.\u001b[39;49m\u001b[43mfit\u001b[49m\u001b[43m(\u001b[49m\u001b[43mX_train\u001b[49m\u001b[43m,\u001b[49m\u001b[43m \u001b[49m\u001b[43my_train\u001b[49m\u001b[43m,\u001b[49m\u001b[43m \u001b[49m\u001b[38;5;241;43m*\u001b[39;49m\u001b[38;5;241;43m*\u001b[39;49m\u001b[43mfit_params\u001b[49m\u001b[43m)\u001b[49m\n\u001b[0;32m    688\u001b[0m \u001b[38;5;28;01mexcept\u001b[39;00m \u001b[38;5;167;01mException\u001b[39;00m:\n\u001b[0;32m    689\u001b[0m     \u001b[38;5;66;03m# Note fit time as time until error\u001b[39;00m\n\u001b[0;32m    690\u001b[0m     fit_time \u001b[38;5;241m=\u001b[39m time\u001b[38;5;241m.\u001b[39mtime() \u001b[38;5;241m-\u001b[39m start_time\n",
      "File \u001b[1;32m~\\anaconda3\\lib\\site-packages\\sklearn\\linear_model\\_logistic.py:1233\u001b[0m, in \u001b[0;36mLogisticRegression.fit\u001b[1;34m(self, X, y, sample_weight)\u001b[0m\n\u001b[0;32m   1230\u001b[0m \u001b[38;5;28;01melse\u001b[39;00m:\n\u001b[0;32m   1231\u001b[0m     n_threads \u001b[38;5;241m=\u001b[39m \u001b[38;5;241m1\u001b[39m\n\u001b[1;32m-> 1233\u001b[0m fold_coefs_ \u001b[38;5;241m=\u001b[39m \u001b[43mParallel\u001b[49m\u001b[43m(\u001b[49m\u001b[43mn_jobs\u001b[49m\u001b[38;5;241;43m=\u001b[39;49m\u001b[38;5;28;43mself\u001b[39;49m\u001b[38;5;241;43m.\u001b[39;49m\u001b[43mn_jobs\u001b[49m\u001b[43m,\u001b[49m\u001b[43m \u001b[49m\u001b[43mverbose\u001b[49m\u001b[38;5;241;43m=\u001b[39;49m\u001b[38;5;28;43mself\u001b[39;49m\u001b[38;5;241;43m.\u001b[39;49m\u001b[43mverbose\u001b[49m\u001b[43m,\u001b[49m\u001b[43m \u001b[49m\u001b[43mprefer\u001b[49m\u001b[38;5;241;43m=\u001b[39;49m\u001b[43mprefer\u001b[49m\u001b[43m)\u001b[49m\u001b[43m(\u001b[49m\n\u001b[0;32m   1234\u001b[0m \u001b[43m    \u001b[49m\u001b[43mpath_func\u001b[49m\u001b[43m(\u001b[49m\n\u001b[0;32m   1235\u001b[0m \u001b[43m        \u001b[49m\u001b[43mX\u001b[49m\u001b[43m,\u001b[49m\n\u001b[0;32m   1236\u001b[0m \u001b[43m        \u001b[49m\u001b[43my\u001b[49m\u001b[43m,\u001b[49m\n\u001b[0;32m   1237\u001b[0m \u001b[43m        \u001b[49m\u001b[43mpos_class\u001b[49m\u001b[38;5;241;43m=\u001b[39;49m\u001b[43mclass_\u001b[49m\u001b[43m,\u001b[49m\n\u001b[0;32m   1238\u001b[0m \u001b[43m        \u001b[49m\u001b[43mCs\u001b[49m\u001b[38;5;241;43m=\u001b[39;49m\u001b[43m[\u001b[49m\u001b[43mC_\u001b[49m\u001b[43m]\u001b[49m\u001b[43m,\u001b[49m\n\u001b[0;32m   1239\u001b[0m \u001b[43m        \u001b[49m\u001b[43ml1_ratio\u001b[49m\u001b[38;5;241;43m=\u001b[39;49m\u001b[38;5;28;43mself\u001b[39;49m\u001b[38;5;241;43m.\u001b[39;49m\u001b[43ml1_ratio\u001b[49m\u001b[43m,\u001b[49m\n\u001b[0;32m   1240\u001b[0m \u001b[43m        \u001b[49m\u001b[43mfit_intercept\u001b[49m\u001b[38;5;241;43m=\u001b[39;49m\u001b[38;5;28;43mself\u001b[39;49m\u001b[38;5;241;43m.\u001b[39;49m\u001b[43mfit_intercept\u001b[49m\u001b[43m,\u001b[49m\n\u001b[0;32m   1241\u001b[0m \u001b[43m        \u001b[49m\u001b[43mtol\u001b[49m\u001b[38;5;241;43m=\u001b[39;49m\u001b[38;5;28;43mself\u001b[39;49m\u001b[38;5;241;43m.\u001b[39;49m\u001b[43mtol\u001b[49m\u001b[43m,\u001b[49m\n\u001b[0;32m   1242\u001b[0m \u001b[43m        \u001b[49m\u001b[43mverbose\u001b[49m\u001b[38;5;241;43m=\u001b[39;49m\u001b[38;5;28;43mself\u001b[39;49m\u001b[38;5;241;43m.\u001b[39;49m\u001b[43mverbose\u001b[49m\u001b[43m,\u001b[49m\n\u001b[0;32m   1243\u001b[0m \u001b[43m        \u001b[49m\u001b[43msolver\u001b[49m\u001b[38;5;241;43m=\u001b[39;49m\u001b[43msolver\u001b[49m\u001b[43m,\u001b[49m\n\u001b[0;32m   1244\u001b[0m \u001b[43m        \u001b[49m\u001b[43mmulti_class\u001b[49m\u001b[38;5;241;43m=\u001b[39;49m\u001b[43mmulti_class\u001b[49m\u001b[43m,\u001b[49m\n\u001b[0;32m   1245\u001b[0m \u001b[43m        \u001b[49m\u001b[43mmax_iter\u001b[49m\u001b[38;5;241;43m=\u001b[39;49m\u001b[38;5;28;43mself\u001b[39;49m\u001b[38;5;241;43m.\u001b[39;49m\u001b[43mmax_iter\u001b[49m\u001b[43m,\u001b[49m\n\u001b[0;32m   1246\u001b[0m \u001b[43m        \u001b[49m\u001b[43mclass_weight\u001b[49m\u001b[38;5;241;43m=\u001b[39;49m\u001b[38;5;28;43mself\u001b[39;49m\u001b[38;5;241;43m.\u001b[39;49m\u001b[43mclass_weight\u001b[49m\u001b[43m,\u001b[49m\n\u001b[0;32m   1247\u001b[0m \u001b[43m        \u001b[49m\u001b[43mcheck_input\u001b[49m\u001b[38;5;241;43m=\u001b[39;49m\u001b[38;5;28;43;01mFalse\u001b[39;49;00m\u001b[43m,\u001b[49m\n\u001b[0;32m   1248\u001b[0m \u001b[43m        \u001b[49m\u001b[43mrandom_state\u001b[49m\u001b[38;5;241;43m=\u001b[39;49m\u001b[38;5;28;43mself\u001b[39;49m\u001b[38;5;241;43m.\u001b[39;49m\u001b[43mrandom_state\u001b[49m\u001b[43m,\u001b[49m\n\u001b[0;32m   1249\u001b[0m \u001b[43m        \u001b[49m\u001b[43mcoef\u001b[49m\u001b[38;5;241;43m=\u001b[39;49m\u001b[43mwarm_start_coef_\u001b[49m\u001b[43m,\u001b[49m\n\u001b[0;32m   1250\u001b[0m \u001b[43m        \u001b[49m\u001b[43mpenalty\u001b[49m\u001b[38;5;241;43m=\u001b[39;49m\u001b[43mpenalty\u001b[49m\u001b[43m,\u001b[49m\n\u001b[0;32m   1251\u001b[0m \u001b[43m        \u001b[49m\u001b[43mmax_squared_sum\u001b[49m\u001b[38;5;241;43m=\u001b[39;49m\u001b[43mmax_squared_sum\u001b[49m\u001b[43m,\u001b[49m\n\u001b[0;32m   1252\u001b[0m \u001b[43m        \u001b[49m\u001b[43msample_weight\u001b[49m\u001b[38;5;241;43m=\u001b[39;49m\u001b[43msample_weight\u001b[49m\u001b[43m,\u001b[49m\n\u001b[0;32m   1253\u001b[0m \u001b[43m        \u001b[49m\u001b[43mn_threads\u001b[49m\u001b[38;5;241;43m=\u001b[39;49m\u001b[43mn_threads\u001b[49m\u001b[43m,\u001b[49m\n\u001b[0;32m   1254\u001b[0m \u001b[43m    \u001b[49m\u001b[43m)\u001b[49m\n\u001b[0;32m   1255\u001b[0m \u001b[43m    \u001b[49m\u001b[38;5;28;43;01mfor\u001b[39;49;00m\u001b[43m \u001b[49m\u001b[43mclass_\u001b[49m\u001b[43m,\u001b[49m\u001b[43m \u001b[49m\u001b[43mwarm_start_coef_\u001b[49m\u001b[43m \u001b[49m\u001b[38;5;129;43;01min\u001b[39;49;00m\u001b[43m \u001b[49m\u001b[38;5;28;43mzip\u001b[39;49m\u001b[43m(\u001b[49m\u001b[43mclasses_\u001b[49m\u001b[43m,\u001b[49m\u001b[43m \u001b[49m\u001b[43mwarm_start_coef\u001b[49m\u001b[43m)\u001b[49m\n\u001b[0;32m   1256\u001b[0m \u001b[43m\u001b[49m\u001b[43m)\u001b[49m\n\u001b[0;32m   1258\u001b[0m fold_coefs_, _, n_iter_ \u001b[38;5;241m=\u001b[39m \u001b[38;5;28mzip\u001b[39m(\u001b[38;5;241m*\u001b[39mfold_coefs_)\n\u001b[0;32m   1259\u001b[0m \u001b[38;5;28mself\u001b[39m\u001b[38;5;241m.\u001b[39mn_iter_ \u001b[38;5;241m=\u001b[39m np\u001b[38;5;241m.\u001b[39masarray(n_iter_, dtype\u001b[38;5;241m=\u001b[39mnp\u001b[38;5;241m.\u001b[39mint32)[:, \u001b[38;5;241m0\u001b[39m]\n",
      "File \u001b[1;32m~\\anaconda3\\lib\\site-packages\\joblib\\parallel.py:1043\u001b[0m, in \u001b[0;36mParallel.__call__\u001b[1;34m(self, iterable)\u001b[0m\n\u001b[0;32m   1034\u001b[0m \u001b[38;5;28;01mtry\u001b[39;00m:\n\u001b[0;32m   1035\u001b[0m     \u001b[38;5;66;03m# Only set self._iterating to True if at least a batch\u001b[39;00m\n\u001b[0;32m   1036\u001b[0m     \u001b[38;5;66;03m# was dispatched. In particular this covers the edge\u001b[39;00m\n\u001b[1;32m   (...)\u001b[0m\n\u001b[0;32m   1040\u001b[0m     \u001b[38;5;66;03m# was very quick and its callback already dispatched all the\u001b[39;00m\n\u001b[0;32m   1041\u001b[0m     \u001b[38;5;66;03m# remaining jobs.\u001b[39;00m\n\u001b[0;32m   1042\u001b[0m     \u001b[38;5;28mself\u001b[39m\u001b[38;5;241m.\u001b[39m_iterating \u001b[38;5;241m=\u001b[39m \u001b[38;5;28;01mFalse\u001b[39;00m\n\u001b[1;32m-> 1043\u001b[0m     \u001b[38;5;28;01mif\u001b[39;00m \u001b[38;5;28;43mself\u001b[39;49m\u001b[38;5;241;43m.\u001b[39;49m\u001b[43mdispatch_one_batch\u001b[49m\u001b[43m(\u001b[49m\u001b[43miterator\u001b[49m\u001b[43m)\u001b[49m:\n\u001b[0;32m   1044\u001b[0m         \u001b[38;5;28mself\u001b[39m\u001b[38;5;241m.\u001b[39m_iterating \u001b[38;5;241m=\u001b[39m \u001b[38;5;28mself\u001b[39m\u001b[38;5;241m.\u001b[39m_original_iterator \u001b[38;5;129;01mis\u001b[39;00m \u001b[38;5;129;01mnot\u001b[39;00m \u001b[38;5;28;01mNone\u001b[39;00m\n\u001b[0;32m   1046\u001b[0m     \u001b[38;5;28;01mwhile\u001b[39;00m \u001b[38;5;28mself\u001b[39m\u001b[38;5;241m.\u001b[39mdispatch_one_batch(iterator):\n",
      "File \u001b[1;32m~\\anaconda3\\lib\\site-packages\\joblib\\parallel.py:861\u001b[0m, in \u001b[0;36mParallel.dispatch_one_batch\u001b[1;34m(self, iterator)\u001b[0m\n\u001b[0;32m    859\u001b[0m     \u001b[38;5;28;01mreturn\u001b[39;00m \u001b[38;5;28;01mFalse\u001b[39;00m\n\u001b[0;32m    860\u001b[0m \u001b[38;5;28;01melse\u001b[39;00m:\n\u001b[1;32m--> 861\u001b[0m     \u001b[38;5;28;43mself\u001b[39;49m\u001b[38;5;241;43m.\u001b[39;49m\u001b[43m_dispatch\u001b[49m\u001b[43m(\u001b[49m\u001b[43mtasks\u001b[49m\u001b[43m)\u001b[49m\n\u001b[0;32m    862\u001b[0m     \u001b[38;5;28;01mreturn\u001b[39;00m \u001b[38;5;28;01mTrue\u001b[39;00m\n",
      "File \u001b[1;32m~\\anaconda3\\lib\\site-packages\\joblib\\parallel.py:779\u001b[0m, in \u001b[0;36mParallel._dispatch\u001b[1;34m(self, batch)\u001b[0m\n\u001b[0;32m    777\u001b[0m \u001b[38;5;28;01mwith\u001b[39;00m \u001b[38;5;28mself\u001b[39m\u001b[38;5;241m.\u001b[39m_lock:\n\u001b[0;32m    778\u001b[0m     job_idx \u001b[38;5;241m=\u001b[39m \u001b[38;5;28mlen\u001b[39m(\u001b[38;5;28mself\u001b[39m\u001b[38;5;241m.\u001b[39m_jobs)\n\u001b[1;32m--> 779\u001b[0m     job \u001b[38;5;241m=\u001b[39m \u001b[38;5;28;43mself\u001b[39;49m\u001b[38;5;241;43m.\u001b[39;49m\u001b[43m_backend\u001b[49m\u001b[38;5;241;43m.\u001b[39;49m\u001b[43mapply_async\u001b[49m\u001b[43m(\u001b[49m\u001b[43mbatch\u001b[49m\u001b[43m,\u001b[49m\u001b[43m \u001b[49m\u001b[43mcallback\u001b[49m\u001b[38;5;241;43m=\u001b[39;49m\u001b[43mcb\u001b[49m\u001b[43m)\u001b[49m\n\u001b[0;32m    780\u001b[0m     \u001b[38;5;66;03m# A job can complete so quickly than its callback is\u001b[39;00m\n\u001b[0;32m    781\u001b[0m     \u001b[38;5;66;03m# called before we get here, causing self._jobs to\u001b[39;00m\n\u001b[0;32m    782\u001b[0m     \u001b[38;5;66;03m# grow. To ensure correct results ordering, .insert is\u001b[39;00m\n\u001b[0;32m    783\u001b[0m     \u001b[38;5;66;03m# used (rather than .append) in the following line\u001b[39;00m\n\u001b[0;32m    784\u001b[0m     \u001b[38;5;28mself\u001b[39m\u001b[38;5;241m.\u001b[39m_jobs\u001b[38;5;241m.\u001b[39minsert(job_idx, job)\n",
      "File \u001b[1;32m~\\anaconda3\\lib\\site-packages\\joblib\\_parallel_backends.py:208\u001b[0m, in \u001b[0;36mSequentialBackend.apply_async\u001b[1;34m(self, func, callback)\u001b[0m\n\u001b[0;32m    206\u001b[0m \u001b[38;5;28;01mdef\u001b[39;00m \u001b[38;5;21mapply_async\u001b[39m(\u001b[38;5;28mself\u001b[39m, func, callback\u001b[38;5;241m=\u001b[39m\u001b[38;5;28;01mNone\u001b[39;00m):\n\u001b[0;32m    207\u001b[0m     \u001b[38;5;124;03m\"\"\"Schedule a func to be run\"\"\"\u001b[39;00m\n\u001b[1;32m--> 208\u001b[0m     result \u001b[38;5;241m=\u001b[39m \u001b[43mImmediateResult\u001b[49m\u001b[43m(\u001b[49m\u001b[43mfunc\u001b[49m\u001b[43m)\u001b[49m\n\u001b[0;32m    209\u001b[0m     \u001b[38;5;28;01mif\u001b[39;00m callback:\n\u001b[0;32m    210\u001b[0m         callback(result)\n",
      "File \u001b[1;32m~\\anaconda3\\lib\\site-packages\\joblib\\_parallel_backends.py:572\u001b[0m, in \u001b[0;36mImmediateResult.__init__\u001b[1;34m(self, batch)\u001b[0m\n\u001b[0;32m    569\u001b[0m \u001b[38;5;28;01mdef\u001b[39;00m \u001b[38;5;21m__init__\u001b[39m(\u001b[38;5;28mself\u001b[39m, batch):\n\u001b[0;32m    570\u001b[0m     \u001b[38;5;66;03m# Don't delay the application, to avoid keeping the input\u001b[39;00m\n\u001b[0;32m    571\u001b[0m     \u001b[38;5;66;03m# arguments in memory\u001b[39;00m\n\u001b[1;32m--> 572\u001b[0m     \u001b[38;5;28mself\u001b[39m\u001b[38;5;241m.\u001b[39mresults \u001b[38;5;241m=\u001b[39m \u001b[43mbatch\u001b[49m\u001b[43m(\u001b[49m\u001b[43m)\u001b[49m\n",
      "File \u001b[1;32m~\\anaconda3\\lib\\site-packages\\joblib\\parallel.py:262\u001b[0m, in \u001b[0;36mBatchedCalls.__call__\u001b[1;34m(self)\u001b[0m\n\u001b[0;32m    258\u001b[0m \u001b[38;5;28;01mdef\u001b[39;00m \u001b[38;5;21m__call__\u001b[39m(\u001b[38;5;28mself\u001b[39m):\n\u001b[0;32m    259\u001b[0m     \u001b[38;5;66;03m# Set the default nested backend to self._backend but do not set the\u001b[39;00m\n\u001b[0;32m    260\u001b[0m     \u001b[38;5;66;03m# change the default number of processes to -1\u001b[39;00m\n\u001b[0;32m    261\u001b[0m     \u001b[38;5;28;01mwith\u001b[39;00m parallel_backend(\u001b[38;5;28mself\u001b[39m\u001b[38;5;241m.\u001b[39m_backend, n_jobs\u001b[38;5;241m=\u001b[39m\u001b[38;5;28mself\u001b[39m\u001b[38;5;241m.\u001b[39m_n_jobs):\n\u001b[1;32m--> 262\u001b[0m         \u001b[38;5;28;01mreturn\u001b[39;00m [func(\u001b[38;5;241m*\u001b[39margs, \u001b[38;5;241m*\u001b[39m\u001b[38;5;241m*\u001b[39mkwargs)\n\u001b[0;32m    263\u001b[0m                 \u001b[38;5;28;01mfor\u001b[39;00m func, args, kwargs \u001b[38;5;129;01min\u001b[39;00m \u001b[38;5;28mself\u001b[39m\u001b[38;5;241m.\u001b[39mitems]\n",
      "File \u001b[1;32m~\\anaconda3\\lib\\site-packages\\joblib\\parallel.py:262\u001b[0m, in \u001b[0;36m<listcomp>\u001b[1;34m(.0)\u001b[0m\n\u001b[0;32m    258\u001b[0m \u001b[38;5;28;01mdef\u001b[39;00m \u001b[38;5;21m__call__\u001b[39m(\u001b[38;5;28mself\u001b[39m):\n\u001b[0;32m    259\u001b[0m     \u001b[38;5;66;03m# Set the default nested backend to self._backend but do not set the\u001b[39;00m\n\u001b[0;32m    260\u001b[0m     \u001b[38;5;66;03m# change the default number of processes to -1\u001b[39;00m\n\u001b[0;32m    261\u001b[0m     \u001b[38;5;28;01mwith\u001b[39;00m parallel_backend(\u001b[38;5;28mself\u001b[39m\u001b[38;5;241m.\u001b[39m_backend, n_jobs\u001b[38;5;241m=\u001b[39m\u001b[38;5;28mself\u001b[39m\u001b[38;5;241m.\u001b[39m_n_jobs):\n\u001b[1;32m--> 262\u001b[0m         \u001b[38;5;28;01mreturn\u001b[39;00m [\u001b[43mfunc\u001b[49m\u001b[43m(\u001b[49m\u001b[38;5;241;43m*\u001b[39;49m\u001b[43margs\u001b[49m\u001b[43m,\u001b[49m\u001b[43m \u001b[49m\u001b[38;5;241;43m*\u001b[39;49m\u001b[38;5;241;43m*\u001b[39;49m\u001b[43mkwargs\u001b[49m\u001b[43m)\u001b[49m\n\u001b[0;32m    263\u001b[0m                 \u001b[38;5;28;01mfor\u001b[39;00m func, args, kwargs \u001b[38;5;129;01min\u001b[39;00m \u001b[38;5;28mself\u001b[39m\u001b[38;5;241m.\u001b[39mitems]\n",
      "File \u001b[1;32m~\\anaconda3\\lib\\site-packages\\sklearn\\utils\\fixes.py:117\u001b[0m, in \u001b[0;36m_FuncWrapper.__call__\u001b[1;34m(self, *args, **kwargs)\u001b[0m\n\u001b[0;32m    115\u001b[0m \u001b[38;5;28;01mdef\u001b[39;00m \u001b[38;5;21m__call__\u001b[39m(\u001b[38;5;28mself\u001b[39m, \u001b[38;5;241m*\u001b[39margs, \u001b[38;5;241m*\u001b[39m\u001b[38;5;241m*\u001b[39mkwargs):\n\u001b[0;32m    116\u001b[0m     \u001b[38;5;28;01mwith\u001b[39;00m config_context(\u001b[38;5;241m*\u001b[39m\u001b[38;5;241m*\u001b[39m\u001b[38;5;28mself\u001b[39m\u001b[38;5;241m.\u001b[39mconfig):\n\u001b[1;32m--> 117\u001b[0m         \u001b[38;5;28;01mreturn\u001b[39;00m \u001b[38;5;28;43mself\u001b[39;49m\u001b[38;5;241;43m.\u001b[39;49m\u001b[43mfunction\u001b[49m\u001b[43m(\u001b[49m\u001b[38;5;241;43m*\u001b[39;49m\u001b[43margs\u001b[49m\u001b[43m,\u001b[49m\u001b[43m \u001b[49m\u001b[38;5;241;43m*\u001b[39;49m\u001b[38;5;241;43m*\u001b[39;49m\u001b[43mkwargs\u001b[49m\u001b[43m)\u001b[49m\n",
      "File \u001b[1;32m~\\anaconda3\\lib\\site-packages\\sklearn\\linear_model\\_logistic.py:495\u001b[0m, in \u001b[0;36m_logistic_regression_path\u001b[1;34m(X, y, pos_class, Cs, fit_intercept, max_iter, tol, verbose, solver, coef, class_weight, dual, penalty, intercept_scaling, multi_class, random_state, check_input, max_squared_sum, sample_weight, l1_ratio, n_threads)\u001b[0m\n\u001b[0;32m    492\u001b[0m         alpha \u001b[38;5;241m=\u001b[39m (\u001b[38;5;241m1.0\u001b[39m \u001b[38;5;241m/\u001b[39m C) \u001b[38;5;241m*\u001b[39m (\u001b[38;5;241m1\u001b[39m \u001b[38;5;241m-\u001b[39m l1_ratio)\n\u001b[0;32m    493\u001b[0m         beta \u001b[38;5;241m=\u001b[39m (\u001b[38;5;241m1.0\u001b[39m \u001b[38;5;241m/\u001b[39m C) \u001b[38;5;241m*\u001b[39m l1_ratio\n\u001b[1;32m--> 495\u001b[0m     w0, n_iter_i, warm_start_sag \u001b[38;5;241m=\u001b[39m \u001b[43msag_solver\u001b[49m\u001b[43m(\u001b[49m\n\u001b[0;32m    496\u001b[0m \u001b[43m        \u001b[49m\u001b[43mX\u001b[49m\u001b[43m,\u001b[49m\n\u001b[0;32m    497\u001b[0m \u001b[43m        \u001b[49m\u001b[43mtarget\u001b[49m\u001b[43m,\u001b[49m\n\u001b[0;32m    498\u001b[0m \u001b[43m        \u001b[49m\u001b[43msample_weight\u001b[49m\u001b[43m,\u001b[49m\n\u001b[0;32m    499\u001b[0m \u001b[43m        \u001b[49m\u001b[43mloss\u001b[49m\u001b[43m,\u001b[49m\n\u001b[0;32m    500\u001b[0m \u001b[43m        \u001b[49m\u001b[43malpha\u001b[49m\u001b[43m,\u001b[49m\n\u001b[0;32m    501\u001b[0m \u001b[43m        \u001b[49m\u001b[43mbeta\u001b[49m\u001b[43m,\u001b[49m\n\u001b[0;32m    502\u001b[0m \u001b[43m        \u001b[49m\u001b[43mmax_iter\u001b[49m\u001b[43m,\u001b[49m\n\u001b[0;32m    503\u001b[0m \u001b[43m        \u001b[49m\u001b[43mtol\u001b[49m\u001b[43m,\u001b[49m\n\u001b[0;32m    504\u001b[0m \u001b[43m        \u001b[49m\u001b[43mverbose\u001b[49m\u001b[43m,\u001b[49m\n\u001b[0;32m    505\u001b[0m \u001b[43m        \u001b[49m\u001b[43mrandom_state\u001b[49m\u001b[43m,\u001b[49m\n\u001b[0;32m    506\u001b[0m \u001b[43m        \u001b[49m\u001b[38;5;28;43;01mFalse\u001b[39;49;00m\u001b[43m,\u001b[49m\n\u001b[0;32m    507\u001b[0m \u001b[43m        \u001b[49m\u001b[43mmax_squared_sum\u001b[49m\u001b[43m,\u001b[49m\n\u001b[0;32m    508\u001b[0m \u001b[43m        \u001b[49m\u001b[43mwarm_start_sag\u001b[49m\u001b[43m,\u001b[49m\n\u001b[0;32m    509\u001b[0m \u001b[43m        \u001b[49m\u001b[43mis_saga\u001b[49m\u001b[38;5;241;43m=\u001b[39;49m\u001b[43m(\u001b[49m\u001b[43msolver\u001b[49m\u001b[43m \u001b[49m\u001b[38;5;241;43m==\u001b[39;49m\u001b[43m \u001b[49m\u001b[38;5;124;43m\"\u001b[39;49m\u001b[38;5;124;43msaga\u001b[39;49m\u001b[38;5;124;43m\"\u001b[39;49m\u001b[43m)\u001b[49m\u001b[43m,\u001b[49m\n\u001b[0;32m    510\u001b[0m \u001b[43m    \u001b[49m\u001b[43m)\u001b[49m\n\u001b[0;32m    512\u001b[0m \u001b[38;5;28;01melse\u001b[39;00m:\n\u001b[0;32m    513\u001b[0m     \u001b[38;5;28;01mraise\u001b[39;00m \u001b[38;5;167;01mValueError\u001b[39;00m(\n\u001b[0;32m    514\u001b[0m         \u001b[38;5;124m\"\u001b[39m\u001b[38;5;124msolver must be one of \u001b[39m\u001b[38;5;124m{\u001b[39m\u001b[38;5;124m'\u001b[39m\u001b[38;5;124mliblinear\u001b[39m\u001b[38;5;124m'\u001b[39m\u001b[38;5;124m, \u001b[39m\u001b[38;5;124m'\u001b[39m\u001b[38;5;124mlbfgs\u001b[39m\u001b[38;5;124m'\u001b[39m\u001b[38;5;124m, \u001b[39m\u001b[38;5;124m\"\u001b[39m\n\u001b[0;32m    515\u001b[0m         \u001b[38;5;124m\"\u001b[39m\u001b[38;5;124m'\u001b[39m\u001b[38;5;124mnewton-cg\u001b[39m\u001b[38;5;124m'\u001b[39m\u001b[38;5;124m, \u001b[39m\u001b[38;5;124m'\u001b[39m\u001b[38;5;124msag\u001b[39m\u001b[38;5;124m'\u001b[39m\u001b[38;5;124m}, got \u001b[39m\u001b[38;5;124m'\u001b[39m\u001b[38;5;132;01m%s\u001b[39;00m\u001b[38;5;124m'\u001b[39m\u001b[38;5;124m instead\u001b[39m\u001b[38;5;124m\"\u001b[39m \u001b[38;5;241m%\u001b[39m solver\n\u001b[0;32m    516\u001b[0m     )\n",
      "File \u001b[1;32m~\\anaconda3\\lib\\site-packages\\sklearn\\linear_model\\_sag.py:325\u001b[0m, in \u001b[0;36msag_solver\u001b[1;34m(X, y, sample_weight, loss, alpha, beta, max_iter, tol, verbose, random_state, check_input, max_squared_sum, warm_start_mem, is_saga)\u001b[0m\n\u001b[0;32m    319\u001b[0m     \u001b[38;5;28;01mraise\u001b[39;00m \u001b[38;5;167;01mZeroDivisionError\u001b[39;00m(\n\u001b[0;32m    320\u001b[0m         \u001b[38;5;124m\"\u001b[39m\u001b[38;5;124mCurrent sag implementation does not handle \u001b[39m\u001b[38;5;124m\"\u001b[39m\n\u001b[0;32m    321\u001b[0m         \u001b[38;5;124m\"\u001b[39m\u001b[38;5;124mthe case step_size * alpha_scaled == 1\u001b[39m\u001b[38;5;124m\"\u001b[39m\n\u001b[0;32m    322\u001b[0m     )\n\u001b[0;32m    324\u001b[0m sag \u001b[38;5;241m=\u001b[39m sag64 \u001b[38;5;28;01mif\u001b[39;00m X\u001b[38;5;241m.\u001b[39mdtype \u001b[38;5;241m==\u001b[39m np\u001b[38;5;241m.\u001b[39mfloat64 \u001b[38;5;28;01melse\u001b[39;00m sag32\n\u001b[1;32m--> 325\u001b[0m num_seen, n_iter_ \u001b[38;5;241m=\u001b[39m \u001b[43msag\u001b[49m\u001b[43m(\u001b[49m\n\u001b[0;32m    326\u001b[0m \u001b[43m    \u001b[49m\u001b[43mdataset\u001b[49m\u001b[43m,\u001b[49m\n\u001b[0;32m    327\u001b[0m \u001b[43m    \u001b[49m\u001b[43mcoef_init\u001b[49m\u001b[43m,\u001b[49m\n\u001b[0;32m    328\u001b[0m \u001b[43m    \u001b[49m\u001b[43mintercept_init\u001b[49m\u001b[43m,\u001b[49m\n\u001b[0;32m    329\u001b[0m \u001b[43m    \u001b[49m\u001b[43mn_samples\u001b[49m\u001b[43m,\u001b[49m\n\u001b[0;32m    330\u001b[0m \u001b[43m    \u001b[49m\u001b[43mn_features\u001b[49m\u001b[43m,\u001b[49m\n\u001b[0;32m    331\u001b[0m \u001b[43m    \u001b[49m\u001b[43mn_classes\u001b[49m\u001b[43m,\u001b[49m\n\u001b[0;32m    332\u001b[0m \u001b[43m    \u001b[49m\u001b[43mtol\u001b[49m\u001b[43m,\u001b[49m\n\u001b[0;32m    333\u001b[0m \u001b[43m    \u001b[49m\u001b[43mmax_iter\u001b[49m\u001b[43m,\u001b[49m\n\u001b[0;32m    334\u001b[0m \u001b[43m    \u001b[49m\u001b[43mloss\u001b[49m\u001b[43m,\u001b[49m\n\u001b[0;32m    335\u001b[0m \u001b[43m    \u001b[49m\u001b[43mstep_size\u001b[49m\u001b[43m,\u001b[49m\n\u001b[0;32m    336\u001b[0m \u001b[43m    \u001b[49m\u001b[43malpha_scaled\u001b[49m\u001b[43m,\u001b[49m\n\u001b[0;32m    337\u001b[0m \u001b[43m    \u001b[49m\u001b[43mbeta_scaled\u001b[49m\u001b[43m,\u001b[49m\n\u001b[0;32m    338\u001b[0m \u001b[43m    \u001b[49m\u001b[43msum_gradient_init\u001b[49m\u001b[43m,\u001b[49m\n\u001b[0;32m    339\u001b[0m \u001b[43m    \u001b[49m\u001b[43mgradient_memory_init\u001b[49m\u001b[43m,\u001b[49m\n\u001b[0;32m    340\u001b[0m \u001b[43m    \u001b[49m\u001b[43mseen_init\u001b[49m\u001b[43m,\u001b[49m\n\u001b[0;32m    341\u001b[0m \u001b[43m    \u001b[49m\u001b[43mnum_seen_init\u001b[49m\u001b[43m,\u001b[49m\n\u001b[0;32m    342\u001b[0m \u001b[43m    \u001b[49m\u001b[43mfit_intercept\u001b[49m\u001b[43m,\u001b[49m\n\u001b[0;32m    343\u001b[0m \u001b[43m    \u001b[49m\u001b[43mintercept_sum_gradient\u001b[49m\u001b[43m,\u001b[49m\n\u001b[0;32m    344\u001b[0m \u001b[43m    \u001b[49m\u001b[43mintercept_decay\u001b[49m\u001b[43m,\u001b[49m\n\u001b[0;32m    345\u001b[0m \u001b[43m    \u001b[49m\u001b[43mis_saga\u001b[49m\u001b[43m,\u001b[49m\n\u001b[0;32m    346\u001b[0m \u001b[43m    \u001b[49m\u001b[43mverbose\u001b[49m\u001b[43m,\u001b[49m\n\u001b[0;32m    347\u001b[0m \u001b[43m\u001b[49m\u001b[43m)\u001b[49m\n\u001b[0;32m    349\u001b[0m \u001b[38;5;28;01mif\u001b[39;00m n_iter_ \u001b[38;5;241m==\u001b[39m max_iter:\n\u001b[0;32m    350\u001b[0m     warnings\u001b[38;5;241m.\u001b[39mwarn(\n\u001b[0;32m    351\u001b[0m         \u001b[38;5;124m\"\u001b[39m\u001b[38;5;124mThe max_iter was reached which means the coef_ did not converge\u001b[39m\u001b[38;5;124m\"\u001b[39m,\n\u001b[0;32m    352\u001b[0m         ConvergenceWarning,\n\u001b[0;32m    353\u001b[0m     )\n",
      "\u001b[1;31mKeyboardInterrupt\u001b[0m: "
     ]
    }
   ],
   "source": [
    "weights = np.linspace(0.0,0.99,5)\n",
    "\n",
    "param_grid = {'penalty': ['l1', 'l2'], \n",
    "            'tol': [1e-3, 1e-4, 1e-5], \n",
    "            'C': [0.01, 0.1, 1, 10, 100], \n",
    "            'solver': ['liblinear', 'saga'],\n",
    "             'multi_class': ['ovr', 'auto']}\n",
    "\n",
    "grid = GridSearchCV(LogisticRegression(max_iter=5000, random_state=42), param_grid, cv=3, verbose=3)\n",
    "grid.fit(corpus_validacao_s, y_validacao)"
   ]
  },
  {
   "cell_type": "code",
   "execution_count": null,
   "id": "065b680b-a052-484a-bbcc-14840e6c9a1b",
   "metadata": {},
   "outputs": [],
   "source": [
    "print(grid.best_estimator_)"
   ]
  },
  {
   "cell_type": "markdown",
   "id": "a53738bf-3325-4c37-a7aa-712a1049defc",
   "metadata": {},
   "source": [
    "- Treino"
   ]
  },
  {
   "cell_type": "code",
   "execution_count": null,
   "id": "8e3322c8-d384-429d-9e67-d43b49702247",
   "metadata": {},
   "outputs": [],
   "source": [
    "lr = LogisticRegression(max_iter=5000, C=10, penalty='l2', solver='liblinear', tol=1e-3).fit(corpus_treino_s, y_treino)\n",
    "\n",
    "lr_y_treino_e = lr.predict(corpus_treino_s)\n",
    "\n",
    "print(\"Score treino:\", lr.score(corpus_treino_s, y_treino))\n"
   ]
  },
  {
   "cell_type": "markdown",
   "id": "b3f83da8-87a8-4551-8f15-1cb722177b86",
   "metadata": {},
   "source": [
    "- Teste e Avaliação"
   ]
  },
  {
   "cell_type": "code",
   "execution_count": 127,
   "id": "e7f71854-21f7-4242-a2bc-0c345dff8b18",
   "metadata": {},
   "outputs": [],
   "source": [
    "lr_fpr, lr_tpr, _ = roc_curve(y_teste, lr.predict_proba(corpus_teste_s)[:, 1])\n",
    "\n",
    "lr_y_teste_e = lr.predict(corpus_teste_s)\n"
   ]
  },
  {
   "cell_type": "code",
   "execution_count": 123,
   "id": "86a8096a-9926-486e-a268-b99fd46c4388",
   "metadata": {},
   "outputs": [
    {
     "name": "stdout",
     "output_type": "stream",
     "text": [
      "Treino\n",
      "Número de erros: 1\n",
      "Precisão:  1.0\n"
     ]
    },
    {
     "data": {
      "text/plain": [
       "<sklearn.metrics._plot.confusion_matrix.ConfusionMatrixDisplay at 0x21736874340>"
      ]
     },
     "execution_count": 123,
     "metadata": {},
     "output_type": "execute_result"
    },
    {
     "data": {
      "image/png": "[encoded data removed]",
      "text/plain": [
       "<Figure size 640x480 with 2 Axes>"
      ]
     },
     "metadata": {},
     "output_type": "display_data"
    }
   ],
   "source": [
    "print(\"Treino\")\n",
    "\n",
    "erros_treino_lr = np.round(np.sum(y_treino != lr_y_treino_e), 3)\n",
    "precisao_treino_lr = np.round(accuracy_score(y_treino,lr_y_treino_e), 3)\n",
    "matriz_confusao = confusion_matrix(y_treino, lr_y_treino_e)\n",
    "tn_treino_lr, fp_treino_lr, fn_treino_lr, tp_treino_lr = matriz_confusao.ravel()\n",
    "\n",
    "print(\"Número de erros:\", erros_treino_lr)\n",
    "print(\"Precisão: \", precisao_treino_lr)\n",
    "disp = ConfusionMatrixDisplay(matriz_confusao)\n",
    "disp.plot()"
   ]
  },
  {
   "cell_type": "code",
   "execution_count": 128,
   "id": "a76fbbfb-f21c-4574-ae6c-d7f6e1df04e8",
   "metadata": {},
   "outputs": [
    {
     "name": "stdout",
     "output_type": "stream",
     "text": [
      "Teste\n",
      "Número de erros: 238\n",
      "Precisão:  0.857\n"
     ]
    },
    {
     "data": {
      "text/plain": [
       "<sklearn.metrics._plot.confusion_matrix.ConfusionMatrixDisplay at 0x21733b22e20>"
      ]
     },
     "execution_count": 128,
     "metadata": {},
     "output_type": "execute_result"
    },
    {
     "data": {
      "image/png": "[encoded data removed]",
      "text/plain": [
       "<Figure size 640x480 with 2 Axes>"
      ]
     },
     "metadata": {},
     "output_type": "display_data"
    }
   ],
   "source": [
    "print(\"Teste\")\n",
    "\n",
    "erros_teste_lr = np.round(np.sum(y_teste != lr_y_teste_e), 3)\n",
    "precisao_teste_lr = np.round(accuracy_score(y_teste,lr_y_teste_e), 3)\n",
    "matriz_confusao = confusion_matrix(y_teste, lr_y_teste_e)\n",
    "tn_teste_lr, fp_teste_lr, fn_teste_lr, tp_teste_lr = matriz_confusao.ravel()\n",
    "\n",
    "tpr_teste_lr = tp_teste_lr/(tp_teste_lr + fp_teste_lr)\n",
    "fpr_teste_lr = fp_teste_lr/(fp_teste_lr + tn_teste_lr)\n",
    "\n",
    "print(\"Número de erros:\", erros_teste_lr)\n",
    "print(\"Precisão: \", precisao_teste_lr)\n",
    "disp = ConfusionMatrixDisplay(matriz_confusao, display_labels=np.unique(y_teste))\n",
    "disp.plot()"
   ]
  },
  {
   "cell_type": "markdown",
   "id": "a752bb50-0e7a-4414-8157-efa127d288ec",
   "metadata": {},
   "source": [
    "# Classificador LinearSVC"
   ]
  },
  {
   "cell_type": "markdown",
   "id": "b5c03fea-408a-4b90-a0ed-0c82cbc57f80",
   "metadata": {},
   "source": [
    "- Resultados sem paramtrização do classificador"
   ]
  },
  {
   "cell_type": "code",
   "execution_count": 15,
   "id": "14d16815-286b-4551-830d-ff1140038478",
   "metadata": {},
   "outputs": [
    {
     "name": "stdout",
     "output_type": "stream",
     "text": [
      "Mean cross-validation accuracy: 0.86\n"
     ]
    }
   ],
   "source": [
    "scores = cross_val_score(LinearSVC(max_iter=5000), corpus_treino_p, y_treino, cv=5)\n",
    "print(\"Mean cross-validation accuracy: {:.2f}\".format(np.mean(scores)))"
   ]
  },
  {
   "cell_type": "markdown",
   "id": "a3c3915d-39be-4976-84ad-d0842327d38a",
   "metadata": {},
   "source": [
    "- Ajuste dos parametros"
   ]
  },
  {
   "cell_type": "code",
   "execution_count": 16,
   "id": "7903f378-9e15-46d7-a268-28a8d12b18ae",
   "metadata": {},
   "outputs": [
    {
     "name": "stdout",
     "output_type": "stream",
     "text": [
      "Fitting 3 folds for each of 40 candidates, totalling 120 fits\n",
      "[CV 1/3] END C=0.01, loss=hinge, multi_class=ovr, penalty=l2, tol=0.001;, score=0.615 total time=   0.0s\n",
      "[CV 2/3] END C=0.01, loss=hinge, multi_class=ovr, penalty=l2, tol=0.001;, score=0.768 total time=   0.0s\n",
      "[CV 3/3] END C=0.01, loss=hinge, multi_class=ovr, penalty=l2, tol=0.001;, score=0.697 total time=   0.0s\n",
      "[CV 1/3] END C=0.01, loss=hinge, multi_class=ovr, penalty=l2, tol=0.0001;, score=0.615 total time=   0.0s\n",
      "[CV 2/3] END C=0.01, loss=hinge, multi_class=ovr, penalty=l2, tol=0.0001;, score=0.768 total time=   0.0s\n",
      "[CV 3/3] END C=0.01, loss=hinge, multi_class=ovr, penalty=l2, tol=0.0001;, score=0.697 total time=   0.0s\n",
      "[CV 1/3] END C=0.01, loss=hinge, multi_class=ovr, penalty=l2, tol=1e-05;, score=0.615 total time=   0.0s\n",
      "[CV 2/3] END C=0.01, loss=hinge, multi_class=ovr, penalty=l2, tol=1e-05;, score=0.768 total time=   0.0s\n",
      "[CV 3/3] END C=0.01, loss=hinge, multi_class=ovr, penalty=l2, tol=1e-05;, score=0.697 total time=   0.0s\n",
      "[CV 1/3] END C=0.01, loss=hinge, multi_class=ovr, penalty=l2, tol=1e-06;, score=0.615 total time=   0.0s\n",
      "[CV 2/3] END C=0.01, loss=hinge, multi_class=ovr, penalty=l2, tol=1e-06;, score=0.768 total time=   0.0s\n",
      "[CV 3/3] END C=0.01, loss=hinge, multi_class=ovr, penalty=l2, tol=1e-06;, score=0.697 total time=   0.0s\n",
      "[CV 1/3] END C=0.01, loss=squared_hinge, multi_class=ovr, penalty=l2, tol=0.001;, score=0.773 total time=   0.0s\n",
      "[CV 2/3] END C=0.01, loss=squared_hinge, multi_class=ovr, penalty=l2, tol=0.001;, score=0.788 total time=   0.0s\n",
      "[CV 3/3] END C=0.01, loss=squared_hinge, multi_class=ovr, penalty=l2, tol=0.001;, score=0.807 total time=   0.0s\n",
      "[CV 1/3] END C=0.01, loss=squared_hinge, multi_class=ovr, penalty=l2, tol=0.0001;, score=0.773 total time=   0.0s\n",
      "[CV 2/3] END C=0.01, loss=squared_hinge, multi_class=ovr, penalty=l2, tol=0.0001;, score=0.788 total time=   0.0s\n",
      "[CV 3/3] END C=0.01, loss=squared_hinge, multi_class=ovr, penalty=l2, tol=0.0001;, score=0.807 total time=   0.0s\n",
      "[CV 1/3] END C=0.01, loss=squared_hinge, multi_class=ovr, penalty=l2, tol=1e-05;, score=0.773 total time=   0.0s\n",
      "[CV 2/3] END C=0.01, loss=squared_hinge, multi_class=ovr, penalty=l2, tol=1e-05;, score=0.788 total time=   0.0s\n",
      "[CV 3/3] END C=0.01, loss=squared_hinge, multi_class=ovr, penalty=l2, tol=1e-05;, score=0.807 total time=   0.0s\n",
      "[CV 1/3] END C=0.01, loss=squared_hinge, multi_class=ovr, penalty=l2, tol=1e-06;, score=0.773 total time=   0.0s\n",
      "[CV 2/3] END C=0.01, loss=squared_hinge, multi_class=ovr, penalty=l2, tol=1e-06;, score=0.788 total time=   0.0s\n",
      "[CV 3/3] END C=0.01, loss=squared_hinge, multi_class=ovr, penalty=l2, tol=1e-06;, score=0.807 total time=   0.0s\n",
      "[CV 1/3] END C=0.1, loss=hinge, multi_class=ovr, penalty=l2, tol=0.001;, score=0.615 total time=   0.0s\n",
      "[CV 2/3] END C=0.1, loss=hinge, multi_class=ovr, penalty=l2, tol=0.001;, score=0.768 total time=   0.0s\n",
      "[CV 3/3] END C=0.1, loss=hinge, multi_class=ovr, penalty=l2, tol=0.001;, score=0.697 total time=   0.0s\n",
      "[CV 1/3] END C=0.1, loss=hinge, multi_class=ovr, penalty=l2, tol=0.0001;, score=0.615 total time=   0.0s\n",
      "[CV 2/3] END C=0.1, loss=hinge, multi_class=ovr, penalty=l2, tol=0.0001;, score=0.768 total time=   0.0s\n",
      "[CV 3/3] END C=0.1, loss=hinge, multi_class=ovr, penalty=l2, tol=0.0001;, score=0.697 total time=   0.0s\n",
      "[CV 1/3] END C=0.1, loss=hinge, multi_class=ovr, penalty=l2, tol=1e-05;, score=0.615 total time=   0.0s\n",
      "[CV 2/3] END C=0.1, loss=hinge, multi_class=ovr, penalty=l2, tol=1e-05;, score=0.768 total time=   0.0s\n",
      "[CV 3/3] END C=0.1, loss=hinge, multi_class=ovr, penalty=l2, tol=1e-05;, score=0.697 total time=   0.0s\n",
      "[CV 1/3] END C=0.1, loss=hinge, multi_class=ovr, penalty=l2, tol=1e-06;, score=0.615 total time=   0.0s\n",
      "[CV 2/3] END C=0.1, loss=hinge, multi_class=ovr, penalty=l2, tol=1e-06;, score=0.768 total time=   0.0s\n",
      "[CV 3/3] END C=0.1, loss=hinge, multi_class=ovr, penalty=l2, tol=1e-06;, score=0.697 total time=   0.0s\n",
      "[CV 1/3] END C=0.1, loss=squared_hinge, multi_class=ovr, penalty=l2, tol=0.001;, score=0.797 total time=   0.0s\n",
      "[CV 2/3] END C=0.1, loss=squared_hinge, multi_class=ovr, penalty=l2, tol=0.001;, score=0.800 total time=   0.0s\n",
      "[CV 3/3] END C=0.1, loss=squared_hinge, multi_class=ovr, penalty=l2, tol=0.001;, score=0.818 total time=   0.0s\n",
      "[CV 1/3] END C=0.1, loss=squared_hinge, multi_class=ovr, penalty=l2, tol=0.0001;, score=0.797 total time=   0.0s\n",
      "[CV 2/3] END C=0.1, loss=squared_hinge, multi_class=ovr, penalty=l2, tol=0.0001;, score=0.800 total time=   0.0s\n",
      "[CV 3/3] END C=0.1, loss=squared_hinge, multi_class=ovr, penalty=l2, tol=0.0001;, score=0.818 total time=   0.0s\n",
      "[CV 1/3] END C=0.1, loss=squared_hinge, multi_class=ovr, penalty=l2, tol=1e-05;, score=0.797 total time=   0.0s\n",
      "[CV 2/3] END C=0.1, loss=squared_hinge, multi_class=ovr, penalty=l2, tol=1e-05;, score=0.800 total time=   0.0s\n",
      "[CV 3/3] END C=0.1, loss=squared_hinge, multi_class=ovr, penalty=l2, tol=1e-05;, score=0.818 total time=   0.0s\n",
      "[CV 1/3] END C=0.1, loss=squared_hinge, multi_class=ovr, penalty=l2, tol=1e-06;, score=0.797 total time=   0.0s\n",
      "[CV 2/3] END C=0.1, loss=squared_hinge, multi_class=ovr, penalty=l2, tol=1e-06;, score=0.800 total time=   0.0s\n",
      "[CV 3/3] END C=0.1, loss=squared_hinge, multi_class=ovr, penalty=l2, tol=1e-06;, score=0.818 total time=   0.0s\n",
      "[CV 1/3] END C=1, loss=hinge, multi_class=ovr, penalty=l2, tol=0.001;, score=0.815 total time=   0.0s\n",
      "[CV 2/3] END C=1, loss=hinge, multi_class=ovr, penalty=l2, tol=0.001;, score=0.833 total time=   0.0s\n",
      "[CV 3/3] END C=1, loss=hinge, multi_class=ovr, penalty=l2, tol=0.001;, score=0.834 total time=   0.0s\n",
      "[CV 1/3] END C=1, loss=hinge, multi_class=ovr, penalty=l2, tol=0.0001;, score=0.815 total time=   0.0s\n",
      "[CV 2/3] END C=1, loss=hinge, multi_class=ovr, penalty=l2, tol=0.0001;, score=0.833 total time=   0.0s\n",
      "[CV 3/3] END C=1, loss=hinge, multi_class=ovr, penalty=l2, tol=0.0001;, score=0.834 total time=   0.0s\n",
      "[CV 1/3] END C=1, loss=hinge, multi_class=ovr, penalty=l2, tol=1e-05;, score=0.815 total time=   0.0s\n",
      "[CV 2/3] END C=1, loss=hinge, multi_class=ovr, penalty=l2, tol=1e-05;, score=0.833 total time=   0.0s\n",
      "[CV 3/3] END C=1, loss=hinge, multi_class=ovr, penalty=l2, tol=1e-05;, score=0.834 total time=   0.0s\n",
      "[CV 1/3] END C=1, loss=hinge, multi_class=ovr, penalty=l2, tol=1e-06;, score=0.815 total time=   0.0s\n",
      "[CV 2/3] END C=1, loss=hinge, multi_class=ovr, penalty=l2, tol=1e-06;, score=0.833 total time=   0.0s\n",
      "[CV 3/3] END C=1, loss=hinge, multi_class=ovr, penalty=l2, tol=1e-06;, score=0.834 total time=   0.0s\n",
      "[CV 1/3] END C=1, loss=squared_hinge, multi_class=ovr, penalty=l2, tol=0.001;, score=0.813 total time=   0.0s\n",
      "[CV 2/3] END C=1, loss=squared_hinge, multi_class=ovr, penalty=l2, tol=0.001;, score=0.836 total time=   0.0s\n",
      "[CV 3/3] END C=1, loss=squared_hinge, multi_class=ovr, penalty=l2, tol=0.001;, score=0.831 total time=   0.0s\n",
      "[CV 1/3] END C=1, loss=squared_hinge, multi_class=ovr, penalty=l2, tol=0.0001;, score=0.813 total time=   0.0s\n",
      "[CV 2/3] END C=1, loss=squared_hinge, multi_class=ovr, penalty=l2, tol=0.0001;, score=0.836 total time=   0.0s\n",
      "[CV 3/3] END C=1, loss=squared_hinge, multi_class=ovr, penalty=l2, tol=0.0001;, score=0.831 total time=   0.0s\n",
      "[CV 1/3] END C=1, loss=squared_hinge, multi_class=ovr, penalty=l2, tol=1e-05;, score=0.813 total time=   0.0s\n",
      "[CV 2/3] END C=1, loss=squared_hinge, multi_class=ovr, penalty=l2, tol=1e-05;, score=0.836 total time=   0.0s\n",
      "[CV 3/3] END C=1, loss=squared_hinge, multi_class=ovr, penalty=l2, tol=1e-05;, score=0.831 total time=   0.0s\n",
      "[CV 1/3] END C=1, loss=squared_hinge, multi_class=ovr, penalty=l2, tol=1e-06;, score=0.813 total time=   0.0s\n",
      "[CV 2/3] END C=1, loss=squared_hinge, multi_class=ovr, penalty=l2, tol=1e-06;, score=0.836 total time=   0.0s\n",
      "[CV 3/3] END C=1, loss=squared_hinge, multi_class=ovr, penalty=l2, tol=1e-06;, score=0.831 total time=   0.0s\n",
      "[CV 1/3] END C=10, loss=hinge, multi_class=ovr, penalty=l2, tol=0.001;, score=0.809 total time=   0.0s\n",
      "[CV 2/3] END C=10, loss=hinge, multi_class=ovr, penalty=l2, tol=0.001;, score=0.835 total time=   0.0s\n",
      "[CV 3/3] END C=10, loss=hinge, multi_class=ovr, penalty=l2, tol=0.001;, score=0.823 total time=   0.0s\n",
      "[CV 1/3] END C=10, loss=hinge, multi_class=ovr, penalty=l2, tol=0.0001;, score=0.809 total time=   0.0s\n",
      "[CV 2/3] END C=10, loss=hinge, multi_class=ovr, penalty=l2, tol=0.0001;, score=0.835 total time=   0.0s\n",
      "[CV 3/3] END C=10, loss=hinge, multi_class=ovr, penalty=l2, tol=0.0001;, score=0.823 total time=   0.0s\n"
     ]
    },
    {
     "name": "stdout",
     "output_type": "stream",
     "text": [
      "[CV 1/3] END C=10, loss=hinge, multi_class=ovr, penalty=l2, tol=1e-05;, score=0.809 total time=   0.0s\n",
      "[CV 2/3] END C=10, loss=hinge, multi_class=ovr, penalty=l2, tol=1e-05;, score=0.835 total time=   0.0s\n",
      "[CV 3/3] END C=10, loss=hinge, multi_class=ovr, penalty=l2, tol=1e-05;, score=0.823 total time=   0.0s\n",
      "[CV 1/3] END C=10, loss=hinge, multi_class=ovr, penalty=l2, tol=1e-06;, score=0.809 total time=   0.0s\n",
      "[CV 2/3] END C=10, loss=hinge, multi_class=ovr, penalty=l2, tol=1e-06;, score=0.835 total time=   0.0s\n",
      "[CV 3/3] END C=10, loss=hinge, multi_class=ovr, penalty=l2, tol=1e-06;, score=0.823 total time=   0.0s\n",
      "[CV 1/3] END C=10, loss=squared_hinge, multi_class=ovr, penalty=l2, tol=0.001;, score=0.806 total time=   0.0s\n",
      "[CV 2/3] END C=10, loss=squared_hinge, multi_class=ovr, penalty=l2, tol=0.001;, score=0.836 total time=   0.0s\n",
      "[CV 3/3] END C=10, loss=squared_hinge, multi_class=ovr, penalty=l2, tol=0.001;, score=0.823 total time=   0.0s\n",
      "[CV 1/3] END C=10, loss=squared_hinge, multi_class=ovr, penalty=l2, tol=0.0001;, score=0.806 total time=   0.0s\n",
      "[CV 2/3] END C=10, loss=squared_hinge, multi_class=ovr, penalty=l2, tol=0.0001;, score=0.836 total time=   0.0s\n",
      "[CV 3/3] END C=10, loss=squared_hinge, multi_class=ovr, penalty=l2, tol=0.0001;, score=0.823 total time=   0.0s\n",
      "[CV 1/3] END C=10, loss=squared_hinge, multi_class=ovr, penalty=l2, tol=1e-05;, score=0.806 total time=   0.0s\n",
      "[CV 2/3] END C=10, loss=squared_hinge, multi_class=ovr, penalty=l2, tol=1e-05;, score=0.836 total time=   0.0s\n",
      "[CV 3/3] END C=10, loss=squared_hinge, multi_class=ovr, penalty=l2, tol=1e-05;, score=0.823 total time=   0.0s\n",
      "[CV 1/3] END C=10, loss=squared_hinge, multi_class=ovr, penalty=l2, tol=1e-06;, score=0.806 total time=   0.0s\n",
      "[CV 2/3] END C=10, loss=squared_hinge, multi_class=ovr, penalty=l2, tol=1e-06;, score=0.836 total time=   0.0s\n",
      "[CV 3/3] END C=10, loss=squared_hinge, multi_class=ovr, penalty=l2, tol=1e-06;, score=0.823 total time=   0.0s\n",
      "[CV 1/3] END C=100, loss=hinge, multi_class=ovr, penalty=l2, tol=0.001;, score=0.809 total time=   0.0s\n",
      "[CV 2/3] END C=100, loss=hinge, multi_class=ovr, penalty=l2, tol=0.001;, score=0.835 total time=   0.0s\n",
      "[CV 3/3] END C=100, loss=hinge, multi_class=ovr, penalty=l2, tol=0.001;, score=0.823 total time=   0.0s\n",
      "[CV 1/3] END C=100, loss=hinge, multi_class=ovr, penalty=l2, tol=0.0001;, score=0.809 total time=   0.0s\n",
      "[CV 2/3] END C=100, loss=hinge, multi_class=ovr, penalty=l2, tol=0.0001;, score=0.835 total time=   0.0s\n",
      "[CV 3/3] END C=100, loss=hinge, multi_class=ovr, penalty=l2, tol=0.0001;, score=0.823 total time=   0.0s\n",
      "[CV 1/3] END C=100, loss=hinge, multi_class=ovr, penalty=l2, tol=1e-05;, score=0.809 total time=   0.0s\n",
      "[CV 2/3] END C=100, loss=hinge, multi_class=ovr, penalty=l2, tol=1e-05;, score=0.835 total time=   0.0s\n",
      "[CV 3/3] END C=100, loss=hinge, multi_class=ovr, penalty=l2, tol=1e-05;, score=0.823 total time=   0.0s\n",
      "[CV 1/3] END C=100, loss=hinge, multi_class=ovr, penalty=l2, tol=1e-06;, score=0.809 total time=   0.0s\n",
      "[CV 2/3] END C=100, loss=hinge, multi_class=ovr, penalty=l2, tol=1e-06;, score=0.835 total time=   0.0s\n",
      "[CV 3/3] END C=100, loss=hinge, multi_class=ovr, penalty=l2, tol=1e-06;, score=0.823 total time=   0.0s\n",
      "[CV 1/3] END C=100, loss=squared_hinge, multi_class=ovr, penalty=l2, tol=0.001;, score=0.809 total time=   0.0s\n",
      "[CV 2/3] END C=100, loss=squared_hinge, multi_class=ovr, penalty=l2, tol=0.001;, score=0.835 total time=   0.0s\n",
      "[CV 3/3] END C=100, loss=squared_hinge, multi_class=ovr, penalty=l2, tol=0.001;, score=0.822 total time=   0.0s\n",
      "[CV 1/3] END C=100, loss=squared_hinge, multi_class=ovr, penalty=l2, tol=0.0001;, score=0.809 total time=   0.0s\n",
      "[CV 2/3] END C=100, loss=squared_hinge, multi_class=ovr, penalty=l2, tol=0.0001;, score=0.835 total time=   0.0s\n",
      "[CV 3/3] END C=100, loss=squared_hinge, multi_class=ovr, penalty=l2, tol=0.0001;, score=0.822 total time=   0.2s\n",
      "[CV 1/3] END C=100, loss=squared_hinge, multi_class=ovr, penalty=l2, tol=1e-05;, score=0.809 total time=   0.0s\n",
      "[CV 2/3] END C=100, loss=squared_hinge, multi_class=ovr, penalty=l2, tol=1e-05;, score=0.835 total time=   0.0s\n",
      "[CV 3/3] END C=100, loss=squared_hinge, multi_class=ovr, penalty=l2, tol=1e-05;, score=0.822 total time=   0.4s\n",
      "[CV 1/3] END C=100, loss=squared_hinge, multi_class=ovr, penalty=l2, tol=1e-06;, score=0.809 total time=   0.0s\n",
      "[CV 2/3] END C=100, loss=squared_hinge, multi_class=ovr, penalty=l2, tol=1e-06;, score=0.835 total time=   0.0s\n",
      "[CV 3/3] END C=100, loss=squared_hinge, multi_class=ovr, penalty=l2, tol=1e-06;, score=0.822 total time=   0.7s\n"
     ]
    },
    {
     "data": {
      "text/html": [
       "<style>#sk-container-id-2 {color: black;background-color: white;}#sk-container-id-2 pre{padding: 0;}#sk-container-id-2 div.sk-toggleable {background-color: white;}#sk-container-id-2 label.sk-toggleable__label {cursor: pointer;display: block;width: 100%;margin-bottom: 0;padding: 0.3em;box-sizing: border-box;text-align: center;}#sk-container-id-2 label.sk-toggleable__label-arrow:before {content: \"▸\";float: left;margin-right: 0.25em;color: #696969;}#sk-container-id-2 label.sk-toggleable__label-arrow:hover:before {color: black;}#sk-container-id-2 div.sk-estimator:hover label.sk-toggleable__label-arrow:before {color: black;}#sk-container-id-2 div.sk-toggleable__content {max-height: 0;max-width: 0;overflow: hidden;text-align: left;background-color: #f0f8ff;}#sk-container-id-2 div.sk-toggleable__content pre {margin: 0.2em;color: black;border-radius: 0.25em;background-color: #f0f8ff;}#sk-container-id-2 input.sk-toggleable__control:checked~div.sk-toggleable__content {max-height: 200px;max-width: 100%;overflow: auto;}#sk-container-id-2 input.sk-toggleable__control:checked~label.sk-toggleable__label-arrow:before {content: \"▾\";}#sk-container-id-2 div.sk-estimator input.sk-toggleable__control:checked~label.sk-toggleable__label {background-color: #d4ebff;}#sk-container-id-2 div.sk-label input.sk-toggleable__control:checked~label.sk-toggleable__label {background-color: #d4ebff;}#sk-container-id-2 input.sk-hidden--visually {border: 0;clip: rect(1px 1px 1px 1px);clip: rect(1px, 1px, 1px, 1px);height: 1px;margin: -1px;overflow: hidden;padding: 0;position: absolute;width: 1px;}#sk-container-id-2 div.sk-estimator {font-family: monospace;background-color: #f0f8ff;border: 1px dotted black;border-radius: 0.25em;box-sizing: border-box;margin-bottom: 0.5em;}#sk-container-id-2 div.sk-estimator:hover {background-color: #d4ebff;}#sk-container-id-2 div.sk-parallel-item::after {content: \"\";width: 100%;border-bottom: 1px solid gray;flex-grow: 1;}#sk-container-id-2 div.sk-label:hover label.sk-toggleable__label {background-color: #d4ebff;}#sk-container-id-2 div.sk-serial::before {content: \"\";position: absolute;border-left: 1px solid gray;box-sizing: border-box;top: 0;bottom: 0;left: 50%;z-index: 0;}#sk-container-id-2 div.sk-serial {display: flex;flex-direction: column;align-items: center;background-color: white;padding-right: 0.2em;padding-left: 0.2em;position: relative;}#sk-container-id-2 div.sk-item {position: relative;z-index: 1;}#sk-container-id-2 div.sk-parallel {display: flex;align-items: stretch;justify-content: center;background-color: white;position: relative;}#sk-container-id-2 div.sk-item::before, #sk-container-id-2 div.sk-parallel-item::before {content: \"\";position: absolute;border-left: 1px solid gray;box-sizing: border-box;top: 0;bottom: 0;left: 50%;z-index: -1;}#sk-container-id-2 div.sk-parallel-item {display: flex;flex-direction: column;z-index: 1;position: relative;background-color: white;}#sk-container-id-2 div.sk-parallel-item:first-child::after {align-self: flex-end;width: 50%;}#sk-container-id-2 div.sk-parallel-item:last-child::after {align-self: flex-start;width: 50%;}#sk-container-id-2 div.sk-parallel-item:only-child::after {width: 0;}#sk-container-id-2 div.sk-dashed-wrapped {border: 1px dashed gray;margin: 0 0.4em 0.5em 0.4em;box-sizing: border-box;padding-bottom: 0.4em;background-color: white;}#sk-container-id-2 div.sk-label label {font-family: monospace;font-weight: bold;display: inline-block;line-height: 1.2em;}#sk-container-id-2 div.sk-label-container {text-align: center;}#sk-container-id-2 div.sk-container {/* jupyter's `normalize.less` sets `[hidden] { display: none; }` but bootstrap.min.css set `[hidden] { display: none !important; }` so we also need the `!important` here to be able to override the default hidden behavior on the sphinx rendered scikit-learn.org. See: https://github.com/scikit-learn/scikit-learn/issues/21755 */display: inline-block !important;position: relative;}#sk-container-id-2 div.sk-text-repr-fallback {display: none;}</style><div id=\"sk-container-id-2\" class=\"sk-top-container\"><div class=\"sk-text-repr-fallback\"><pre>GridSearchCV(cv=3, estimator=LinearSVC(max_iter=5000, random_state=42),\n",
       "             param_grid={&#x27;C&#x27;: [0.01, 0.1, 1, 10, 100],\n",
       "                         &#x27;loss&#x27;: [&#x27;hinge&#x27;, &#x27;squared_hinge&#x27;],\n",
       "                         &#x27;multi_class&#x27;: [&#x27;ovr&#x27;], &#x27;penalty&#x27;: [&#x27;l2&#x27;],\n",
       "                         &#x27;tol&#x27;: [0.001, 0.0001, 1e-05, 1e-06]},\n",
       "             verbose=3)</pre><b>In a Jupyter environment, please rerun this cell to show the HTML representation or trust the notebook. <br />On GitHub, the HTML representation is unable to render, please try loading this page with nbviewer.org.</b></div><div class=\"sk-container\" hidden><div class=\"sk-item sk-dashed-wrapped\"><div class=\"sk-label-container\"><div class=\"sk-label sk-toggleable\"><input class=\"sk-toggleable__control sk-hidden--visually\" id=\"sk-estimator-id-4\" type=\"checkbox\" ><label for=\"sk-estimator-id-4\" class=\"sk-toggleable__label sk-toggleable__label-arrow\">GridSearchCV</label><div class=\"sk-toggleable__content\"><pre>GridSearchCV(cv=3, estimator=LinearSVC(max_iter=5000, random_state=42),\n",
       "             param_grid={&#x27;C&#x27;: [0.01, 0.1, 1, 10, 100],\n",
       "                         &#x27;loss&#x27;: [&#x27;hinge&#x27;, &#x27;squared_hinge&#x27;],\n",
       "                         &#x27;multi_class&#x27;: [&#x27;ovr&#x27;], &#x27;penalty&#x27;: [&#x27;l2&#x27;],\n",
       "                         &#x27;tol&#x27;: [0.001, 0.0001, 1e-05, 1e-06]},\n",
       "             verbose=3)</pre></div></div></div><div class=\"sk-parallel\"><div class=\"sk-parallel-item\"><div class=\"sk-item\"><div class=\"sk-label-container\"><div class=\"sk-label sk-toggleable\"><input class=\"sk-toggleable__control sk-hidden--visually\" id=\"sk-estimator-id-5\" type=\"checkbox\" ><label for=\"sk-estimator-id-5\" class=\"sk-toggleable__label sk-toggleable__label-arrow\">estimator: LinearSVC</label><div class=\"sk-toggleable__content\"><pre>LinearSVC(max_iter=5000, random_state=42)</pre></div></div></div><div class=\"sk-serial\"><div class=\"sk-item\"><div class=\"sk-estimator sk-toggleable\"><input class=\"sk-toggleable__control sk-hidden--visually\" id=\"sk-estimator-id-6\" type=\"checkbox\" ><label for=\"sk-estimator-id-6\" class=\"sk-toggleable__label sk-toggleable__label-arrow\">LinearSVC</label><div class=\"sk-toggleable__content\"><pre>LinearSVC(max_iter=5000, random_state=42)</pre></div></div></div></div></div></div></div></div></div></div>"
      ],
      "text/plain": [
       "GridSearchCV(cv=3, estimator=LinearSVC(max_iter=5000, random_state=42),\n",
       "             param_grid={'C': [0.01, 0.1, 1, 10, 100],\n",
       "                         'loss': ['hinge', 'squared_hinge'],\n",
       "                         'multi_class': ['ovr'], 'penalty': ['l2'],\n",
       "                         'tol': [0.001, 0.0001, 1e-05, 1e-06]},\n",
       "             verbose=3)"
      ]
     },
     "execution_count": 16,
     "metadata": {},
     "output_type": "execute_result"
    }
   ],
   "source": [
    "param_grid = {'penalty': ['l2'], \n",
    "              'loss': ['hinge', 'squared_hinge'],\n",
    "            'tol': [1e-3, 1e-4, 1e-5, 1e-6], \n",
    "            'C': [0.01, 0.1, 1, 10, 100], \n",
    "             'multi_class': ['ovr']}\n",
    "\n",
    "grid = GridSearchCV(LinearSVC(max_iter=5000, random_state=42), param_grid, cv=3, verbose=3)\n",
    "grid.fit(corpus_validacao_p, y_validacao)"
   ]
  },
  {
   "cell_type": "code",
   "execution_count": 17,
   "id": "8d4771a1-b31e-4171-af51-9c0432899f9b",
   "metadata": {},
   "outputs": [
    {
     "name": "stdout",
     "output_type": "stream",
     "text": [
      "Best estimator:  LinearSVC(C=1, loss='hinge', max_iter=5000, random_state=42, tol=0.001)\n"
     ]
    }
   ],
   "source": [
    "print(\"Best estimator: \", grid.best_estimator_)"
   ]
  },
  {
   "cell_type": "markdown",
   "id": "c59c7c65-bbfd-4ee8-a8dc-53ecc176f713",
   "metadata": {},
   "source": [
    "- Treino"
   ]
  },
  {
   "cell_type": "code",
   "execution_count": 85,
   "id": "97f4f587-6961-4bc1-8804-8b67aa44d990",
   "metadata": {},
   "outputs": [
    {
     "name": "stdout",
     "output_type": "stream",
     "text": [
      "Score treino: 0.9915991599159916\n"
     ]
    }
   ],
   "source": [
    "lSvm = LinearSVC(C=1, loss='hinge', max_iter=5000, random_state=42, tol=1e-4).fit(corpus_treino_p, y_treino)\n",
    "\n",
    "lSvm_y_treino_e = lSvm.predict(corpus_treino_p)\n",
    "print(\"Score treino:\", lSvm.score(corpus_treino_p, y_treino))"
   ]
  },
  {
   "cell_type": "markdown",
   "id": "b2c3283b-5b1b-4b1c-86eb-b1ee13ca426b",
   "metadata": {},
   "source": [
    "- Teste e Avaliação"
   ]
  },
  {
   "cell_type": "code",
   "execution_count": 19,
   "id": "57e2ef91-1581-4e15-989c-9760cdcd896b",
   "metadata": {},
   "outputs": [],
   "source": [
    "lSvm_fpr, lSvm_tpr, _ = roc_curve(y_teste, lSvm.decision_function(corpus_teste_p))\n",
    "\n",
    "lSvm_y_teste_e = lSvm.predict(corpus_teste_p)"
   ]
  },
  {
   "cell_type": "code",
   "execution_count": 132,
   "id": "ef34c6cc-fcb0-46e2-bee0-ee86da905070",
   "metadata": {},
   "outputs": [
    {
     "name": "stdout",
     "output_type": "stream",
     "text": [
      "Treino\n",
      "Número de erros: 28\n",
      "Precisão:  0.992\n"
     ]
    },
    {
     "data": {
      "text/plain": [
       "<sklearn.metrics._plot.confusion_matrix.ConfusionMatrixDisplay at 0x2173501dbe0>"
      ]
     },
     "execution_count": 132,
     "metadata": {},
     "output_type": "execute_result"
    },
    {
     "data": {
      "image/png": "[encoded data removed]",
      "text/plain": [
       "<Figure size 640x480 with 2 Axes>"
      ]
     },
     "metadata": {},
     "output_type": "display_data"
    }
   ],
   "source": [
    "print(\"Treino\")\n",
    "erros_treino_lSvm = np.round(np.sum(y_treino != lSvm_y_treino_e), 3)\n",
    "precisao_treino_lSvm = np.round(accuracy_score(y_treino,lSvm_y_treino_e), 3)\n",
    "matriz_confusao = confusion_matrix(y_treino, lSvm_y_treino_e)\n",
    "tn_treino_lSvm, fp_treino_lSvm, fn_treino_lSvm, tp_treino_lSvm = matriz_confusao.ravel()\n",
    "\n",
    "tpr_treino_lSvm = tp_treino_lSvm/(tp_treino_lSvm + fp_treino_lSvm)\n",
    "fpr_treino_lSvm = fp_treino_lSvm/(fp_treino_lSvm + tn_treino_lSvm)\n",
    "\n",
    "print(\"Número de erros:\", erros_treino_lSvm)\n",
    "print(\"Precisão: \", precisao_treino_lSvm)\n",
    "\n",
    "disp = ConfusionMatrixDisplay(matriz_confusao)\n",
    "disp.plot()"
   ]
  },
  {
   "cell_type": "code",
   "execution_count": 133,
   "id": "335405a6-f78a-47a2-89c9-2338a818300d",
   "metadata": {},
   "outputs": [
    {
     "name": "stdout",
     "output_type": "stream",
     "text": [
      "Teste\n",
      "Número de erros: 232\n",
      "Precisão:  0.861\n"
     ]
    },
    {
     "data": {
      "text/plain": [
       "<sklearn.metrics._plot.confusion_matrix.ConfusionMatrixDisplay at 0x2173370dd30>"
      ]
     },
     "execution_count": 133,
     "metadata": {},
     "output_type": "execute_result"
    },
    {
     "data": {
      "image/png": "[encoded data removed]",
      "text/plain": [
       "<Figure size 640x480 with 2 Axes>"
      ]
     },
     "metadata": {},
     "output_type": "display_data"
    }
   ],
   "source": [
    "print(\"Teste\")\n",
    "erros_teste_lSvm = np.round(np.sum(y_teste != lSvm_y_teste_e), 3)\n",
    "precisao_teste_lSvm = np.round(accuracy_score(y_teste,lSvm_y_teste_e), 3)\n",
    "matriz_confusao = confusion_matrix(y_teste, lSvm_y_teste_e)\n",
    "tn_teste_lSvm, fp_teste_lSvm, fn_teste_lSvm, tp_teste_lSvm = matriz_confusao.ravel()\n",
    "\n",
    "print(\"Número de erros:\", erros_teste_lSvm)\n",
    "print(\"Precisão: \", precisao_teste_lSvm)\n",
    "\n",
    "tpr_teste_lSvm = tp_teste_lSvm/(tp_teste_lSvm + fp_teste_lSvm)\n",
    "fpr_teste_lSvm = fp_teste_lSvm/(fp_teste_lSvm + tn_teste_lSvm)\n",
    "\n",
    "disp = ConfusionMatrixDisplay(matriz_confusao)\n",
    "disp.plot()"
   ]
  },
  {
   "cell_type": "markdown",
   "id": "b7136b75-e6a5-4f2b-9a32-39f7e41a91e4",
   "metadata": {},
   "source": [
    "# Classificador SVC"
   ]
  },
  {
   "cell_type": "markdown",
   "id": "6da81306",
   "metadata": {},
   "source": [
    "- Resultados sem parametrização do classificador"
   ]
  },
  {
   "cell_type": "code",
   "execution_count": 157,
   "id": "9422e6ea",
   "metadata": {},
   "outputs": [
    {
     "name": "stdout",
     "output_type": "stream",
     "text": [
      "Mean cross-validation accuracy: 0.85\n"
     ]
    }
   ],
   "source": [
    "scores = cross_val_score(SVC(max_iter=5000), corpus_treino_p, y_treino, cv=5)\n",
    "print(\"Mean cross-validation accuracy: {:.2f}\".format(np.mean(scores)))"
   ]
  },
  {
   "cell_type": "markdown",
   "id": "30ccd567-8780-4ee8-a139-3eb1a0ef190a",
   "metadata": {},
   "source": [
    "- Ajuste dos parametros"
   ]
  },
  {
   "cell_type": "code",
   "execution_count": 163,
   "id": "0a5b6903-e620-46ec-96fa-73707954b44e",
   "metadata": {},
   "outputs": [
    {
     "name": "stdout",
     "output_type": "stream",
     "text": [
      "Fitting 3 folds for each of 480 candidates, totalling 1440 fits\n"
     ]
    },
    {
     "data": {
      "text/html": [
       "<style>#sk-container-id-5 {color: black;background-color: white;}#sk-container-id-5 pre{padding: 0;}#sk-container-id-5 div.sk-toggleable {background-color: white;}#sk-container-id-5 label.sk-toggleable__label {cursor: pointer;display: block;width: 100%;margin-bottom: 0;padding: 0.3em;box-sizing: border-box;text-align: center;}#sk-container-id-5 label.sk-toggleable__label-arrow:before {content: \"▸\";float: left;margin-right: 0.25em;color: #696969;}#sk-container-id-5 label.sk-toggleable__label-arrow:hover:before {color: black;}#sk-container-id-5 div.sk-estimator:hover label.sk-toggleable__label-arrow:before {color: black;}#sk-container-id-5 div.sk-toggleable__content {max-height: 0;max-width: 0;overflow: hidden;text-align: left;background-color: #f0f8ff;}#sk-container-id-5 div.sk-toggleable__content pre {margin: 0.2em;color: black;border-radius: 0.25em;background-color: #f0f8ff;}#sk-container-id-5 input.sk-toggleable__control:checked~div.sk-toggleable__content {max-height: 200px;max-width: 100%;overflow: auto;}#sk-container-id-5 input.sk-toggleable__control:checked~label.sk-toggleable__label-arrow:before {content: \"▾\";}#sk-container-id-5 div.sk-estimator input.sk-toggleable__control:checked~label.sk-toggleable__label {background-color: #d4ebff;}#sk-container-id-5 div.sk-label input.sk-toggleable__control:checked~label.sk-toggleable__label {background-color: #d4ebff;}#sk-container-id-5 input.sk-hidden--visually {border: 0;clip: rect(1px 1px 1px 1px);clip: rect(1px, 1px, 1px, 1px);height: 1px;margin: -1px;overflow: hidden;padding: 0;position: absolute;width: 1px;}#sk-container-id-5 div.sk-estimator {font-family: monospace;background-color: #f0f8ff;border: 1px dotted black;border-radius: 0.25em;box-sizing: border-box;margin-bottom: 0.5em;}#sk-container-id-5 div.sk-estimator:hover {background-color: #d4ebff;}#sk-container-id-5 div.sk-parallel-item::after {content: \"\";width: 100%;border-bottom: 1px solid gray;flex-grow: 1;}#sk-container-id-5 div.sk-label:hover label.sk-toggleable__label {background-color: #d4ebff;}#sk-container-id-5 div.sk-serial::before {content: \"\";position: absolute;border-left: 1px solid gray;box-sizing: border-box;top: 0;bottom: 0;left: 50%;z-index: 0;}#sk-container-id-5 div.sk-serial {display: flex;flex-direction: column;align-items: center;background-color: white;padding-right: 0.2em;padding-left: 0.2em;position: relative;}#sk-container-id-5 div.sk-item {position: relative;z-index: 1;}#sk-container-id-5 div.sk-parallel {display: flex;align-items: stretch;justify-content: center;background-color: white;position: relative;}#sk-container-id-5 div.sk-item::before, #sk-container-id-5 div.sk-parallel-item::before {content: \"\";position: absolute;border-left: 1px solid gray;box-sizing: border-box;top: 0;bottom: 0;left: 50%;z-index: -1;}#sk-container-id-5 div.sk-parallel-item {display: flex;flex-direction: column;z-index: 1;position: relative;background-color: white;}#sk-container-id-5 div.sk-parallel-item:first-child::after {align-self: flex-end;width: 50%;}#sk-container-id-5 div.sk-parallel-item:last-child::after {align-self: flex-start;width: 50%;}#sk-container-id-5 div.sk-parallel-item:only-child::after {width: 0;}#sk-container-id-5 div.sk-dashed-wrapped {border: 1px dashed gray;margin: 0 0.4em 0.5em 0.4em;box-sizing: border-box;padding-bottom: 0.4em;background-color: white;}#sk-container-id-5 div.sk-label label {font-family: monospace;font-weight: bold;display: inline-block;line-height: 1.2em;}#sk-container-id-5 div.sk-label-container {text-align: center;}#sk-container-id-5 div.sk-container {/* jupyter's `normalize.less` sets `[hidden] { display: none; }` but bootstrap.min.css set `[hidden] { display: none !important; }` so we also need the `!important` here to be able to override the default hidden behavior on the sphinx rendered scikit-learn.org. See: https://github.com/scikit-learn/scikit-learn/issues/21755 */display: inline-block !important;position: relative;}#sk-container-id-5 div.sk-text-repr-fallback {display: none;}</style><div id=\"sk-container-id-5\" class=\"sk-top-container\"><div class=\"sk-text-repr-fallback\"><pre>GridSearchCV(cv=3, estimator=SVC(max_iter=5000, random_state=42), n_jobs=-1,\n",
       "             param_grid={&#x27;C&#x27;: [0.1, 1, 10, 100],\n",
       "                         &#x27;decision_function_shape&#x27;: [&#x27;ovr&#x27;, &#x27;ovo&#x27;],\n",
       "                         &#x27;degree&#x27;: [1, 2, 3],\n",
       "                         &#x27;gamma&#x27;: [0.001, 0.01, 0.1, 1, 10],\n",
       "                         &#x27;kernel&#x27;: [&#x27;linear&#x27;, &#x27;poly&#x27;, &#x27;rbf&#x27;, &#x27;sigmoid&#x27;]},\n",
       "             verbose=3)</pre><b>In a Jupyter environment, please rerun this cell to show the HTML representation or trust the notebook. <br />On GitHub, the HTML representation is unable to render, please try loading this page with nbviewer.org.</b></div><div class=\"sk-container\" hidden><div class=\"sk-item sk-dashed-wrapped\"><div class=\"sk-label-container\"><div class=\"sk-label sk-toggleable\"><input class=\"sk-toggleable__control sk-hidden--visually\" id=\"sk-estimator-id-13\" type=\"checkbox\" ><label for=\"sk-estimator-id-13\" class=\"sk-toggleable__label sk-toggleable__label-arrow\">GridSearchCV</label><div class=\"sk-toggleable__content\"><pre>GridSearchCV(cv=3, estimator=SVC(max_iter=5000, random_state=42), n_jobs=-1,\n",
       "             param_grid={&#x27;C&#x27;: [0.1, 1, 10, 100],\n",
       "                         &#x27;decision_function_shape&#x27;: [&#x27;ovr&#x27;, &#x27;ovo&#x27;],\n",
       "                         &#x27;degree&#x27;: [1, 2, 3],\n",
       "                         &#x27;gamma&#x27;: [0.001, 0.01, 0.1, 1, 10],\n",
       "                         &#x27;kernel&#x27;: [&#x27;linear&#x27;, &#x27;poly&#x27;, &#x27;rbf&#x27;, &#x27;sigmoid&#x27;]},\n",
       "             verbose=3)</pre></div></div></div><div class=\"sk-parallel\"><div class=\"sk-parallel-item\"><div class=\"sk-item\"><div class=\"sk-label-container\"><div class=\"sk-label sk-toggleable\"><input class=\"sk-toggleable__control sk-hidden--visually\" id=\"sk-estimator-id-14\" type=\"checkbox\" ><label for=\"sk-estimator-id-14\" class=\"sk-toggleable__label sk-toggleable__label-arrow\">estimator: SVC</label><div class=\"sk-toggleable__content\"><pre>SVC(max_iter=5000, random_state=42)</pre></div></div></div><div class=\"sk-serial\"><div class=\"sk-item\"><div class=\"sk-estimator sk-toggleable\"><input class=\"sk-toggleable__control sk-hidden--visually\" id=\"sk-estimator-id-15\" type=\"checkbox\" ><label for=\"sk-estimator-id-15\" class=\"sk-toggleable__label sk-toggleable__label-arrow\">SVC</label><div class=\"sk-toggleable__content\"><pre>SVC(max_iter=5000, random_state=42)</pre></div></div></div></div></div></div></div></div></div></div>"
      ],
      "text/plain": [
       "GridSearchCV(cv=3, estimator=SVC(max_iter=5000, random_state=42), n_jobs=-1,\n",
       "             param_grid={'C': [0.1, 1, 10, 100],\n",
       "                         'decision_function_shape': ['ovr', 'ovo'],\n",
       "                         'degree': [1, 2, 3],\n",
       "                         'gamma': [0.001, 0.01, 0.1, 1, 10],\n",
       "                         'kernel': ['linear', 'poly', 'rbf', 'sigmoid']},\n",
       "             verbose=3)"
      ]
     },
     "execution_count": 163,
     "metadata": {},
     "output_type": "execute_result"
    }
   ],
   "source": [
    "param_grid = {'C': [0.1, 1, 10, 100],\n",
    "            'decision_function_shape': ['ovr', 'ovo'],\n",
    "            'kernel': ['linear', 'poly', 'rbf', 'sigmoid'],\n",
    "            'gamma': [0.001, 0.01, 0.1, 1, 10], \n",
    "            'degree': [1, 2, 3]}\n",
    "\n",
    "grid = GridSearchCV(SVC(max_iter=5000, random_state=42), param_grid, cv=3, verbose=3, n_jobs=-1)\n",
    "grid.fit(corpus_validacao_p, y_validacao)"
   ]
  },
  {
   "cell_type": "code",
   "execution_count": 164,
   "id": "94bdd37d",
   "metadata": {},
   "outputs": [
    {
     "name": "stdout",
     "output_type": "stream",
     "text": [
      "SVC(C=0.1, degree=1, gamma=10, kernel='poly', max_iter=5000, random_state=42)\n"
     ]
    }
   ],
   "source": [
    "print(grid.best_estimator_)"
   ]
  },
  {
   "cell_type": "markdown",
   "id": "735fda7c-d70f-4ff9-9d48-a5a4902039a9",
   "metadata": {},
   "source": [
    "- Treino"
   ]
  },
  {
   "cell_type": "code",
   "execution_count": 166,
   "id": "647d4c21-fb8e-4eea-8355-c1ebd1126bed",
   "metadata": {},
   "outputs": [
    {
     "name": "stdout",
     "output_type": "stream",
     "text": [
      "Score treino: 0.9915991599159916\n"
     ]
    }
   ],
   "source": [
    "svm = SVC(C=0.1, degree=1, gamma=10, kernel='poly', max_iter=5000, random_state=42).fit(corpus_treino_p, y_treino)\n",
    "\n",
    "svm_y_treino_e = svm.predict(corpus_treino_p)\n",
    "print(\"Score treino:\", svm.score(corpus_treino_p, y_treino))"
   ]
  },
  {
   "cell_type": "markdown",
   "id": "c8674cb1-8750-471a-a4db-bad632deb7d1",
   "metadata": {},
   "source": [
    "- Teste e Avaliação"
   ]
  },
  {
   "cell_type": "code",
   "execution_count": 167,
   "id": "fdf9f05d",
   "metadata": {},
   "outputs": [],
   "source": [
    "svm_fpr, svm_tpr, _ = roc_curve(y_teste, svm.decision_function(corpus_teste_p))\n",
    "\n",
    "svm_y_teste_e = svm.predict(corpus_teste_p)"
   ]
  },
  {
   "cell_type": "code",
   "execution_count": 168,
   "id": "6c5fca17",
   "metadata": {},
   "outputs": [
    {
     "name": "stdout",
     "output_type": "stream",
     "text": [
      "Treino\n",
      "Número de erros: 28\n",
      "Precisão:  0.992\n"
     ]
    },
    {
     "data": {
      "text/plain": [
       "<sklearn.metrics._plot.confusion_matrix.ConfusionMatrixDisplay at 0x21733e59c40>"
      ]
     },
     "execution_count": 168,
     "metadata": {},
     "output_type": "execute_result"
    },
    {
     "data": {
      "image/png": "[encoded data removed]",
      "text/plain": [
       "<Figure size 640x480 with 2 Axes>"
      ]
     },
     "metadata": {},
     "output_type": "display_data"
    }
   ],
   "source": [
    "print(\"Treino\")\n",
    "erros_treino_svm = np.round(np.sum(y_treino != svm_y_treino_e), 3)\n",
    "precisao_treino_svm = np.round(accuracy_score(y_treino,svm_y_treino_e), 3)\n",
    "matriz_confusao = confusion_matrix(y_treino, svm_y_treino_e)\n",
    "tn_treino_svm, fp_treino_svm, fn_treino_svm, tp_treino_svm = matriz_confusao.ravel()\n",
    "\n",
    "tpr_treino_svm = tp_treino_svm/(tp_treino_svm + fp_treino_svm)\n",
    "fpr_treino_svm = fp_treino_svm/(fp_treino_svm + tn_treino_svm)\n",
    "\n",
    "print(\"Número de erros:\", erros_treino_svm)\n",
    "print(\"Precisão: \", precisao_treino_svm)\n",
    "\n",
    "disp = ConfusionMatrixDisplay(matriz_confusao)\n",
    "disp.plot()"
   ]
  },
  {
   "cell_type": "code",
   "execution_count": 170,
   "id": "21d6b561",
   "metadata": {
    "scrolled": true
   },
   "outputs": [
    {
     "name": "stdout",
     "output_type": "stream",
     "text": [
      "Teste\n",
      "Número de erros: 232\n",
      "Precisão:  0.861\n"
     ]
    },
    {
     "data": {
      "text/plain": [
       "<sklearn.metrics._plot.confusion_matrix.ConfusionMatrixDisplay at 0x217376ee280>"
      ]
     },
     "execution_count": 170,
     "metadata": {},
     "output_type": "execute_result"
    },
    {
     "data": {
      "image/png": "[encoded data removed]",
      "text/plain": [
       "<Figure size 640x480 with 2 Axes>"
      ]
     },
     "metadata": {},
     "output_type": "display_data"
    }
   ],
   "source": [
    "print(\"Teste\")\n",
    "erros_teste_svm = np.round(np.sum(y_teste != svm_y_teste_e), 3)\n",
    "precisao_teste_svm = np.round(accuracy_score(y_teste,svm_y_teste_e), 3)\n",
    "matriz_confusao = confusion_matrix(y_teste, svm_y_teste_e)\n",
    "tn_teste_svm, fp_teste_svm, fn_teste_svm, tp_teste_svm = matriz_confusao.ravel()\n",
    "\n",
    "print(\"Número de erros:\", erros_teste_svm)\n",
    "print(\"Precisão: \", precisao_teste_svm)\n",
    "\n",
    "tpr_teste_svm = tp_teste_svm/(tp_teste_svm + fp_teste_svm)\n",
    "fpr_teste_svm = fp_teste_svm/(fp_teste_svm + tn_teste_svm)\n",
    "\n",
    "disp = ConfusionMatrixDisplay(matriz_confusao)\n",
    "disp.plot()"
   ]
  },
  {
   "cell_type": "markdown",
   "id": "a20c9e2e",
   "metadata": {},
   "source": [
    "# Classificador NaiveBayes (MultinomialNB)"
   ]
  },
  {
   "cell_type": "markdown",
   "id": "959ce9b9",
   "metadata": {},
   "source": [
    "- Resultados sem parametrização do classificador"
   ]
  },
  {
   "cell_type": "code",
   "execution_count": 176,
   "id": "5b1a87b4",
   "metadata": {},
   "outputs": [
    {
     "name": "stdout",
     "output_type": "stream",
     "text": [
      "Mean cross-validation accuracy: 0.85\n"
     ]
    }
   ],
   "source": [
    "scores = cross_val_score(MultinomialNB(), corpus_treino_p, y_treino, cv=5)\n",
    "print(\"Mean cross-validation accuracy: {:.2f}\".format(np.mean(scores)))"
   ]
  },
  {
   "cell_type": "markdown",
   "id": "8c3e0684",
   "metadata": {},
   "source": [
    "- Ajuste dos parametros"
   ]
  },
  {
   "cell_type": "code",
   "execution_count": 178,
   "id": "2279a96f",
   "metadata": {},
   "outputs": [
    {
     "name": "stdout",
     "output_type": "stream",
     "text": [
      "Fitting 3 folds for each of 5 candidates, totalling 15 fits\n",
      "[CV 1/3] END .........................alpha=0.1;, score=0.790 total time=   0.0s\n",
      "[CV 2/3] END .........................alpha=0.1;, score=0.800 total time=   0.0s\n",
      "[CV 3/3] END .........................alpha=0.1;, score=0.804 total time=   0.0s\n",
      "[CV 1/3] END .........................alpha=0.2;, score=0.804 total time=   0.0s\n",
      "[CV 2/3] END .........................alpha=0.2;, score=0.804 total time=   0.0s\n",
      "[CV 3/3] END .........................alpha=0.2;, score=0.804 total time=   0.0s\n",
      "[CV 1/3] END .........................alpha=0.5;, score=0.793 total time=   0.0s\n",
      "[CV 2/3] END .........................alpha=0.5;, score=0.811 total time=   0.0s\n",
      "[CV 3/3] END .........................alpha=0.5;, score=0.805 total time=   0.0s\n",
      "[CV 1/3] END .........................alpha=0.8;, score=0.800 total time=   0.0s\n",
      "[CV 2/3] END .........................alpha=0.8;, score=0.818 total time=   0.0s\n",
      "[CV 3/3] END .........................alpha=0.8;, score=0.809 total time=   0.0s\n",
      "[CV 1/3] END .........................alpha=0.9;, score=0.799 total time=   0.0s\n",
      "[CV 2/3] END .........................alpha=0.9;, score=0.820 total time=   0.0s\n",
      "[CV 3/3] END .........................alpha=0.9;, score=0.809 total time=   0.0s\n"
     ]
    },
    {
     "data": {
      "text/html": [
       "<style>#sk-container-id-6 {color: black;background-color: white;}#sk-container-id-6 pre{padding: 0;}#sk-container-id-6 div.sk-toggleable {background-color: white;}#sk-container-id-6 label.sk-toggleable__label {cursor: pointer;display: block;width: 100%;margin-bottom: 0;padding: 0.3em;box-sizing: border-box;text-align: center;}#sk-container-id-6 label.sk-toggleable__label-arrow:before {content: \"▸\";float: left;margin-right: 0.25em;color: #696969;}#sk-container-id-6 label.sk-toggleable__label-arrow:hover:before {color: black;}#sk-container-id-6 div.sk-estimator:hover label.sk-toggleable__label-arrow:before {color: black;}#sk-container-id-6 div.sk-toggleable__content {max-height: 0;max-width: 0;overflow: hidden;text-align: left;background-color: #f0f8ff;}#sk-container-id-6 div.sk-toggleable__content pre {margin: 0.2em;color: black;border-radius: 0.25em;background-color: #f0f8ff;}#sk-container-id-6 input.sk-toggleable__control:checked~div.sk-toggleable__content {max-height: 200px;max-width: 100%;overflow: auto;}#sk-container-id-6 input.sk-toggleable__control:checked~label.sk-toggleable__label-arrow:before {content: \"▾\";}#sk-container-id-6 div.sk-estimator input.sk-toggleable__control:checked~label.sk-toggleable__label {background-color: #d4ebff;}#sk-container-id-6 div.sk-label input.sk-toggleable__control:checked~label.sk-toggleable__label {background-color: #d4ebff;}#sk-container-id-6 input.sk-hidden--visually {border: 0;clip: rect(1px 1px 1px 1px);clip: rect(1px, 1px, 1px, 1px);height: 1px;margin: -1px;overflow: hidden;padding: 0;position: absolute;width: 1px;}#sk-container-id-6 div.sk-estimator {font-family: monospace;background-color: #f0f8ff;border: 1px dotted black;border-radius: 0.25em;box-sizing: border-box;margin-bottom: 0.5em;}#sk-container-id-6 div.sk-estimator:hover {background-color: #d4ebff;}#sk-container-id-6 div.sk-parallel-item::after {content: \"\";width: 100%;border-bottom: 1px solid gray;flex-grow: 1;}#sk-container-id-6 div.sk-label:hover label.sk-toggleable__label {background-color: #d4ebff;}#sk-container-id-6 div.sk-serial::before {content: \"\";position: absolute;border-left: 1px solid gray;box-sizing: border-box;top: 0;bottom: 0;left: 50%;z-index: 0;}#sk-container-id-6 div.sk-serial {display: flex;flex-direction: column;align-items: center;background-color: white;padding-right: 0.2em;padding-left: 0.2em;position: relative;}#sk-container-id-6 div.sk-item {position: relative;z-index: 1;}#sk-container-id-6 div.sk-parallel {display: flex;align-items: stretch;justify-content: center;background-color: white;position: relative;}#sk-container-id-6 div.sk-item::before, #sk-container-id-6 div.sk-parallel-item::before {content: \"\";position: absolute;border-left: 1px solid gray;box-sizing: border-box;top: 0;bottom: 0;left: 50%;z-index: -1;}#sk-container-id-6 div.sk-parallel-item {display: flex;flex-direction: column;z-index: 1;position: relative;background-color: white;}#sk-container-id-6 div.sk-parallel-item:first-child::after {align-self: flex-end;width: 50%;}#sk-container-id-6 div.sk-parallel-item:last-child::after {align-self: flex-start;width: 50%;}#sk-container-id-6 div.sk-parallel-item:only-child::after {width: 0;}#sk-container-id-6 div.sk-dashed-wrapped {border: 1px dashed gray;margin: 0 0.4em 0.5em 0.4em;box-sizing: border-box;padding-bottom: 0.4em;background-color: white;}#sk-container-id-6 div.sk-label label {font-family: monospace;font-weight: bold;display: inline-block;line-height: 1.2em;}#sk-container-id-6 div.sk-label-container {text-align: center;}#sk-container-id-6 div.sk-container {/* jupyter's `normalize.less` sets `[hidden] { display: none; }` but bootstrap.min.css set `[hidden] { display: none !important; }` so we also need the `!important` here to be able to override the default hidden behavior on the sphinx rendered scikit-learn.org. See: https://github.com/scikit-learn/scikit-learn/issues/21755 */display: inline-block !important;position: relative;}#sk-container-id-6 div.sk-text-repr-fallback {display: none;}</style><div id=\"sk-container-id-6\" class=\"sk-top-container\"><div class=\"sk-text-repr-fallback\"><pre>GridSearchCV(cv=3, estimator=MultinomialNB(),\n",
       "             param_grid={&#x27;alpha&#x27;: [0.1, 0.2, 0.5, 0.8, 0.9]}, verbose=3)</pre><b>In a Jupyter environment, please rerun this cell to show the HTML representation or trust the notebook. <br />On GitHub, the HTML representation is unable to render, please try loading this page with nbviewer.org.</b></div><div class=\"sk-container\" hidden><div class=\"sk-item sk-dashed-wrapped\"><div class=\"sk-label-container\"><div class=\"sk-label sk-toggleable\"><input class=\"sk-toggleable__control sk-hidden--visually\" id=\"sk-estimator-id-16\" type=\"checkbox\" ><label for=\"sk-estimator-id-16\" class=\"sk-toggleable__label sk-toggleable__label-arrow\">GridSearchCV</label><div class=\"sk-toggleable__content\"><pre>GridSearchCV(cv=3, estimator=MultinomialNB(),\n",
       "             param_grid={&#x27;alpha&#x27;: [0.1, 0.2, 0.5, 0.8, 0.9]}, verbose=3)</pre></div></div></div><div class=\"sk-parallel\"><div class=\"sk-parallel-item\"><div class=\"sk-item\"><div class=\"sk-label-container\"><div class=\"sk-label sk-toggleable\"><input class=\"sk-toggleable__control sk-hidden--visually\" id=\"sk-estimator-id-17\" type=\"checkbox\" ><label for=\"sk-estimator-id-17\" class=\"sk-toggleable__label sk-toggleable__label-arrow\">estimator: MultinomialNB</label><div class=\"sk-toggleable__content\"><pre>MultinomialNB()</pre></div></div></div><div class=\"sk-serial\"><div class=\"sk-item\"><div class=\"sk-estimator sk-toggleable\"><input class=\"sk-toggleable__control sk-hidden--visually\" id=\"sk-estimator-id-18\" type=\"checkbox\" ><label for=\"sk-estimator-id-18\" class=\"sk-toggleable__label sk-toggleable__label-arrow\">MultinomialNB</label><div class=\"sk-toggleable__content\"><pre>MultinomialNB()</pre></div></div></div></div></div></div></div></div></div></div>"
      ],
      "text/plain": [
       "GridSearchCV(cv=3, estimator=MultinomialNB(),\n",
       "             param_grid={'alpha': [0.1, 0.2, 0.5, 0.8, 0.9]}, verbose=3)"
      ]
     },
     "execution_count": 178,
     "metadata": {},
     "output_type": "execute_result"
    }
   ],
   "source": [
    "param_grid = {'alpha': [0.1, 0.2, 0.5, 0.8, 0.9]}\n",
    "\n",
    "grid = GridSearchCV(MultinomialNB(), param_grid, cv=3, verbose=3)\n",
    "grid.fit(corpus_validacao_p, y_validacao)"
   ]
  },
  {
   "cell_type": "code",
   "execution_count": 179,
   "id": "b421faca",
   "metadata": {},
   "outputs": [
    {
     "name": "stdout",
     "output_type": "stream",
     "text": [
      "MultinomialNB(alpha=0.8)\n"
     ]
    }
   ],
   "source": [
    "print(grid.best_estimator_)"
   ]
  },
  {
   "cell_type": "markdown",
   "id": "241c1b24",
   "metadata": {},
   "source": [
    "- Treino"
   ]
  },
  {
   "cell_type": "code",
   "execution_count": 180,
   "id": "6bd3c735",
   "metadata": {},
   "outputs": [
    {
     "name": "stdout",
     "output_type": "stream",
     "text": [
      "Score treino: 0.9702970297029703\n"
     ]
    }
   ],
   "source": [
    "nb = MultinomialNB(alpha=0.8).fit(corpus_treino_p, y_treino)\n",
    "\n",
    "nb_y_treino_e = nb.predict(corpus_treino_p)\n",
    "print(\"Score treino:\", nb.score(corpus_treino_p, y_treino))"
   ]
  },
  {
   "cell_type": "markdown",
   "id": "fe0fdc44",
   "metadata": {},
   "source": [
    "- Teste e Avaliação"
   ]
  },
  {
   "cell_type": "code",
   "execution_count": 182,
   "id": "b5c1d374",
   "metadata": {},
   "outputs": [],
   "source": [
    "nb_fpr, nb_tpr, _ = roc_curve(y_teste, nb.predict_proba(corpus_teste_p)[:,1])\n",
    "\n",
    "nb_y_teste_e = nb.predict(corpus_teste_p)"
   ]
  },
  {
   "cell_type": "code",
   "execution_count": 183,
   "id": "06fffad8",
   "metadata": {},
   "outputs": [
    {
     "name": "stdout",
     "output_type": "stream",
     "text": [
      "Treino\n",
      "Número de erros: 99\n",
      "Precisão:  0.97\n"
     ]
    },
    {
     "data": {
      "text/plain": [
       "<sklearn.metrics._plot.confusion_matrix.ConfusionMatrixDisplay at 0x2173476c6a0>"
      ]
     },
     "execution_count": 183,
     "metadata": {},
     "output_type": "execute_result"
    },
    {
     "data": {
      "image/png": "[encoded data removed]",
      "text/plain": [
       "<Figure size 640x480 with 2 Axes>"
      ]
     },
     "metadata": {},
     "output_type": "display_data"
    }
   ],
   "source": [
    "print(\"Treino\")\n",
    "erros_treino_nb = np.round(np.sum(y_treino != nb_y_treino_e), 3)\n",
    "precisao_treino_nb = np.round(accuracy_score(y_treino,nb_y_treino_e), 3)\n",
    "matriz_confusao = confusion_matrix(y_treino, nb_y_treino_e)\n",
    "tn_treino_nb, fp_treino_nb, fn_treino_nb, tp_treino_nb = matriz_confusao.ravel()\n",
    "\n",
    "tpr_treino_nb = tp_treino_nb/(tp_treino_nb + fp_treino_nb)\n",
    "fpr_treino_nb = fp_treino_nb/(fp_treino_nb + tn_treino_nb)\n",
    "\n",
    "print(\"Número de erros:\", erros_treino_nb)\n",
    "print(\"Precisão: \", precisao_treino_nb)\n",
    "\n",
    "disp = ConfusionMatrixDisplay(matriz_confusao)\n",
    "disp.plot()"
   ]
  },
  {
   "cell_type": "code",
   "execution_count": 184,
   "id": "5b4e3f7d",
   "metadata": {
    "scrolled": true
   },
   "outputs": [
    {
     "name": "stdout",
     "output_type": "stream",
     "text": [
      "Teste\n",
      "Número de erros: 268\n",
      "Precisão:  0.839\n"
     ]
    },
    {
     "data": {
      "text/plain": [
       "<sklearn.metrics._plot.confusion_matrix.ConfusionMatrixDisplay at 0x2173791e040>"
      ]
     },
     "execution_count": 184,
     "metadata": {},
     "output_type": "execute_result"
    },
    {
     "data": {
      "image/png": "[encoded data removed]",
      "text/plain": [
       "<Figure size 640x480 with 2 Axes>"
      ]
     },
     "metadata": {},
     "output_type": "display_data"
    }
   ],
   "source": [
    "print(\"Teste\")\n",
    "erros_teste_nb = np.round(np.sum(y_teste != nb_y_teste_e), 3)\n",
    "precisao_teste_nb = np.round(accuracy_score(y_teste,nb_y_teste_e), 3)\n",
    "matriz_confusao = confusion_matrix(y_teste, nb_y_teste_e)\n",
    "tn_teste_nb, fp_teste_nb, fn_teste_nb, tp_teste_nb = matriz_confusao.ravel()\n",
    "\n",
    "print(\"Número de erros:\", erros_teste_nb)\n",
    "print(\"Precisão: \", precisao_teste_nb)\n",
    "\n",
    "tpr_teste_nb = tp_teste_nb/(tp_teste_nb + fp_teste_nb)\n",
    "fpr_teste_nb = fp_teste_nb/(fp_teste_nb + tn_teste_nb)\n",
    "\n",
    "disp = ConfusionMatrixDisplay(matriz_confusao)\n",
    "disp.plot()"
   ]
  },
  {
   "cell_type": "code",
   "execution_count": null,
   "id": "70d3719e-d87b-4674-8b4b-669654615465",
   "metadata": {},
   "outputs": [],
   "source": []
  },
  {
   "cell_type": "code",
   "execution_count": null,
   "id": "2baa8a68-a28f-4267-a15d-571f5d685866",
   "metadata": {},
   "outputs": [],
   "source": []
  },
  {
   "cell_type": "markdown",
   "id": "8fdaf15f",
   "metadata": {},
   "source": [
    "## Comparação dos Classificadores"
   ]
  },
  {
   "cell_type": "code",
   "execution_count": 185,
   "id": "f226cbc2",
   "metadata": {},
   "outputs": [
    {
     "name": "stdout",
     "output_type": "stream",
     "text": [
      "Resultados do Treino: \n",
      "\n",
      "__LogisticRegression: \n",
      "* Número de Erros: 1 / 5000 documentos\n",
      "* Prob. de Erro:  0.0 %\n",
      "* Precisão: 1.0\n",
      "\n",
      "__LinearSVC: \n",
      "* Número de Erros: 28 / 5000 documentos\n",
      "* Prob. de Erro:  0.006 %\n",
      "* Precisão: 0.992\n",
      "\n",
      "__SVC: \n",
      "* Número de Erros: 28 / 5000 documentos\n",
      "* Prob. de Erro:  0.006 %\n",
      "* Precisão: 0.992\n",
      "\n",
      "__Naive Bayes: \n",
      "* Número de Erros: 99 / 5000 documentos\n",
      "* Prob. de Erro:  0.02 %\n",
      "* Precisão: 0.97\n"
     ]
    }
   ],
   "source": [
    "print(\"Resultados do Treino: \")\n",
    "print(\"\\n__LogisticRegression: \")\n",
    "print(\"* Número de Erros:\", erros_treino_lr, \"/\", nDocs, \"documentos\")\n",
    "print(\"* Prob. de Erro: \", np.round(erros_treino_lr/nDocs, 3), \"%\")\n",
    "print(\"* Precisão:\", precisao_treino_lr)\n",
    "\n",
    "print(\"\\n__LinearSVC: \")\n",
    "print(\"* Número de Erros:\", erros_treino_lSvm, \"/\", nDocs, \"documentos\")\n",
    "print(\"* Prob. de Erro: \", np.round(erros_treino_lSvm/nDocs, 3), \"%\")\n",
    "print(\"* Precisão:\", precisao_treino_lSvm)\n",
    "\n",
    "print(\"\\n__SVC: \")\n",
    "print(\"* Número de Erros:\", erros_treino_svm, \"/\", nDocs, \"documentos\")\n",
    "print(\"* Prob. de Erro: \", np.round(erros_treino_svm/nDocs, 3), \"%\")\n",
    "print(\"* Precisão:\", precisao_treino_svm)\n",
    "\n",
    "print(\"\\n__Naive Bayes: \")\n",
    "print(\"* Número de Erros:\", erros_treino_nb, \"/\", nDocs, \"documentos\")\n",
    "print(\"* Prob. de Erro: \", np.round(erros_treino_nb/nDocs, 3), \"%\")\n",
    "print(\"* Precisão:\", precisao_treino_nb)"
   ]
  },
  {
   "cell_type": "code",
   "execution_count": 186,
   "id": "978865bf",
   "metadata": {},
   "outputs": [
    {
     "name": "stdout",
     "output_type": "stream",
     "text": [
      "Resultados do Teste: \n",
      "\n",
      "__LogisticRegression: \n",
      "* Número de Erros: 238 / 5000 documentos\n",
      "* Prob. de Erro:  0.048 %\n",
      "* Precisão: 0.857\n",
      "\n",
      "__LinearSVC: \n",
      "* Número de Erros: 232 / 5000 documentos\n",
      "* Prob. de Erro:  0.046 %\n",
      "* Precisão: 0.861\n",
      "\n",
      "__SVC: \n",
      "* Número de Erros: 232 / 5000 documentos\n",
      "* Prob. de Erro:  0.046 %\n",
      "* Precisão: 0.861\n",
      "\n",
      "__Naive Bayes: \n",
      "* Número de Erros: 268 / 5000 documentos\n",
      "* Prob. de Erro:  0.054 %\n",
      "* Precisão: 0.839\n"
     ]
    }
   ],
   "source": [
    "print(\"Resultados do Teste: \")\n",
    "print(\"\\n__LogisticRegression: \")\n",
    "print(\"* Número de Erros:\", erros_teste_lr, \"/\", nDocs, \"documentos\")\n",
    "print(\"* Prob. de Erro: \", np.round(erros_teste_lr/nDocs, 3), \"%\")\n",
    "print(\"* Precisão:\", precisao_teste_lr)\n",
    "\n",
    "print(\"\\n__LinearSVC: \")\n",
    "print(\"* Número de Erros:\", erros_teste_lSvm, \"/\", nDocs, \"documentos\")\n",
    "print(\"* Prob. de Erro: \", np.round(erros_teste_lSvm/nDocs, 3), \"%\")\n",
    "print(\"* Precisão:\", precisao_teste_lSvm)\n",
    "\n",
    "print(\"\\n__SVC: \")\n",
    "print(\"* Número de Erros:\", erros_teste_svm, \"/\", nDocs, \"documentos\")\n",
    "print(\"* Prob. de Erro: \", np.round(erros_teste_svm/nDocs, 3), \"%\")\n",
    "print(\"* Precisão:\", precisao_teste_svm)\n",
    "\n",
    "print(\"\\n__Naive Bayes: \")\n",
    "print(\"* Número de Erros:\", erros_teste_nb, \"/\", nDocs, \"documentos\")\n",
    "print(\"* Prob. de Erro: \", np.round(erros_teste_nb/nDocs, 3), \"%\")\n",
    "print(\"* Precisão:\", precisao_teste_nb)"
   ]
  },
  {
   "cell_type": "code",
   "execution_count": 187,
   "id": "c45528bc",
   "metadata": {},
   "outputs": [
    {
     "data": {
      "text/plain": [
       "<matplotlib.legend.Legend at 0x21734336460>"
      ]
     },
     "execution_count": 187,
     "metadata": {},
     "output_type": "execute_result"
    },
    {
     "data": {
      "image/png": "[encoded data removed]",
      "text/plain": [
       "<Figure size 640x480 with 1 Axes>"
      ]
     },
     "metadata": {},
     "output_type": "display_data"
    }
   ],
   "source": [
    "plt.figure()\n",
    "plt.title(\"ROC Curve\")\n",
    "plt.plot(lr_fpr, lr_tpr, label=\"LogisticRegression\", color='blue')\n",
    "plt.plot(fpr_teste_lr, tpr_teste_lr, \"*\", color='blue')\n",
    "plt.plot(lSvm_fpr, lSvm_tpr, label=\"LinearSVC\", color='orange')\n",
    "plt.plot(fpr_teste_lSvm, tpr_teste_lSvm, \"*\", color='orange')\n",
    "plt.plot(svm_fpr, svm_tpr, label=\"SVC\", color='red')\n",
    "plt.plot(fpr_teste_svm, tpr_teste_svm, \"*\", color='red')\n",
    "plt.plot(nb_fpr, nb_tpr, label=\"Naive Bayes\", color='yellow')\n",
    "plt.plot(fpr_teste_nb, tpr_teste_nb, \"*\", color='yellow')\n",
    "plt.xlabel(\"FPR\")\n",
    "plt.ylabel(\"TPR (recall)\")\n",
    "plt.axis('scaled')\n",
    "plt.legend()"
   ]
  }
 ],
 "metadata": {
  "kernelspec": {
   "display_name": "Python 3 (ipykernel)",
   "language": "python",
   "name": "python3"
  },
  "language_info": {
   "codemirror_mode": {
    "name": "ipython",
    "version": 3
   },
   "file_extension": ".py",
   "mimetype": "text/x-python",
   "name": "python",
   "nbconvert_exporter": "python",
   "pygments_lexer": "ipython3",
   "version": "3.8.11"
  }
 },
 "nbformat": 4,
 "nbformat_minor": 5
}
