{
 "cells": [
  {
   "cell_type": "markdown",
   "metadata": {},
   "source": [
    "# LAB5 e Texto"
   ]
  },
  {
   "cell_type": "markdown",
   "metadata": {},
   "source": [
    "<hr style=\"border:1px  solid black\"> </hr>"
   ]
  },
  {
   "cell_type": "markdown",
   "metadata": {},
   "source": [
    "### (Preencher)\n",
    "## Nome: \n",
    "## Número: "
   ]
  },
  {
   "cell_type": "markdown",
   "metadata": {},
   "source": [
    "<hr style=\"border:1px  solid black\"> </hr>"
   ]
  },
  {
   "cell_type": "markdown",
   "metadata": {},
   "source": [
    "## Desenvolva e corra o código pedido nas células imediatamente abaixo das perguntas."
   ]
  },
  {
   "cell_type": "markdown",
   "metadata": {},
   "source": [
    "# IMPORTANTE:\n",
    "## Uma vez completado, grave este Jupyter notebook com o seguinte nome:\n",
    "## Axxxxx-Lab5.ipynb (Axxxxx: número de aluno)\n",
    "##  e depois submeta o ficheiro no link do Moodle providenciado para o efeito."
   ]
  },
  {
   "cell_type": "markdown",
   "metadata": {},
   "source": [
    "<hr style=\"border:2px solid black\"> </hr>"
   ]
  },
  {
   "cell_type": "markdown",
   "metadata": {},
   "source": [
    "## Considere o ficheiro pickle $\\texttt{Lab5Data.p}$\n",
    "### Neste ficheiro encontra-se um dicionário de Python com as seguintes variáveis:\n",
    "### 1. \"X\":             dados bi-dimensionais (1500 amostras)\n",
    "### 2. \"y\":              classe dos dados (3 classes, inteiros de 0 a 2)\n",
    "### 3. \"foldTrain\": array boleano indicando os dados a serem usados para treinar os classificadores\n",
    "### 3. \"foldTest\": array boleano indicando os dados a serem usados para testar os classificadores\n"
   ]
  },
  {
   "cell_type": "markdown",
   "metadata": {},
   "source": [
    "# Pergunta 1 - SVMs:\n",
    "## i. Use os dados de treino para treinar uma máquina de suporte vetorial (SVM) para classificar os dados. Não especifique nenhum parâmetro ao declarar o classificador (ex: $\\texttt{svm=SVC()}$). Classifique os dados de treino e de teste. Imprima o número total de erros e as matrizes de confusão para o treino e teste.\n",
    "## ii. Repita a alínea anterior especificando o kernel RBF, e fazendo uma pesquisa em grelha (usando a função $\\texttt{GridSearchCV}$, com o número de folds igual a 3 (três), para os parâmetros $\\texttt{C}$ e $\\texttt{gamma}$. Use os seguintes valores: $\\texttt{C}=\\{0.1,1,10,20\\}$ e $\\texttt{gamma}=\\{0.01,0.1,1\\}$. Imprima os valores dos parâmetros que obtiveram os melhores resultados.\n",
    "## iii. Use os dados de treino para treinar uma máquina de suporte vetorial (SVM) com um kernel RBF e com os valores de $\\texttt{C}$ e $\\texttt{gamma}$ que obtiveram os melhores resultados na alínea anterior. Classifique os dados de treino e de teste. Imprima o número total de erros e as matrizes de confusão para o treino e teste.\n",
    "## iv. Faça um \"plot\" dos dados de teste por classe, e dos erros do classificador SVM."
   ]
  },
  {
   "cell_type": "code",
   "execution_count": 29,
   "metadata": {},
   "outputs": [
    {
     "name": "stdout",
     "output_type": "stream",
     "text": [
      "dict_keys(['X', 'y', 'foldTrain', 'foldTest'])\n"
     ]
    }
   ],
   "source": [
    "import numpy as np\n",
    "import matplotlib.pyplot as plt\n",
    "import pickle\n",
    "from sklearn.metrics import confusion_matrix\n",
    "from sklearn.svm import SVC\n",
    "D=pickle.load(open('Lab5Data.p','rb'))\n",
    "print(D.keys())\n",
    "svm=SVC()"
   ]
  },
  {
   "cell_type": "markdown",
   "metadata": {},
   "source": [
    "<hr style=\"border:2px solid black\"> </hr>"
   ]
  },
  {
   "cell_type": "markdown",
   "metadata": {},
   "source": [
    "# Pergunta 2 - Dados de texto $\\texttt{melville-moby_dick.txt}$:\n",
    "## i. Considere os documentos da lista \"$\\texttt{Docs}$\" (obtidos a partir do texto de Moby Dick).  Limpe cada documento de modo a só conterem caracteres alfabéticos. \n",
    "## ii. Faça a representação tf-idf dos documentos limpos. Use só os seguintes parâmetros: $\\texttt{min_df=3}$ e $\\texttt{token_pattern=r'\\b\\w\\w\\w\\w+\\b'}$\n",
    "## iii. Liste as 100 palavras (tokens) do vocabulário mais representativas.\n",
    "## iv.  Liste as 100 palavras do vocabulário que aparecem no maior número de documentos."
   ]
  },
  {
   "cell_type": "code",
   "execution_count": 90,
   "metadata": {},
   "outputs": [
    {
     "name": "stdout",
     "output_type": "stream",
     "text": [
      "[Moby Dick by Herman Melville 1851]\n",
      "\n",
      "\n",
      "ETYMOLOGY.\n",
      "\n",
      "(Supplied by a Late Consumptive Usher to a Grammar School)\n",
      "\n",
      "The pale Usher--threadbare in coat, heart, body, and brain; I see him\n",
      "now.  He was ever dusting his old lexicons and grammars, with a queer\n",
      "handkerchief, mockingly embellished with all the gay flags of all the\n",
      "known nations of the world.  He loved to dust his old grammars; it\n",
      "somehow mildly reminded him of his mortality.\n",
      "\n",
      "\"While you take in hand to school others, and to teach them by what\n",
      "name a whale-fish is to be called in our tongue leaving out, through\n",
      "ignorance, the letter H, which almost alone maketh the signification\n",
      "of the word, you deliver that which is not true.\" --HACKLUYT\n",
      "\n",
      "\"WHALE. ... Sw. and Dan. HVAL.  This animal is named from roundness\n",
      "or rolling; for in Dan. HVALT is arched or vaulted.\" --WEBSTER'S\n",
      "DICTIONARY\n",
      "\n",
      "\"WHALE. ... It is more immediately from the Dut. and Ger. WALLEN;\n",
      "A.S. WALW-IAN, to roll, to wallow.\" --RICHARDSON'S DICTIONARY\n",
      "\n",
      "KETOS,               GREEK.\n",
      "CETUS,               LATIN.\n",
      "WHOEL,               ANGLO-SAXON.\n",
      "HVALT,               DANISH.\n",
      "WAL,                 DUTCH.\n",
      "HWAL,                SWEDISH.\n",
      "WHALE,               ICELANDIC.\n",
      "WHALE,               ENGLISH.\n",
      "BALEINE,             FRENCH.\n",
      "BALLENA,             SPANISH.\n",
      "PEKEE-NUEE-NUEE,     FEGEE.\n",
      "PEKEE-NUEE-NUEE,     ERROMANGOAN.\n",
      "\n",
      "\n",
      "\n",
      "\n",
      "EXTRACTS (Supplied by a Sub-Sub-Librarian).\n",
      "\n",
      "It will be seen that this mere painstaking burrower and grub-worm of\n",
      "a poor devil of a Sub-Sub appears to have gone\n"
     ]
    }
   ],
   "source": [
    "f=open('melville-moby_dick.txt','r')\n",
    "book=f.read()\n",
    "print(book[:1500])\n",
    "bL=book.split('\\n\\n')\n",
    "lc=[len(k) for k in bL]\n",
    "Docs=[bL[k] for k in range(len(bL)) if lc[k]>100]\n",
    "Docs=[d.replace('\\n',' ') for d in Docs]"
   ]
  }
 ],
 "metadata": {
  "kernelspec": {
   "display_name": "Python 3",
   "language": "python",
   "name": "python3"
  },
  "language_info": {
   "codemirror_mode": {
    "name": "ipython",
    "version": 3
   },
   "file_extension": ".py",
   "mimetype": "text/x-python",
   "name": "python",
   "nbconvert_exporter": "python",
   "pygments_lexer": "ipython3",
   "version": "3.6.9"
  }
 },
 "nbformat": 4,
 "nbformat_minor": 4
}
