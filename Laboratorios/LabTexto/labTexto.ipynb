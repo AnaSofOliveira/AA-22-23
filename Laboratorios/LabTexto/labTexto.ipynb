{
 "cells": [
  {
   "cell_type": "code",
   "execution_count": null,
   "metadata": {},
   "outputs": [],
   "source": [
    "# Converter texto em vetores\n",
    "\n",
    "\n"
   ]
  }
 ],
 "metadata": {
  "kernelspec": {
   "display_name": "Python 3.8.11 ('base')",
   "language": "python",
   "name": "python3"
  },
  "language_info": {
   "name": "python",
   "version": "3.8.11"
  },
  "orig_nbformat": 4,
  "vscode": {
   "interpreter": {
    "hash": "4b40f68814b93475b29075cb0adeb1712a4387a9e06914676246b503f1ae483b"
   }
  }
 },
 "nbformat": 4,
 "nbformat_minor": 2
}
