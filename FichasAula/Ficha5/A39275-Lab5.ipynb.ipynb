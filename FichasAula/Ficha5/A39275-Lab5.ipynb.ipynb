{
 "cells": [
  {
   "cell_type": "markdown",
   "metadata": {},
   "source": [
    "# LAb5: Generalização de modelos lineares"
   ]
  },
  {
   "cell_type": "markdown",
   "metadata": {},
   "source": [
    "<hr style=\"border:1px  solid black\"> </hr>"
   ]
  },
  {
   "attachments": {},
   "cell_type": "markdown",
   "metadata": {},
   "source": [
    "### (Preencher)\n",
    "## Nome: Ana Sofia Preto Oliveira   \n",
    "## Número: 39275"
   ]
  },
  {
   "cell_type": "markdown",
   "metadata": {},
   "source": [
    "<hr style=\"border:1px  solid black\"> </hr>"
   ]
  },
  {
   "cell_type": "markdown",
   "metadata": {},
   "source": [
    "## Desenvolva e corra o código pedido nas células imediatamente abaixo das perguntas."
   ]
  },
  {
   "cell_type": "markdown",
   "metadata": {},
   "source": [
    "# IMPORTANTE:\n",
    "## Uma vez completado, grave este Jupyter notebook com o seguinte nome:\n",
    "## Axxxxx-Lab5.ipynb (Axxxxx: número de aluno)\n",
    "##  e depois submeta o ficheiro no link do Moodle providenciado para o efeito."
   ]
  },
  {
   "cell_type": "markdown",
   "metadata": {},
   "source": [
    "<hr style=\"border:2px solid black\"> </hr>"
   ]
  },
  {
   "cell_type": "markdown",
   "metadata": {},
   "source": [
    "# Dados: $\\texttt{breast_cancer}$ dataset do $\\texttt{sklearn}$\n",
    "### Considere os dados do $\\texttt{breast_cancer}$ dataset do $\\texttt{sklearn}$, divididos em três conjuntos, treino/validação/teste, segundo os comandos da próxima célula.\n",
    "* ### X1a: dados de treino (array de $319\\times30$)\n",
    "* ### y1a: classe do dados de treino\n",
    "* ### X1b: dados de validação (array de $100\\times30$)\n",
    "* ### y1b: classe do dados de validação\n",
    "* ### X2: dados de treino (array de $150\\times30$)\n",
    "* ### y2: classe do dados de teste"
   ]
  },
  {
   "cell_type": "code",
   "execution_count": 151,
   "metadata": {},
   "outputs": [],
   "source": [
    "import numpy as np\n",
    "import matplotlib.pyplot as plt\n",
    "from sklearn.metrics import confusion_matrix, roc_curve\n",
    "from sklearn.model_selection import  train_test_split\n",
    "import sklearn.datasets as DT\n",
    "from sklearn.svm import SVC\n",
    "from sklearn.linear_model import LogisticRegression\n",
    "\n",
    "D=DT.load_breast_cancer()\n",
    "X=D.data\n",
    "y=D.target\n",
    "\n",
    "################################################################\n",
    "#ATENÇÃO: Considerar os casos malígnos como positivos (classe 1)\n",
    "#Necessário inverter classes\n",
    "y=np.abs(y-1)\n",
    "################################################################\n",
    "\n",
    "#divitir em treino, validação e teste\n",
    "X1,X2,y1,y2=train_test_split(X,y,test_size=150,stratify=y,random_state=42)\n",
    "X1a,X1b,y1a,y1b=train_test_split(X1,y1,test_size=100,stratify=y1,random_state=42)"
   ]
  },
  {
   "attachments": {},
   "cell_type": "markdown",
   "metadata": {},
   "source": [
    "# Pergunta 1: Discriminantes logístico\n",
    "##  Considere um discriminante logístico com regularização $\\ell\\_1$ (lasso) e com os parâmetros $\\texttt{C=2}$, $\\texttt{solver='saga'}$ e $\\texttt{max\\_iter=5000}$. Treine o classificador com os conjuntos de treino e validação (419 exemplos).\n",
    "### a) Imprima o número total de erros e matriz de confusão (não normalizada) deste classificador para o conjunto de teste.\n",
    "### b) Imprima o índice e os nomes (feature names) das dimensões dos dados que não interferem no processo de classificação (dimensões descartadas).\n",
    "### c) Calibre este classificador de maneira a ter um número máximo de falsos negativos no teste inferior o igual a 5, e ao mesmo tempo mantendo o número total de erros igual à da alínea 1.a).\n",
    "### d) Faça um plot da curva ROC deste classificador com os dados de teste. Inclua nesse plot o ponto operacional dos classificadores da alínea 1.a) e 1.c)."
   ]
  },
  {
   "cell_type": "markdown",
   "metadata": {},
   "source": [
    "## 1.a)"
   ]
  },
  {
   "cell_type": "code",
   "execution_count": 159,
   "metadata": {},
   "outputs": [
    {
     "name": "stdout",
     "output_type": "stream",
     "text": [
      "Número de erros: 12\n",
      "Matriz de confusão: \n",
      "[[93  1]\n",
      " [11 45]]\n"
     ]
    }
   ],
   "source": [
    "treino_validacao = np.vstack((X1a, X1b))\n",
    "y_treino_validacao = np.hstack((y1a, y1b))\n",
    "\n",
    "# print(treino_validacao.shape, y_treino_validacao.shape)\n",
    "\n",
    "# penalty=Lasso (l1), C=2, solver='saga', max_iter=5000\n",
    "lr = LogisticRegression(penalty='l1', C=2, solver='saga', max_iter=5000).fit(treino_validacao, y_treino_validacao)\n",
    "y2e = lr.predict(X2)\n",
    "\n",
    "CM = confusion_matrix(y2, y2e)\n",
    "\n",
    "true_positive = CM[1][1]\n",
    "true_negative = CM[0][0]\n",
    "false_positive = CM[0][1]\n",
    "false_negative = CM[1][0]\n",
    "\n",
    "# print(\"true_positive {}\".format(true_positive))\n",
    "# print(\"true_negative {}\".format(true_negative))\n",
    "# print(\"false_positive {}\".format(false_positive))\n",
    "# print(\"false_negative {}\".format(false_negative))\n",
    "\n",
    "true_pos_rate_1 = true_positive/(true_positive+false_negative)\n",
    "false_pos_rate_1 = false_positive/(false_positive+true_negative)\n",
    "\n",
    "print(\"Número de erros: {}\".format(np.sum(y2 != y2e)))\n",
    "print(\"Matriz de confusão: \\n{}\".format(CM))"
   ]
  },
  {
   "cell_type": "markdown",
   "metadata": {},
   "source": [
    "## 1.b)"
   ]
  },
  {
   "cell_type": "code",
   "execution_count": 153,
   "metadata": {},
   "outputs": [
    {
     "name": "stdout",
     "output_type": "stream",
     "text": [
      "Indices das features descartadas: [ 4  9 10 14 15 16 17 18 19 24 29]\n",
      "Features descartadas:  ['mean smoothness' 'mean fractal dimension' 'radius error'\n",
      " 'smoothness error' 'compactness error' 'concavity error'\n",
      " 'concave points error' 'symmetry error' 'fractal dimension error'\n",
      " 'worst smoothness' 'worst fractal dimension']\n"
     ]
    }
   ],
   "source": [
    "features_names = D.feature_names\n",
    "\n",
    "w = lr.coef_.squeeze()\n",
    "\n",
    "print(\"Indices das features descartadas:\", np.argwhere(w==0).squeeze())\n",
    "print(\"Features descartadas: \", features_names[w==0])\n"
   ]
  },
  {
   "cell_type": "markdown",
   "metadata": {},
   "source": [
    "## 1.c)"
   ]
  },
  {
   "cell_type": "code",
   "execution_count": 160,
   "metadata": {},
   "outputs": [
    {
     "name": "stdout",
     "output_type": "stream",
     "text": [
      "Número de erros: 7\n",
      "Matriz de confusão: \n",
      "[[92  2]\n",
      " [ 5 51]]\n"
     ]
    }
   ],
   "source": [
    "lr2 = LogisticRegression(penalty='l1', C=10, solver='liblinear', max_iter=5000).fit(treino_validacao, y_treino_validacao.T)\n",
    "y2e = lr2.predict(X2)\n",
    "\n",
    "CM = confusion_matrix(y2, y2e)\n",
    "\n",
    "true_positive = CM[1][1]\n",
    "true_negative = CM[0][0]\n",
    "false_positive = CM[0][1]\n",
    "false_negative = CM[1][0]\n",
    "\n",
    "# print(\"true_positive {}\".format(true_positive))\n",
    "# print(\"true_negative {}\".format(true_negative))\n",
    "# print(\"false_positive {}\".format(false_positive))\n",
    "# print(\"false_negative {}\".format(false_negative))\n",
    "\n",
    "true_pos_rate_2 = true_positive/(true_positive+false_negative)\n",
    "false_pos_rate_2 = false_positive/(false_positive+true_negative)\n",
    "\n",
    "print(\"Número de erros: {}\".format(np.sum(y2 != y2e)))\n",
    "print(\"Matriz de confusão: \\n{}\".format(CM))\n",
    "\n"
   ]
  },
  {
   "cell_type": "markdown",
   "metadata": {},
   "source": [
    "## 1.d)"
   ]
  },
  {
   "cell_type": "code",
   "execution_count": 161,
   "metadata": {},
   "outputs": [
    {
     "data": {
      "text/plain": [
       "(-0.05, 1.05, -0.05, 1.05)"
      ]
     },
     "execution_count": 161,
     "metadata": {},
     "output_type": "execute_result"
    },
    {
     "data": {
      "image/png": "[encoded data removed]",
      "text/plain": [
       "<Figure size 640x480 with 1 Axes>"
      ]
     },
     "metadata": {},
     "output_type": "display_data"
    }
   ],
   "source": [
    "fpr, tpr, thresholds = roc_curve(y2, lr2.predict_proba(X2)[:, 1])\n",
    "\n",
    "plt.figure()\n",
    "plt.title(\"Curva ROC - Discriminante Logistico\")\n",
    "plt.plot(fpr, tpr, '--k')\n",
    "plt.plot(false_pos_rate_1, true_pos_rate_1, '.g', ms=10)\n",
    "plt.plot(false_pos_rate_2, true_pos_rate_2, '*b', ms=10)\n",
    "plt.xlabel(\"FPR\")\n",
    "plt.ylabel(\"TPR (recall)\")\n",
    "plt.axis(\"scaled\")\n"
   ]
  },
  {
   "cell_type": "markdown",
   "metadata": {},
   "source": [
    "<hr style=\"border:2px solid black\"> </hr>"
   ]
  },
  {
   "cell_type": "markdown",
   "metadata": {},
   "source": [
    "# Pergunta 2 - SVMs:\n",
    "## Considere o classificador da função $\\texttt{SVC}$ com os parâmetros $\\texttt{kernel='rbf'}$ e $\\texttt{C=2}$.\n",
    "### a) Faça um pré-processamento dos dados usando a função $\\texttt{StandardScaler}$. Treine esta função com os dados treino e aplique a transformação aos três conjuntos (treino, validação e teste). Use os dados pré-processados nas alíneas seguintes.\n",
    "### b) Pertende-se estimar o valor do parâmetro $\\texttt{gamma}$  ($\\gamma$) mais adequado para este problema. Para tal, use o conjunto de validação para achar o valor de $\\gamma$ que resulta no menor número de erros (treine o $\\texttt{SVC}$ com o conjunto de treino). Teste os seguintes valores de $\\gamma$: $[0.005 , 0.0075, 0.01  , 0.0125, 0.015 , 0.0175]$.\n",
    "### c) Volte a treinar o classificador $\\texttt{SVC}$ com os dados de treino e validação, e com o melhor valor de $\\gamma$. Faça um plot da curva ROC deste classificador com os dados de teste. Inclua nesse plot o ponto operacional do classificadore. \n",
    "### d)  Calibre o classificador da alínea anterior de modo a obter zero (0) falsos negativos nos dados de teste. Após a calibração qual o número mínimo de falso positivos obtidos no teste?"
   ]
  },
  {
   "cell_type": "markdown",
   "metadata": {},
   "source": [
    "## 2.a)"
   ]
  },
  {
   "cell_type": "code",
   "execution_count": 162,
   "metadata": {},
   "outputs": [],
   "source": [
    "from sklearn.preprocessing import StandardScaler\n",
    "\n",
    "sc = StandardScaler().fit(X1a)\n",
    "X1a_n = sc.transform(X1a)\n",
    "X1b_n = sc.transform(X1b)\n",
    "X2_n = sc.transform(X2)"
   ]
  },
  {
   "cell_type": "markdown",
   "metadata": {},
   "source": [
    "## 2.b)"
   ]
  },
  {
   "cell_type": "code",
   "execution_count": 191,
   "metadata": {},
   "outputs": [
    {
     "name": "stdout",
     "output_type": "stream",
     "text": [
      "Best estimator:  SVC(C=2, gamma=0.01)\n",
      "Número de erros:  1\n"
     ]
    }
   ],
   "source": [
    "from sklearn.model_selection import GridSearchCV\n",
    "\n",
    "svm=SVC(kernel='rbf',C=2)\n",
    "# Gamma=np.arange(0.0050,0.02,0.0025)\n",
    "\n",
    "gamma = [0.005 , 0.0075, 0.01  , 0.0125, 0.015 , 0.0175]\n",
    "\n",
    "param_grid = {'gamma': gamma}\n",
    "grid = GridSearchCV(svm, param_grid, cv=3).fit(X1a_n, y1a)\n",
    "print(\"Best estimator: \", grid.best_estimator_)\n",
    "\n",
    "\n",
    "y1b_e = grid.best_estimator_.predict(X1b_n)\n",
    "print(\"Número de erros: \", np.sum(y1b != y1b_e))\n",
    "CM = confusion_matrix(y1b, y1b_e)\n",
    "\n",
    "true_positive = CM[1][1]\n",
    "true_negative = CM[0][0]\n",
    "false_positive = CM[0][1]\n",
    "false_negative = CM[1][0]\n",
    "\n",
    "true_pos_rate = true_positive/(true_positive+false_negative)\n",
    "false_pos_rate = false_positive/(false_positive+true_negative)\n",
    "\n"
   ]
  },
  {
   "cell_type": "markdown",
   "metadata": {
    "scrolled": false
   },
   "source": [
    "## 2.c)"
   ]
  },
  {
   "cell_type": "code",
   "execution_count": 204,
   "metadata": {},
   "outputs": [
    {
     "data": {
      "text/plain": [
       "(-0.05, 1.05, -0.05, 1.05)"
      ]
     },
     "execution_count": 204,
     "metadata": {},
     "output_type": "execute_result"
    },
    {
     "data": {
      "image/png": "[encoded data removed]",
      "text/plain": [
       "<Figure size 640x480 with 1 Axes>"
      ]
     },
     "metadata": {},
     "output_type": "display_data"
    }
   ],
   "source": [
    "\n",
    "dados_treino_validacao = np.vstack((X1a_n, X1b_n))\n",
    "y_treino_validacao = np.hstack((y1a, y1b))\n",
    "\n",
    "svm=SVC(kernel='rbf', C=2, gamma=0.01, probability=True).fit(dados_treino_validacao, y_treino_validacao)\n",
    "y2_e = svm.predict(X2_n)\n",
    "\n",
    "CM = confusion_matrix(y2, y2_e)\n",
    "                               \n",
    "true_positive = CM[1][1]\n",
    "true_negative = CM[0][0]\n",
    "false_positive = CM[0][1]\n",
    "false_negative = CM[1][0]\n",
    "\n",
    "# print(\"CM \\n\", CM)\n",
    "# print(\"true_positive {}\".format(true_positive))\n",
    "# print(\"true_negative {}\".format(true_negative))\n",
    "# print(\"false_positive {}\".format(false_positive))\n",
    "# print(\"false_negative {}\".format(false_negative))\n",
    "\n",
    "true_pos_rate = true_positive/(true_positive+false_negative)\n",
    "false_pos_rate = false_positive/(false_positive+true_negative)                               \n",
    "                               \n",
    "fpr, tpr, thresholds = roc_curve(y2, svm.predict_proba(X2_n)[:, 1])\n",
    "\n",
    "plt.figure()\n",
    "plt.title(\"Curva ROC - SVM\")\n",
    "plt.plot(fpr, tpr, '-k')\n",
    "plt.plot(false_pos_rate, true_pos_rate, '.g', ms=10)\n",
    "plt.xlabel(\"FPR\")\n",
    "plt.ylabel(\"TPR (recall)\")\n",
    "plt.axis(\"scaled\")"
   ]
  },
  {
   "cell_type": "markdown",
   "metadata": {},
   "source": [
    "## 2.d)"
   ]
  },
  {
   "cell_type": "code",
   "execution_count": 236,
   "metadata": {},
   "outputs": [
    {
     "data": {
      "text/plain": [
       "[<matplotlib.lines.Line2D at 0x26be0a1de50>]"
      ]
     },
     "execution_count": 236,
     "metadata": {},
     "output_type": "execute_result"
    },
    {
     "data": {
      "image/png": "[encoded data removed]",
      "text/plain": [
       "<Figure size 640x480 with 1 Axes>"
      ]
     },
     "metadata": {},
     "output_type": "display_data"
    }
   ],
   "source": [
    "plt.plot(X[y==0, 0], X[y==0, 1], '^g')\n",
    "plt.plot(X[y==1, 0], X[y==1, 1], 'or')"
   ]
  },
  {
   "cell_type": "code",
   "execution_count": 286,
   "metadata": {},
   "outputs": [
    {
     "name": "stdout",
     "output_type": "stream",
     "text": [
      "Matriz de confusão: \n",
      " [[94  0]\n",
      " [ 5 51]]\n"
     ]
    }
   ],
   "source": [
    "dados_treino_validacao = np.vstack((X1a_n, X1b_n))\n",
    "y_treino_validacao = np.hstack((y1a, y1b))\n",
    "\n",
    "svm=SVC(C=1, coef0=2000, gamma=0.001, kernel='poly', degree=2).fit(dados_treino_validacao, y_treino_validacao)\n",
    "y2_e = svm.predict(X2_n)\n",
    "CM = confusion_matrix(y2, y2_e)\n",
    "true_positive = CM[1][1]\n",
    "true_negative = CM[0][0]\n",
    "false_positive = CM[0][1]\n",
    "false_negative = CM[1][0]\n",
    "\n",
    "print(\"Matriz de confusão: \\n\", CM)\n",
    "# print(\"true_positive {}\".format(true_positive))\n",
    "# print(\"true_negative {}\".format(true_negative))\n",
    "# print(\"false_positive {}\".format(false_positive))\n",
    "# print(\"false_negative {}\".format(false_negative))"
   ]
  }
 ],
 "metadata": {
  "kernelspec": {
   "display_name": "base",
   "language": "python",
   "name": "python3"
  },
  "language_info": {
   "codemirror_mode": {
    "name": "ipython",
    "version": 3
   },
   "file_extension": ".py",
   "mimetype": "text/x-python",
   "name": "python",
   "nbconvert_exporter": "python",
   "pygments_lexer": "ipython3",
   "version": "3.8.11"
  },
  "vscode": {
   "interpreter": {
    "hash": "4b40f68814b93475b29075cb0adeb1712a4387a9e06914676246b503f1ae483b"
   }
  }
 },
 "nbformat": 4,
 "nbformat_minor": 4
}
