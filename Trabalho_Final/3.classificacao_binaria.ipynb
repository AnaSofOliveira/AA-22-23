{
 "cells": [
  {
   "cell_type": "code",
   "execution_count": 1,
   "id": "e8f9e82a-81c5-4d3f-8438-5fd766b93bac",
   "metadata": {},
   "outputs": [],
   "source": [
    "import pickle\n",
    "\n",
    "import numpy as np\n",
    "import matplotlib.pyplot as plt\n",
    "\n",
    "import nltk\n",
    "from nltk.corpus import stopwords\n",
    "stop_words = set(stopwords.words('english'))\n",
    "\n",
    "from nltk.stem import WordNetLemmatizer\n",
    "lemma = WordNetLemmatizer()\n",
    "\n",
    "from sklearn.model_selection import train_test_split, GridSearchCV, cross_val_score\n",
    "from sklearn.pipeline import make_pipeline\n",
    "\n",
    "from sklearn.feature_extraction.text import TfidfVectorizer\n",
    "from sklearn.preprocessing import StandardScaler\n",
    "from sklearn.linear_model import LogisticRegression\n",
    "from sklearn.svm import LinearSVC, SVC\n",
    "from sklearn.naive_bayes import MultinomialNB\n",
    "\n",
    "import mglearn\n",
    "from sklearn.metrics import confusion_matrix, ConfusionMatrixDisplay, accuracy_score, roc_curve\n"
   ]
  },
  {
   "cell_type": "markdown",
   "id": "d9e20229-1942-465e-9144-41e67688c95b",
   "metadata": {},
   "source": [
    "## Leitura dos dados"
   ]
  },
  {
   "cell_type": "code",
   "execution_count": 2,
   "id": "53b5aa87-ca22-4974-b079-75f3735360cd",
   "metadata": {},
   "outputs": [],
   "source": [
    "fN = '/Users/anaso/Documents/AA/AA-22-23/Trabalho Final/imdbFull.p'\n",
    "\n",
    "D = pickle.load(open(fN, 'rb'))\n",
    "\n",
    "nDocs = 5000\n",
    "\n",
    "corpus = D.data[:nDocs]\n",
    "y = D.target[:nDocs]\n",
    "\n",
    "y = [1 if val>5 else 0 for val in y]"
   ]
  },
  {
   "cell_type": "code",
   "execution_count": 3,
   "id": "8a46f103-f5a1-4b78-aa4d-8791c0f1a05d",
   "metadata": {},
   "outputs": [
    {
     "name": "stdout",
     "output_type": "stream",
     "text": [
      "Número de documentos no corpus: 5000\n",
      "Número de classes: 2\n",
      "Distribuição de amostras por classe: [2496 2504]\n"
     ]
    }
   ],
   "source": [
    "print(\"Número de documentos no corpus:\", len(corpus))\n",
    "print(\"Número de classes:\", len(np.bincount(y)))\n",
    "print(\"Distribuição de amostras por classe:\", np.bincount(y))"
   ]
  },
  {
   "cell_type": "markdown",
   "id": "33dba24f-50c0-44c9-a549-edbeee6e9689",
   "metadata": {},
   "source": [
    "## Limpeza de dados"
   ]
  },
  {
   "cell_type": "code",
   "execution_count": 4,
   "id": "c11ac6c2-6ddc-4dc1-b81c-d0630f4a8e9c",
   "metadata": {},
   "outputs": [],
   "source": [
    "corpus = [critica.replace(\"<br />\", \" \") for critica in corpus]\n",
    "corpus = [\" \".join((palavra if palavra not in stop_words else \" \") for palavra in critica.split()) for critica in corpus]\n",
    "corpus = [\" \".join(lemma.lemmatize(palavra) for palavra in critica.split()) for critica in corpus]"
   ]
  },
  {
   "cell_type": "markdown",
   "id": "d9ad89cc-41ed-4933-9104-ee119b664053",
   "metadata": {},
   "source": [
    "## Divisão dos dados em teste, validação e treino "
   ]
  },
  {
   "cell_type": "code",
   "execution_count": 5,
   "id": "2a46c81d-4e46-486d-bc28-97e0e3a4fe51",
   "metadata": {},
   "outputs": [],
   "source": [
    "corpus_treino, corpus_teste, y_treino, y_teste = train_test_split(corpus, y, test_size=1/3, shuffle=True, stratify=y)\n",
    "_, corpus_validacao, _, y_validacao = train_test_split(corpus_treino, y_treino, test_size=1/2, shuffle=True, stratify=y_treino)"
   ]
  },
  {
   "cell_type": "code",
   "execution_count": 6,
   "id": "566d60a4-35de-4f5e-a7dd-f1b5e5e6f86d",
   "metadata": {},
   "outputs": [
    {
     "name": "stdout",
     "output_type": "stream",
     "text": [
      "Treino (Treino+Validação)\n",
      "- Número de documentos para treino:  3333\n",
      "- Número de avaliações para treino:  3333\n",
      "\n",
      "Validação\n",
      "- Número de documentos para validação:  1667\n",
      "- Número de avaliações para validação:  1667\n",
      "\n",
      "Teste\n",
      "- Número de documentos para teste:  1667\n",
      "- Número de avaliações para teste:  1667\n"
     ]
    }
   ],
   "source": [
    "print(\"Treino (Treino+Validação)\")\n",
    "print(\"- Número de documentos para treino: \", len(corpus_treino))\n",
    "print(\"- Número de avaliações para treino: \", len(y_treino))\n",
    "\n",
    "print(\"\\nValidação\")\n",
    "print(\"- Número de documentos para validação: \", len(corpus_validacao))\n",
    "print(\"- Número de avaliações para validação: \", len(y_validacao))\n",
    "\n",
    "print(\"\\nTeste\")\n",
    "print(\"- Número de documentos para teste: \", len(corpus_teste))\n",
    "print(\"- Número de avaliações para teste: \", len(y_teste))"
   ]
  },
  {
   "cell_type": "markdown",
   "id": "426f2488-6af9-47a0-b3dc-e828b5ecb092",
   "metadata": {},
   "source": [
    "## Extração de Caracteristicas"
   ]
  },
  {
   "cell_type": "code",
   "execution_count": 7,
   "id": "2a8401a4-c575-43f9-9cc6-06cb57783b46",
   "metadata": {},
   "outputs": [],
   "source": [
    "tf = TfidfVectorizer(min_df=3, max_df=0.75, ngram_range=(1,3), token_pattern=r'\\b\\w{3,}\\b').fit(corpus_treino) \n",
    "\n",
    "corpus_treino_p = tf.transform(corpus_treino)\n",
    "corpus_validacao_p = tf.transform(corpus_validacao)\n",
    "corpus_teste_p = tf.transform(corpus_teste)\n",
    "\n",
    "st = StandardScaler(with_mean=False).fit(corpus_treino_p)\n",
    "\n",
    "corpus_treino_s = st.transform(corpus_treino_p)\n",
    "corpus_validacao_s = st.transform(corpus_validacao_p)\n",
    "corpus_teste_s = st.transform(corpus_teste_p)\n"
   ]
  },
  {
   "cell_type": "markdown",
   "id": "f91083ad-64c6-47c5-9858-ed5dc5a07b22",
   "metadata": {},
   "source": [
    "# Classificador LogisticRegression"
   ]
  },
  {
   "cell_type": "markdown",
   "id": "938b938c-49a0-4b34-9b95-6120de70e67b",
   "metadata": {},
   "source": [
    "- Resultados sem parametrização do classificador"
   ]
  },
  {
   "cell_type": "code",
   "execution_count": 8,
   "id": "9a1be4c2-ca2d-41d5-8819-483cbfc7a95c",
   "metadata": {},
   "outputs": [
    {
     "name": "stdout",
     "output_type": "stream",
     "text": [
      "Mean cross-validation accuracy: 0.84\n"
     ]
    }
   ],
   "source": [
    "scores = cross_val_score(LogisticRegression(max_iter=5000), corpus_treino_s, y_treino, cv=5)\n",
    "print(\"Mean cross-validation accuracy: {:.2f}\".format(np.mean(scores)))"
   ]
  },
  {
   "cell_type": "markdown",
   "id": "7bf8af86-8777-4017-8ce1-bac2658a87f4",
   "metadata": {},
   "source": [
    "- Ajuste dos hiperparametros"
   ]
  },
  {
   "cell_type": "code",
   "execution_count": 9,
   "id": "b213f195-ee7f-4326-b67e-bde0ccd4e93f",
   "metadata": {},
   "outputs": [
    {
     "name": "stdout",
     "output_type": "stream",
     "text": [
      "Fitting 3 folds for each of 120 candidates, totalling 360 fits\n",
      "[CV 1/3] END C=0.01, multi_class=ovr, penalty=l1, solver=liblinear, tol=0.001;, score=0.635 total time=   0.0s\n",
      "[CV 2/3] END C=0.01, multi_class=ovr, penalty=l1, solver=liblinear, tol=0.001;, score=0.615 total time=   0.0s\n",
      "[CV 3/3] END C=0.01, multi_class=ovr, penalty=l1, solver=liblinear, tol=0.001;, score=0.634 total time=   0.0s\n",
      "[CV 1/3] END C=0.01, multi_class=ovr, penalty=l1, solver=liblinear, tol=0.0001;, score=0.635 total time=   0.0s\n",
      "[CV 2/3] END C=0.01, multi_class=ovr, penalty=l1, solver=liblinear, tol=0.0001;, score=0.615 total time=   0.0s\n",
      "[CV 3/3] END C=0.01, multi_class=ovr, penalty=l1, solver=liblinear, tol=0.0001;, score=0.634 total time=   0.0s\n",
      "[CV 1/3] END C=0.01, multi_class=ovr, penalty=l1, solver=liblinear, tol=1e-05;, score=0.635 total time=   0.0s\n",
      "[CV 2/3] END C=0.01, multi_class=ovr, penalty=l1, solver=liblinear, tol=1e-05;, score=0.615 total time=   0.0s\n",
      "[CV 3/3] END C=0.01, multi_class=ovr, penalty=l1, solver=liblinear, tol=1e-05;, score=0.634 total time=   0.0s\n",
      "[CV 1/3] END C=0.01, multi_class=ovr, penalty=l1, solver=saga, tol=0.001;, score=0.676 total time=   0.5s\n",
      "[CV 2/3] END C=0.01, multi_class=ovr, penalty=l1, solver=saga, tol=0.001;, score=0.687 total time=   0.4s\n",
      "[CV 3/3] END C=0.01, multi_class=ovr, penalty=l1, solver=saga, tol=0.001;, score=0.712 total time=   0.5s\n",
      "[CV 1/3] END C=0.01, multi_class=ovr, penalty=l1, solver=saga, tol=0.0001;, score=0.676 total time=   1.2s\n",
      "[CV 2/3] END C=0.01, multi_class=ovr, penalty=l1, solver=saga, tol=0.0001;, score=0.682 total time=   1.1s\n",
      "[CV 3/3] END C=0.01, multi_class=ovr, penalty=l1, solver=saga, tol=0.0001;, score=0.668 total time=   1.1s\n",
      "[CV 1/3] END C=0.01, multi_class=ovr, penalty=l1, solver=saga, tol=1e-05;, score=0.674 total time=   2.7s\n"
     ]
    },
    {
     "name": "stderr",
     "output_type": "stream",
     "text": [
      "C:\\Users\\anaso\\anaconda3\\lib\\site-packages\\sklearn\\linear_model\\_sag.py:350: ConvergenceWarning: The max_iter was reached which means the coef_ did not converge\n",
      "  warnings.warn(\n"
     ]
    },
    {
     "name": "stdout",
     "output_type": "stream",
     "text": [
      "[CV 2/3] END C=0.01, multi_class=ovr, penalty=l1, solver=saga, tol=1e-05;, score=0.682 total time=  12.9s\n",
      "[CV 3/3] END C=0.01, multi_class=ovr, penalty=l1, solver=saga, tol=1e-05;, score=0.668 total time=   2.1s\n",
      "[CV 1/3] END C=0.01, multi_class=ovr, penalty=l2, solver=liblinear, tol=0.001;, score=0.831 total time=   0.0s\n",
      "[CV 2/3] END C=0.01, multi_class=ovr, penalty=l2, solver=liblinear, tol=0.001;, score=0.820 total time=   0.0s\n",
      "[CV 3/3] END C=0.01, multi_class=ovr, penalty=l2, solver=liblinear, tol=0.001;, score=0.840 total time=   0.0s\n",
      "[CV 1/3] END C=0.01, multi_class=ovr, penalty=l2, solver=liblinear, tol=0.0001;, score=0.829 total time=   0.0s\n",
      "[CV 2/3] END C=0.01, multi_class=ovr, penalty=l2, solver=liblinear, tol=0.0001;, score=0.820 total time=   0.0s\n",
      "[CV 3/3] END C=0.01, multi_class=ovr, penalty=l2, solver=liblinear, tol=0.0001;, score=0.840 total time=   0.0s\n",
      "[CV 1/3] END C=0.01, multi_class=ovr, penalty=l2, solver=liblinear, tol=1e-05;, score=0.829 total time=   0.0s\n",
      "[CV 2/3] END C=0.01, multi_class=ovr, penalty=l2, solver=liblinear, tol=1e-05;, score=0.820 total time=   0.0s\n",
      "[CV 3/3] END C=0.01, multi_class=ovr, penalty=l2, solver=liblinear, tol=1e-05;, score=0.840 total time=   0.0s\n",
      "[CV 1/3] END C=0.01, multi_class=ovr, penalty=l2, solver=saga, tol=0.001;, score=0.831 total time=   0.1s\n",
      "[CV 2/3] END C=0.01, multi_class=ovr, penalty=l2, solver=saga, tol=0.001;, score=0.820 total time=   0.1s\n",
      "[CV 3/3] END C=0.01, multi_class=ovr, penalty=l2, solver=saga, tol=0.001;, score=0.840 total time=   0.1s\n",
      "[CV 1/3] END C=0.01, multi_class=ovr, penalty=l2, solver=saga, tol=0.0001;, score=0.829 total time=   0.5s\n",
      "[CV 2/3] END C=0.01, multi_class=ovr, penalty=l2, solver=saga, tol=0.0001;, score=0.820 total time=   0.5s\n",
      "[CV 3/3] END C=0.01, multi_class=ovr, penalty=l2, solver=saga, tol=0.0001;, score=0.840 total time=   0.4s\n",
      "[CV 1/3] END C=0.01, multi_class=ovr, penalty=l2, solver=saga, tol=1e-05;, score=0.831 total time=   0.9s\n",
      "[CV 2/3] END C=0.01, multi_class=ovr, penalty=l2, solver=saga, tol=1e-05;, score=0.820 total time=   0.9s\n",
      "[CV 3/3] END C=0.01, multi_class=ovr, penalty=l2, solver=saga, tol=1e-05;, score=0.840 total time=   0.8s\n",
      "[CV 1/3] END C=0.01, multi_class=auto, penalty=l1, solver=liblinear, tol=0.001;, score=0.635 total time=   0.0s\n",
      "[CV 2/3] END C=0.01, multi_class=auto, penalty=l1, solver=liblinear, tol=0.001;, score=0.615 total time=   0.0s\n",
      "[CV 3/3] END C=0.01, multi_class=auto, penalty=l1, solver=liblinear, tol=0.001;, score=0.634 total time=   0.0s\n",
      "[CV 1/3] END C=0.01, multi_class=auto, penalty=l1, solver=liblinear, tol=0.0001;, score=0.635 total time=   0.0s\n",
      "[CV 2/3] END C=0.01, multi_class=auto, penalty=l1, solver=liblinear, tol=0.0001;, score=0.615 total time=   0.0s\n",
      "[CV 3/3] END C=0.01, multi_class=auto, penalty=l1, solver=liblinear, tol=0.0001;, score=0.634 total time=   0.0s\n",
      "[CV 1/3] END C=0.01, multi_class=auto, penalty=l1, solver=liblinear, tol=1e-05;, score=0.635 total time=   0.0s\n",
      "[CV 2/3] END C=0.01, multi_class=auto, penalty=l1, solver=liblinear, tol=1e-05;, score=0.615 total time=   0.0s\n",
      "[CV 3/3] END C=0.01, multi_class=auto, penalty=l1, solver=liblinear, tol=1e-05;, score=0.634 total time=   0.0s\n",
      "[CV 1/3] END C=0.01, multi_class=auto, penalty=l1, solver=saga, tol=0.001;, score=0.676 total time=   0.6s\n",
      "[CV 2/3] END C=0.01, multi_class=auto, penalty=l1, solver=saga, tol=0.001;, score=0.687 total time=   0.5s\n",
      "[CV 3/3] END C=0.01, multi_class=auto, penalty=l1, solver=saga, tol=0.001;, score=0.712 total time=   0.5s\n",
      "[CV 1/3] END C=0.01, multi_class=auto, penalty=l1, solver=saga, tol=0.0001;, score=0.676 total time=   1.1s\n",
      "[CV 2/3] END C=0.01, multi_class=auto, penalty=l1, solver=saga, tol=0.0001;, score=0.682 total time=   1.0s\n",
      "[CV 3/3] END C=0.01, multi_class=auto, penalty=l1, solver=saga, tol=0.0001;, score=0.668 total time=   1.0s\n",
      "[CV 1/3] END C=0.01, multi_class=auto, penalty=l1, solver=saga, tol=1e-05;, score=0.674 total time=   2.7s\n"
     ]
    },
    {
     "name": "stderr",
     "output_type": "stream",
     "text": [
      "C:\\Users\\anaso\\anaconda3\\lib\\site-packages\\sklearn\\linear_model\\_sag.py:350: ConvergenceWarning: The max_iter was reached which means the coef_ did not converge\n",
      "  warnings.warn(\n"
     ]
    },
    {
     "name": "stdout",
     "output_type": "stream",
     "text": [
      "[CV 2/3] END C=0.01, multi_class=auto, penalty=l1, solver=saga, tol=1e-05;, score=0.682 total time=  12.6s\n",
      "[CV 3/3] END C=0.01, multi_class=auto, penalty=l1, solver=saga, tol=1e-05;, score=0.668 total time=   2.2s\n",
      "[CV 1/3] END C=0.01, multi_class=auto, penalty=l2, solver=liblinear, tol=0.001;, score=0.831 total time=   0.0s\n",
      "[CV 2/3] END C=0.01, multi_class=auto, penalty=l2, solver=liblinear, tol=0.001;, score=0.820 total time=   0.0s\n",
      "[CV 3/3] END C=0.01, multi_class=auto, penalty=l2, solver=liblinear, tol=0.001;, score=0.840 total time=   0.0s\n",
      "[CV 1/3] END C=0.01, multi_class=auto, penalty=l2, solver=liblinear, tol=0.0001;, score=0.829 total time=   0.0s\n",
      "[CV 2/3] END C=0.01, multi_class=auto, penalty=l2, solver=liblinear, tol=0.0001;, score=0.820 total time=   0.0s\n",
      "[CV 3/3] END C=0.01, multi_class=auto, penalty=l2, solver=liblinear, tol=0.0001;, score=0.840 total time=   0.0s\n",
      "[CV 1/3] END C=0.01, multi_class=auto, penalty=l2, solver=liblinear, tol=1e-05;, score=0.829 total time=   0.0s\n",
      "[CV 2/3] END C=0.01, multi_class=auto, penalty=l2, solver=liblinear, tol=1e-05;, score=0.820 total time=   0.0s\n",
      "[CV 3/3] END C=0.01, multi_class=auto, penalty=l2, solver=liblinear, tol=1e-05;, score=0.840 total time=   0.0s\n",
      "[CV 1/3] END C=0.01, multi_class=auto, penalty=l2, solver=saga, tol=0.001;, score=0.831 total time=   0.2s\n",
      "[CV 2/3] END C=0.01, multi_class=auto, penalty=l2, solver=saga, tol=0.001;, score=0.820 total time=   0.1s\n",
      "[CV 3/3] END C=0.01, multi_class=auto, penalty=l2, solver=saga, tol=0.001;, score=0.840 total time=   0.1s\n",
      "[CV 1/3] END C=0.01, multi_class=auto, penalty=l2, solver=saga, tol=0.0001;, score=0.829 total time=   0.4s\n",
      "[CV 2/3] END C=0.01, multi_class=auto, penalty=l2, solver=saga, tol=0.0001;, score=0.820 total time=   0.4s\n",
      "[CV 3/3] END C=0.01, multi_class=auto, penalty=l2, solver=saga, tol=0.0001;, score=0.840 total time=   0.4s\n",
      "[CV 1/3] END C=0.01, multi_class=auto, penalty=l2, solver=saga, tol=1e-05;, score=0.831 total time=   1.0s\n",
      "[CV 2/3] END C=0.01, multi_class=auto, penalty=l2, solver=saga, tol=1e-05;, score=0.820 total time=   0.8s\n",
      "[CV 3/3] END C=0.01, multi_class=auto, penalty=l2, solver=saga, tol=1e-05;, score=0.840 total time=   0.8s\n",
      "[CV 1/3] END C=0.1, multi_class=ovr, penalty=l1, solver=liblinear, tol=0.001;, score=0.808 total time=   0.0s\n",
      "[CV 2/3] END C=0.1, multi_class=ovr, penalty=l1, solver=liblinear, tol=0.001;, score=0.788 total time=   0.0s\n",
      "[CV 3/3] END C=0.1, multi_class=ovr, penalty=l1, solver=liblinear, tol=0.001;, score=0.793 total time=   0.0s\n",
      "[CV 1/3] END C=0.1, multi_class=ovr, penalty=l1, solver=liblinear, tol=0.0001;, score=0.800 total time=   0.0s\n",
      "[CV 2/3] END C=0.1, multi_class=ovr, penalty=l1, solver=liblinear, tol=0.0001;, score=0.777 total time=   0.0s\n",
      "[CV 3/3] END C=0.1, multi_class=ovr, penalty=l1, solver=liblinear, tol=0.0001;, score=0.786 total time=   0.0s\n",
      "[CV 1/3] END C=0.1, multi_class=ovr, penalty=l1, solver=liblinear, tol=1e-05;, score=0.802 total time=   0.0s\n",
      "[CV 2/3] END C=0.1, multi_class=ovr, penalty=l1, solver=liblinear, tol=1e-05;, score=0.777 total time=   0.0s\n",
      "[CV 3/3] END C=0.1, multi_class=ovr, penalty=l1, solver=liblinear, tol=1e-05;, score=0.786 total time=   0.0s\n",
      "[CV 1/3] END C=0.1, multi_class=ovr, penalty=l1, solver=saga, tol=0.001;, score=0.831 total time=   3.5s\n",
      "[CV 2/3] END C=0.1, multi_class=ovr, penalty=l1, solver=saga, tol=0.001;, score=0.795 total time=   3.3s\n",
      "[CV 3/3] END C=0.1, multi_class=ovr, penalty=l1, solver=saga, tol=0.001;, score=0.820 total time=   3.4s\n",
      "[CV 1/3] END C=0.1, multi_class=ovr, penalty=l1, solver=saga, tol=0.0001;, score=0.811 total time=  12.4s\n",
      "[CV 2/3] END C=0.1, multi_class=ovr, penalty=l1, solver=saga, tol=0.0001;, score=0.790 total time=  11.2s\n",
      "[CV 3/3] END C=0.1, multi_class=ovr, penalty=l1, solver=saga, tol=0.0001;, score=0.798 total time=  10.7s\n"
     ]
    },
    {
     "name": "stderr",
     "output_type": "stream",
     "text": [
      "C:\\Users\\anaso\\anaconda3\\lib\\site-packages\\sklearn\\linear_model\\_sag.py:350: ConvergenceWarning: The max_iter was reached which means the coef_ did not converge\n",
      "  warnings.warn(\n"
     ]
    },
    {
     "name": "stdout",
     "output_type": "stream",
     "text": [
      "[CV 1/3] END C=0.1, multi_class=ovr, penalty=l1, solver=saga, tol=1e-05;, score=0.808 total time=  21.6s\n"
     ]
    },
    {
     "name": "stderr",
     "output_type": "stream",
     "text": [
      "C:\\Users\\anaso\\anaconda3\\lib\\site-packages\\sklearn\\linear_model\\_sag.py:350: ConvergenceWarning: The max_iter was reached which means the coef_ did not converge\n",
      "  warnings.warn(\n"
     ]
    },
    {
     "name": "stdout",
     "output_type": "stream",
     "text": [
      "[CV 2/3] END C=0.1, multi_class=ovr, penalty=l1, solver=saga, tol=1e-05;, score=0.782 total time=  22.6s\n"
     ]
    },
    {
     "name": "stderr",
     "output_type": "stream",
     "text": [
      "C:\\Users\\anaso\\anaconda3\\lib\\site-packages\\sklearn\\linear_model\\_sag.py:350: ConvergenceWarning: The max_iter was reached which means the coef_ did not converge\n",
      "  warnings.warn(\n"
     ]
    },
    {
     "name": "stdout",
     "output_type": "stream",
     "text": [
      "[CV 3/3] END C=0.1, multi_class=ovr, penalty=l1, solver=saga, tol=1e-05;, score=0.793 total time=  22.3s\n",
      "[CV 1/3] END C=0.1, multi_class=ovr, penalty=l2, solver=liblinear, tol=0.001;, score=0.824 total time=   0.0s\n",
      "[CV 2/3] END C=0.1, multi_class=ovr, penalty=l2, solver=liblinear, tol=0.001;, score=0.820 total time=   0.0s\n",
      "[CV 3/3] END C=0.1, multi_class=ovr, penalty=l2, solver=liblinear, tol=0.001;, score=0.838 total time=   0.0s\n",
      "[CV 1/3] END C=0.1, multi_class=ovr, penalty=l2, solver=liblinear, tol=0.0001;, score=0.826 total time=   0.0s\n",
      "[CV 2/3] END C=0.1, multi_class=ovr, penalty=l2, solver=liblinear, tol=0.0001;, score=0.820 total time=   0.0s\n",
      "[CV 3/3] END C=0.1, multi_class=ovr, penalty=l2, solver=liblinear, tol=0.0001;, score=0.840 total time=   0.0s\n",
      "[CV 1/3] END C=0.1, multi_class=ovr, penalty=l2, solver=liblinear, tol=1e-05;, score=0.826 total time=   0.0s\n",
      "[CV 2/3] END C=0.1, multi_class=ovr, penalty=l2, solver=liblinear, tol=1e-05;, score=0.820 total time=   0.0s\n",
      "[CV 3/3] END C=0.1, multi_class=ovr, penalty=l2, solver=liblinear, tol=1e-05;, score=0.840 total time=   0.0s\n",
      "[CV 1/3] END C=0.1, multi_class=ovr, penalty=l2, solver=saga, tol=0.001;, score=0.827 total time=   0.2s\n",
      "[CV 2/3] END C=0.1, multi_class=ovr, penalty=l2, solver=saga, tol=0.001;, score=0.820 total time=   0.3s\n",
      "[CV 3/3] END C=0.1, multi_class=ovr, penalty=l2, solver=saga, tol=0.001;, score=0.838 total time=   0.3s\n",
      "[CV 1/3] END C=0.1, multi_class=ovr, penalty=l2, solver=saga, tol=0.0001;, score=0.829 total time=   1.3s\n",
      "[CV 2/3] END C=0.1, multi_class=ovr, penalty=l2, solver=saga, tol=0.0001;, score=0.820 total time=   1.2s\n",
      "[CV 3/3] END C=0.1, multi_class=ovr, penalty=l2, solver=saga, tol=0.0001;, score=0.840 total time=   1.3s\n",
      "[CV 1/3] END C=0.1, multi_class=ovr, penalty=l2, solver=saga, tol=1e-05;, score=0.826 total time=   3.9s\n",
      "[CV 2/3] END C=0.1, multi_class=ovr, penalty=l2, solver=saga, tol=1e-05;, score=0.820 total time=   3.4s\n",
      "[CV 3/3] END C=0.1, multi_class=ovr, penalty=l2, solver=saga, tol=1e-05;, score=0.840 total time=   2.8s\n",
      "[CV 1/3] END C=0.1, multi_class=auto, penalty=l1, solver=liblinear, tol=0.001;, score=0.808 total time=   0.0s\n",
      "[CV 2/3] END C=0.1, multi_class=auto, penalty=l1, solver=liblinear, tol=0.001;, score=0.788 total time=   0.0s\n",
      "[CV 3/3] END C=0.1, multi_class=auto, penalty=l1, solver=liblinear, tol=0.001;, score=0.793 total time=   0.0s\n",
      "[CV 1/3] END C=0.1, multi_class=auto, penalty=l1, solver=liblinear, tol=0.0001;, score=0.800 total time=   0.0s\n",
      "[CV 2/3] END C=0.1, multi_class=auto, penalty=l1, solver=liblinear, tol=0.0001;, score=0.777 total time=   0.0s\n",
      "[CV 3/3] END C=0.1, multi_class=auto, penalty=l1, solver=liblinear, tol=0.0001;, score=0.786 total time=   0.0s\n",
      "[CV 1/3] END C=0.1, multi_class=auto, penalty=l1, solver=liblinear, tol=1e-05;, score=0.802 total time=   0.0s\n",
      "[CV 2/3] END C=0.1, multi_class=auto, penalty=l1, solver=liblinear, tol=1e-05;, score=0.777 total time=   0.0s\n",
      "[CV 3/3] END C=0.1, multi_class=auto, penalty=l1, solver=liblinear, tol=1e-05;, score=0.786 total time=   0.0s\n",
      "[CV 1/3] END C=0.1, multi_class=auto, penalty=l1, solver=saga, tol=0.001;, score=0.831 total time=   3.4s\n",
      "[CV 2/3] END C=0.1, multi_class=auto, penalty=l1, solver=saga, tol=0.001;, score=0.795 total time=   3.3s\n",
      "[CV 3/3] END C=0.1, multi_class=auto, penalty=l1, solver=saga, tol=0.001;, score=0.820 total time=   3.4s\n",
      "[CV 1/3] END C=0.1, multi_class=auto, penalty=l1, solver=saga, tol=0.0001;, score=0.811 total time=  12.0s\n",
      "[CV 2/3] END C=0.1, multi_class=auto, penalty=l1, solver=saga, tol=0.0001;, score=0.790 total time=  11.4s\n",
      "[CV 3/3] END C=0.1, multi_class=auto, penalty=l1, solver=saga, tol=0.0001;, score=0.798 total time=  10.7s\n"
     ]
    },
    {
     "name": "stderr",
     "output_type": "stream",
     "text": [
      "C:\\Users\\anaso\\anaconda3\\lib\\site-packages\\sklearn\\linear_model\\_sag.py:350: ConvergenceWarning: The max_iter was reached which means the coef_ did not converge\n",
      "  warnings.warn(\n"
     ]
    },
    {
     "name": "stdout",
     "output_type": "stream",
     "text": [
      "[CV 1/3] END C=0.1, multi_class=auto, penalty=l1, solver=saga, tol=1e-05;, score=0.808 total time=  21.8s\n"
     ]
    },
    {
     "name": "stderr",
     "output_type": "stream",
     "text": [
      "C:\\Users\\anaso\\anaconda3\\lib\\site-packages\\sklearn\\linear_model\\_sag.py:350: ConvergenceWarning: The max_iter was reached which means the coef_ did not converge\n",
      "  warnings.warn(\n"
     ]
    },
    {
     "name": "stdout",
     "output_type": "stream",
     "text": [
      "[CV 2/3] END C=0.1, multi_class=auto, penalty=l1, solver=saga, tol=1e-05;, score=0.782 total time=  22.2s\n"
     ]
    },
    {
     "name": "stderr",
     "output_type": "stream",
     "text": [
      "C:\\Users\\anaso\\anaconda3\\lib\\site-packages\\sklearn\\linear_model\\_sag.py:350: ConvergenceWarning: The max_iter was reached which means the coef_ did not converge\n",
      "  warnings.warn(\n"
     ]
    },
    {
     "name": "stdout",
     "output_type": "stream",
     "text": [
      "[CV 3/3] END C=0.1, multi_class=auto, penalty=l1, solver=saga, tol=1e-05;, score=0.793 total time=  21.8s\n",
      "[CV 1/3] END C=0.1, multi_class=auto, penalty=l2, solver=liblinear, tol=0.001;, score=0.824 total time=   0.0s\n",
      "[CV 2/3] END C=0.1, multi_class=auto, penalty=l2, solver=liblinear, tol=0.001;, score=0.820 total time=   0.0s\n",
      "[CV 3/3] END C=0.1, multi_class=auto, penalty=l2, solver=liblinear, tol=0.001;, score=0.838 total time=   0.0s\n",
      "[CV 1/3] END C=0.1, multi_class=auto, penalty=l2, solver=liblinear, tol=0.0001;, score=0.826 total time=   0.0s\n",
      "[CV 2/3] END C=0.1, multi_class=auto, penalty=l2, solver=liblinear, tol=0.0001;, score=0.820 total time=   0.0s\n",
      "[CV 3/3] END C=0.1, multi_class=auto, penalty=l2, solver=liblinear, tol=0.0001;, score=0.840 total time=   0.0s\n",
      "[CV 1/3] END C=0.1, multi_class=auto, penalty=l2, solver=liblinear, tol=1e-05;, score=0.826 total time=   0.0s\n",
      "[CV 2/3] END C=0.1, multi_class=auto, penalty=l2, solver=liblinear, tol=1e-05;, score=0.820 total time=   0.0s\n",
      "[CV 3/3] END C=0.1, multi_class=auto, penalty=l2, solver=liblinear, tol=1e-05;, score=0.840 total time=   0.0s\n",
      "[CV 1/3] END C=0.1, multi_class=auto, penalty=l2, solver=saga, tol=0.001;, score=0.827 total time=   0.2s\n",
      "[CV 2/3] END C=0.1, multi_class=auto, penalty=l2, solver=saga, tol=0.001;, score=0.820 total time=   0.2s\n",
      "[CV 3/3] END C=0.1, multi_class=auto, penalty=l2, solver=saga, tol=0.001;, score=0.838 total time=   0.2s\n",
      "[CV 1/3] END C=0.1, multi_class=auto, penalty=l2, solver=saga, tol=0.0001;, score=0.829 total time=   1.2s\n",
      "[CV 2/3] END C=0.1, multi_class=auto, penalty=l2, solver=saga, tol=0.0001;, score=0.820 total time=   1.2s\n",
      "[CV 3/3] END C=0.1, multi_class=auto, penalty=l2, solver=saga, tol=0.0001;, score=0.840 total time=   1.3s\n",
      "[CV 1/3] END C=0.1, multi_class=auto, penalty=l2, solver=saga, tol=1e-05;, score=0.826 total time=   4.1s\n",
      "[CV 2/3] END C=0.1, multi_class=auto, penalty=l2, solver=saga, tol=1e-05;, score=0.820 total time=   3.4s\n",
      "[CV 3/3] END C=0.1, multi_class=auto, penalty=l2, solver=saga, tol=1e-05;, score=0.840 total time=   3.0s\n",
      "[CV 1/3] END C=1, multi_class=ovr, penalty=l1, solver=liblinear, tol=0.001;, score=0.827 total time=   0.0s\n",
      "[CV 2/3] END C=1, multi_class=ovr, penalty=l1, solver=liblinear, tol=0.001;, score=0.793 total time=   0.0s\n",
      "[CV 3/3] END C=1, multi_class=ovr, penalty=l1, solver=liblinear, tol=0.001;, score=0.825 total time=   0.0s\n",
      "[CV 1/3] END C=1, multi_class=ovr, penalty=l1, solver=liblinear, tol=0.0001;, score=0.813 total time=   0.0s\n",
      "[CV 2/3] END C=1, multi_class=ovr, penalty=l1, solver=liblinear, tol=0.0001;, score=0.781 total time=   0.0s\n",
      "[CV 3/3] END C=1, multi_class=ovr, penalty=l1, solver=liblinear, tol=0.0001;, score=0.791 total time=   0.0s\n",
      "[CV 1/3] END C=1, multi_class=ovr, penalty=l1, solver=liblinear, tol=1e-05;, score=0.804 total time=   0.0s\n",
      "[CV 2/3] END C=1, multi_class=ovr, penalty=l1, solver=liblinear, tol=1e-05;, score=0.784 total time=   0.0s\n",
      "[CV 3/3] END C=1, multi_class=ovr, penalty=l1, solver=liblinear, tol=1e-05;, score=0.795 total time=   0.0s\n",
      "[CV 1/3] END C=1, multi_class=ovr, penalty=l1, solver=saga, tol=0.001;, score=0.854 total time=  11.9s\n",
      "[CV 2/3] END C=1, multi_class=ovr, penalty=l1, solver=saga, tol=0.001;, score=0.818 total time=  12.2s\n",
      "[CV 3/3] END C=1, multi_class=ovr, penalty=l1, solver=saga, tol=0.001;, score=0.838 total time=  12.3s\n"
     ]
    },
    {
     "name": "stderr",
     "output_type": "stream",
     "text": [
      "C:\\Users\\anaso\\anaconda3\\lib\\site-packages\\sklearn\\linear_model\\_sag.py:350: ConvergenceWarning: The max_iter was reached which means the coef_ did not converge\n",
      "  warnings.warn(\n"
     ]
    },
    {
     "name": "stdout",
     "output_type": "stream",
     "text": [
      "[CV 1/3] END C=1, multi_class=ovr, penalty=l1, solver=saga, tol=0.0001;, score=0.842 total time=  45.1s\n"
     ]
    },
    {
     "name": "stderr",
     "output_type": "stream",
     "text": [
      "C:\\Users\\anaso\\anaconda3\\lib\\site-packages\\sklearn\\linear_model\\_sag.py:350: ConvergenceWarning: The max_iter was reached which means the coef_ did not converge\n",
      "  warnings.warn(\n"
     ]
    },
    {
     "name": "stdout",
     "output_type": "stream",
     "text": [
      "[CV 2/3] END C=1, multi_class=ovr, penalty=l1, solver=saga, tol=0.0001;, score=0.808 total time=  44.4s\n"
     ]
    },
    {
     "name": "stderr",
     "output_type": "stream",
     "text": [
      "C:\\Users\\anaso\\anaconda3\\lib\\site-packages\\sklearn\\linear_model\\_sag.py:350: ConvergenceWarning: The max_iter was reached which means the coef_ did not converge\n",
      "  warnings.warn(\n"
     ]
    },
    {
     "name": "stdout",
     "output_type": "stream",
     "text": [
      "[CV 3/3] END C=1, multi_class=ovr, penalty=l1, solver=saga, tol=0.0001;, score=0.829 total time=  45.0s\n"
     ]
    },
    {
     "name": "stderr",
     "output_type": "stream",
     "text": [
      "C:\\Users\\anaso\\anaconda3\\lib\\site-packages\\sklearn\\linear_model\\_sag.py:350: ConvergenceWarning: The max_iter was reached which means the coef_ did not converge\n",
      "  warnings.warn(\n"
     ]
    },
    {
     "name": "stdout",
     "output_type": "stream",
     "text": [
      "[CV 1/3] END C=1, multi_class=ovr, penalty=l1, solver=saga, tol=1e-05;, score=0.842 total time=  44.6s\n"
     ]
    },
    {
     "name": "stderr",
     "output_type": "stream",
     "text": [
      "C:\\Users\\anaso\\anaconda3\\lib\\site-packages\\sklearn\\linear_model\\_sag.py:350: ConvergenceWarning: The max_iter was reached which means the coef_ did not converge\n",
      "  warnings.warn(\n"
     ]
    },
    {
     "name": "stdout",
     "output_type": "stream",
     "text": [
      "[CV 2/3] END C=1, multi_class=ovr, penalty=l1, solver=saga, tol=1e-05;, score=0.808 total time=  44.5s\n"
     ]
    },
    {
     "name": "stderr",
     "output_type": "stream",
     "text": [
      "C:\\Users\\anaso\\anaconda3\\lib\\site-packages\\sklearn\\linear_model\\_sag.py:350: ConvergenceWarning: The max_iter was reached which means the coef_ did not converge\n",
      "  warnings.warn(\n"
     ]
    },
    {
     "name": "stdout",
     "output_type": "stream",
     "text": [
      "[CV 3/3] END C=1, multi_class=ovr, penalty=l1, solver=saga, tol=1e-05;, score=0.829 total time=  44.1s\n",
      "[CV 1/3] END C=1, multi_class=ovr, penalty=l2, solver=liblinear, tol=0.001;, score=0.820 total time=   0.0s\n",
      "[CV 2/3] END C=1, multi_class=ovr, penalty=l2, solver=liblinear, tol=0.001;, score=0.820 total time=   0.0s\n",
      "[CV 3/3] END C=1, multi_class=ovr, penalty=l2, solver=liblinear, tol=0.001;, score=0.834 total time=   0.0s\n",
      "[CV 1/3] END C=1, multi_class=ovr, penalty=l2, solver=liblinear, tol=0.0001;, score=0.822 total time=   0.0s\n",
      "[CV 2/3] END C=1, multi_class=ovr, penalty=l2, solver=liblinear, tol=0.0001;, score=0.818 total time=   0.0s\n",
      "[CV 3/3] END C=1, multi_class=ovr, penalty=l2, solver=liblinear, tol=0.0001;, score=0.838 total time=   0.0s\n",
      "[CV 1/3] END C=1, multi_class=ovr, penalty=l2, solver=liblinear, tol=1e-05;, score=0.824 total time=   0.0s\n",
      "[CV 2/3] END C=1, multi_class=ovr, penalty=l2, solver=liblinear, tol=1e-05;, score=0.817 total time=   0.0s\n",
      "[CV 3/3] END C=1, multi_class=ovr, penalty=l2, solver=liblinear, tol=1e-05;, score=0.838 total time=   0.0s\n",
      "[CV 1/3] END C=1, multi_class=ovr, penalty=l2, solver=saga, tol=0.001;, score=0.827 total time=   0.3s\n",
      "[CV 2/3] END C=1, multi_class=ovr, penalty=l2, solver=saga, tol=0.001;, score=0.820 total time=   0.2s\n",
      "[CV 3/3] END C=1, multi_class=ovr, penalty=l2, solver=saga, tol=0.001;, score=0.838 total time=   0.2s\n",
      "[CV 1/3] END C=1, multi_class=ovr, penalty=l2, solver=saga, tol=0.0001;, score=0.824 total time=   2.1s\n",
      "[CV 2/3] END C=1, multi_class=ovr, penalty=l2, solver=saga, tol=0.0001;, score=0.820 total time=   2.1s\n",
      "[CV 3/3] END C=1, multi_class=ovr, penalty=l2, solver=saga, tol=0.0001;, score=0.840 total time=   2.2s\n",
      "[CV 1/3] END C=1, multi_class=ovr, penalty=l2, solver=saga, tol=1e-05;, score=0.824 total time=   9.4s\n",
      "[CV 2/3] END C=1, multi_class=ovr, penalty=l2, solver=saga, tol=1e-05;, score=0.820 total time=   9.2s\n",
      "[CV 3/3] END C=1, multi_class=ovr, penalty=l2, solver=saga, tol=1e-05;, score=0.840 total time=   9.1s\n",
      "[CV 1/3] END C=1, multi_class=auto, penalty=l1, solver=liblinear, tol=0.001;, score=0.827 total time=   0.0s\n",
      "[CV 2/3] END C=1, multi_class=auto, penalty=l1, solver=liblinear, tol=0.001;, score=0.793 total time=   0.0s\n",
      "[CV 3/3] END C=1, multi_class=auto, penalty=l1, solver=liblinear, tol=0.001;, score=0.825 total time=   0.0s\n",
      "[CV 1/3] END C=1, multi_class=auto, penalty=l1, solver=liblinear, tol=0.0001;, score=0.813 total time=   0.0s\n",
      "[CV 2/3] END C=1, multi_class=auto, penalty=l1, solver=liblinear, tol=0.0001;, score=0.781 total time=   0.0s\n",
      "[CV 3/3] END C=1, multi_class=auto, penalty=l1, solver=liblinear, tol=0.0001;, score=0.791 total time=   0.0s\n",
      "[CV 1/3] END C=1, multi_class=auto, penalty=l1, solver=liblinear, tol=1e-05;, score=0.804 total time=   0.0s\n",
      "[CV 2/3] END C=1, multi_class=auto, penalty=l1, solver=liblinear, tol=1e-05;, score=0.784 total time=   0.0s\n",
      "[CV 3/3] END C=1, multi_class=auto, penalty=l1, solver=liblinear, tol=1e-05;, score=0.795 total time=   0.0s\n",
      "[CV 1/3] END C=1, multi_class=auto, penalty=l1, solver=saga, tol=0.001;, score=0.854 total time=  11.8s\n",
      "[CV 2/3] END C=1, multi_class=auto, penalty=l1, solver=saga, tol=0.001;, score=0.818 total time=  11.9s\n",
      "[CV 3/3] END C=1, multi_class=auto, penalty=l1, solver=saga, tol=0.001;, score=0.838 total time=  12.1s\n"
     ]
    },
    {
     "name": "stderr",
     "output_type": "stream",
     "text": [
      "C:\\Users\\anaso\\anaconda3\\lib\\site-packages\\sklearn\\linear_model\\_sag.py:350: ConvergenceWarning: The max_iter was reached which means the coef_ did not converge\n",
      "  warnings.warn(\n"
     ]
    },
    {
     "name": "stdout",
     "output_type": "stream",
     "text": [
      "[CV 1/3] END C=1, multi_class=auto, penalty=l1, solver=saga, tol=0.0001;, score=0.842 total time=  46.0s\n"
     ]
    },
    {
     "name": "stderr",
     "output_type": "stream",
     "text": [
      "C:\\Users\\anaso\\anaconda3\\lib\\site-packages\\sklearn\\linear_model\\_sag.py:350: ConvergenceWarning: The max_iter was reached which means the coef_ did not converge\n",
      "  warnings.warn(\n"
     ]
    },
    {
     "name": "stdout",
     "output_type": "stream",
     "text": [
      "[CV 2/3] END C=1, multi_class=auto, penalty=l1, solver=saga, tol=0.0001;, score=0.808 total time=  48.7s\n"
     ]
    },
    {
     "name": "stderr",
     "output_type": "stream",
     "text": [
      "C:\\Users\\anaso\\anaconda3\\lib\\site-packages\\sklearn\\linear_model\\_sag.py:350: ConvergenceWarning: The max_iter was reached which means the coef_ did not converge\n",
      "  warnings.warn(\n"
     ]
    },
    {
     "name": "stdout",
     "output_type": "stream",
     "text": [
      "[CV 3/3] END C=1, multi_class=auto, penalty=l1, solver=saga, tol=0.0001;, score=0.829 total time=  45.4s\n"
     ]
    },
    {
     "name": "stderr",
     "output_type": "stream",
     "text": [
      "C:\\Users\\anaso\\anaconda3\\lib\\site-packages\\sklearn\\linear_model\\_sag.py:350: ConvergenceWarning: The max_iter was reached which means the coef_ did not converge\n",
      "  warnings.warn(\n"
     ]
    },
    {
     "name": "stdout",
     "output_type": "stream",
     "text": [
      "[CV 1/3] END C=1, multi_class=auto, penalty=l1, solver=saga, tol=1e-05;, score=0.842 total time=  45.0s\n"
     ]
    },
    {
     "name": "stderr",
     "output_type": "stream",
     "text": [
      "C:\\Users\\anaso\\anaconda3\\lib\\site-packages\\sklearn\\linear_model\\_sag.py:350: ConvergenceWarning: The max_iter was reached which means the coef_ did not converge\n",
      "  warnings.warn(\n"
     ]
    },
    {
     "name": "stdout",
     "output_type": "stream",
     "text": [
      "[CV 2/3] END C=1, multi_class=auto, penalty=l1, solver=saga, tol=1e-05;, score=0.808 total time=  45.3s\n"
     ]
    },
    {
     "name": "stderr",
     "output_type": "stream",
     "text": [
      "C:\\Users\\anaso\\anaconda3\\lib\\site-packages\\sklearn\\linear_model\\_sag.py:350: ConvergenceWarning: The max_iter was reached which means the coef_ did not converge\n",
      "  warnings.warn(\n"
     ]
    },
    {
     "name": "stdout",
     "output_type": "stream",
     "text": [
      "[CV 3/3] END C=1, multi_class=auto, penalty=l1, solver=saga, tol=1e-05;, score=0.829 total time=  45.4s\n",
      "[CV 1/3] END C=1, multi_class=auto, penalty=l2, solver=liblinear, tol=0.001;, score=0.820 total time=   0.0s\n",
      "[CV 2/3] END C=1, multi_class=auto, penalty=l2, solver=liblinear, tol=0.001;, score=0.820 total time=   0.0s\n",
      "[CV 3/3] END C=1, multi_class=auto, penalty=l2, solver=liblinear, tol=0.001;, score=0.834 total time=   0.0s\n",
      "[CV 1/3] END C=1, multi_class=auto, penalty=l2, solver=liblinear, tol=0.0001;, score=0.822 total time=   0.0s\n",
      "[CV 2/3] END C=1, multi_class=auto, penalty=l2, solver=liblinear, tol=0.0001;, score=0.818 total time=   0.0s\n",
      "[CV 3/3] END C=1, multi_class=auto, penalty=l2, solver=liblinear, tol=0.0001;, score=0.838 total time=   0.0s\n",
      "[CV 1/3] END C=1, multi_class=auto, penalty=l2, solver=liblinear, tol=1e-05;, score=0.824 total time=   0.0s\n",
      "[CV 2/3] END C=1, multi_class=auto, penalty=l2, solver=liblinear, tol=1e-05;, score=0.817 total time=   0.0s\n",
      "[CV 3/3] END C=1, multi_class=auto, penalty=l2, solver=liblinear, tol=1e-05;, score=0.838 total time=   0.0s\n",
      "[CV 1/3] END C=1, multi_class=auto, penalty=l2, solver=saga, tol=0.001;, score=0.827 total time=   0.4s\n",
      "[CV 2/3] END C=1, multi_class=auto, penalty=l2, solver=saga, tol=0.001;, score=0.820 total time=   0.3s\n",
      "[CV 3/3] END C=1, multi_class=auto, penalty=l2, solver=saga, tol=0.001;, score=0.838 total time=   0.3s\n",
      "[CV 1/3] END C=1, multi_class=auto, penalty=l2, solver=saga, tol=0.0001;, score=0.824 total time=   2.3s\n",
      "[CV 2/3] END C=1, multi_class=auto, penalty=l2, solver=saga, tol=0.0001;, score=0.820 total time=   2.4s\n",
      "[CV 3/3] END C=1, multi_class=auto, penalty=l2, solver=saga, tol=0.0001;, score=0.840 total time=   2.6s\n",
      "[CV 1/3] END C=1, multi_class=auto, penalty=l2, solver=saga, tol=1e-05;, score=0.824 total time=  10.9s\n",
      "[CV 2/3] END C=1, multi_class=auto, penalty=l2, solver=saga, tol=1e-05;, score=0.820 total time=   9.6s\n",
      "[CV 3/3] END C=1, multi_class=auto, penalty=l2, solver=saga, tol=1e-05;, score=0.840 total time=   9.6s\n",
      "[CV 1/3] END C=10, multi_class=ovr, penalty=l1, solver=liblinear, tol=0.001;, score=0.826 total time=   0.0s\n",
      "[CV 2/3] END C=10, multi_class=ovr, penalty=l1, solver=liblinear, tol=0.001;, score=0.802 total time=   0.0s\n",
      "[CV 3/3] END C=10, multi_class=ovr, penalty=l1, solver=liblinear, tol=0.001;, score=0.829 total time=   0.0s\n",
      "[CV 1/3] END C=10, multi_class=ovr, penalty=l1, solver=liblinear, tol=0.0001;, score=0.831 total time=   0.0s\n",
      "[CV 2/3] END C=10, multi_class=ovr, penalty=l1, solver=liblinear, tol=0.0001;, score=0.788 total time=   0.0s\n",
      "[CV 3/3] END C=10, multi_class=ovr, penalty=l1, solver=liblinear, tol=0.0001;, score=0.822 total time=   0.0s\n",
      "[CV 1/3] END C=10, multi_class=ovr, penalty=l1, solver=liblinear, tol=1e-05;, score=0.809 total time=   0.0s\n",
      "[CV 2/3] END C=10, multi_class=ovr, penalty=l1, solver=liblinear, tol=1e-05;, score=0.782 total time=   0.0s\n",
      "[CV 3/3] END C=10, multi_class=ovr, penalty=l1, solver=liblinear, tol=1e-05;, score=0.795 total time=   0.0s\n",
      "[CV 1/3] END C=10, multi_class=ovr, penalty=l1, solver=saga, tol=0.001;, score=0.820 total time=  14.9s\n",
      "[CV 2/3] END C=10, multi_class=ovr, penalty=l1, solver=saga, tol=0.001;, score=0.817 total time=  15.4s\n",
      "[CV 3/3] END C=10, multi_class=ovr, penalty=l1, solver=saga, tol=0.001;, score=0.843 total time=  15.3s\n"
     ]
    },
    {
     "name": "stderr",
     "output_type": "stream",
     "text": [
      "C:\\Users\\anaso\\anaconda3\\lib\\site-packages\\sklearn\\linear_model\\_sag.py:350: ConvergenceWarning: The max_iter was reached which means the coef_ did not converge\n",
      "  warnings.warn(\n"
     ]
    },
    {
     "name": "stdout",
     "output_type": "stream",
     "text": [
      "[CV 1/3] END C=10, multi_class=ovr, penalty=l1, solver=saga, tol=0.0001;, score=0.858 total time= 2.0min\n",
      "[CV 2/3] END C=10, multi_class=ovr, penalty=l1, solver=saga, tol=0.0001;, score=0.811 total time= 2.0min\n",
      "[CV 3/3] END C=10, multi_class=ovr, penalty=l1, solver=saga, tol=0.0001;, score=0.854 total time= 2.0min\n"
     ]
    },
    {
     "name": "stderr",
     "output_type": "stream",
     "text": [
      "C:\\Users\\anaso\\anaconda3\\lib\\site-packages\\sklearn\\linear_model\\_sag.py:350: ConvergenceWarning: The max_iter was reached which means the coef_ did not converge\n",
      "  warnings.warn(\n"
     ]
    },
    {
     "name": "stdout",
     "output_type": "stream",
     "text": [
      "[CV 1/3] END C=10, multi_class=ovr, penalty=l1, solver=saga, tol=1e-05;, score=0.858 total time= 2.0min\n"
     ]
    },
    {
     "name": "stderr",
     "output_type": "stream",
     "text": [
      "C:\\Users\\anaso\\anaconda3\\lib\\site-packages\\sklearn\\linear_model\\_sag.py:350: ConvergenceWarning: The max_iter was reached which means the coef_ did not converge\n",
      "  warnings.warn(\n"
     ]
    },
    {
     "name": "stdout",
     "output_type": "stream",
     "text": [
      "[CV 2/3] END C=10, multi_class=ovr, penalty=l1, solver=saga, tol=1e-05;, score=0.815 total time= 2.0min\n"
     ]
    },
    {
     "name": "stderr",
     "output_type": "stream",
     "text": [
      "C:\\Users\\anaso\\anaconda3\\lib\\site-packages\\sklearn\\linear_model\\_sag.py:350: ConvergenceWarning: The max_iter was reached which means the coef_ did not converge\n",
      "  warnings.warn(\n"
     ]
    },
    {
     "name": "stdout",
     "output_type": "stream",
     "text": [
      "[CV 3/3] END C=10, multi_class=ovr, penalty=l1, solver=saga, tol=1e-05;, score=0.852 total time= 2.0min\n",
      "[CV 1/3] END C=10, multi_class=ovr, penalty=l2, solver=liblinear, tol=0.001;, score=0.820 total time=   0.0s\n",
      "[CV 2/3] END C=10, multi_class=ovr, penalty=l2, solver=liblinear, tol=0.001;, score=0.822 total time=   0.0s\n",
      "[CV 3/3] END C=10, multi_class=ovr, penalty=l2, solver=liblinear, tol=0.001;, score=0.834 total time=   0.0s\n",
      "[CV 1/3] END C=10, multi_class=ovr, penalty=l2, solver=liblinear, tol=0.0001;, score=0.820 total time=   0.0s\n",
      "[CV 2/3] END C=10, multi_class=ovr, penalty=l2, solver=liblinear, tol=0.0001;, score=0.820 total time=   0.0s\n",
      "[CV 3/3] END C=10, multi_class=ovr, penalty=l2, solver=liblinear, tol=0.0001;, score=0.836 total time=   0.0s\n",
      "[CV 1/3] END C=10, multi_class=ovr, penalty=l2, solver=liblinear, tol=1e-05;, score=0.820 total time=   0.0s\n",
      "[CV 2/3] END C=10, multi_class=ovr, penalty=l2, solver=liblinear, tol=1e-05;, score=0.818 total time=   0.0s\n",
      "[CV 3/3] END C=10, multi_class=ovr, penalty=l2, solver=liblinear, tol=1e-05;, score=0.838 total time=   0.0s\n",
      "[CV 1/3] END C=10, multi_class=ovr, penalty=l2, solver=saga, tol=0.001;, score=0.827 total time=   0.3s\n",
      "[CV 2/3] END C=10, multi_class=ovr, penalty=l2, solver=saga, tol=0.001;, score=0.820 total time=   0.3s\n",
      "[CV 3/3] END C=10, multi_class=ovr, penalty=l2, solver=saga, tol=0.001;, score=0.838 total time=   0.3s\n",
      "[CV 1/3] END C=10, multi_class=ovr, penalty=l2, solver=saga, tol=0.0001;, score=0.824 total time=   2.6s\n",
      "[CV 2/3] END C=10, multi_class=ovr, penalty=l2, solver=saga, tol=0.0001;, score=0.820 total time=   2.4s\n",
      "[CV 3/3] END C=10, multi_class=ovr, penalty=l2, solver=saga, tol=0.0001;, score=0.840 total time=   2.5s\n"
     ]
    },
    {
     "name": "stderr",
     "output_type": "stream",
     "text": [
      "C:\\Users\\anaso\\anaconda3\\lib\\site-packages\\sklearn\\linear_model\\_sag.py:350: ConvergenceWarning: The max_iter was reached which means the coef_ did not converge\n",
      "  warnings.warn(\n"
     ]
    },
    {
     "name": "stdout",
     "output_type": "stream",
     "text": [
      "[CV 1/3] END C=10, multi_class=ovr, penalty=l2, solver=saga, tol=1e-05;, score=0.824 total time=  10.0s\n"
     ]
    },
    {
     "name": "stderr",
     "output_type": "stream",
     "text": [
      "C:\\Users\\anaso\\anaconda3\\lib\\site-packages\\sklearn\\linear_model\\_sag.py:350: ConvergenceWarning: The max_iter was reached which means the coef_ did not converge\n",
      "  warnings.warn(\n"
     ]
    },
    {
     "name": "stdout",
     "output_type": "stream",
     "text": [
      "[CV 2/3] END C=10, multi_class=ovr, penalty=l2, solver=saga, tol=1e-05;, score=0.820 total time=  10.0s\n"
     ]
    },
    {
     "name": "stderr",
     "output_type": "stream",
     "text": [
      "C:\\Users\\anaso\\anaconda3\\lib\\site-packages\\sklearn\\linear_model\\_sag.py:350: ConvergenceWarning: The max_iter was reached which means the coef_ did not converge\n",
      "  warnings.warn(\n"
     ]
    },
    {
     "name": "stdout",
     "output_type": "stream",
     "text": [
      "[CV 3/3] END C=10, multi_class=ovr, penalty=l2, solver=saga, tol=1e-05;, score=0.840 total time=  10.0s\n",
      "[CV 1/3] END C=10, multi_class=auto, penalty=l1, solver=liblinear, tol=0.001;, score=0.826 total time=   0.0s\n",
      "[CV 2/3] END C=10, multi_class=auto, penalty=l1, solver=liblinear, tol=0.001;, score=0.802 total time=   0.0s\n",
      "[CV 3/3] END C=10, multi_class=auto, penalty=l1, solver=liblinear, tol=0.001;, score=0.829 total time=   0.0s\n",
      "[CV 1/3] END C=10, multi_class=auto, penalty=l1, solver=liblinear, tol=0.0001;, score=0.831 total time=   0.0s\n",
      "[CV 2/3] END C=10, multi_class=auto, penalty=l1, solver=liblinear, tol=0.0001;, score=0.788 total time=   0.0s\n",
      "[CV 3/3] END C=10, multi_class=auto, penalty=l1, solver=liblinear, tol=0.0001;, score=0.822 total time=   0.0s\n",
      "[CV 1/3] END C=10, multi_class=auto, penalty=l1, solver=liblinear, tol=1e-05;, score=0.809 total time=   0.0s\n",
      "[CV 2/3] END C=10, multi_class=auto, penalty=l1, solver=liblinear, tol=1e-05;, score=0.782 total time=   0.0s\n",
      "[CV 3/3] END C=10, multi_class=auto, penalty=l1, solver=liblinear, tol=1e-05;, score=0.795 total time=   0.0s\n",
      "[CV 1/3] END C=10, multi_class=auto, penalty=l1, solver=saga, tol=0.001;, score=0.820 total time=  15.4s\n",
      "[CV 2/3] END C=10, multi_class=auto, penalty=l1, solver=saga, tol=0.001;, score=0.817 total time=  15.4s\n",
      "[CV 3/3] END C=10, multi_class=auto, penalty=l1, solver=saga, tol=0.001;, score=0.843 total time=  15.3s\n"
     ]
    },
    {
     "name": "stderr",
     "output_type": "stream",
     "text": [
      "C:\\Users\\anaso\\anaconda3\\lib\\site-packages\\sklearn\\linear_model\\_sag.py:350: ConvergenceWarning: The max_iter was reached which means the coef_ did not converge\n",
      "  warnings.warn(\n"
     ]
    },
    {
     "name": "stdout",
     "output_type": "stream",
     "text": [
      "[CV 1/3] END C=10, multi_class=auto, penalty=l1, solver=saga, tol=0.0001;, score=0.858 total time= 2.0min\n",
      "[CV 2/3] END C=10, multi_class=auto, penalty=l1, solver=saga, tol=0.0001;, score=0.811 total time= 2.0min\n",
      "[CV 3/3] END C=10, multi_class=auto, penalty=l1, solver=saga, tol=0.0001;, score=0.854 total time= 2.0min\n"
     ]
    },
    {
     "name": "stderr",
     "output_type": "stream",
     "text": [
      "C:\\Users\\anaso\\anaconda3\\lib\\site-packages\\sklearn\\linear_model\\_sag.py:350: ConvergenceWarning: The max_iter was reached which means the coef_ did not converge\n",
      "  warnings.warn(\n"
     ]
    },
    {
     "name": "stdout",
     "output_type": "stream",
     "text": [
      "[CV 1/3] END C=10, multi_class=auto, penalty=l1, solver=saga, tol=1e-05;, score=0.858 total time= 2.1min\n"
     ]
    },
    {
     "name": "stderr",
     "output_type": "stream",
     "text": [
      "C:\\Users\\anaso\\anaconda3\\lib\\site-packages\\sklearn\\linear_model\\_sag.py:350: ConvergenceWarning: The max_iter was reached which means the coef_ did not converge\n",
      "  warnings.warn(\n"
     ]
    },
    {
     "name": "stdout",
     "output_type": "stream",
     "text": [
      "[CV 2/3] END C=10, multi_class=auto, penalty=l1, solver=saga, tol=1e-05;, score=0.815 total time= 2.1min\n"
     ]
    },
    {
     "name": "stderr",
     "output_type": "stream",
     "text": [
      "C:\\Users\\anaso\\anaconda3\\lib\\site-packages\\sklearn\\linear_model\\_sag.py:350: ConvergenceWarning: The max_iter was reached which means the coef_ did not converge\n",
      "  warnings.warn(\n"
     ]
    },
    {
     "name": "stdout",
     "output_type": "stream",
     "text": [
      "[CV 3/3] END C=10, multi_class=auto, penalty=l1, solver=saga, tol=1e-05;, score=0.852 total time= 2.1min\n",
      "[CV 1/3] END C=10, multi_class=auto, penalty=l2, solver=liblinear, tol=0.001;, score=0.820 total time=   0.0s\n",
      "[CV 2/3] END C=10, multi_class=auto, penalty=l2, solver=liblinear, tol=0.001;, score=0.822 total time=   0.0s\n",
      "[CV 3/3] END C=10, multi_class=auto, penalty=l2, solver=liblinear, tol=0.001;, score=0.834 total time=   0.0s\n",
      "[CV 1/3] END C=10, multi_class=auto, penalty=l2, solver=liblinear, tol=0.0001;, score=0.820 total time=   0.0s\n",
      "[CV 2/3] END C=10, multi_class=auto, penalty=l2, solver=liblinear, tol=0.0001;, score=0.820 total time=   0.0s\n",
      "[CV 3/3] END C=10, multi_class=auto, penalty=l2, solver=liblinear, tol=0.0001;, score=0.836 total time=   0.0s\n",
      "[CV 1/3] END C=10, multi_class=auto, penalty=l2, solver=liblinear, tol=1e-05;, score=0.820 total time=   0.0s\n",
      "[CV 2/3] END C=10, multi_class=auto, penalty=l2, solver=liblinear, tol=1e-05;, score=0.818 total time=   0.0s\n",
      "[CV 3/3] END C=10, multi_class=auto, penalty=l2, solver=liblinear, tol=1e-05;, score=0.838 total time=   0.0s\n",
      "[CV 1/3] END C=10, multi_class=auto, penalty=l2, solver=saga, tol=0.001;, score=0.827 total time=   0.3s\n",
      "[CV 2/3] END C=10, multi_class=auto, penalty=l2, solver=saga, tol=0.001;, score=0.820 total time=   0.3s\n",
      "[CV 3/3] END C=10, multi_class=auto, penalty=l2, solver=saga, tol=0.001;, score=0.838 total time=   0.3s\n",
      "[CV 1/3] END C=10, multi_class=auto, penalty=l2, solver=saga, tol=0.0001;, score=0.824 total time=   2.5s\n",
      "[CV 2/3] END C=10, multi_class=auto, penalty=l2, solver=saga, tol=0.0001;, score=0.820 total time=   2.5s\n",
      "[CV 3/3] END C=10, multi_class=auto, penalty=l2, solver=saga, tol=0.0001;, score=0.840 total time=   3.1s\n"
     ]
    },
    {
     "name": "stderr",
     "output_type": "stream",
     "text": [
      "C:\\Users\\anaso\\anaconda3\\lib\\site-packages\\sklearn\\linear_model\\_sag.py:350: ConvergenceWarning: The max_iter was reached which means the coef_ did not converge\n",
      "  warnings.warn(\n"
     ]
    },
    {
     "name": "stdout",
     "output_type": "stream",
     "text": [
      "[CV 1/3] END C=10, multi_class=auto, penalty=l2, solver=saga, tol=1e-05;, score=0.824 total time=  10.2s\n"
     ]
    },
    {
     "name": "stderr",
     "output_type": "stream",
     "text": [
      "C:\\Users\\anaso\\anaconda3\\lib\\site-packages\\sklearn\\linear_model\\_sag.py:350: ConvergenceWarning: The max_iter was reached which means the coef_ did not converge\n",
      "  warnings.warn(\n"
     ]
    },
    {
     "name": "stdout",
     "output_type": "stream",
     "text": [
      "[CV 2/3] END C=10, multi_class=auto, penalty=l2, solver=saga, tol=1e-05;, score=0.820 total time=  10.1s\n"
     ]
    },
    {
     "name": "stderr",
     "output_type": "stream",
     "text": [
      "C:\\Users\\anaso\\anaconda3\\lib\\site-packages\\sklearn\\linear_model\\_sag.py:350: ConvergenceWarning: The max_iter was reached which means the coef_ did not converge\n",
      "  warnings.warn(\n"
     ]
    },
    {
     "name": "stdout",
     "output_type": "stream",
     "text": [
      "[CV 3/3] END C=10, multi_class=auto, penalty=l2, solver=saga, tol=1e-05;, score=0.840 total time=   9.8s\n",
      "[CV 1/3] END C=100, multi_class=ovr, penalty=l1, solver=liblinear, tol=0.001;, score=0.777 total time=   0.0s\n",
      "[CV 2/3] END C=100, multi_class=ovr, penalty=l1, solver=liblinear, tol=0.001;, score=0.763 total time=   0.0s\n",
      "[CV 3/3] END C=100, multi_class=ovr, penalty=l1, solver=liblinear, tol=0.001;, score=0.775 total time=   0.0s\n",
      "[CV 1/3] END C=100, multi_class=ovr, penalty=l1, solver=liblinear, tol=0.0001;, score=0.835 total time=   0.0s\n",
      "[CV 2/3] END C=100, multi_class=ovr, penalty=l1, solver=liblinear, tol=0.0001;, score=0.797 total time=   0.0s\n",
      "[CV 3/3] END C=100, multi_class=ovr, penalty=l1, solver=liblinear, tol=0.0001;, score=0.820 total time=   0.0s\n",
      "[CV 1/3] END C=100, multi_class=ovr, penalty=l1, solver=liblinear, tol=1e-05;, score=0.827 total time=   0.0s\n",
      "[CV 2/3] END C=100, multi_class=ovr, penalty=l1, solver=liblinear, tol=1e-05;, score=0.795 total time=   0.0s\n",
      "[CV 3/3] END C=100, multi_class=ovr, penalty=l1, solver=liblinear, tol=1e-05;, score=0.804 total time=   0.0s\n",
      "[CV 1/3] END C=100, multi_class=ovr, penalty=l1, solver=saga, tol=0.001;, score=0.827 total time=  16.3s\n",
      "[CV 2/3] END C=100, multi_class=ovr, penalty=l1, solver=saga, tol=0.001;, score=0.820 total time=  16.2s\n",
      "[CV 3/3] END C=100, multi_class=ovr, penalty=l1, solver=saga, tol=0.001;, score=0.838 total time=  16.1s\n",
      "[CV 1/3] END C=100, multi_class=ovr, penalty=l1, solver=saga, tol=0.0001;, score=0.822 total time= 1.9min\n",
      "[CV 2/3] END C=100, multi_class=ovr, penalty=l1, solver=saga, tol=0.0001;, score=0.818 total time= 2.0min\n",
      "[CV 3/3] END C=100, multi_class=ovr, penalty=l1, solver=saga, tol=0.0001;, score=0.841 total time= 2.0min\n"
     ]
    },
    {
     "name": "stderr",
     "output_type": "stream",
     "text": [
      "C:\\Users\\anaso\\anaconda3\\lib\\site-packages\\sklearn\\linear_model\\_sag.py:350: ConvergenceWarning: The max_iter was reached which means the coef_ did not converge\n",
      "  warnings.warn(\n"
     ]
    },
    {
     "name": "stdout",
     "output_type": "stream",
     "text": [
      "[CV 1/3] END C=100, multi_class=ovr, penalty=l1, solver=saga, tol=1e-05;, score=0.820 total time= 5.1min\n"
     ]
    },
    {
     "name": "stderr",
     "output_type": "stream",
     "text": [
      "C:\\Users\\anaso\\anaconda3\\lib\\site-packages\\sklearn\\linear_model\\_sag.py:350: ConvergenceWarning: The max_iter was reached which means the coef_ did not converge\n",
      "  warnings.warn(\n"
     ]
    },
    {
     "name": "stdout",
     "output_type": "stream",
     "text": [
      "[CV 2/3] END C=100, multi_class=ovr, penalty=l1, solver=saga, tol=1e-05;, score=0.817 total time= 5.1min\n"
     ]
    },
    {
     "name": "stderr",
     "output_type": "stream",
     "text": [
      "C:\\Users\\anaso\\anaconda3\\lib\\site-packages\\sklearn\\linear_model\\_sag.py:350: ConvergenceWarning: The max_iter was reached which means the coef_ did not converge\n",
      "  warnings.warn(\n"
     ]
    },
    {
     "name": "stdout",
     "output_type": "stream",
     "text": [
      "[CV 3/3] END C=100, multi_class=ovr, penalty=l1, solver=saga, tol=1e-05;, score=0.852 total time= 5.2min\n",
      "[CV 1/3] END C=100, multi_class=ovr, penalty=l2, solver=liblinear, tol=0.001;, score=0.820 total time=   0.0s\n",
      "[CV 2/3] END C=100, multi_class=ovr, penalty=l2, solver=liblinear, tol=0.001;, score=0.822 total time=   0.0s\n",
      "[CV 3/3] END C=100, multi_class=ovr, penalty=l2, solver=liblinear, tol=0.001;, score=0.834 total time=   0.0s\n",
      "[CV 1/3] END C=100, multi_class=ovr, penalty=l2, solver=liblinear, tol=0.0001;, score=0.818 total time=   0.0s\n",
      "[CV 2/3] END C=100, multi_class=ovr, penalty=l2, solver=liblinear, tol=0.0001;, score=0.820 total time=   0.0s\n",
      "[CV 3/3] END C=100, multi_class=ovr, penalty=l2, solver=liblinear, tol=0.0001;, score=0.834 total time=   0.0s\n",
      "[CV 1/3] END C=100, multi_class=ovr, penalty=l2, solver=liblinear, tol=1e-05;, score=0.820 total time=   0.0s\n",
      "[CV 2/3] END C=100, multi_class=ovr, penalty=l2, solver=liblinear, tol=1e-05;, score=0.818 total time=   0.0s\n",
      "[CV 3/3] END C=100, multi_class=ovr, penalty=l2, solver=liblinear, tol=1e-05;, score=0.836 total time=   0.0s\n",
      "[CV 1/3] END C=100, multi_class=ovr, penalty=l2, solver=saga, tol=0.001;, score=0.827 total time=   0.3s\n",
      "[CV 2/3] END C=100, multi_class=ovr, penalty=l2, solver=saga, tol=0.001;, score=0.820 total time=   0.3s\n",
      "[CV 3/3] END C=100, multi_class=ovr, penalty=l2, solver=saga, tol=0.001;, score=0.838 total time=   0.3s\n",
      "[CV 1/3] END C=100, multi_class=ovr, penalty=l2, solver=saga, tol=0.0001;, score=0.824 total time=   2.6s\n",
      "[CV 2/3] END C=100, multi_class=ovr, penalty=l2, solver=saga, tol=0.0001;, score=0.820 total time=   2.8s\n",
      "[CV 3/3] END C=100, multi_class=ovr, penalty=l2, solver=saga, tol=0.0001;, score=0.840 total time=   2.6s\n"
     ]
    },
    {
     "name": "stderr",
     "output_type": "stream",
     "text": [
      "C:\\Users\\anaso\\anaconda3\\lib\\site-packages\\sklearn\\linear_model\\_sag.py:350: ConvergenceWarning: The max_iter was reached which means the coef_ did not converge\n",
      "  warnings.warn(\n"
     ]
    },
    {
     "name": "stdout",
     "output_type": "stream",
     "text": [
      "[CV 1/3] END C=100, multi_class=ovr, penalty=l2, solver=saga, tol=1e-05;, score=0.824 total time=  10.5s\n"
     ]
    },
    {
     "name": "stderr",
     "output_type": "stream",
     "text": [
      "C:\\Users\\anaso\\anaconda3\\lib\\site-packages\\sklearn\\linear_model\\_sag.py:350: ConvergenceWarning: The max_iter was reached which means the coef_ did not converge\n",
      "  warnings.warn(\n"
     ]
    },
    {
     "name": "stdout",
     "output_type": "stream",
     "text": [
      "[CV 2/3] END C=100, multi_class=ovr, penalty=l2, solver=saga, tol=1e-05;, score=0.820 total time=  10.3s\n"
     ]
    },
    {
     "name": "stderr",
     "output_type": "stream",
     "text": [
      "C:\\Users\\anaso\\anaconda3\\lib\\site-packages\\sklearn\\linear_model\\_sag.py:350: ConvergenceWarning: The max_iter was reached which means the coef_ did not converge\n",
      "  warnings.warn(\n"
     ]
    },
    {
     "name": "stdout",
     "output_type": "stream",
     "text": [
      "[CV 3/3] END C=100, multi_class=ovr, penalty=l2, solver=saga, tol=1e-05;, score=0.840 total time=  10.6s\n",
      "[CV 1/3] END C=100, multi_class=auto, penalty=l1, solver=liblinear, tol=0.001;, score=0.777 total time=   0.0s\n",
      "[CV 2/3] END C=100, multi_class=auto, penalty=l1, solver=liblinear, tol=0.001;, score=0.763 total time=   0.0s\n",
      "[CV 3/3] END C=100, multi_class=auto, penalty=l1, solver=liblinear, tol=0.001;, score=0.775 total time=   0.0s\n",
      "[CV 1/3] END C=100, multi_class=auto, penalty=l1, solver=liblinear, tol=0.0001;, score=0.835 total time=   0.0s\n",
      "[CV 2/3] END C=100, multi_class=auto, penalty=l1, solver=liblinear, tol=0.0001;, score=0.797 total time=   0.0s\n",
      "[CV 3/3] END C=100, multi_class=auto, penalty=l1, solver=liblinear, tol=0.0001;, score=0.820 total time=   0.0s\n",
      "[CV 1/3] END C=100, multi_class=auto, penalty=l1, solver=liblinear, tol=1e-05;, score=0.827 total time=   0.0s\n",
      "[CV 2/3] END C=100, multi_class=auto, penalty=l1, solver=liblinear, tol=1e-05;, score=0.795 total time=   0.0s\n",
      "[CV 3/3] END C=100, multi_class=auto, penalty=l1, solver=liblinear, tol=1e-05;, score=0.804 total time=   0.0s\n",
      "[CV 1/3] END C=100, multi_class=auto, penalty=l1, solver=saga, tol=0.001;, score=0.827 total time=  16.6s\n",
      "[CV 2/3] END C=100, multi_class=auto, penalty=l1, solver=saga, tol=0.001;, score=0.820 total time=  16.8s\n",
      "[CV 3/3] END C=100, multi_class=auto, penalty=l1, solver=saga, tol=0.001;, score=0.838 total time=  16.9s\n",
      "[CV 1/3] END C=100, multi_class=auto, penalty=l1, solver=saga, tol=0.0001;, score=0.822 total time= 2.1min\n",
      "[CV 2/3] END C=100, multi_class=auto, penalty=l1, solver=saga, tol=0.0001;, score=0.818 total time= 2.1min\n",
      "[CV 3/3] END C=100, multi_class=auto, penalty=l1, solver=saga, tol=0.0001;, score=0.841 total time= 2.0min\n"
     ]
    },
    {
     "name": "stderr",
     "output_type": "stream",
     "text": [
      "C:\\Users\\anaso\\anaconda3\\lib\\site-packages\\sklearn\\linear_model\\_sag.py:350: ConvergenceWarning: The max_iter was reached which means the coef_ did not converge\n",
      "  warnings.warn(\n"
     ]
    },
    {
     "name": "stdout",
     "output_type": "stream",
     "text": [
      "[CV 1/3] END C=100, multi_class=auto, penalty=l1, solver=saga, tol=1e-05;, score=0.820 total time= 5.0min\n"
     ]
    },
    {
     "name": "stderr",
     "output_type": "stream",
     "text": [
      "C:\\Users\\anaso\\anaconda3\\lib\\site-packages\\sklearn\\linear_model\\_sag.py:350: ConvergenceWarning: The max_iter was reached which means the coef_ did not converge\n",
      "  warnings.warn(\n"
     ]
    },
    {
     "name": "stdout",
     "output_type": "stream",
     "text": [
      "[CV 2/3] END C=100, multi_class=auto, penalty=l1, solver=saga, tol=1e-05;, score=0.817 total time= 5.3min\n"
     ]
    },
    {
     "name": "stderr",
     "output_type": "stream",
     "text": [
      "C:\\Users\\anaso\\anaconda3\\lib\\site-packages\\sklearn\\linear_model\\_sag.py:350: ConvergenceWarning: The max_iter was reached which means the coef_ did not converge\n",
      "  warnings.warn(\n"
     ]
    },
    {
     "name": "stdout",
     "output_type": "stream",
     "text": [
      "[CV 3/3] END C=100, multi_class=auto, penalty=l1, solver=saga, tol=1e-05;, score=0.852 total time= 5.2min\n",
      "[CV 1/3] END C=100, multi_class=auto, penalty=l2, solver=liblinear, tol=0.001;, score=0.820 total time=   0.0s\n",
      "[CV 2/3] END C=100, multi_class=auto, penalty=l2, solver=liblinear, tol=0.001;, score=0.822 total time=   0.0s\n",
      "[CV 3/3] END C=100, multi_class=auto, penalty=l2, solver=liblinear, tol=0.001;, score=0.834 total time=   0.0s\n",
      "[CV 1/3] END C=100, multi_class=auto, penalty=l2, solver=liblinear, tol=0.0001;, score=0.818 total time=   0.0s\n",
      "[CV 2/3] END C=100, multi_class=auto, penalty=l2, solver=liblinear, tol=0.0001;, score=0.820 total time=   0.0s\n",
      "[CV 3/3] END C=100, multi_class=auto, penalty=l2, solver=liblinear, tol=0.0001;, score=0.834 total time=   0.0s\n",
      "[CV 1/3] END C=100, multi_class=auto, penalty=l2, solver=liblinear, tol=1e-05;, score=0.820 total time=   0.0s\n",
      "[CV 2/3] END C=100, multi_class=auto, penalty=l2, solver=liblinear, tol=1e-05;, score=0.818 total time=   0.0s\n",
      "[CV 3/3] END C=100, multi_class=auto, penalty=l2, solver=liblinear, tol=1e-05;, score=0.836 total time=   0.0s\n",
      "[CV 1/3] END C=100, multi_class=auto, penalty=l2, solver=saga, tol=0.001;, score=0.827 total time=   0.4s\n",
      "[CV 2/3] END C=100, multi_class=auto, penalty=l2, solver=saga, tol=0.001;, score=0.820 total time=   0.3s\n",
      "[CV 3/3] END C=100, multi_class=auto, penalty=l2, solver=saga, tol=0.001;, score=0.838 total time=   0.3s\n",
      "[CV 1/3] END C=100, multi_class=auto, penalty=l2, solver=saga, tol=0.0001;, score=0.824 total time=   2.7s\n",
      "[CV 2/3] END C=100, multi_class=auto, penalty=l2, solver=saga, tol=0.0001;, score=0.820 total time=   2.7s\n",
      "[CV 3/3] END C=100, multi_class=auto, penalty=l2, solver=saga, tol=0.0001;, score=0.840 total time=   2.7s\n"
     ]
    },
    {
     "name": "stderr",
     "output_type": "stream",
     "text": [
      "C:\\Users\\anaso\\anaconda3\\lib\\site-packages\\sklearn\\linear_model\\_sag.py:350: ConvergenceWarning: The max_iter was reached which means the coef_ did not converge\n",
      "  warnings.warn(\n"
     ]
    },
    {
     "name": "stdout",
     "output_type": "stream",
     "text": [
      "[CV 1/3] END C=100, multi_class=auto, penalty=l2, solver=saga, tol=1e-05;, score=0.824 total time=  11.0s\n"
     ]
    },
    {
     "name": "stderr",
     "output_type": "stream",
     "text": [
      "C:\\Users\\anaso\\anaconda3\\lib\\site-packages\\sklearn\\linear_model\\_sag.py:350: ConvergenceWarning: The max_iter was reached which means the coef_ did not converge\n",
      "  warnings.warn(\n"
     ]
    },
    {
     "name": "stdout",
     "output_type": "stream",
     "text": [
      "[CV 2/3] END C=100, multi_class=auto, penalty=l2, solver=saga, tol=1e-05;, score=0.820 total time=  11.3s\n"
     ]
    },
    {
     "name": "stderr",
     "output_type": "stream",
     "text": [
      "C:\\Users\\anaso\\anaconda3\\lib\\site-packages\\sklearn\\linear_model\\_sag.py:350: ConvergenceWarning: The max_iter was reached which means the coef_ did not converge\n",
      "  warnings.warn(\n"
     ]
    },
    {
     "name": "stdout",
     "output_type": "stream",
     "text": [
      "[CV 3/3] END C=100, multi_class=auto, penalty=l2, solver=saga, tol=1e-05;, score=0.840 total time=  10.7s\n"
     ]
    },
    {
     "name": "stderr",
     "output_type": "stream",
     "text": [
      "C:\\Users\\anaso\\anaconda3\\lib\\site-packages\\sklearn\\linear_model\\_sag.py:350: ConvergenceWarning: The max_iter was reached which means the coef_ did not converge\n",
      "  warnings.warn(\n"
     ]
    },
    {
     "data": {
      "text/html": [
       "<style>#sk-container-id-1 {color: black;background-color: white;}#sk-container-id-1 pre{padding: 0;}#sk-container-id-1 div.sk-toggleable {background-color: white;}#sk-container-id-1 label.sk-toggleable__label {cursor: pointer;display: block;width: 100%;margin-bottom: 0;padding: 0.3em;box-sizing: border-box;text-align: center;}#sk-container-id-1 label.sk-toggleable__label-arrow:before {content: \"▸\";float: left;margin-right: 0.25em;color: #696969;}#sk-container-id-1 label.sk-toggleable__label-arrow:hover:before {color: black;}#sk-container-id-1 div.sk-estimator:hover label.sk-toggleable__label-arrow:before {color: black;}#sk-container-id-1 div.sk-toggleable__content {max-height: 0;max-width: 0;overflow: hidden;text-align: left;background-color: #f0f8ff;}#sk-container-id-1 div.sk-toggleable__content pre {margin: 0.2em;color: black;border-radius: 0.25em;background-color: #f0f8ff;}#sk-container-id-1 input.sk-toggleable__control:checked~div.sk-toggleable__content {max-height: 200px;max-width: 100%;overflow: auto;}#sk-container-id-1 input.sk-toggleable__control:checked~label.sk-toggleable__label-arrow:before {content: \"▾\";}#sk-container-id-1 div.sk-estimator input.sk-toggleable__control:checked~label.sk-toggleable__label {background-color: #d4ebff;}#sk-container-id-1 div.sk-label input.sk-toggleable__control:checked~label.sk-toggleable__label {background-color: #d4ebff;}#sk-container-id-1 input.sk-hidden--visually {border: 0;clip: rect(1px 1px 1px 1px);clip: rect(1px, 1px, 1px, 1px);height: 1px;margin: -1px;overflow: hidden;padding: 0;position: absolute;width: 1px;}#sk-container-id-1 div.sk-estimator {font-family: monospace;background-color: #f0f8ff;border: 1px dotted black;border-radius: 0.25em;box-sizing: border-box;margin-bottom: 0.5em;}#sk-container-id-1 div.sk-estimator:hover {background-color: #d4ebff;}#sk-container-id-1 div.sk-parallel-item::after {content: \"\";width: 100%;border-bottom: 1px solid gray;flex-grow: 1;}#sk-container-id-1 div.sk-label:hover label.sk-toggleable__label {background-color: #d4ebff;}#sk-container-id-1 div.sk-serial::before {content: \"\";position: absolute;border-left: 1px solid gray;box-sizing: border-box;top: 0;bottom: 0;left: 50%;z-index: 0;}#sk-container-id-1 div.sk-serial {display: flex;flex-direction: column;align-items: center;background-color: white;padding-right: 0.2em;padding-left: 0.2em;position: relative;}#sk-container-id-1 div.sk-item {position: relative;z-index: 1;}#sk-container-id-1 div.sk-parallel {display: flex;align-items: stretch;justify-content: center;background-color: white;position: relative;}#sk-container-id-1 div.sk-item::before, #sk-container-id-1 div.sk-parallel-item::before {content: \"\";position: absolute;border-left: 1px solid gray;box-sizing: border-box;top: 0;bottom: 0;left: 50%;z-index: -1;}#sk-container-id-1 div.sk-parallel-item {display: flex;flex-direction: column;z-index: 1;position: relative;background-color: white;}#sk-container-id-1 div.sk-parallel-item:first-child::after {align-self: flex-end;width: 50%;}#sk-container-id-1 div.sk-parallel-item:last-child::after {align-self: flex-start;width: 50%;}#sk-container-id-1 div.sk-parallel-item:only-child::after {width: 0;}#sk-container-id-1 div.sk-dashed-wrapped {border: 1px dashed gray;margin: 0 0.4em 0.5em 0.4em;box-sizing: border-box;padding-bottom: 0.4em;background-color: white;}#sk-container-id-1 div.sk-label label {font-family: monospace;font-weight: bold;display: inline-block;line-height: 1.2em;}#sk-container-id-1 div.sk-label-container {text-align: center;}#sk-container-id-1 div.sk-container {/* jupyter's `normalize.less` sets `[hidden] { display: none; }` but bootstrap.min.css set `[hidden] { display: none !important; }` so we also need the `!important` here to be able to override the default hidden behavior on the sphinx rendered scikit-learn.org. See: https://github.com/scikit-learn/scikit-learn/issues/21755 */display: inline-block !important;position: relative;}#sk-container-id-1 div.sk-text-repr-fallback {display: none;}</style><div id=\"sk-container-id-1\" class=\"sk-top-container\"><div class=\"sk-text-repr-fallback\"><pre>GridSearchCV(cv=3, estimator=LogisticRegression(max_iter=5000, random_state=42),\n",
       "             param_grid={&#x27;C&#x27;: [0.01, 0.1, 1, 10, 100],\n",
       "                         &#x27;multi_class&#x27;: [&#x27;ovr&#x27;, &#x27;auto&#x27;],\n",
       "                         &#x27;penalty&#x27;: [&#x27;l1&#x27;, &#x27;l2&#x27;],\n",
       "                         &#x27;solver&#x27;: [&#x27;liblinear&#x27;, &#x27;saga&#x27;],\n",
       "                         &#x27;tol&#x27;: [0.001, 0.0001, 1e-05]},\n",
       "             verbose=3)</pre><b>In a Jupyter environment, please rerun this cell to show the HTML representation or trust the notebook. <br />On GitHub, the HTML representation is unable to render, please try loading this page with nbviewer.org.</b></div><div class=\"sk-container\" hidden><div class=\"sk-item sk-dashed-wrapped\"><div class=\"sk-label-container\"><div class=\"sk-label sk-toggleable\"><input class=\"sk-toggleable__control sk-hidden--visually\" id=\"sk-estimator-id-1\" type=\"checkbox\" ><label for=\"sk-estimator-id-1\" class=\"sk-toggleable__label sk-toggleable__label-arrow\">GridSearchCV</label><div class=\"sk-toggleable__content\"><pre>GridSearchCV(cv=3, estimator=LogisticRegression(max_iter=5000, random_state=42),\n",
       "             param_grid={&#x27;C&#x27;: [0.01, 0.1, 1, 10, 100],\n",
       "                         &#x27;multi_class&#x27;: [&#x27;ovr&#x27;, &#x27;auto&#x27;],\n",
       "                         &#x27;penalty&#x27;: [&#x27;l1&#x27;, &#x27;l2&#x27;],\n",
       "                         &#x27;solver&#x27;: [&#x27;liblinear&#x27;, &#x27;saga&#x27;],\n",
       "                         &#x27;tol&#x27;: [0.001, 0.0001, 1e-05]},\n",
       "             verbose=3)</pre></div></div></div><div class=\"sk-parallel\"><div class=\"sk-parallel-item\"><div class=\"sk-item\"><div class=\"sk-label-container\"><div class=\"sk-label sk-toggleable\"><input class=\"sk-toggleable__control sk-hidden--visually\" id=\"sk-estimator-id-2\" type=\"checkbox\" ><label for=\"sk-estimator-id-2\" class=\"sk-toggleable__label sk-toggleable__label-arrow\">estimator: LogisticRegression</label><div class=\"sk-toggleable__content\"><pre>LogisticRegression(max_iter=5000, random_state=42)</pre></div></div></div><div class=\"sk-serial\"><div class=\"sk-item\"><div class=\"sk-estimator sk-toggleable\"><input class=\"sk-toggleable__control sk-hidden--visually\" id=\"sk-estimator-id-3\" type=\"checkbox\" ><label for=\"sk-estimator-id-3\" class=\"sk-toggleable__label sk-toggleable__label-arrow\">LogisticRegression</label><div class=\"sk-toggleable__content\"><pre>LogisticRegression(max_iter=5000, random_state=42)</pre></div></div></div></div></div></div></div></div></div></div>"
      ],
      "text/plain": [
       "GridSearchCV(cv=3, estimator=LogisticRegression(max_iter=5000, random_state=42),\n",
       "             param_grid={'C': [0.01, 0.1, 1, 10, 100],\n",
       "                         'multi_class': ['ovr', 'auto'],\n",
       "                         'penalty': ['l1', 'l2'],\n",
       "                         'solver': ['liblinear', 'saga'],\n",
       "                         'tol': [0.001, 0.0001, 1e-05]},\n",
       "             verbose=3)"
      ]
     },
     "execution_count": 9,
     "metadata": {},
     "output_type": "execute_result"
    }
   ],
   "source": [
    "param_grid = {'penalty': ['l1', 'l2'], \n",
    "            'tol': [1e-3, 1e-4, 1e-5], \n",
    "            'C': [0.01, 0.1, 1, 10, 100], \n",
    "            'solver': ['liblinear', 'saga'],\n",
    "             'multi_class': ['ovr', 'auto']}\n",
    "\n",
    "grid = GridSearchCV(LogisticRegression(max_iter=5000, random_state=42), param_grid, cv=3, verbose=3)\n",
    "grid.fit(corpus_validacao_s, y_validacao)"
   ]
  },
  {
   "cell_type": "code",
   "execution_count": 10,
   "id": "065b680b-a052-484a-bbcc-14840e6c9a1b",
   "metadata": {},
   "outputs": [
    {
     "name": "stdout",
     "output_type": "stream",
     "text": [
      "LogisticRegression(C=10, max_iter=5000, multi_class='ovr', penalty='l1',\n",
      "                   random_state=42, solver='saga', tol=1e-05)\n"
     ]
    }
   ],
   "source": [
    "print(grid.best_estimator_)"
   ]
  },
  {
   "cell_type": "markdown",
   "id": "a53738bf-3325-4c37-a7aa-712a1049defc",
   "metadata": {},
   "source": [
    "- Treino"
   ]
  },
  {
   "cell_type": "code",
   "execution_count": 11,
   "id": "8e3322c8-d384-429d-9e67-d43b49702247",
   "metadata": {},
   "outputs": [
    {
     "name": "stdout",
     "output_type": "stream",
     "text": [
      "Score treino: 1.0\n"
     ]
    }
   ],
   "source": [
    "lr = LogisticRegression(max_iter=5000, C=10, penalty='l2', solver='liblinear', tol=1e-3).fit(corpus_treino_s, y_treino)\n",
    "\n",
    "lr_y_treino_e = lr.predict(corpus_treino_s)\n",
    "\n",
    "print(\"Score treino:\", lr.score(corpus_treino_s, y_treino))\n"
   ]
  },
  {
   "cell_type": "markdown",
   "id": "b3f83da8-87a8-4551-8f15-1cb722177b86",
   "metadata": {},
   "source": [
    "- Teste e Avaliação"
   ]
  },
  {
   "cell_type": "code",
   "execution_count": 12,
   "id": "e7f71854-21f7-4242-a2bc-0c345dff8b18",
   "metadata": {},
   "outputs": [],
   "source": [
    "lr_fpr, lr_tpr, _ = roc_curve(y_teste, lr.predict_proba(corpus_teste_s)[:, 1])\n",
    "\n",
    "lr_y_teste_e = lr.predict(corpus_teste_s)\n"
   ]
  },
  {
   "cell_type": "code",
   "execution_count": 42,
   "id": "86a8096a-9926-486e-a268-b99fd46c4388",
   "metadata": {},
   "outputs": [
    {
     "name": "stdout",
     "output_type": "stream",
     "text": [
      "Treino\n",
      "Número de erros: 0\n",
      "Precisão:  1.0\n"
     ]
    },
    {
     "data": {
      "image/png": "[encoded data removed]",
      "text/plain": [
       "<Figure size 640x480 with 2 Axes>"
      ]
     },
     "metadata": {},
     "output_type": "display_data"
    }
   ],
   "source": [
    "print(\"Treino\")\n",
    "\n",
    "erros_treino_lr = np.round(np.sum(y_treino != lr_y_treino_e), 3)\n",
    "precisao_treino_lr = np.round(accuracy_score(y_treino,lr_y_treino_e), 3)\n",
    "matriz_confusao = confusion_matrix(y_treino, lr_y_treino_e)\n",
    "tn_treino_lr, fp_treino_lr, fn_treino_lr, tp_treino_lr = matriz_confusao.ravel()\n",
    "\n",
    "print(\"Número de erros:\", erros_treino_lr)\n",
    "print(\"Precisão: \", precisao_treino_lr)\n",
    "disp = ConfusionMatrixDisplay(matriz_confusao)\n",
    "disp.plot()\n",
    "plt.show()"
   ]
  },
  {
   "cell_type": "code",
   "execution_count": 43,
   "id": "a76fbbfb-f21c-4574-ae6c-d7f6e1df04e8",
   "metadata": {},
   "outputs": [
    {
     "name": "stdout",
     "output_type": "stream",
     "text": [
      "Teste\n",
      "Número de erros: 259\n",
      "Precisão:  0.845\n"
     ]
    },
    {
     "data": {
      "image/png": "[encoded data removed]",
      "text/plain": [
       "<Figure size 640x480 with 2 Axes>"
      ]
     },
     "metadata": {},
     "output_type": "display_data"
    }
   ],
   "source": [
    "print(\"Teste\")\n",
    "\n",
    "erros_teste_lr = np.round(np.sum(y_teste != lr_y_teste_e), 3)\n",
    "precisao_teste_lr = np.round(accuracy_score(y_teste,lr_y_teste_e), 3)\n",
    "matriz_confusao = confusion_matrix(y_teste, lr_y_teste_e)\n",
    "tn_teste_lr, fp_teste_lr, fn_teste_lr, tp_teste_lr = matriz_confusao.ravel()\n",
    "\n",
    "tpr_teste_lr = tp_teste_lr/(tp_teste_lr + fp_teste_lr)\n",
    "fpr_teste_lr = fp_teste_lr/(fp_teste_lr + tn_teste_lr)\n",
    "\n",
    "print(\"Número de erros:\", erros_teste_lr)\n",
    "print(\"Precisão: \", precisao_teste_lr)\n",
    "disp = ConfusionMatrixDisplay(matriz_confusao, display_labels=np.unique(y_teste))\n",
    "disp.plot()\n",
    "plt.show()"
   ]
  },
  {
   "cell_type": "markdown",
   "id": "a752bb50-0e7a-4414-8157-efa127d288ec",
   "metadata": {},
   "source": [
    "# Classificador LinearSVC"
   ]
  },
  {
   "cell_type": "markdown",
   "id": "b5c03fea-408a-4b90-a0ed-0c82cbc57f80",
   "metadata": {},
   "source": [
    "- Resultados sem paramtrização do classificador"
   ]
  },
  {
   "cell_type": "code",
   "execution_count": 15,
   "id": "14d16815-286b-4551-830d-ff1140038478",
   "metadata": {},
   "outputs": [
    {
     "name": "stdout",
     "output_type": "stream",
     "text": [
      "Mean cross-validation accuracy: 0.86\n"
     ]
    }
   ],
   "source": [
    "scores = cross_val_score(LinearSVC(max_iter=5000), corpus_treino_p, y_treino, cv=5)\n",
    "print(\"Mean cross-validation accuracy: {:.2f}\".format(np.mean(scores)))"
   ]
  },
  {
   "cell_type": "markdown",
   "id": "a3c3915d-39be-4976-84ad-d0842327d38a",
   "metadata": {},
   "source": [
    "- Ajuste dos parametros"
   ]
  },
  {
   "cell_type": "code",
   "execution_count": 16,
   "id": "7903f378-9e15-46d7-a268-28a8d12b18ae",
   "metadata": {},
   "outputs": [
    {
     "name": "stdout",
     "output_type": "stream",
     "text": [
      "Fitting 3 folds for each of 40 candidates, totalling 120 fits\n",
      "[CV 1/3] END C=0.01, loss=hinge, multi_class=ovr, penalty=l2, tol=0.001;, score=0.820 total time=   0.0s\n",
      "[CV 2/3] END C=0.01, loss=hinge, multi_class=ovr, penalty=l2, tol=0.001;, score=0.581 total time=   0.0s\n",
      "[CV 3/3] END C=0.01, loss=hinge, multi_class=ovr, penalty=l2, tol=0.001;, score=0.690 total time=   0.0s\n",
      "[CV 1/3] END C=0.01, loss=hinge, multi_class=ovr, penalty=l2, tol=0.0001;, score=0.820 total time=   0.0s\n",
      "[CV 2/3] END C=0.01, loss=hinge, multi_class=ovr, penalty=l2, tol=0.0001;, score=0.581 total time=   0.0s\n",
      "[CV 3/3] END C=0.01, loss=hinge, multi_class=ovr, penalty=l2, tol=0.0001;, score=0.690 total time=   0.0s\n",
      "[CV 1/3] END C=0.01, loss=hinge, multi_class=ovr, penalty=l2, tol=1e-05;, score=0.820 total time=   0.0s\n",
      "[CV 2/3] END C=0.01, loss=hinge, multi_class=ovr, penalty=l2, tol=1e-05;, score=0.581 total time=   0.0s\n",
      "[CV 3/3] END C=0.01, loss=hinge, multi_class=ovr, penalty=l2, tol=1e-05;, score=0.690 total time=   0.0s\n",
      "[CV 1/3] END C=0.01, loss=hinge, multi_class=ovr, penalty=l2, tol=1e-06;, score=0.820 total time=   0.0s\n",
      "[CV 2/3] END C=0.01, loss=hinge, multi_class=ovr, penalty=l2, tol=1e-06;, score=0.581 total time=   0.0s\n",
      "[CV 3/3] END C=0.01, loss=hinge, multi_class=ovr, penalty=l2, tol=1e-06;, score=0.690 total time=   0.0s\n",
      "[CV 1/3] END C=0.01, loss=squared_hinge, multi_class=ovr, penalty=l2, tol=0.001;, score=0.838 total time=   0.0s\n",
      "[CV 2/3] END C=0.01, loss=squared_hinge, multi_class=ovr, penalty=l2, tol=0.001;, score=0.804 total time=   0.0s\n",
      "[CV 3/3] END C=0.01, loss=squared_hinge, multi_class=ovr, penalty=l2, tol=0.001;, score=0.814 total time=   0.0s\n",
      "[CV 1/3] END C=0.01, loss=squared_hinge, multi_class=ovr, penalty=l2, tol=0.0001;, score=0.838 total time=   0.0s\n",
      "[CV 2/3] END C=0.01, loss=squared_hinge, multi_class=ovr, penalty=l2, tol=0.0001;, score=0.804 total time=   0.0s\n",
      "[CV 3/3] END C=0.01, loss=squared_hinge, multi_class=ovr, penalty=l2, tol=0.0001;, score=0.814 total time=   0.0s\n",
      "[CV 1/3] END C=0.01, loss=squared_hinge, multi_class=ovr, penalty=l2, tol=1e-05;, score=0.838 total time=   0.0s\n",
      "[CV 2/3] END C=0.01, loss=squared_hinge, multi_class=ovr, penalty=l2, tol=1e-05;, score=0.804 total time=   0.0s\n",
      "[CV 3/3] END C=0.01, loss=squared_hinge, multi_class=ovr, penalty=l2, tol=1e-05;, score=0.814 total time=   0.0s\n",
      "[CV 1/3] END C=0.01, loss=squared_hinge, multi_class=ovr, penalty=l2, tol=1e-06;, score=0.838 total time=   0.0s\n",
      "[CV 2/3] END C=0.01, loss=squared_hinge, multi_class=ovr, penalty=l2, tol=1e-06;, score=0.804 total time=   0.0s\n",
      "[CV 3/3] END C=0.01, loss=squared_hinge, multi_class=ovr, penalty=l2, tol=1e-06;, score=0.814 total time=   0.0s\n",
      "[CV 1/3] END C=0.1, loss=hinge, multi_class=ovr, penalty=l2, tol=0.001;, score=0.820 total time=   0.0s\n",
      "[CV 2/3] END C=0.1, loss=hinge, multi_class=ovr, penalty=l2, tol=0.001;, score=0.581 total time=   0.0s\n",
      "[CV 3/3] END C=0.1, loss=hinge, multi_class=ovr, penalty=l2, tol=0.001;, score=0.690 total time=   0.0s\n",
      "[CV 1/3] END C=0.1, loss=hinge, multi_class=ovr, penalty=l2, tol=0.0001;, score=0.820 total time=   0.0s\n",
      "[CV 2/3] END C=0.1, loss=hinge, multi_class=ovr, penalty=l2, tol=0.0001;, score=0.581 total time=   0.0s\n",
      "[CV 3/3] END C=0.1, loss=hinge, multi_class=ovr, penalty=l2, tol=0.0001;, score=0.690 total time=   0.0s\n",
      "[CV 1/3] END C=0.1, loss=hinge, multi_class=ovr, penalty=l2, tol=1e-05;, score=0.820 total time=   0.0s\n",
      "[CV 2/3] END C=0.1, loss=hinge, multi_class=ovr, penalty=l2, tol=1e-05;, score=0.581 total time=   0.0s\n",
      "[CV 3/3] END C=0.1, loss=hinge, multi_class=ovr, penalty=l2, tol=1e-05;, score=0.690 total time=   0.0s\n",
      "[CV 1/3] END C=0.1, loss=hinge, multi_class=ovr, penalty=l2, tol=1e-06;, score=0.820 total time=   0.0s\n",
      "[CV 2/3] END C=0.1, loss=hinge, multi_class=ovr, penalty=l2, tol=1e-06;, score=0.581 total time=   0.0s\n",
      "[CV 3/3] END C=0.1, loss=hinge, multi_class=ovr, penalty=l2, tol=1e-06;, score=0.690 total time=   0.0s\n",
      "[CV 1/3] END C=0.1, loss=squared_hinge, multi_class=ovr, penalty=l2, tol=0.001;, score=0.849 total time=   0.0s\n",
      "[CV 2/3] END C=0.1, loss=squared_hinge, multi_class=ovr, penalty=l2, tol=0.001;, score=0.836 total time=   0.0s\n",
      "[CV 3/3] END C=0.1, loss=squared_hinge, multi_class=ovr, penalty=l2, tol=0.001;, score=0.829 total time=   0.0s\n",
      "[CV 1/3] END C=0.1, loss=squared_hinge, multi_class=ovr, penalty=l2, tol=0.0001;, score=0.849 total time=   0.0s\n",
      "[CV 2/3] END C=0.1, loss=squared_hinge, multi_class=ovr, penalty=l2, tol=0.0001;, score=0.836 total time=   0.0s\n",
      "[CV 3/3] END C=0.1, loss=squared_hinge, multi_class=ovr, penalty=l2, tol=0.0001;, score=0.829 total time=   0.0s\n",
      "[CV 1/3] END C=0.1, loss=squared_hinge, multi_class=ovr, penalty=l2, tol=1e-05;, score=0.849 total time=   0.0s\n",
      "[CV 2/3] END C=0.1, loss=squared_hinge, multi_class=ovr, penalty=l2, tol=1e-05;, score=0.836 total time=   0.0s\n",
      "[CV 3/3] END C=0.1, loss=squared_hinge, multi_class=ovr, penalty=l2, tol=1e-05;, score=0.829 total time=   0.0s\n",
      "[CV 1/3] END C=0.1, loss=squared_hinge, multi_class=ovr, penalty=l2, tol=1e-06;, score=0.849 total time=   0.0s\n",
      "[CV 2/3] END C=0.1, loss=squared_hinge, multi_class=ovr, penalty=l2, tol=1e-06;, score=0.836 total time=   0.0s\n",
      "[CV 3/3] END C=0.1, loss=squared_hinge, multi_class=ovr, penalty=l2, tol=1e-06;, score=0.829 total time=   0.0s\n",
      "[CV 1/3] END C=1, loss=hinge, multi_class=ovr, penalty=l2, tol=0.001;, score=0.845 total time=   0.0s\n",
      "[CV 2/3] END C=1, loss=hinge, multi_class=ovr, penalty=l2, tol=0.001;, score=0.851 total time=   0.0s\n",
      "[CV 3/3] END C=1, loss=hinge, multi_class=ovr, penalty=l2, tol=0.001;, score=0.834 total time=   0.0s\n",
      "[CV 1/3] END C=1, loss=hinge, multi_class=ovr, penalty=l2, tol=0.0001;, score=0.845 total time=   0.0s\n",
      "[CV 2/3] END C=1, loss=hinge, multi_class=ovr, penalty=l2, tol=0.0001;, score=0.851 total time=   0.0s\n",
      "[CV 3/3] END C=1, loss=hinge, multi_class=ovr, penalty=l2, tol=0.0001;, score=0.834 total time=   0.0s\n",
      "[CV 1/3] END C=1, loss=hinge, multi_class=ovr, penalty=l2, tol=1e-05;, score=0.845 total time=   0.0s\n",
      "[CV 2/3] END C=1, loss=hinge, multi_class=ovr, penalty=l2, tol=1e-05;, score=0.851 total time=   0.0s\n",
      "[CV 3/3] END C=1, loss=hinge, multi_class=ovr, penalty=l2, tol=1e-05;, score=0.834 total time=   0.0s\n",
      "[CV 1/3] END C=1, loss=hinge, multi_class=ovr, penalty=l2, tol=1e-06;, score=0.845 total time=   0.0s\n",
      "[CV 2/3] END C=1, loss=hinge, multi_class=ovr, penalty=l2, tol=1e-06;, score=0.851 total time=   0.0s\n",
      "[CV 3/3] END C=1, loss=hinge, multi_class=ovr, penalty=l2, tol=1e-06;, score=0.834 total time=   0.0s\n",
      "[CV 1/3] END C=1, loss=squared_hinge, multi_class=ovr, penalty=l2, tol=0.001;, score=0.854 total time=   0.0s\n",
      "[CV 2/3] END C=1, loss=squared_hinge, multi_class=ovr, penalty=l2, tol=0.001;, score=0.849 total time=   0.0s\n",
      "[CV 3/3] END C=1, loss=squared_hinge, multi_class=ovr, penalty=l2, tol=0.001;, score=0.838 total time=   0.0s\n",
      "[CV 1/3] END C=1, loss=squared_hinge, multi_class=ovr, penalty=l2, tol=0.0001;, score=0.854 total time=   0.0s\n",
      "[CV 2/3] END C=1, loss=squared_hinge, multi_class=ovr, penalty=l2, tol=0.0001;, score=0.849 total time=   0.0s\n",
      "[CV 3/3] END C=1, loss=squared_hinge, multi_class=ovr, penalty=l2, tol=0.0001;, score=0.838 total time=   0.0s\n",
      "[CV 1/3] END C=1, loss=squared_hinge, multi_class=ovr, penalty=l2, tol=1e-05;, score=0.854 total time=   0.0s\n",
      "[CV 2/3] END C=1, loss=squared_hinge, multi_class=ovr, penalty=l2, tol=1e-05;, score=0.849 total time=   0.0s\n",
      "[CV 3/3] END C=1, loss=squared_hinge, multi_class=ovr, penalty=l2, tol=1e-05;, score=0.838 total time=   0.0s\n",
      "[CV 1/3] END C=1, loss=squared_hinge, multi_class=ovr, penalty=l2, tol=1e-06;, score=0.854 total time=   0.0s\n",
      "[CV 2/3] END C=1, loss=squared_hinge, multi_class=ovr, penalty=l2, tol=1e-06;, score=0.849 total time=   0.0s\n",
      "[CV 3/3] END C=1, loss=squared_hinge, multi_class=ovr, penalty=l2, tol=1e-06;, score=0.838 total time=   0.0s\n",
      "[CV 1/3] END C=10, loss=hinge, multi_class=ovr, penalty=l2, tol=0.001;, score=0.847 total time=   0.0s\n",
      "[CV 2/3] END C=10, loss=hinge, multi_class=ovr, penalty=l2, tol=0.001;, score=0.842 total time=   0.0s\n",
      "[CV 3/3] END C=10, loss=hinge, multi_class=ovr, penalty=l2, tol=0.001;, score=0.834 total time=   0.0s\n",
      "[CV 1/3] END C=10, loss=hinge, multi_class=ovr, penalty=l2, tol=0.0001;, score=0.847 total time=   0.0s\n",
      "[CV 2/3] END C=10, loss=hinge, multi_class=ovr, penalty=l2, tol=0.0001;, score=0.842 total time=   0.0s\n",
      "[CV 3/3] END C=10, loss=hinge, multi_class=ovr, penalty=l2, tol=0.0001;, score=0.834 total time=   0.0s\n",
      "[CV 1/3] END C=10, loss=hinge, multi_class=ovr, penalty=l2, tol=1e-05;, score=0.847 total time=   0.0s\n",
      "[CV 2/3] END C=10, loss=hinge, multi_class=ovr, penalty=l2, tol=1e-05;, score=0.842 total time=   0.0s\n"
     ]
    },
    {
     "name": "stdout",
     "output_type": "stream",
     "text": [
      "[CV 3/3] END C=10, loss=hinge, multi_class=ovr, penalty=l2, tol=1e-05;, score=0.834 total time=   0.0s\n",
      "[CV 1/3] END C=10, loss=hinge, multi_class=ovr, penalty=l2, tol=1e-06;, score=0.847 total time=   0.0s\n",
      "[CV 2/3] END C=10, loss=hinge, multi_class=ovr, penalty=l2, tol=1e-06;, score=0.842 total time=   0.0s\n",
      "[CV 3/3] END C=10, loss=hinge, multi_class=ovr, penalty=l2, tol=1e-06;, score=0.834 total time=   0.0s\n",
      "[CV 1/3] END C=10, loss=squared_hinge, multi_class=ovr, penalty=l2, tol=0.001;, score=0.851 total time=   0.0s\n",
      "[CV 2/3] END C=10, loss=squared_hinge, multi_class=ovr, penalty=l2, tol=0.001;, score=0.842 total time=   0.0s\n",
      "[CV 3/3] END C=10, loss=squared_hinge, multi_class=ovr, penalty=l2, tol=0.001;, score=0.834 total time=   0.0s\n",
      "[CV 1/3] END C=10, loss=squared_hinge, multi_class=ovr, penalty=l2, tol=0.0001;, score=0.851 total time=   0.0s\n",
      "[CV 2/3] END C=10, loss=squared_hinge, multi_class=ovr, penalty=l2, tol=0.0001;, score=0.842 total time=   0.0s\n",
      "[CV 3/3] END C=10, loss=squared_hinge, multi_class=ovr, penalty=l2, tol=0.0001;, score=0.834 total time=   0.0s\n",
      "[CV 1/3] END C=10, loss=squared_hinge, multi_class=ovr, penalty=l2, tol=1e-05;, score=0.851 total time=   0.0s\n",
      "[CV 2/3] END C=10, loss=squared_hinge, multi_class=ovr, penalty=l2, tol=1e-05;, score=0.842 total time=   0.0s\n",
      "[CV 3/3] END C=10, loss=squared_hinge, multi_class=ovr, penalty=l2, tol=1e-05;, score=0.834 total time=   0.0s\n",
      "[CV 1/3] END C=10, loss=squared_hinge, multi_class=ovr, penalty=l2, tol=1e-06;, score=0.851 total time=   0.0s\n",
      "[CV 2/3] END C=10, loss=squared_hinge, multi_class=ovr, penalty=l2, tol=1e-06;, score=0.842 total time=   0.0s\n",
      "[CV 3/3] END C=10, loss=squared_hinge, multi_class=ovr, penalty=l2, tol=1e-06;, score=0.834 total time=   0.0s\n",
      "[CV 1/3] END C=100, loss=hinge, multi_class=ovr, penalty=l2, tol=0.001;, score=0.847 total time=   0.0s\n",
      "[CV 2/3] END C=100, loss=hinge, multi_class=ovr, penalty=l2, tol=0.001;, score=0.842 total time=   0.0s\n",
      "[CV 3/3] END C=100, loss=hinge, multi_class=ovr, penalty=l2, tol=0.001;, score=0.834 total time=   0.0s\n",
      "[CV 1/3] END C=100, loss=hinge, multi_class=ovr, penalty=l2, tol=0.0001;, score=0.847 total time=   0.0s\n",
      "[CV 2/3] END C=100, loss=hinge, multi_class=ovr, penalty=l2, tol=0.0001;, score=0.842 total time=   0.0s\n",
      "[CV 3/3] END C=100, loss=hinge, multi_class=ovr, penalty=l2, tol=0.0001;, score=0.834 total time=   0.0s\n",
      "[CV 1/3] END C=100, loss=hinge, multi_class=ovr, penalty=l2, tol=1e-05;, score=0.847 total time=   0.0s\n",
      "[CV 2/3] END C=100, loss=hinge, multi_class=ovr, penalty=l2, tol=1e-05;, score=0.842 total time=   0.0s\n",
      "[CV 3/3] END C=100, loss=hinge, multi_class=ovr, penalty=l2, tol=1e-05;, score=0.834 total time=   0.0s\n",
      "[CV 1/3] END C=100, loss=hinge, multi_class=ovr, penalty=l2, tol=1e-06;, score=0.847 total time=   0.0s\n",
      "[CV 2/3] END C=100, loss=hinge, multi_class=ovr, penalty=l2, tol=1e-06;, score=0.842 total time=   0.0s\n",
      "[CV 3/3] END C=100, loss=hinge, multi_class=ovr, penalty=l2, tol=1e-06;, score=0.834 total time=   0.0s\n",
      "[CV 1/3] END C=100, loss=squared_hinge, multi_class=ovr, penalty=l2, tol=0.001;, score=0.847 total time=   0.0s\n",
      "[CV 2/3] END C=100, loss=squared_hinge, multi_class=ovr, penalty=l2, tol=0.001;, score=0.842 total time=   0.0s\n",
      "[CV 3/3] END C=100, loss=squared_hinge, multi_class=ovr, penalty=l2, tol=0.001;, score=0.834 total time=   0.0s\n",
      "[CV 1/3] END C=100, loss=squared_hinge, multi_class=ovr, penalty=l2, tol=0.0001;, score=0.847 total time=   0.0s\n",
      "[CV 2/3] END C=100, loss=squared_hinge, multi_class=ovr, penalty=l2, tol=0.0001;, score=0.842 total time=   0.0s\n",
      "[CV 3/3] END C=100, loss=squared_hinge, multi_class=ovr, penalty=l2, tol=0.0001;, score=0.834 total time=   0.0s\n",
      "[CV 1/3] END C=100, loss=squared_hinge, multi_class=ovr, penalty=l2, tol=1e-05;, score=0.847 total time=   0.0s\n",
      "[CV 2/3] END C=100, loss=squared_hinge, multi_class=ovr, penalty=l2, tol=1e-05;, score=0.842 total time=   0.0s\n",
      "[CV 3/3] END C=100, loss=squared_hinge, multi_class=ovr, penalty=l2, tol=1e-05;, score=0.834 total time=   0.0s\n",
      "[CV 1/3] END C=100, loss=squared_hinge, multi_class=ovr, penalty=l2, tol=1e-06;, score=0.847 total time=   0.0s\n",
      "[CV 2/3] END C=100, loss=squared_hinge, multi_class=ovr, penalty=l2, tol=1e-06;, score=0.842 total time=   0.0s\n",
      "[CV 3/3] END C=100, loss=squared_hinge, multi_class=ovr, penalty=l2, tol=1e-06;, score=0.834 total time=   0.0s\n"
     ]
    },
    {
     "data": {
      "text/html": [
       "<style>#sk-container-id-2 {color: black;background-color: white;}#sk-container-id-2 pre{padding: 0;}#sk-container-id-2 div.sk-toggleable {background-color: white;}#sk-container-id-2 label.sk-toggleable__label {cursor: pointer;display: block;width: 100%;margin-bottom: 0;padding: 0.3em;box-sizing: border-box;text-align: center;}#sk-container-id-2 label.sk-toggleable__label-arrow:before {content: \"▸\";float: left;margin-right: 0.25em;color: #696969;}#sk-container-id-2 label.sk-toggleable__label-arrow:hover:before {color: black;}#sk-container-id-2 div.sk-estimator:hover label.sk-toggleable__label-arrow:before {color: black;}#sk-container-id-2 div.sk-toggleable__content {max-height: 0;max-width: 0;overflow: hidden;text-align: left;background-color: #f0f8ff;}#sk-container-id-2 div.sk-toggleable__content pre {margin: 0.2em;color: black;border-radius: 0.25em;background-color: #f0f8ff;}#sk-container-id-2 input.sk-toggleable__control:checked~div.sk-toggleable__content {max-height: 200px;max-width: 100%;overflow: auto;}#sk-container-id-2 input.sk-toggleable__control:checked~label.sk-toggleable__label-arrow:before {content: \"▾\";}#sk-container-id-2 div.sk-estimator input.sk-toggleable__control:checked~label.sk-toggleable__label {background-color: #d4ebff;}#sk-container-id-2 div.sk-label input.sk-toggleable__control:checked~label.sk-toggleable__label {background-color: #d4ebff;}#sk-container-id-2 input.sk-hidden--visually {border: 0;clip: rect(1px 1px 1px 1px);clip: rect(1px, 1px, 1px, 1px);height: 1px;margin: -1px;overflow: hidden;padding: 0;position: absolute;width: 1px;}#sk-container-id-2 div.sk-estimator {font-family: monospace;background-color: #f0f8ff;border: 1px dotted black;border-radius: 0.25em;box-sizing: border-box;margin-bottom: 0.5em;}#sk-container-id-2 div.sk-estimator:hover {background-color: #d4ebff;}#sk-container-id-2 div.sk-parallel-item::after {content: \"\";width: 100%;border-bottom: 1px solid gray;flex-grow: 1;}#sk-container-id-2 div.sk-label:hover label.sk-toggleable__label {background-color: #d4ebff;}#sk-container-id-2 div.sk-serial::before {content: \"\";position: absolute;border-left: 1px solid gray;box-sizing: border-box;top: 0;bottom: 0;left: 50%;z-index: 0;}#sk-container-id-2 div.sk-serial {display: flex;flex-direction: column;align-items: center;background-color: white;padding-right: 0.2em;padding-left: 0.2em;position: relative;}#sk-container-id-2 div.sk-item {position: relative;z-index: 1;}#sk-container-id-2 div.sk-parallel {display: flex;align-items: stretch;justify-content: center;background-color: white;position: relative;}#sk-container-id-2 div.sk-item::before, #sk-container-id-2 div.sk-parallel-item::before {content: \"\";position: absolute;border-left: 1px solid gray;box-sizing: border-box;top: 0;bottom: 0;left: 50%;z-index: -1;}#sk-container-id-2 div.sk-parallel-item {display: flex;flex-direction: column;z-index: 1;position: relative;background-color: white;}#sk-container-id-2 div.sk-parallel-item:first-child::after {align-self: flex-end;width: 50%;}#sk-container-id-2 div.sk-parallel-item:last-child::after {align-self: flex-start;width: 50%;}#sk-container-id-2 div.sk-parallel-item:only-child::after {width: 0;}#sk-container-id-2 div.sk-dashed-wrapped {border: 1px dashed gray;margin: 0 0.4em 0.5em 0.4em;box-sizing: border-box;padding-bottom: 0.4em;background-color: white;}#sk-container-id-2 div.sk-label label {font-family: monospace;font-weight: bold;display: inline-block;line-height: 1.2em;}#sk-container-id-2 div.sk-label-container {text-align: center;}#sk-container-id-2 div.sk-container {/* jupyter's `normalize.less` sets `[hidden] { display: none; }` but bootstrap.min.css set `[hidden] { display: none !important; }` so we also need the `!important` here to be able to override the default hidden behavior on the sphinx rendered scikit-learn.org. See: https://github.com/scikit-learn/scikit-learn/issues/21755 */display: inline-block !important;position: relative;}#sk-container-id-2 div.sk-text-repr-fallback {display: none;}</style><div id=\"sk-container-id-2\" class=\"sk-top-container\"><div class=\"sk-text-repr-fallback\"><pre>GridSearchCV(cv=3, estimator=LinearSVC(max_iter=5000, random_state=42),\n",
       "             param_grid={&#x27;C&#x27;: [0.01, 0.1, 1, 10, 100],\n",
       "                         &#x27;loss&#x27;: [&#x27;hinge&#x27;, &#x27;squared_hinge&#x27;],\n",
       "                         &#x27;multi_class&#x27;: [&#x27;ovr&#x27;], &#x27;penalty&#x27;: [&#x27;l2&#x27;],\n",
       "                         &#x27;tol&#x27;: [0.001, 0.0001, 1e-05, 1e-06]},\n",
       "             verbose=3)</pre><b>In a Jupyter environment, please rerun this cell to show the HTML representation or trust the notebook. <br />On GitHub, the HTML representation is unable to render, please try loading this page with nbviewer.org.</b></div><div class=\"sk-container\" hidden><div class=\"sk-item sk-dashed-wrapped\"><div class=\"sk-label-container\"><div class=\"sk-label sk-toggleable\"><input class=\"sk-toggleable__control sk-hidden--visually\" id=\"sk-estimator-id-4\" type=\"checkbox\" ><label for=\"sk-estimator-id-4\" class=\"sk-toggleable__label sk-toggleable__label-arrow\">GridSearchCV</label><div class=\"sk-toggleable__content\"><pre>GridSearchCV(cv=3, estimator=LinearSVC(max_iter=5000, random_state=42),\n",
       "             param_grid={&#x27;C&#x27;: [0.01, 0.1, 1, 10, 100],\n",
       "                         &#x27;loss&#x27;: [&#x27;hinge&#x27;, &#x27;squared_hinge&#x27;],\n",
       "                         &#x27;multi_class&#x27;: [&#x27;ovr&#x27;], &#x27;penalty&#x27;: [&#x27;l2&#x27;],\n",
       "                         &#x27;tol&#x27;: [0.001, 0.0001, 1e-05, 1e-06]},\n",
       "             verbose=3)</pre></div></div></div><div class=\"sk-parallel\"><div class=\"sk-parallel-item\"><div class=\"sk-item\"><div class=\"sk-label-container\"><div class=\"sk-label sk-toggleable\"><input class=\"sk-toggleable__control sk-hidden--visually\" id=\"sk-estimator-id-5\" type=\"checkbox\" ><label for=\"sk-estimator-id-5\" class=\"sk-toggleable__label sk-toggleable__label-arrow\">estimator: LinearSVC</label><div class=\"sk-toggleable__content\"><pre>LinearSVC(max_iter=5000, random_state=42)</pre></div></div></div><div class=\"sk-serial\"><div class=\"sk-item\"><div class=\"sk-estimator sk-toggleable\"><input class=\"sk-toggleable__control sk-hidden--visually\" id=\"sk-estimator-id-6\" type=\"checkbox\" ><label for=\"sk-estimator-id-6\" class=\"sk-toggleable__label sk-toggleable__label-arrow\">LinearSVC</label><div class=\"sk-toggleable__content\"><pre>LinearSVC(max_iter=5000, random_state=42)</pre></div></div></div></div></div></div></div></div></div></div>"
      ],
      "text/plain": [
       "GridSearchCV(cv=3, estimator=LinearSVC(max_iter=5000, random_state=42),\n",
       "             param_grid={'C': [0.01, 0.1, 1, 10, 100],\n",
       "                         'loss': ['hinge', 'squared_hinge'],\n",
       "                         'multi_class': ['ovr'], 'penalty': ['l2'],\n",
       "                         'tol': [0.001, 0.0001, 1e-05, 1e-06]},\n",
       "             verbose=3)"
      ]
     },
     "execution_count": 16,
     "metadata": {},
     "output_type": "execute_result"
    }
   ],
   "source": [
    "param_grid = {'penalty': ['l2'], \n",
    "              'loss': ['hinge', 'squared_hinge'],\n",
    "            'tol': [1e-3, 1e-4, 1e-5, 1e-6], \n",
    "            'C': [0.01, 0.1, 1, 10, 100], \n",
    "             'multi_class': ['ovr']}\n",
    "\n",
    "grid = GridSearchCV(LinearSVC(max_iter=5000, random_state=42), param_grid, cv=3, verbose=3)\n",
    "grid.fit(corpus_validacao_p, y_validacao)"
   ]
  },
  {
   "cell_type": "code",
   "execution_count": 17,
   "id": "8d4771a1-b31e-4171-af51-9c0432899f9b",
   "metadata": {},
   "outputs": [
    {
     "name": "stdout",
     "output_type": "stream",
     "text": [
      "Best estimator:  LinearSVC(C=1, max_iter=5000, random_state=42, tol=0.001)\n"
     ]
    }
   ],
   "source": [
    "print(\"Best estimator: \", grid.best_estimator_)"
   ]
  },
  {
   "cell_type": "markdown",
   "id": "c59c7c65-bbfd-4ee8-a8dc-53ecc176f713",
   "metadata": {},
   "source": [
    "- Treino"
   ]
  },
  {
   "cell_type": "code",
   "execution_count": 18,
   "id": "97f4f587-6961-4bc1-8804-8b67aa44d990",
   "metadata": {},
   "outputs": [
    {
     "name": "stdout",
     "output_type": "stream",
     "text": [
      "Score treino: 0.9921992199219922\n"
     ]
    }
   ],
   "source": [
    "lSvm = LinearSVC(C=1, loss='hinge', max_iter=5000, random_state=42, tol=1e-4).fit(corpus_treino_p, y_treino)\n",
    "\n",
    "lSvm_y_treino_e = lSvm.predict(corpus_treino_p)\n",
    "print(\"Score treino:\", lSvm.score(corpus_treino_p, y_treino))"
   ]
  },
  {
   "cell_type": "markdown",
   "id": "b2c3283b-5b1b-4b1c-86eb-b1ee13ca426b",
   "metadata": {},
   "source": [
    "- Teste e Avaliação"
   ]
  },
  {
   "cell_type": "code",
   "execution_count": 19,
   "id": "57e2ef91-1581-4e15-989c-9760cdcd896b",
   "metadata": {},
   "outputs": [],
   "source": [
    "lSvm_fpr, lSvm_tpr, _ = roc_curve(y_teste, lSvm.decision_function(corpus_teste_p))\n",
    "\n",
    "lSvm_y_teste_e = lSvm.predict(corpus_teste_p)"
   ]
  },
  {
   "cell_type": "code",
   "execution_count": 44,
   "id": "ef34c6cc-fcb0-46e2-bee0-ee86da905070",
   "metadata": {},
   "outputs": [
    {
     "name": "stdout",
     "output_type": "stream",
     "text": [
      "Treino\n",
      "Número de erros: 26\n",
      "Precisão:  0.992\n"
     ]
    },
    {
     "data": {
      "image/png": "[encoded data removed]",
      "text/plain": [
       "<Figure size 640x480 with 2 Axes>"
      ]
     },
     "metadata": {},
     "output_type": "display_data"
    }
   ],
   "source": [
    "print(\"Treino\")\n",
    "erros_treino_lSvm = np.round(np.sum(y_treino != lSvm_y_treino_e), 3)\n",
    "precisao_treino_lSvm = np.round(accuracy_score(y_treino,lSvm_y_treino_e), 3)\n",
    "matriz_confusao = confusion_matrix(y_treino, lSvm_y_treino_e)\n",
    "tn_treino_lSvm, fp_treino_lSvm, fn_treino_lSvm, tp_treino_lSvm = matriz_confusao.ravel()\n",
    "\n",
    "tpr_treino_lSvm = tp_treino_lSvm/(tp_treino_lSvm + fp_treino_lSvm)\n",
    "fpr_treino_lSvm = fp_treino_lSvm/(fp_treino_lSvm + tn_treino_lSvm)\n",
    "\n",
    "print(\"Número de erros:\", erros_treino_lSvm)\n",
    "print(\"Precisão: \", precisao_treino_lSvm)\n",
    "\n",
    "disp = ConfusionMatrixDisplay(matriz_confusao)\n",
    "disp.plot()\n",
    "plt.show()"
   ]
  },
  {
   "cell_type": "code",
   "execution_count": 45,
   "id": "335405a6-f78a-47a2-89c9-2338a818300d",
   "metadata": {},
   "outputs": [
    {
     "name": "stdout",
     "output_type": "stream",
     "text": [
      "Teste\n",
      "Número de erros: 226\n",
      "Precisão:  0.864\n"
     ]
    },
    {
     "data": {
      "image/png": "[encoded data removed]",
      "text/plain": [
       "<Figure size 640x480 with 2 Axes>"
      ]
     },
     "metadata": {},
     "output_type": "display_data"
    }
   ],
   "source": [
    "print(\"Teste\")\n",
    "erros_teste_lSvm = np.round(np.sum(y_teste != lSvm_y_teste_e), 3)\n",
    "precisao_teste_lSvm = np.round(accuracy_score(y_teste,lSvm_y_teste_e), 3)\n",
    "matriz_confusao = confusion_matrix(y_teste, lSvm_y_teste_e)\n",
    "tn_teste_lSvm, fp_teste_lSvm, fn_teste_lSvm, tp_teste_lSvm = matriz_confusao.ravel()\n",
    "\n",
    "print(\"Número de erros:\", erros_teste_lSvm)\n",
    "print(\"Precisão: \", precisao_teste_lSvm)\n",
    "\n",
    "tpr_teste_lSvm = tp_teste_lSvm/(tp_teste_lSvm + fp_teste_lSvm)\n",
    "fpr_teste_lSvm = fp_teste_lSvm/(fp_teste_lSvm + tn_teste_lSvm)\n",
    "\n",
    "disp = ConfusionMatrixDisplay(matriz_confusao)\n",
    "disp.plot()\n",
    "plt.show()"
   ]
  },
  {
   "cell_type": "markdown",
   "id": "b7136b75-e6a5-4f2b-9a32-39f7e41a91e4",
   "metadata": {},
   "source": [
    "# Classificador SVC"
   ]
  },
  {
   "cell_type": "markdown",
   "id": "6da81306",
   "metadata": {},
   "source": [
    "- Resultados sem parametrização do classificador"
   ]
  },
  {
   "cell_type": "code",
   "execution_count": 22,
   "id": "9422e6ea",
   "metadata": {},
   "outputs": [
    {
     "name": "stdout",
     "output_type": "stream",
     "text": [
      "Mean cross-validation accuracy: 0.85\n"
     ]
    }
   ],
   "source": [
    "scores = cross_val_score(SVC(max_iter=5000), corpus_treino_p, y_treino, cv=5)\n",
    "print(\"Mean cross-validation accuracy: {:.2f}\".format(np.mean(scores)))"
   ]
  },
  {
   "cell_type": "markdown",
   "id": "30ccd567-8780-4ee8-a139-3eb1a0ef190a",
   "metadata": {},
   "source": [
    "- Ajuste dos parametros"
   ]
  },
  {
   "cell_type": "code",
   "execution_count": 23,
   "id": "0a5b6903-e620-46ec-96fa-73707954b44e",
   "metadata": {},
   "outputs": [
    {
     "name": "stdout",
     "output_type": "stream",
     "text": [
      "Fitting 3 folds for each of 480 candidates, totalling 1440 fits\n"
     ]
    },
    {
     "data": {
      "text/html": [
       "<style>#sk-container-id-3 {color: black;background-color: white;}#sk-container-id-3 pre{padding: 0;}#sk-container-id-3 div.sk-toggleable {background-color: white;}#sk-container-id-3 label.sk-toggleable__label {cursor: pointer;display: block;width: 100%;margin-bottom: 0;padding: 0.3em;box-sizing: border-box;text-align: center;}#sk-container-id-3 label.sk-toggleable__label-arrow:before {content: \"▸\";float: left;margin-right: 0.25em;color: #696969;}#sk-container-id-3 label.sk-toggleable__label-arrow:hover:before {color: black;}#sk-container-id-3 div.sk-estimator:hover label.sk-toggleable__label-arrow:before {color: black;}#sk-container-id-3 div.sk-toggleable__content {max-height: 0;max-width: 0;overflow: hidden;text-align: left;background-color: #f0f8ff;}#sk-container-id-3 div.sk-toggleable__content pre {margin: 0.2em;color: black;border-radius: 0.25em;background-color: #f0f8ff;}#sk-container-id-3 input.sk-toggleable__control:checked~div.sk-toggleable__content {max-height: 200px;max-width: 100%;overflow: auto;}#sk-container-id-3 input.sk-toggleable__control:checked~label.sk-toggleable__label-arrow:before {content: \"▾\";}#sk-container-id-3 div.sk-estimator input.sk-toggleable__control:checked~label.sk-toggleable__label {background-color: #d4ebff;}#sk-container-id-3 div.sk-label input.sk-toggleable__control:checked~label.sk-toggleable__label {background-color: #d4ebff;}#sk-container-id-3 input.sk-hidden--visually {border: 0;clip: rect(1px 1px 1px 1px);clip: rect(1px, 1px, 1px, 1px);height: 1px;margin: -1px;overflow: hidden;padding: 0;position: absolute;width: 1px;}#sk-container-id-3 div.sk-estimator {font-family: monospace;background-color: #f0f8ff;border: 1px dotted black;border-radius: 0.25em;box-sizing: border-box;margin-bottom: 0.5em;}#sk-container-id-3 div.sk-estimator:hover {background-color: #d4ebff;}#sk-container-id-3 div.sk-parallel-item::after {content: \"\";width: 100%;border-bottom: 1px solid gray;flex-grow: 1;}#sk-container-id-3 div.sk-label:hover label.sk-toggleable__label {background-color: #d4ebff;}#sk-container-id-3 div.sk-serial::before {content: \"\";position: absolute;border-left: 1px solid gray;box-sizing: border-box;top: 0;bottom: 0;left: 50%;z-index: 0;}#sk-container-id-3 div.sk-serial {display: flex;flex-direction: column;align-items: center;background-color: white;padding-right: 0.2em;padding-left: 0.2em;position: relative;}#sk-container-id-3 div.sk-item {position: relative;z-index: 1;}#sk-container-id-3 div.sk-parallel {display: flex;align-items: stretch;justify-content: center;background-color: white;position: relative;}#sk-container-id-3 div.sk-item::before, #sk-container-id-3 div.sk-parallel-item::before {content: \"\";position: absolute;border-left: 1px solid gray;box-sizing: border-box;top: 0;bottom: 0;left: 50%;z-index: -1;}#sk-container-id-3 div.sk-parallel-item {display: flex;flex-direction: column;z-index: 1;position: relative;background-color: white;}#sk-container-id-3 div.sk-parallel-item:first-child::after {align-self: flex-end;width: 50%;}#sk-container-id-3 div.sk-parallel-item:last-child::after {align-self: flex-start;width: 50%;}#sk-container-id-3 div.sk-parallel-item:only-child::after {width: 0;}#sk-container-id-3 div.sk-dashed-wrapped {border: 1px dashed gray;margin: 0 0.4em 0.5em 0.4em;box-sizing: border-box;padding-bottom: 0.4em;background-color: white;}#sk-container-id-3 div.sk-label label {font-family: monospace;font-weight: bold;display: inline-block;line-height: 1.2em;}#sk-container-id-3 div.sk-label-container {text-align: center;}#sk-container-id-3 div.sk-container {/* jupyter's `normalize.less` sets `[hidden] { display: none; }` but bootstrap.min.css set `[hidden] { display: none !important; }` so we also need the `!important` here to be able to override the default hidden behavior on the sphinx rendered scikit-learn.org. See: https://github.com/scikit-learn/scikit-learn/issues/21755 */display: inline-block !important;position: relative;}#sk-container-id-3 div.sk-text-repr-fallback {display: none;}</style><div id=\"sk-container-id-3\" class=\"sk-top-container\"><div class=\"sk-text-repr-fallback\"><pre>GridSearchCV(cv=3, estimator=SVC(max_iter=5000, random_state=42), n_jobs=-1,\n",
       "             param_grid={&#x27;C&#x27;: [0.1, 1, 10, 100],\n",
       "                         &#x27;decision_function_shape&#x27;: [&#x27;ovr&#x27;, &#x27;ovo&#x27;],\n",
       "                         &#x27;degree&#x27;: [1, 2, 3],\n",
       "                         &#x27;gamma&#x27;: [0.001, 0.01, 0.1, 1, 10],\n",
       "                         &#x27;kernel&#x27;: [&#x27;linear&#x27;, &#x27;poly&#x27;, &#x27;rbf&#x27;, &#x27;sigmoid&#x27;]},\n",
       "             verbose=3)</pre><b>In a Jupyter environment, please rerun this cell to show the HTML representation or trust the notebook. <br />On GitHub, the HTML representation is unable to render, please try loading this page with nbviewer.org.</b></div><div class=\"sk-container\" hidden><div class=\"sk-item sk-dashed-wrapped\"><div class=\"sk-label-container\"><div class=\"sk-label sk-toggleable\"><input class=\"sk-toggleable__control sk-hidden--visually\" id=\"sk-estimator-id-7\" type=\"checkbox\" ><label for=\"sk-estimator-id-7\" class=\"sk-toggleable__label sk-toggleable__label-arrow\">GridSearchCV</label><div class=\"sk-toggleable__content\"><pre>GridSearchCV(cv=3, estimator=SVC(max_iter=5000, random_state=42), n_jobs=-1,\n",
       "             param_grid={&#x27;C&#x27;: [0.1, 1, 10, 100],\n",
       "                         &#x27;decision_function_shape&#x27;: [&#x27;ovr&#x27;, &#x27;ovo&#x27;],\n",
       "                         &#x27;degree&#x27;: [1, 2, 3],\n",
       "                         &#x27;gamma&#x27;: [0.001, 0.01, 0.1, 1, 10],\n",
       "                         &#x27;kernel&#x27;: [&#x27;linear&#x27;, &#x27;poly&#x27;, &#x27;rbf&#x27;, &#x27;sigmoid&#x27;]},\n",
       "             verbose=3)</pre></div></div></div><div class=\"sk-parallel\"><div class=\"sk-parallel-item\"><div class=\"sk-item\"><div class=\"sk-label-container\"><div class=\"sk-label sk-toggleable\"><input class=\"sk-toggleable__control sk-hidden--visually\" id=\"sk-estimator-id-8\" type=\"checkbox\" ><label for=\"sk-estimator-id-8\" class=\"sk-toggleable__label sk-toggleable__label-arrow\">estimator: SVC</label><div class=\"sk-toggleable__content\"><pre>SVC(max_iter=5000, random_state=42)</pre></div></div></div><div class=\"sk-serial\"><div class=\"sk-item\"><div class=\"sk-estimator sk-toggleable\"><input class=\"sk-toggleable__control sk-hidden--visually\" id=\"sk-estimator-id-9\" type=\"checkbox\" ><label for=\"sk-estimator-id-9\" class=\"sk-toggleable__label sk-toggleable__label-arrow\">SVC</label><div class=\"sk-toggleable__content\"><pre>SVC(max_iter=5000, random_state=42)</pre></div></div></div></div></div></div></div></div></div></div>"
      ],
      "text/plain": [
       "GridSearchCV(cv=3, estimator=SVC(max_iter=5000, random_state=42), n_jobs=-1,\n",
       "             param_grid={'C': [0.1, 1, 10, 100],\n",
       "                         'decision_function_shape': ['ovr', 'ovo'],\n",
       "                         'degree': [1, 2, 3],\n",
       "                         'gamma': [0.001, 0.01, 0.1, 1, 10],\n",
       "                         'kernel': ['linear', 'poly', 'rbf', 'sigmoid']},\n",
       "             verbose=3)"
      ]
     },
     "execution_count": 23,
     "metadata": {},
     "output_type": "execute_result"
    }
   ],
   "source": [
    "param_grid = {'C': [0.1, 1, 10, 100],\n",
    "            'decision_function_shape': ['ovr', 'ovo'],\n",
    "            'kernel': ['linear', 'poly', 'rbf', 'sigmoid'],\n",
    "            'gamma': [0.001, 0.01, 0.1, 1, 10], \n",
    "            'degree': [1, 2, 3]}\n",
    "\n",
    "grid = GridSearchCV(SVC(max_iter=5000, random_state=42), param_grid, cv=3, verbose=3, n_jobs=-1)\n",
    "grid.fit(corpus_validacao_p, y_validacao)"
   ]
  },
  {
   "cell_type": "code",
   "execution_count": 24,
   "id": "94bdd37d",
   "metadata": {},
   "outputs": [
    {
     "name": "stdout",
     "output_type": "stream",
     "text": [
      "SVC(C=10, degree=1, gamma=1, max_iter=5000, random_state=42)\n"
     ]
    }
   ],
   "source": [
    "print(grid.best_estimator_)"
   ]
  },
  {
   "cell_type": "markdown",
   "id": "735fda7c-d70f-4ff9-9d48-a5a4902039a9",
   "metadata": {},
   "source": [
    "- Treino"
   ]
  },
  {
   "cell_type": "code",
   "execution_count": 25,
   "id": "647d4c21-fb8e-4eea-8355-c1ebd1126bed",
   "metadata": {},
   "outputs": [
    {
     "name": "stdout",
     "output_type": "stream",
     "text": [
      "Score treino: 0.9921992199219922\n"
     ]
    }
   ],
   "source": [
    "svm = SVC(C=0.1, degree=1, gamma=10, kernel='poly', max_iter=5000, random_state=42).fit(corpus_treino_p, y_treino)\n",
    "\n",
    "svm_y_treino_e = svm.predict(corpus_treino_p)\n",
    "print(\"Score treino:\", svm.score(corpus_treino_p, y_treino))"
   ]
  },
  {
   "cell_type": "markdown",
   "id": "c8674cb1-8750-471a-a4db-bad632deb7d1",
   "metadata": {},
   "source": [
    "- Teste e Avaliação"
   ]
  },
  {
   "cell_type": "code",
   "execution_count": 26,
   "id": "fdf9f05d",
   "metadata": {},
   "outputs": [],
   "source": [
    "svm_fpr, svm_tpr, _ = roc_curve(y_teste, svm.decision_function(corpus_teste_p))\n",
    "\n",
    "svm_y_teste_e = svm.predict(corpus_teste_p)"
   ]
  },
  {
   "cell_type": "code",
   "execution_count": 48,
   "id": "6c5fca17",
   "metadata": {},
   "outputs": [
    {
     "name": "stdout",
     "output_type": "stream",
     "text": [
      "Treino\n",
      "Número de erros: 26\n",
      "Precisão:  0.992\n"
     ]
    },
    {
     "data": {
      "image/png": "[encoded data removed]",
      "text/plain": [
       "<Figure size 640x480 with 2 Axes>"
      ]
     },
     "metadata": {},
     "output_type": "display_data"
    }
   ],
   "source": [
    "print(\"Treino\")\n",
    "erros_treino_svm = np.round(np.sum(y_treino != svm_y_treino_e), 3)\n",
    "precisao_treino_svm = np.round(accuracy_score(y_treino,svm_y_treino_e), 3)\n",
    "matriz_confusao = confusion_matrix(y_treino, svm_y_treino_e)\n",
    "tn_treino_svm, fp_treino_svm, fn_treino_svm, tp_treino_svm = matriz_confusao.ravel()\n",
    "\n",
    "tpr_treino_svm = tp_treino_svm/(tp_treino_svm + fp_treino_svm)\n",
    "fpr_treino_svm = fp_treino_svm/(fp_treino_svm + tn_treino_svm)\n",
    "\n",
    "print(\"Número de erros:\", erros_treino_svm)\n",
    "print(\"Precisão: \", precisao_treino_svm)\n",
    "\n",
    "disp = ConfusionMatrixDisplay(matriz_confusao)\n",
    "disp.plot()\n",
    "plt.show()"
   ]
  },
  {
   "cell_type": "code",
   "execution_count": 51,
   "id": "21d6b561",
   "metadata": {
    "scrolled": true
   },
   "outputs": [
    {
     "name": "stdout",
     "output_type": "stream",
     "text": [
      "Teste\n",
      "Número de erros: 226\n",
      "Precisão:  0.864\n"
     ]
    },
    {
     "data": {
      "image/png": "[encoded data removed]",
      "text/plain": [
       "<Figure size 640x480 with 2 Axes>"
      ]
     },
     "metadata": {},
     "output_type": "display_data"
    }
   ],
   "source": [
    "print(\"Teste\")\n",
    "erros_teste_svm = np.round(np.sum(y_teste != svm_y_teste_e), 3)\n",
    "precisao_teste_svm = np.round(accuracy_score(y_teste,svm_y_teste_e), 3)\n",
    "matriz_confusao = confusion_matrix(y_teste, svm_y_teste_e)\n",
    "tn_teste_svm, fp_teste_svm, fn_teste_svm, tp_teste_svm = matriz_confusao.ravel()\n",
    "\n",
    "tpr_teste_svm = tp_teste_svm/(tp_teste_svm + fp_teste_svm)\n",
    "fpr_teste_svm = fp_teste_svm/(fp_teste_svm + tn_teste_svm)\n",
    "\n",
    "print(\"Número de erros:\", erros_teste_svm)\n",
    "print(\"Precisão: \", precisao_teste_svm)\n",
    "\n",
    "disp = ConfusionMatrixDisplay(matriz_confusao)\n",
    "disp.plot()\n",
    "plt.show()"
   ]
  },
  {
   "cell_type": "markdown",
   "id": "a20c9e2e",
   "metadata": {},
   "source": [
    "# Classificador NaiveBayes (MultinomialNB)"
   ]
  },
  {
   "cell_type": "markdown",
   "id": "959ce9b9",
   "metadata": {},
   "source": [
    "- Resultados sem parametrização do classificador"
   ]
  },
  {
   "cell_type": "code",
   "execution_count": 29,
   "id": "5b1a87b4",
   "metadata": {},
   "outputs": [
    {
     "name": "stdout",
     "output_type": "stream",
     "text": [
      "Mean cross-validation accuracy: 0.86\n"
     ]
    }
   ],
   "source": [
    "scores = cross_val_score(MultinomialNB(), corpus_treino_p, y_treino, cv=5)\n",
    "print(\"Mean cross-validation accuracy: {:.2f}\".format(np.mean(scores)))"
   ]
  },
  {
   "cell_type": "markdown",
   "id": "8c3e0684",
   "metadata": {},
   "source": [
    "- Ajuste dos parametros"
   ]
  },
  {
   "cell_type": "code",
   "execution_count": 30,
   "id": "2279a96f",
   "metadata": {},
   "outputs": [
    {
     "name": "stdout",
     "output_type": "stream",
     "text": [
      "Fitting 3 folds for each of 5 candidates, totalling 15 fits\n",
      "[CV 1/3] END .........................alpha=0.1;, score=0.847 total time=   0.0s\n",
      "[CV 2/3] END .........................alpha=0.1;, score=0.806 total time=   0.0s\n",
      "[CV 3/3] END .........................alpha=0.1;, score=0.832 total time=   0.0s\n",
      "[CV 1/3] END .........................alpha=0.2;, score=0.862 total time=   0.0s\n",
      "[CV 2/3] END .........................alpha=0.2;, score=0.818 total time=   0.0s\n",
      "[CV 3/3] END .........................alpha=0.2;, score=0.849 total time=   0.0s\n",
      "[CV 1/3] END .........................alpha=0.5;, score=0.856 total time=   0.0s\n",
      "[CV 2/3] END .........................alpha=0.5;, score=0.838 total time=   0.0s\n",
      "[CV 3/3] END .........................alpha=0.5;, score=0.861 total time=   0.0s\n",
      "[CV 1/3] END .........................alpha=0.8;, score=0.851 total time=   0.0s\n",
      "[CV 2/3] END .........................alpha=0.8;, score=0.842 total time=   0.0s\n",
      "[CV 3/3] END .........................alpha=0.8;, score=0.854 total time=   0.0s\n",
      "[CV 1/3] END .........................alpha=0.9;, score=0.854 total time=   0.0s\n",
      "[CV 2/3] END .........................alpha=0.9;, score=0.838 total time=   0.0s\n",
      "[CV 3/3] END .........................alpha=0.9;, score=0.854 total time=   0.0s\n"
     ]
    },
    {
     "data": {
      "text/html": [
       "<style>#sk-container-id-4 {color: black;background-color: white;}#sk-container-id-4 pre{padding: 0;}#sk-container-id-4 div.sk-toggleable {background-color: white;}#sk-container-id-4 label.sk-toggleable__label {cursor: pointer;display: block;width: 100%;margin-bottom: 0;padding: 0.3em;box-sizing: border-box;text-align: center;}#sk-container-id-4 label.sk-toggleable__label-arrow:before {content: \"▸\";float: left;margin-right: 0.25em;color: #696969;}#sk-container-id-4 label.sk-toggleable__label-arrow:hover:before {color: black;}#sk-container-id-4 div.sk-estimator:hover label.sk-toggleable__label-arrow:before {color: black;}#sk-container-id-4 div.sk-toggleable__content {max-height: 0;max-width: 0;overflow: hidden;text-align: left;background-color: #f0f8ff;}#sk-container-id-4 div.sk-toggleable__content pre {margin: 0.2em;color: black;border-radius: 0.25em;background-color: #f0f8ff;}#sk-container-id-4 input.sk-toggleable__control:checked~div.sk-toggleable__content {max-height: 200px;max-width: 100%;overflow: auto;}#sk-container-id-4 input.sk-toggleable__control:checked~label.sk-toggleable__label-arrow:before {content: \"▾\";}#sk-container-id-4 div.sk-estimator input.sk-toggleable__control:checked~label.sk-toggleable__label {background-color: #d4ebff;}#sk-container-id-4 div.sk-label input.sk-toggleable__control:checked~label.sk-toggleable__label {background-color: #d4ebff;}#sk-container-id-4 input.sk-hidden--visually {border: 0;clip: rect(1px 1px 1px 1px);clip: rect(1px, 1px, 1px, 1px);height: 1px;margin: -1px;overflow: hidden;padding: 0;position: absolute;width: 1px;}#sk-container-id-4 div.sk-estimator {font-family: monospace;background-color: #f0f8ff;border: 1px dotted black;border-radius: 0.25em;box-sizing: border-box;margin-bottom: 0.5em;}#sk-container-id-4 div.sk-estimator:hover {background-color: #d4ebff;}#sk-container-id-4 div.sk-parallel-item::after {content: \"\";width: 100%;border-bottom: 1px solid gray;flex-grow: 1;}#sk-container-id-4 div.sk-label:hover label.sk-toggleable__label {background-color: #d4ebff;}#sk-container-id-4 div.sk-serial::before {content: \"\";position: absolute;border-left: 1px solid gray;box-sizing: border-box;top: 0;bottom: 0;left: 50%;z-index: 0;}#sk-container-id-4 div.sk-serial {display: flex;flex-direction: column;align-items: center;background-color: white;padding-right: 0.2em;padding-left: 0.2em;position: relative;}#sk-container-id-4 div.sk-item {position: relative;z-index: 1;}#sk-container-id-4 div.sk-parallel {display: flex;align-items: stretch;justify-content: center;background-color: white;position: relative;}#sk-container-id-4 div.sk-item::before, #sk-container-id-4 div.sk-parallel-item::before {content: \"\";position: absolute;border-left: 1px solid gray;box-sizing: border-box;top: 0;bottom: 0;left: 50%;z-index: -1;}#sk-container-id-4 div.sk-parallel-item {display: flex;flex-direction: column;z-index: 1;position: relative;background-color: white;}#sk-container-id-4 div.sk-parallel-item:first-child::after {align-self: flex-end;width: 50%;}#sk-container-id-4 div.sk-parallel-item:last-child::after {align-self: flex-start;width: 50%;}#sk-container-id-4 div.sk-parallel-item:only-child::after {width: 0;}#sk-container-id-4 div.sk-dashed-wrapped {border: 1px dashed gray;margin: 0 0.4em 0.5em 0.4em;box-sizing: border-box;padding-bottom: 0.4em;background-color: white;}#sk-container-id-4 div.sk-label label {font-family: monospace;font-weight: bold;display: inline-block;line-height: 1.2em;}#sk-container-id-4 div.sk-label-container {text-align: center;}#sk-container-id-4 div.sk-container {/* jupyter's `normalize.less` sets `[hidden] { display: none; }` but bootstrap.min.css set `[hidden] { display: none !important; }` so we also need the `!important` here to be able to override the default hidden behavior on the sphinx rendered scikit-learn.org. See: https://github.com/scikit-learn/scikit-learn/issues/21755 */display: inline-block !important;position: relative;}#sk-container-id-4 div.sk-text-repr-fallback {display: none;}</style><div id=\"sk-container-id-4\" class=\"sk-top-container\"><div class=\"sk-text-repr-fallback\"><pre>GridSearchCV(cv=3, estimator=MultinomialNB(),\n",
       "             param_grid={&#x27;alpha&#x27;: [0.1, 0.2, 0.5, 0.8, 0.9]}, verbose=3)</pre><b>In a Jupyter environment, please rerun this cell to show the HTML representation or trust the notebook. <br />On GitHub, the HTML representation is unable to render, please try loading this page with nbviewer.org.</b></div><div class=\"sk-container\" hidden><div class=\"sk-item sk-dashed-wrapped\"><div class=\"sk-label-container\"><div class=\"sk-label sk-toggleable\"><input class=\"sk-toggleable__control sk-hidden--visually\" id=\"sk-estimator-id-10\" type=\"checkbox\" ><label for=\"sk-estimator-id-10\" class=\"sk-toggleable__label sk-toggleable__label-arrow\">GridSearchCV</label><div class=\"sk-toggleable__content\"><pre>GridSearchCV(cv=3, estimator=MultinomialNB(),\n",
       "             param_grid={&#x27;alpha&#x27;: [0.1, 0.2, 0.5, 0.8, 0.9]}, verbose=3)</pre></div></div></div><div class=\"sk-parallel\"><div class=\"sk-parallel-item\"><div class=\"sk-item\"><div class=\"sk-label-container\"><div class=\"sk-label sk-toggleable\"><input class=\"sk-toggleable__control sk-hidden--visually\" id=\"sk-estimator-id-11\" type=\"checkbox\" ><label for=\"sk-estimator-id-11\" class=\"sk-toggleable__label sk-toggleable__label-arrow\">estimator: MultinomialNB</label><div class=\"sk-toggleable__content\"><pre>MultinomialNB()</pre></div></div></div><div class=\"sk-serial\"><div class=\"sk-item\"><div class=\"sk-estimator sk-toggleable\"><input class=\"sk-toggleable__control sk-hidden--visually\" id=\"sk-estimator-id-12\" type=\"checkbox\" ><label for=\"sk-estimator-id-12\" class=\"sk-toggleable__label sk-toggleable__label-arrow\">MultinomialNB</label><div class=\"sk-toggleable__content\"><pre>MultinomialNB()</pre></div></div></div></div></div></div></div></div></div></div>"
      ],
      "text/plain": [
       "GridSearchCV(cv=3, estimator=MultinomialNB(),\n",
       "             param_grid={'alpha': [0.1, 0.2, 0.5, 0.8, 0.9]}, verbose=3)"
      ]
     },
     "execution_count": 30,
     "metadata": {},
     "output_type": "execute_result"
    }
   ],
   "source": [
    "param_grid = {'alpha': [0.1, 0.2, 0.5, 0.8, 0.9]}\n",
    "\n",
    "grid = GridSearchCV(MultinomialNB(), param_grid, cv=3, verbose=3)\n",
    "grid.fit(corpus_validacao_p, y_validacao)"
   ]
  },
  {
   "cell_type": "code",
   "execution_count": 31,
   "id": "b421faca",
   "metadata": {},
   "outputs": [
    {
     "name": "stdout",
     "output_type": "stream",
     "text": [
      "MultinomialNB(alpha=0.5)\n"
     ]
    }
   ],
   "source": [
    "print(grid.best_estimator_)"
   ]
  },
  {
   "cell_type": "markdown",
   "id": "241c1b24",
   "metadata": {},
   "source": [
    "- Treino"
   ]
  },
  {
   "cell_type": "code",
   "execution_count": 32,
   "id": "6bd3c735",
   "metadata": {},
   "outputs": [
    {
     "name": "stdout",
     "output_type": "stream",
     "text": [
      "Score treino: 0.9738973897389739\n"
     ]
    }
   ],
   "source": [
    "nb = MultinomialNB(alpha=0.8).fit(corpus_treino_p, y_treino)\n",
    "\n",
    "nb_y_treino_e = nb.predict(corpus_treino_p)\n",
    "print(\"Score treino:\", nb.score(corpus_treino_p, y_treino))"
   ]
  },
  {
   "cell_type": "markdown",
   "id": "fe0fdc44",
   "metadata": {},
   "source": [
    "- Teste e Avaliação"
   ]
  },
  {
   "cell_type": "code",
   "execution_count": 33,
   "id": "b5c1d374",
   "metadata": {},
   "outputs": [],
   "source": [
    "nb_fpr, nb_tpr, _ = roc_curve(y_teste, nb.predict_proba(corpus_teste_p)[:,1])\n",
    "\n",
    "nb_y_teste_e = nb.predict(corpus_teste_p)"
   ]
  },
  {
   "cell_type": "code",
   "execution_count": 52,
   "id": "06fffad8",
   "metadata": {},
   "outputs": [
    {
     "name": "stdout",
     "output_type": "stream",
     "text": [
      "Treino\n",
      "Número de erros: 87\n",
      "Precisão:  0.974\n"
     ]
    },
    {
     "data": {
      "image/png": "[encoded data removed]",
      "text/plain": [
       "<Figure size 640x480 with 2 Axes>"
      ]
     },
     "metadata": {},
     "output_type": "display_data"
    }
   ],
   "source": [
    "print(\"Treino\")\n",
    "erros_treino_nb = np.round(np.sum(y_treino != nb_y_treino_e), 3)\n",
    "precisao_treino_nb = np.round(accuracy_score(y_treino,nb_y_treino_e), 3)\n",
    "matriz_confusao = confusion_matrix(y_treino, nb_y_treino_e)\n",
    "tn_treino_nb, fp_treino_nb, fn_treino_nb, tp_treino_nb = matriz_confusao.ravel()\n",
    "\n",
    "tpr_treino_nb = tp_treino_nb/(tp_treino_nb + fp_treino_nb)\n",
    "fpr_treino_nb = fp_treino_nb/(fp_treino_nb + tn_treino_nb)\n",
    "\n",
    "print(\"Número de erros:\", erros_treino_nb)\n",
    "print(\"Precisão: \", precisao_treino_nb)\n",
    "\n",
    "disp = ConfusionMatrixDisplay(matriz_confusao)\n",
    "disp.plot()\n",
    "plt.show()"
   ]
  },
  {
   "cell_type": "code",
   "execution_count": 54,
   "id": "5b4e3f7d",
   "metadata": {
    "scrolled": true
   },
   "outputs": [
    {
     "name": "stdout",
     "output_type": "stream",
     "text": [
      "Teste\n",
      "Número de erros: 245\n",
      "Precisão:  0.853\n"
     ]
    },
    {
     "data": {
      "image/png": "[encoded data removed]",
      "text/plain": [
       "<Figure size 640x480 with 2 Axes>"
      ]
     },
     "metadata": {},
     "output_type": "display_data"
    }
   ],
   "source": [
    "print(\"Teste\")\n",
    "erros_teste_nb = np.round(np.sum(y_teste != nb_y_teste_e), 3)\n",
    "precisao_teste_nb = np.round(accuracy_score(y_teste,nb_y_teste_e), 3)\n",
    "matriz_confusao = confusion_matrix(y_teste, nb_y_teste_e)\n",
    "tn_teste_nb, fp_teste_nb, fn_teste_nb, tp_teste_nb = matriz_confusao.ravel()\n",
    "\n",
    "tpr_teste_nb = tp_teste_nb/(tp_teste_nb + fp_teste_nb)\n",
    "fpr_teste_nb = fp_teste_nb/(fp_teste_nb + tn_teste_nb)\n",
    "\n",
    "print(\"Número de erros:\", erros_teste_nb)\n",
    "print(\"Precisão: \", precisao_teste_nb)\n",
    "\n",
    "disp = ConfusionMatrixDisplay(matriz_confusao)\n",
    "disp.plot()\n",
    "plt.show()"
   ]
  },
  {
   "cell_type": "markdown",
   "id": "8fdaf15f",
   "metadata": {},
   "source": [
    "## Comparação dos Classificadores"
   ]
  },
  {
   "cell_type": "code",
   "execution_count": 36,
   "id": "f226cbc2",
   "metadata": {},
   "outputs": [
    {
     "name": "stdout",
     "output_type": "stream",
     "text": [
      "Resultados do Treino: \n",
      "\n",
      "__LogisticRegression: \n",
      "* Número de Erros: 0 / 5000 documentos\n",
      "* Prob. de Erro:  0.0 %\n",
      "* Precisão: 1.0\n",
      "\n",
      "__LinearSVC: \n",
      "* Número de Erros: 26 / 5000 documentos\n",
      "* Prob. de Erro:  0.005 %\n",
      "* Precisão: 0.992\n",
      "\n",
      "__SVC: \n",
      "* Número de Erros: 26 / 5000 documentos\n",
      "* Prob. de Erro:  0.005 %\n",
      "* Precisão: 0.992\n",
      "\n",
      "__Naive Bayes: \n",
      "* Número de Erros: 87 / 5000 documentos\n",
      "* Prob. de Erro:  0.017 %\n",
      "* Precisão: 0.974\n"
     ]
    }
   ],
   "source": [
    "print(\"Resultados do Treino: \")\n",
    "print(\"\\n__LogisticRegression: \")\n",
    "print(\"* Número de Erros:\", erros_treino_lr, \"/\", nDocs, \"documentos\")\n",
    "print(\"* Prob. de Erro: \", np.round(erros_treino_lr/nDocs, 3), \"%\")\n",
    "print(\"* Precisão:\", precisao_treino_lr)\n",
    "\n",
    "print(\"\\n__LinearSVC: \")\n",
    "print(\"* Número de Erros:\", erros_treino_lSvm, \"/\", nDocs, \"documentos\")\n",
    "print(\"* Prob. de Erro: \", np.round(erros_treino_lSvm/nDocs, 3), \"%\")\n",
    "print(\"* Precisão:\", precisao_treino_lSvm)\n",
    "\n",
    "print(\"\\n__SVC: \")\n",
    "print(\"* Número de Erros:\", erros_treino_svm, \"/\", nDocs, \"documentos\")\n",
    "print(\"* Prob. de Erro: \", np.round(erros_treino_svm/nDocs, 3), \"%\")\n",
    "print(\"* Precisão:\", precisao_treino_svm)\n",
    "\n",
    "print(\"\\n__Naive Bayes: \")\n",
    "print(\"* Número de Erros:\", erros_treino_nb, \"/\", nDocs, \"documentos\")\n",
    "print(\"* Prob. de Erro: \", np.round(erros_treino_nb/nDocs, 3), \"%\")\n",
    "print(\"* Precisão:\", precisao_treino_nb)"
   ]
  },
  {
   "cell_type": "code",
   "execution_count": 37,
   "id": "978865bf",
   "metadata": {},
   "outputs": [
    {
     "name": "stdout",
     "output_type": "stream",
     "text": [
      "Resultados do Teste: \n",
      "\n",
      "__LogisticRegression: \n",
      "* Número de Erros: 259 / 5000 documentos\n",
      "* Prob. de Erro:  0.052 %\n",
      "* Precisão: 0.845\n",
      "\n",
      "__LinearSVC: \n",
      "* Número de Erros: 226 / 5000 documentos\n",
      "* Prob. de Erro:  0.045 %\n",
      "* Precisão: 0.864\n",
      "\n",
      "__SVC: \n",
      "* Número de Erros: 226 / 5000 documentos\n",
      "* Prob. de Erro:  0.045 %\n",
      "* Precisão: 0.864\n",
      "\n",
      "__Naive Bayes: \n",
      "* Número de Erros: 245 / 5000 documentos\n",
      "* Prob. de Erro:  0.049 %\n",
      "* Precisão: 0.853\n"
     ]
    }
   ],
   "source": [
    "print(\"Resultados do Teste: \")\n",
    "print(\"\\n__LogisticRegression: \")\n",
    "print(\"* Número de Erros:\", erros_teste_lr, \"/\", nDocs, \"documentos\")\n",
    "print(\"* Prob. de Erro: \", np.round(erros_teste_lr/nDocs, 3), \"%\")\n",
    "print(\"* Precisão:\", precisao_teste_lr)\n",
    "\n",
    "print(\"\\n__LinearSVC: \")\n",
    "print(\"* Número de Erros:\", erros_teste_lSvm, \"/\", nDocs, \"documentos\")\n",
    "print(\"* Prob. de Erro: \", np.round(erros_teste_lSvm/nDocs, 3), \"%\")\n",
    "print(\"* Precisão:\", precisao_teste_lSvm)\n",
    "\n",
    "print(\"\\n__SVC: \")\n",
    "print(\"* Número de Erros:\", erros_teste_svm, \"/\", nDocs, \"documentos\")\n",
    "print(\"* Prob. de Erro: \", np.round(erros_teste_svm/nDocs, 3), \"%\")\n",
    "print(\"* Precisão:\", precisao_teste_svm)\n",
    "\n",
    "print(\"\\n__Naive Bayes: \")\n",
    "print(\"* Número de Erros:\", erros_teste_nb, \"/\", nDocs, \"documentos\")\n",
    "print(\"* Prob. de Erro: \", np.round(erros_teste_nb/nDocs, 3), \"%\")\n",
    "print(\"* Precisão:\", precisao_teste_nb)"
   ]
  },
  {
   "cell_type": "code",
   "execution_count": 40,
   "id": "c45528bc",
   "metadata": {},
   "outputs": [
    {
     "data": {
      "text/plain": [
       "<matplotlib.legend.Legend at 0x221cdb70940>"
      ]
     },
     "execution_count": 40,
     "metadata": {},
     "output_type": "execute_result"
    },
    {
     "data": {
      "image/png": "[encoded data removed]",
      "text/plain": [
       "<Figure size 640x480 with 1 Axes>"
      ]
     },
     "metadata": {},
     "output_type": "display_data"
    }
   ],
   "source": [
    "plt.figure()\n",
    "plt.title(\"ROC Curve\")\n",
    "plt.plot(lr_fpr, lr_tpr, label=\"LogisticRegression\", color='blue', alpha=0.3)\n",
    "plt.plot(fpr_teste_lr, tpr_teste_lr, \"*\", color='blue')\n",
    "plt.plot(lSvm_fpr, lSvm_tpr, label=\"LinearSVC\", color='orange', alpha=0.3)\n",
    "plt.plot(fpr_teste_lSvm, tpr_teste_lSvm, \"*\", color='orange')\n",
    "plt.plot(svm_fpr, svm_tpr, label=\"SVC\", color='red', alpha=0.3)\n",
    "plt.plot(fpr_teste_svm, tpr_teste_svm, \"*\", color='red')\n",
    "plt.plot(nb_fpr, nb_tpr, label=\"Naive Bayes\", color='yellow', alpha=0.3)\n",
    "plt.plot(fpr_teste_nb, tpr_teste_nb, \"*\", color='yellow')\n",
    "plt.xlabel(\"FPR\")\n",
    "plt.ylabel(\"TPR (recall)\")\n",
    "plt.axis('scaled')\n",
    "plt.legend()"
   ]
  }
 ],
 "metadata": {
  "kernelspec": {
   "display_name": "Python 3 (ipykernel)",
   "language": "python",
   "name": "python3"
  },
  "language_info": {
   "codemirror_mode": {
    "name": "ipython",
    "version": 3
   },
   "file_extension": ".py",
   "mimetype": "text/x-python",
   "name": "python",
   "nbconvert_exporter": "python",
   "pygments_lexer": "ipython3",
   "version": "3.8.11"
  }
 },
 "nbformat": 4,
 "nbformat_minor": 5
}
