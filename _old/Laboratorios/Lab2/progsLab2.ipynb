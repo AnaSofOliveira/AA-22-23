{
 "cells": [
  {
   "cell_type": "markdown",
   "metadata": {},
   "source": [
    "## LAB2: Classificadores baseados em distâncias entre pontos"
   ]
  },
  {
   "cell_type": "markdown",
   "metadata": {},
   "source": [
    "<hr style=\"border:1px  solid black\"> </hr>"
   ]
  },
  {
   "cell_type": "markdown",
   "metadata": {},
   "source": [
    "### (Preencher)\n",
    "## Nome: \n",
    "## Número:"
   ]
  },
  {
   "cell_type": "markdown",
   "metadata": {},
   "source": [
    "<hr style=\"border:1px  solid black\"> </hr>"
   ]
  },
  {
   "cell_type": "markdown",
   "metadata": {},
   "source": [
    "## Desenvolva e corra o código pedido nas células imediatamente abaixo das perguntas."
   ]
  },
  {
   "cell_type": "markdown",
   "metadata": {},
   "source": [
    "# IMPORTANTE:\n",
    "## Uma vez completado, grave este Jupyter notebook com o seguinte nome:\n",
    "## Axxxxx-Lab2.ipynb (Axxxxx: número de aluno)\n",
    "##  e depois submeta o ficheiro no link do Moodle providenciado para o efeito."
   ]
  },
  {
   "cell_type": "markdown",
   "metadata": {},
   "source": [
    "<hr style=\"border:2px solid black\"> </hr>"
   ]
  },
  {
   "cell_type": "markdown",
   "metadata": {},
   "source": [
    "## Considere o ficheiro pickle $\\texttt{Lab2Data.p}$\n",
    "### Neste ficheiro encontra-se um dicionário de Python com as seguintes variáveis:\n",
    "### 1. \"X\":             dados bi-dimensionais (840 amostras)\n",
    "### 2. \"y\":              classe dos dados (inteiros de 0 a 3)\n",
    "### 3. \"foldTrain\": array boleano indicando os dados a serem usados para treinar os classificadores\n",
    "### 3. \"foldTest\": array boleano indicando os dados a serem usados para testar os classificadores\n"
   ]
  },
  {
   "cell_type": "markdown",
   "metadata": {},
   "source": [
    "<hr style=\"border:2px solid black\"> </hr>"
   ]
  },
  {
   "cell_type": "markdown",
   "metadata": {},
   "source": [
    "# Pergunta 1 - Classificadores da distância ao centroide:\n",
    "## 1. Use os dados de treino para estimar os centroides de cada classe. Imprima os valores obtidos para cada classe, indicando a classe em questão.\n",
    "## 2. Com a métrica de distância euclideana, calcule a matriz de confusão e o número total de erros nos dados de teste.\n",
    "## 3. Com a métrica de distância de cosseno, calcule a matriz de confusão e o número total de erros nos dados de teste."
   ]
  },
  {
   "cell_type": "code",
   "execution_count": null,
   "metadata": {},
   "outputs": [],
   "source": []
  },
  {
   "cell_type": "markdown",
   "metadata": {},
   "source": [
    "# Pergunta 2 - Classificadores dos k-vizinhos mais próximos:\n",
    "## (Use os dados de treino nestes classificadores)\n",
    "## 1. Para k=1, calcule a matriz de confusão e o número total de erros nos dados de teste. \n",
    "## 2. Faça um plot dos dados de teste por classe e dos erros cometidos por este classificador.\n",
    "## 3. Repita as duas alíneas anteriores para k=5"
   ]
  },
  {
   "cell_type": "code",
   "execution_count": null,
   "metadata": {},
   "outputs": [],
   "source": []
  }
 ],
 "metadata": {
  "kernelspec": {
   "display_name": "Python 3",
   "language": "python",
   "name": "python3"
  },
  "language_info": {
   "codemirror_mode": {
    "name": "ipython",
    "version": 3
   },
   "file_extension": ".py",
   "mimetype": "text/x-python",
   "name": "python",
   "nbconvert_exporter": "python",
   "pygments_lexer": "ipython3",
   "version": "3.6.9"
  }
 },
 "nbformat": 4,
 "nbformat_minor": 4
}
