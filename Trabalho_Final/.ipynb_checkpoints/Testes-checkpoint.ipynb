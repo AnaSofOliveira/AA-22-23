{
 "cells": [
  {
   "cell_type": "code",
   "execution_count": 1,
   "id": "f3fe1897",
   "metadata": {},
   "outputs": [],
   "source": [
    "import numpy as np\n",
    "import matplotlib.pyplot as plt\n",
    "import pickle\n",
    "import re\n",
    "\n",
    "from sklearn.model_selection import train_test_split\n",
    "from sklearn.feature_extraction.text import TfidfVectorizer\n",
    "from sklearn.neighbors import KNeighborsClassifier\n",
    "from sklearn.linear_model import LogisticRegression \n",
    "\n",
    "from sklearn.metrics import confusion_matrix, classification_report"
   ]
  },
  {
   "cell_type": "code",
   "execution_count": 2,
   "id": "ab46a084",
   "metadata": {},
   "outputs": [
    {
     "name": "stdout",
     "output_type": "stream",
     "text": [
      "Número de criticas:  50000\n",
      "Número de avaliações:  (50000,)\n",
      "Número de classes:  8\n"
     ]
    }
   ],
   "source": [
    "fN = '/Users/anaso/Documents/AA/AA-22-23/Trabalho Final/imdbFull.p'\n",
    "\n",
    "D = pickle.load(open(fN, 'rb'))\n",
    "\n",
    "Docs = D.data\n",
    "target = D.target\n",
    "\n",
    "print(\"Número de criticas: \", len(Docs))\n",
    "print(\"Número de avaliações: \", target.shape)\n",
    "print(\"Número de classes: \", np.count_nonzero(np.unique(target)))"
   ]
  },
  {
   "cell_type": "code",
   "execution_count": 3,
   "id": "fbd46d9b",
   "metadata": {},
   "outputs": [],
   "source": [
    "def limpeza_dados(documentos, tipo):\n",
    "    if tipo == None: \n",
    "        pass\n",
    "    \n",
    "    if tipo == \"alfanumerica\":\n",
    "        documentos = [re.sub(r'[^a-zA-Z0-9]+', ' ', critica) for critica in documentos]\n",
    "        documentos = [re.sub('<br', ' ', critica) for critica in documentos]\n",
    "        \n",
    "    elif tipo == \"alfabetica\":\n",
    "        documentos = [re.sub(r'[^a-zA-Z]+', ' ', critica) for critica in documentos]\n",
    "        documentos = [re.sub('<br', ' ', critica) for critica in documentos]\n",
    "        \n",
    "    return documentos"
   ]
  },
  {
   "cell_type": "markdown",
   "id": "77b49433",
   "metadata": {},
   "source": [
    "Limpeza de dados\n",
    "- Sem limpeza"
   ]
  },
  {
   "cell_type": "code",
   "execution_count": 36,
   "id": "b42d12a0",
   "metadata": {},
   "outputs": [
    {
     "ename": "SyntaxError",
     "evalue": "invalid syntax (2457246724.py, line 26)",
     "output_type": "error",
     "traceback": [
      "\u001b[1;36m  Input \u001b[1;32mIn [36]\u001b[1;36m\u001b[0m\n\u001b[1;33m    resultados.append(['tamanho_dicionario': len(tf.vocabulary_),\u001b[0m\n\u001b[1;37m                                           ^\u001b[0m\n\u001b[1;31mSyntaxError\u001b[0m\u001b[1;31m:\u001b[0m invalid syntax\n"
     ]
    }
   ],
   "source": [
    "limpeza = [None, \"alfanumerica\", \"alfabetica\"]\n",
    "resultados = []#{'tamanho_dicionario': [], \n",
    "                #'numero_erros': {'treino': []}, {'teste': []},\n",
    "                #'probabilidade_erro': {'treino': []}, {'teste': []} \n",
    "                #'matriz_confusao': {'treino': []}, {'teste': []} \n",
    "             #}\n",
    "\n",
    "for tipo_limpeza in limpeza: \n",
    "    \n",
    "    print(\"Tipo de Limpeza: \", tipo_limpeza if tipo_limpeza!=None else \"Sem limpeza\")\n",
    "    corpus = limpeza_dados(Docs, tipo_limpeza)\n",
    "    \n",
    "    tf = TfidfVectorizer().fit(corpus)\n",
    "    corpus = tf.transform(corpus)\n",
    "    print(\"Tamanho do vocabulário: \", len(tf.vocabulary_))\n",
    "\n",
    "    X1, X2, y1, y2 = train_test_split(corpus, target, test_size=1/3, stratify=target)\n",
    "    lr = LogisticRegression().fit(X1, y1)\n",
    "\n",
    "    y1e = lr.predict(X1)\n",
    "    y2e = lr.predict(X2)\n",
    "    \n",
    "    erros_treino = np.sum(y1 != y1e)\n",
    "    erros_teste = np.sum(y2 != y2e)\n",
    "    \n",
    "    resultados.append({'tamanho_dicionario': len(tf.vocabulary_), \n",
    "                'numero_erros': {'treino': erros_treino, 'teste': erros_teste},\n",
    "                'probabilidade_erro': {'treino': erros_treino/y1.shape[0], 'teste': erros_teste/y2.shape[0]},\n",
    "                'matriz_confusao': {'treino': confusion_matrix(y1, y1e), 'teste': confusion_matrix(y2, y2e)} \n",
    "             })"
   ]
  },
  {
   "cell_type": "code",
   "execution_count": 45,
   "id": "f5e7e177",
   "metadata": {},
   "outputs": [
    {
     "name": "stdout",
     "output_type": "stream",
     "text": [
      "Tipo de Limpeza:  None\n",
      "- Tamanho do dicionário:  101895\n",
      "\n",
      "- Número de erros - Treino:  10326\n",
      "- Número de erros - Teste:  9367\n",
      "\n",
      "- Probabilidade de erro - Treino:  0.3097830978309783\n",
      "- Probabilidade de erro - Teste:  0.5620087598248035\n",
      "\n",
      "- Matriz de Confusão - Treino: \n",
      " [[6278   34   86  148   31   30    9  132]\n",
      " [1229 1181  151  253   46   40   11  147]\n",
      " [ 819   65 1798  290   85   50    7  193]\n",
      " [ 573   48  115 2409   88   85   18  218]\n",
      " [ 114   17   50  146 1957  268   48  602]\n",
      " [ 100   17   24   80  181 2440   63 1001]\n",
      " [  81   13   28   58  162  314 1098 1317]\n",
      " [ 148    8   29   48  135  219   54 5846]]\n",
      "- Matriz de Confusão - Teste: \n",
      " [[2758  120  132  142   30   29    9  154]\n",
      " [ 866  113  174  223   32   17    6   97]\n",
      " [ 626  101  263  395   77   52   13  127]\n",
      " [ 443   60  223  616  172   99   20  144]\n",
      " [  89    9   64  163  414  388   67  407]\n",
      " [  81    6   27   86  327  479  122  825]\n",
      " [  56    3   14   31  140  301  117  874]\n",
      " [ 119   11   14   38  117  282  123 2540]]\n",
      "\n",
      "\n",
      "\n",
      "Tipo de Limpeza:  alfanumerica\n",
      "- Tamanho do dicionário:  101213\n",
      "\n",
      "- Número de erros - Treino:  10465\n",
      "- Número de erros - Teste:  9371\n",
      "\n",
      "- Probabilidade de erro - Treino:  0.3139531395313953\n",
      "- Probabilidade de erro - Teste:  0.5622487550248995\n",
      "\n",
      "- Matriz de Confusão - Treino: \n",
      " [[6268   44   85  144   29   33    5  140]\n",
      " [1284 1110  167  251   37   45    9  155]\n",
      " [ 847   57 1748  295   83   72   14  191]\n",
      " [ 567   50  123 2411   97  102   13  191]\n",
      " [ 124   12   37  140 2002  259   46  582]\n",
      " [ 108   12   30   78  188 2446   63  981]\n",
      " [  98    8   24   52  177  359 1037 1316]\n",
      " [ 146   11   26   49  143  221   45 5846]]\n",
      "- Matriz de Confusão - Teste: \n",
      " [[2788   85  134  161   26   22    6  152]\n",
      " [ 901  103  144  231   37   24    5   83]\n",
      " [ 643   95  246  401   71   55   13  130]\n",
      " [ 458   61  217  591  166  105   25  154]\n",
      " [  79   10   48  176  421  386   53  428]\n",
      " [  71   12   29   91  301  492  103  854]\n",
      " [  55    6   16   36  147  288  105  883]\n",
      " [ 129    5   25   40  118  278   99 2550]]\n",
      "\n",
      "\n",
      "\n",
      "Tipo de Limpeza:  alfabetica\n",
      "- Tamanho do dicionário:  99400\n",
      "\n",
      "- Número de erros - Treino:  10420\n",
      "- Número de erros - Teste:  9311\n",
      "\n",
      "- Probabilidade de erro - Treino:  0.31260312603126034\n",
      "- Probabilidade de erro - Teste:  0.5586488270234595\n",
      "\n",
      "- Matriz de Confusão - Treino: \n",
      " [[6271   47   86  143   24   32    8  137]\n",
      " [1300 1098  165  267   42   44   10  132]\n",
      " [ 860   71 1737  297   80   60   14  188]\n",
      " [ 598   54  101 2401   98   97   16  189]\n",
      " [ 129   12   48  143 1957  266   47  600]\n",
      " [ 116   12   34   66  146 2497   57  978]\n",
      " [  85    8   23   59  159  340 1049 1348]\n",
      " [ 148    7   26   48  120  204   31 5903]]\n",
      "- Matriz de Confusão - Teste: \n",
      " [[2803  103  129  137   26   23    4  149]\n",
      " [ 879  110  151  231   30   23    8   96]\n",
      " [ 606  111  264  387   76   62   13  135]\n",
      " [ 443   57  231  600  155  109   20  162]\n",
      " [  61   13   61  171  435  402   41  417]\n",
      " [  63    8   39   94  305  501   80  863]\n",
      " [  64    3   12   31  106  310   88  922]\n",
      " [ 122    9   18   40  127  281   92 2555]]\n",
      "\n",
      "\n",
      "\n"
     ]
    }
   ],
   "source": [
    "for i in range(len(resultados)): \n",
    "    print(\"Tipo de Limpeza: \", limpeza[i])\n",
    "    print(\"- Tamanho do dicionário: \", resultados[i]['tamanho_dicionario'])\n",
    "    print(\"\")\n",
    "    print(\"- Número de erros - Treino: \", resultados[i]['numero_erros']['treino'])\n",
    "    print(\"- Número de erros - Teste: \", resultados[i]['numero_erros']['teste'])\n",
    "    print(\"\")\n",
    "    print(\"- Probabilidade de erro - Treino: \", resultados[i]['probabilidade_erro']['treino'])\n",
    "    print(\"- Probabilidade de erro - Teste: \", resultados[i]['probabilidade_erro']['teste'])\n",
    "    print(\"\")\n",
    "    print(\"- Matriz de Confusão - Treino: \\n\", resultados[i]['matriz_confusao']['treino'])\n",
    "    print(\"- Matriz de Confusão - Teste: \\n\", resultados[i]['matriz_confusao']['teste'])\n",
    "    print(\"\\n\\n\")\n",
    " "
   ]
  },
  {
   "cell_type": "code",
   "execution_count": 25,
   "id": "8403b3e2",
   "metadata": {},
   "outputs": [
    {
     "ename": "TypeError",
     "evalue": "the dtypes of parameters x (object) and width (float64) are incompatible",
     "output_type": "error",
     "traceback": [
      "\u001b[1;31m---------------------------------------------------------------------------\u001b[0m",
      "\u001b[1;31mTypeError\u001b[0m                                 Traceback (most recent call last)",
      "File \u001b[1;32m~\\anaconda3\\lib\\site-packages\\matplotlib\\axes\\_axes.py:2373\u001b[0m, in \u001b[0;36mAxes.bar\u001b[1;34m(self, x, height, width, bottom, align, **kwargs)\u001b[0m\n\u001b[0;32m   2372\u001b[0m \u001b[38;5;28;01mtry\u001b[39;00m:\n\u001b[1;32m-> 2373\u001b[0m     left \u001b[38;5;241m=\u001b[39m \u001b[43mx\u001b[49m\u001b[43m \u001b[49m\u001b[38;5;241;43m-\u001b[39;49m\u001b[43m \u001b[49m\u001b[43mwidth\u001b[49m\u001b[43m \u001b[49m\u001b[38;5;241;43m/\u001b[39;49m\u001b[43m \u001b[49m\u001b[38;5;241;43m2\u001b[39;49m\n\u001b[0;32m   2374\u001b[0m \u001b[38;5;28;01mexcept\u001b[39;00m \u001b[38;5;167;01mTypeError\u001b[39;00m \u001b[38;5;28;01mas\u001b[39;00m e:\n",
      "\u001b[1;31mTypeError\u001b[0m: unsupported operand type(s) for -: 'NoneType' and 'float'",
      "\nThe above exception was the direct cause of the following exception:\n",
      "\u001b[1;31mTypeError\u001b[0m                                 Traceback (most recent call last)",
      "Input \u001b[1;32mIn [25]\u001b[0m, in \u001b[0;36m<cell line: 3>\u001b[1;34m()\u001b[0m\n\u001b[0;32m      1\u001b[0m plt\u001b[38;5;241m.\u001b[39mfigure()\n\u001b[0;32m      3\u001b[0m \u001b[38;5;28;01mfor\u001b[39;00m i \u001b[38;5;129;01min\u001b[39;00m \u001b[38;5;28mrange\u001b[39m(\u001b[38;5;28mlen\u001b[39m(resultados)): \n\u001b[1;32m----> 4\u001b[0m     \u001b[43mplt\u001b[49m\u001b[38;5;241;43m.\u001b[39;49m\u001b[43mbar\u001b[49m\u001b[43m(\u001b[49m\u001b[43mlimpeza\u001b[49m\u001b[43m,\u001b[49m\u001b[43m \u001b[49m\u001b[43mresultados\u001b[49m\u001b[43m[\u001b[49m\u001b[43mi\u001b[49m\u001b[43m]\u001b[49m\u001b[43m[\u001b[49m\u001b[38;5;124;43m'\u001b[39;49m\u001b[38;5;124;43mtamanho_dicionario\u001b[39;49m\u001b[38;5;124;43m'\u001b[39;49m\u001b[43m]\u001b[49m\u001b[43m)\u001b[49m\n",
      "File \u001b[1;32m~\\anaconda3\\lib\\site-packages\\matplotlib\\pyplot.py:2399\u001b[0m, in \u001b[0;36mbar\u001b[1;34m(x, height, width, bottom, align, data, **kwargs)\u001b[0m\n\u001b[0;32m   2395\u001b[0m \u001b[38;5;129m@_copy_docstring_and_deprecators\u001b[39m(Axes\u001b[38;5;241m.\u001b[39mbar)\n\u001b[0;32m   2396\u001b[0m \u001b[38;5;28;01mdef\u001b[39;00m \u001b[38;5;21mbar\u001b[39m(\n\u001b[0;32m   2397\u001b[0m         x, height, width\u001b[38;5;241m=\u001b[39m\u001b[38;5;241m0.8\u001b[39m, bottom\u001b[38;5;241m=\u001b[39m\u001b[38;5;28;01mNone\u001b[39;00m, \u001b[38;5;241m*\u001b[39m, align\u001b[38;5;241m=\u001b[39m\u001b[38;5;124m'\u001b[39m\u001b[38;5;124mcenter\u001b[39m\u001b[38;5;124m'\u001b[39m,\n\u001b[0;32m   2398\u001b[0m         data\u001b[38;5;241m=\u001b[39m\u001b[38;5;28;01mNone\u001b[39;00m, \u001b[38;5;241m*\u001b[39m\u001b[38;5;241m*\u001b[39mkwargs):\n\u001b[1;32m-> 2399\u001b[0m     \u001b[38;5;28;01mreturn\u001b[39;00m \u001b[43mgca\u001b[49m\u001b[43m(\u001b[49m\u001b[43m)\u001b[49m\u001b[38;5;241;43m.\u001b[39;49m\u001b[43mbar\u001b[49m\u001b[43m(\u001b[49m\n\u001b[0;32m   2400\u001b[0m \u001b[43m        \u001b[49m\u001b[43mx\u001b[49m\u001b[43m,\u001b[49m\u001b[43m \u001b[49m\u001b[43mheight\u001b[49m\u001b[43m,\u001b[49m\u001b[43m \u001b[49m\u001b[43mwidth\u001b[49m\u001b[38;5;241;43m=\u001b[39;49m\u001b[43mwidth\u001b[49m\u001b[43m,\u001b[49m\u001b[43m \u001b[49m\u001b[43mbottom\u001b[49m\u001b[38;5;241;43m=\u001b[39;49m\u001b[43mbottom\u001b[49m\u001b[43m,\u001b[49m\u001b[43m \u001b[49m\u001b[43malign\u001b[49m\u001b[38;5;241;43m=\u001b[39;49m\u001b[43malign\u001b[49m\u001b[43m,\u001b[49m\n\u001b[0;32m   2401\u001b[0m \u001b[43m        \u001b[49m\u001b[38;5;241;43m*\u001b[39;49m\u001b[38;5;241;43m*\u001b[39;49m\u001b[43m(\u001b[49m\u001b[43m{\u001b[49m\u001b[38;5;124;43m\"\u001b[39;49m\u001b[38;5;124;43mdata\u001b[39;49m\u001b[38;5;124;43m\"\u001b[39;49m\u001b[43m:\u001b[49m\u001b[43m \u001b[49m\u001b[43mdata\u001b[49m\u001b[43m}\u001b[49m\u001b[43m \u001b[49m\u001b[38;5;28;43;01mif\u001b[39;49;00m\u001b[43m \u001b[49m\u001b[43mdata\u001b[49m\u001b[43m \u001b[49m\u001b[38;5;129;43;01mis\u001b[39;49;00m\u001b[43m \u001b[49m\u001b[38;5;129;43;01mnot\u001b[39;49;00m\u001b[43m \u001b[49m\u001b[38;5;28;43;01mNone\u001b[39;49;00m\u001b[43m \u001b[49m\u001b[38;5;28;43;01melse\u001b[39;49;00m\u001b[43m \u001b[49m\u001b[43m{\u001b[49m\u001b[43m}\u001b[49m\u001b[43m)\u001b[49m\u001b[43m,\u001b[49m\u001b[43m \u001b[49m\u001b[38;5;241;43m*\u001b[39;49m\u001b[38;5;241;43m*\u001b[39;49m\u001b[43mkwargs\u001b[49m\u001b[43m)\u001b[49m\n",
      "File \u001b[1;32m~\\anaconda3\\lib\\site-packages\\matplotlib\\__init__.py:1412\u001b[0m, in \u001b[0;36m_preprocess_data.<locals>.inner\u001b[1;34m(ax, data, *args, **kwargs)\u001b[0m\n\u001b[0;32m   1409\u001b[0m \u001b[38;5;129m@functools\u001b[39m\u001b[38;5;241m.\u001b[39mwraps(func)\n\u001b[0;32m   1410\u001b[0m \u001b[38;5;28;01mdef\u001b[39;00m \u001b[38;5;21minner\u001b[39m(ax, \u001b[38;5;241m*\u001b[39margs, data\u001b[38;5;241m=\u001b[39m\u001b[38;5;28;01mNone\u001b[39;00m, \u001b[38;5;241m*\u001b[39m\u001b[38;5;241m*\u001b[39mkwargs):\n\u001b[0;32m   1411\u001b[0m     \u001b[38;5;28;01mif\u001b[39;00m data \u001b[38;5;129;01mis\u001b[39;00m \u001b[38;5;28;01mNone\u001b[39;00m:\n\u001b[1;32m-> 1412\u001b[0m         \u001b[38;5;28;01mreturn\u001b[39;00m \u001b[43mfunc\u001b[49m\u001b[43m(\u001b[49m\u001b[43max\u001b[49m\u001b[43m,\u001b[49m\u001b[43m \u001b[49m\u001b[38;5;241;43m*\u001b[39;49m\u001b[38;5;28;43mmap\u001b[39;49m\u001b[43m(\u001b[49m\u001b[43msanitize_sequence\u001b[49m\u001b[43m,\u001b[49m\u001b[43m \u001b[49m\u001b[43margs\u001b[49m\u001b[43m)\u001b[49m\u001b[43m,\u001b[49m\u001b[43m \u001b[49m\u001b[38;5;241;43m*\u001b[39;49m\u001b[38;5;241;43m*\u001b[39;49m\u001b[43mkwargs\u001b[49m\u001b[43m)\u001b[49m\n\u001b[0;32m   1414\u001b[0m     bound \u001b[38;5;241m=\u001b[39m new_sig\u001b[38;5;241m.\u001b[39mbind(ax, \u001b[38;5;241m*\u001b[39margs, \u001b[38;5;241m*\u001b[39m\u001b[38;5;241m*\u001b[39mkwargs)\n\u001b[0;32m   1415\u001b[0m     auto_label \u001b[38;5;241m=\u001b[39m (bound\u001b[38;5;241m.\u001b[39marguments\u001b[38;5;241m.\u001b[39mget(label_namer)\n\u001b[0;32m   1416\u001b[0m                   \u001b[38;5;129;01mor\u001b[39;00m bound\u001b[38;5;241m.\u001b[39mkwargs\u001b[38;5;241m.\u001b[39mget(label_namer))\n",
      "File \u001b[1;32m~\\anaconda3\\lib\\site-packages\\matplotlib\\axes\\_axes.py:2375\u001b[0m, in \u001b[0;36mAxes.bar\u001b[1;34m(self, x, height, width, bottom, align, **kwargs)\u001b[0m\n\u001b[0;32m   2373\u001b[0m         left \u001b[38;5;241m=\u001b[39m x \u001b[38;5;241m-\u001b[39m width \u001b[38;5;241m/\u001b[39m \u001b[38;5;241m2\u001b[39m\n\u001b[0;32m   2374\u001b[0m     \u001b[38;5;28;01mexcept\u001b[39;00m \u001b[38;5;167;01mTypeError\u001b[39;00m \u001b[38;5;28;01mas\u001b[39;00m e:\n\u001b[1;32m-> 2375\u001b[0m         \u001b[38;5;28;01mraise\u001b[39;00m \u001b[38;5;167;01mTypeError\u001b[39;00m(\u001b[38;5;124mf\u001b[39m\u001b[38;5;124m'\u001b[39m\u001b[38;5;124mthe dtypes of parameters x (\u001b[39m\u001b[38;5;132;01m{\u001b[39;00mx\u001b[38;5;241m.\u001b[39mdtype\u001b[38;5;132;01m}\u001b[39;00m\u001b[38;5;124m) \u001b[39m\u001b[38;5;124m'\u001b[39m\n\u001b[0;32m   2376\u001b[0m                         \u001b[38;5;124mf\u001b[39m\u001b[38;5;124m'\u001b[39m\u001b[38;5;124mand width (\u001b[39m\u001b[38;5;132;01m{\u001b[39;00mwidth\u001b[38;5;241m.\u001b[39mdtype\u001b[38;5;132;01m}\u001b[39;00m\u001b[38;5;124m) \u001b[39m\u001b[38;5;124m'\u001b[39m\n\u001b[0;32m   2377\u001b[0m                         \u001b[38;5;124mf\u001b[39m\u001b[38;5;124m'\u001b[39m\u001b[38;5;124mare incompatible\u001b[39m\u001b[38;5;124m'\u001b[39m) \u001b[38;5;28;01mfrom\u001b[39;00m \u001b[38;5;21;01me\u001b[39;00m\n\u001b[0;32m   2378\u001b[0m     bottom \u001b[38;5;241m=\u001b[39m y\n\u001b[0;32m   2379\u001b[0m \u001b[38;5;28;01melif\u001b[39;00m orientation \u001b[38;5;241m==\u001b[39m \u001b[38;5;124m'\u001b[39m\u001b[38;5;124mhorizontal\u001b[39m\u001b[38;5;124m'\u001b[39m:\n",
      "\u001b[1;31mTypeError\u001b[0m: the dtypes of parameters x (object) and width (float64) are incompatible"
     ]
    },
    {
     "data": {
      "image/png": "[encoded data removed]",
      "text/plain": [
       "<Figure size 640x480 with 1 Axes>"
      ]
     },
     "metadata": {},
     "output_type": "display_data"
    }
   ],
   "source": [
    "# Comparação dos resultados\n",
    "labels = tipo\n",
    "tamanho_dicionario = resultados[:]['tamanho_dicionario']\n",
    "\n",
    "treino = resultados[0]\n",
    "teste = resultados[1]\n",
    "\n",
    "x = np.arange(len(labels))\n",
    "width = 0.35\n",
    "\n",
    "fig, ax = plt.subplots()\n",
    "rects1 = ax.bar(x - width/2, treino, width, label='Treino')\n",
    "rects2 = ax.bar(x + width/2, teste, width, label='Teste')\n",
    "\n",
    "# Add some text for labels, title and custom x-axis tick labels, etc.\n",
    "ax.set_ylabel('Prob. de Erro')\n",
    "ax.set_title('Prob. de Erro vs Tipo de Limpeza')\n",
    "ax.set_xticks(x, labels)\n",
    "ax.legend()\n",
    "\n",
    "ax.bar_label(rects1, padding=3)\n",
    "ax.bar_label(rects2, padding=3)\n",
    "fig.tight_layout()\n",
    "\n",
    "plt.show()\n",
    "\n",
    "\n",
    "\n",
    "fig, ax = plt.subplots()\n",
    "rect = ax.bar(labels, dicionarios, width)\n",
    "ax.set_xticks(x, labels)\n",
    "ax.bar_label(rect, padding=3)\n",
    "fig.tight_layout()\n",
    "\n",
    "plt.show()"
   ]
  },
  {
   "cell_type": "code",
   "execution_count": 5,
   "id": "c35bec14",
   "metadata": {},
   "outputs": [
    {
     "name": "stdout",
     "output_type": "stream",
     "text": [
      "Tamanho do vocabulário:  101895\n",
      "Treino: \n",
      "Número de erros:  10392\n",
      "Prob. Erro:  0.623507529849403\n",
      "Matriz de Confusão: \n",
      " [[6236   38   81  160   29   48    8  148]\n",
      " [1261 1148  158  267   35   45    8  136]\n",
      " [ 839   54 1771  304   83   72   17  167]\n",
      " [ 606   37  117 2419   70  106   21  178]\n",
      " [ 119   17   60  156 1944  268   48  590]\n",
      " [ 126    8   31   91  191 2466   53  940]\n",
      " [  86   12   30   61  133  341 1110 1298]\n",
      " [ 157   11   26   50  134  221   41 5847]]\n",
      "\n",
      "Teste: \n",
      "Número de erros:  9380\n",
      "Prob. Erro:  0.5627887442251155\n",
      "Matriz de Confusão: \n",
      " [[2793  116  129  154   16   24    5  137]\n",
      " [ 893  101  164  213   32   18    3  104]\n",
      " [ 605  102  264  419   69   56    8  131]\n",
      " [ 423   72  238  618  153  104   11  158]\n",
      " [  76   15   44  166  413  403   77  407]\n",
      " [  76   10   24   92  296  491  113  851]\n",
      " [  56    7   14   41  135  288  106  889]\n",
      " [ 147    7   24   47  115  294  109 2501]]\n"
     ]
    },
    {
     "name": "stderr",
     "output_type": "stream",
     "text": [
      "C:\\Users\\anaso\\anaconda3\\lib\\site-packages\\sklearn\\linear_model\\_logistic.py:444: ConvergenceWarning: lbfgs failed to converge (status=1):\n",
      "STOP: TOTAL NO. of ITERATIONS REACHED LIMIT.\n",
      "\n",
      "Increase the number of iterations (max_iter) or scale the data as shown in:\n",
      "    https://scikit-learn.org/stable/modules/preprocessing.html\n",
      "Please also refer to the documentation for alternative solver options:\n",
      "    https://scikit-learn.org/stable/modules/linear_model.html#logistic-regression\n",
      "  n_iter_i = _check_optimize_result(\n"
     ]
    }
   ],
   "source": [
    "tf = TfidfVectorizer().fit(Docs)\n",
    "print(\"Tamanho do vocabulário: \", len(tf.vocabulary_))\n",
    "corpus = tf.transform(Docs)\n",
    "\n",
    "X1, X2, y1, y2 = train_test_split(corpus, target, test_size=1/3, stratify=target)\n",
    "lr = LogisticRegression().fit(X1, y1)\n",
    "\n",
    "y1e = lr.predict(X1)\n",
    "y2e = lr.predict(X2)\n",
    "\n",
    "\n",
    "print(\"Treino: \")\n",
    "print(\"Número de erros: \", np.sum(y1 != y1e))\n",
    "print(\"Prob. Erro: \", np.sum(y1 != y1e)/ y2.shape[0])\n",
    "print(\"Matriz de Confusão: \\n\", confusion_matrix(y1, y1e))\n",
    "# print(\"Report de Classificação: \\n\", classification_report(y1, y1e))\n",
    "\n",
    "\n",
    "print(\"\\nTeste: \")\n",
    "print(\"Número de erros: \", np.sum(y2 != y2e))\n",
    "print(\"Prob. Erro: \", np.sum(y2 != y2e)/ y2.shape[0])\n",
    "print(\"Matriz de Confusão: \\n\", confusion_matrix(y2, y2e))\n",
    "# print(\"Report de Classificação: \\n\", classification_report(y2, y2e))\n"
   ]
  },
  {
   "cell_type": "markdown",
   "id": "a0ba9526",
   "metadata": {},
   "source": [
    "- Limpeza alfanumérica"
   ]
  },
  {
   "cell_type": "code",
   "execution_count": 6,
   "id": "b51f7905",
   "metadata": {},
   "outputs": [
    {
     "name": "stdout",
     "output_type": "stream",
     "text": [
      "Tamanho do vocabulário:  101213\n",
      "Treino: \n",
      "Número de erros:  10276\n",
      "Prob. Erro:  0.6165476690466191\n",
      "Matriz de Confusão: \n",
      " [[6271   49   68  147   32   33    5  143]\n",
      " [1221 1187  157  262   34   40    5  152]\n",
      " [ 840   78 1734  306   85   58   13  193]\n",
      " [ 590   49  101 2424   97   92   13  188]\n",
      " [ 121   19   54  134 1974  252   48  600]\n",
      " [ 105   20   26   82  160 2491   59  963]\n",
      " [  90    8   19   62  166  318 1078 1330]\n",
      " [ 143    4   30   51  113  201   47 5898]]\n",
      "\n",
      "Teste: \n",
      "Número de erros:  9415\n",
      "Prob. Erro:  0.5648887022259554\n",
      "Matriz de Confusão: \n",
      " [[2770  123  141  161   22   22    5  130]\n",
      " [ 899   94  153  216   28   25   10  103]\n",
      " [ 612  106  248  428   65   56   11  128]\n",
      " [ 398   80  252  606  149  101   25  166]\n",
      " [  85   13   48  187  415  394   53  406]\n",
      " [  81   13   40   73  299  529  101  817]\n",
      " [  41    8   18   40  119  307  103  900]\n",
      " [ 127   14   16   41  123  325  111 2487]]\n"
     ]
    },
    {
     "name": "stderr",
     "output_type": "stream",
     "text": [
      "C:\\Users\\anaso\\anaconda3\\lib\\site-packages\\sklearn\\linear_model\\_logistic.py:444: ConvergenceWarning: lbfgs failed to converge (status=1):\n",
      "STOP: TOTAL NO. of ITERATIONS REACHED LIMIT.\n",
      "\n",
      "Increase the number of iterations (max_iter) or scale the data as shown in:\n",
      "    https://scikit-learn.org/stable/modules/preprocessing.html\n",
      "Please also refer to the documentation for alternative solver options:\n",
      "    https://scikit-learn.org/stable/modules/linear_model.html#logistic-regression\n",
      "  n_iter_i = _check_optimize_result(\n"
     ]
    }
   ],
   "source": [
    "corpus = limpeza_dados(Docs, \"alfanumerica\")\n",
    "\n",
    "tf = TfidfVectorizer().fit(corpus)\n",
    "print(\"Tamanho do vocabulário: \", len(tf.vocabulary_))\n",
    "corpus = tf.transform(corpus)\n",
    "\n",
    "X1, X2, y1, y2 = train_test_split(corpus, target, test_size=1/3, stratify=target)\n",
    "lr = LogisticRegression().fit(X1, y1)\n",
    "\n",
    "y1e = lr.predict(X1)\n",
    "y2e = lr.predict(X2)\n",
    "\n",
    "\n",
    "print(\"Treino: \")\n",
    "print(\"Número de erros: \", np.sum(y1 != y1e))\n",
    "print(\"Prob. Erro: \", np.sum(y1 != y1e)/ y2.shape[0])\n",
    "print(\"Matriz de Confusão: \\n\", confusion_matrix(y1, y1e))\n",
    "# print(\"Report de Classificação: \\n\", classification_report(y1, y1e))\n",
    "\n",
    "\n",
    "print(\"\\nTeste: \")\n",
    "print(\"Número de erros: \", np.sum(y2 != y2e))\n",
    "print(\"Prob. Erro: \", np.sum(y2 != y2e)/ y2.shape[0])\n",
    "print(\"Matriz de Confusão: \\n\", confusion_matrix(y2, y2e))\n",
    "# print(\"Report de Classificação: \\n\", classification_report(y2, y2e))"
   ]
  },
  {
   "cell_type": "markdown",
   "id": "66e81e3a",
   "metadata": {},
   "source": [
    "- Limpeza alfabética"
   ]
  },
  {
   "cell_type": "code",
   "execution_count": 7,
   "id": "ddf34a1b",
   "metadata": {},
   "outputs": [
    {
     "name": "stdout",
     "output_type": "stream",
     "text": [
      "Tamanho do vocabulário:  99400\n",
      "Treino: \n",
      "Número de erros:  10213\n",
      "Prob. Erro:  0.6127677446451071\n",
      "Matriz de Confusão: \n",
      " [[6288   30   91  126   33   27    6  147]\n",
      " [1227 1164  164  258   46   50    8  141]\n",
      " [ 829   68 1815  264   71   58   11  191]\n",
      " [ 574   47  110 2404  102  106   21  190]\n",
      " [ 123   12   55  130 2002  254   42  584]\n",
      " [ 112    9   33   92  179 2446   51  984]\n",
      " [  90   13   26   52  156  329 1133 1272]\n",
      " [ 146   10   25   49  122  229   38 5868]]\n",
      "\n",
      "Teste: \n",
      "Número de erros:  9405\n",
      "Prob. Erro:  0.5642887142257155\n",
      "Matriz de Confusão: \n",
      " [[2772   99  148  148   24   33    5  145]\n",
      " [ 902  105  155  200   35   26    6   99]\n",
      " [ 634   90  252  400   77   55   14  132]\n",
      " [ 421   73  228  585  180  109   12  169]\n",
      " [  79   12   42  140  428  443   55  402]\n",
      " [  72   12   31   75  288  540  104  831]\n",
      " [  52    3   19   36  135  311   82  898]\n",
      " [ 138   10   27   42  131  278  120 2498]]\n"
     ]
    },
    {
     "name": "stderr",
     "output_type": "stream",
     "text": [
      "C:\\Users\\anaso\\anaconda3\\lib\\site-packages\\sklearn\\linear_model\\_logistic.py:444: ConvergenceWarning: lbfgs failed to converge (status=1):\n",
      "STOP: TOTAL NO. of ITERATIONS REACHED LIMIT.\n",
      "\n",
      "Increase the number of iterations (max_iter) or scale the data as shown in:\n",
      "    https://scikit-learn.org/stable/modules/preprocessing.html\n",
      "Please also refer to the documentation for alternative solver options:\n",
      "    https://scikit-learn.org/stable/modules/linear_model.html#logistic-regression\n",
      "  n_iter_i = _check_optimize_result(\n"
     ]
    }
   ],
   "source": [
    "corpus = limpeza_dados(Docs, \"alfabetica\")\n",
    "\n",
    "tf = TfidfVectorizer().fit(corpus)\n",
    "print(\"Tamanho do vocabulário: \", len(tf.vocabulary_))\n",
    "corpus = tf.transform(corpus)\n",
    "\n",
    "X1, X2, y1, y2 = train_test_split(corpus, target, test_size=1/3, stratify=target)\n",
    "lr = LogisticRegression().fit(X1, y1)\n",
    "\n",
    "y1e = lr.predict(X1)\n",
    "y2e = lr.predict(X2)\n",
    "\n",
    "\n",
    "print(\"Treino: \")\n",
    "print(\"Número de erros: \", np.sum(y1 != y1e))\n",
    "print(\"Prob. Erro: \", np.sum(y1 != y1e)/ y2.shape[0])\n",
    "print(\"Matriz de Confusão: \\n\", confusion_matrix(y1, y1e))\n",
    "# print(\"Report de Classificação: \\n\", classification_report(y1, y1e))\n",
    "\n",
    "\n",
    "print(\"\\nTeste: \")\n",
    "print(\"Número de erros: \", np.sum(y2 != y2e))\n",
    "print(\"Prob. Erro: \", np.sum(y2 != y2e)/ y2.shape[0])\n",
    "print(\"Matriz de Confusão: \\n\", confusion_matrix(y2, y2e))\n",
    "# print(\"Report de Classificação: \\n\", classification_report(y2, y2e))"
   ]
  },
  {
   "cell_type": "code",
   "execution_count": 8,
   "id": "57c8fc91",
   "metadata": {},
   "outputs": [],
   "source": [
    "# Preparar dados para classificação binária\n",
    "target_bin = [0 if val<5 else 1 for val in target]"
   ]
  },
  {
   "cell_type": "code",
   "execution_count": null,
   "id": "fe004bd7",
   "metadata": {},
   "outputs": [],
   "source": []
  },
  {
   "cell_type": "code",
   "execution_count": null,
   "id": "72d70de4",
   "metadata": {},
   "outputs": [],
   "source": []
  }
 ],
 "metadata": {
  "kernelspec": {
   "display_name": "Python 3 (ipykernel)",
   "language": "python",
   "name": "python3"
  },
  "language_info": {
   "codemirror_mode": {
    "name": "ipython",
    "version": 3
   },
   "file_extension": ".py",
   "mimetype": "text/x-python",
   "name": "python",
   "nbconvert_exporter": "python",
   "pygments_lexer": "ipython3",
   "version": "3.8.11"
  }
 },
 "nbformat": 4,
 "nbformat_minor": 5
}
