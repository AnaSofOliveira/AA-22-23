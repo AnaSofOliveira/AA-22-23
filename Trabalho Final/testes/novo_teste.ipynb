{
 "cells": [
  {
   "cell_type": "code",
   "execution_count": 1,
   "metadata": {},
   "outputs": [
    {
     "name": "stderr",
     "output_type": "stream",
     "text": [
      "[nltk_data] Downloading package wordnet to\n",
      "[nltk_data]     C:\\Users\\anaso\\AppData\\Roaming\\nltk_data...\n",
      "[nltk_data]   Package wordnet is already up-to-date!\n",
      "[nltk_data] Downloading package omw-1.4 to\n",
      "[nltk_data]     C:\\Users\\anaso\\AppData\\Roaming\\nltk_data...\n",
      "[nltk_data]   Package omw-1.4 is already up-to-date!\n"
     ]
    }
   ],
   "source": [
    "import numpy as np\n",
    "import matplotlib.pyplot as plt\n",
    "import pickle\n",
    "import re\n",
    "\n",
    "import mglearn\n",
    "import spacy\n",
    "import nltk\n",
    "from nltk.corpus import stopwords\n",
    "from nltk.stem import WordNetLemmatizer\n",
    "nltk.download('wordnet')\n",
    "nltk.download('omw-1.4')\n",
    "\n",
    "from nltk.stem import PorterStemmer, SnowballStemmer, LancasterStemmer\n",
    "\n",
    "from sklearn.feature_extraction.text import CountVectorizer, TfidfVectorizer, ENGLISH_STOP_WORDS\n",
    "\n",
    "\n",
    "from sklearn.model_selection import train_test_split, cross_val_score, GridSearchCV\n",
    "from sklearn.pipeline import make_pipeline, Pipeline\n",
    "from sklearn.linear_model import LogisticRegression"
   ]
  },
  {
   "cell_type": "code",
   "execution_count": 2,
   "metadata": {},
   "outputs": [
    {
     "name": "stdout",
     "output_type": "stream",
     "text": [
      "Tamanho corpus: 50000 documentos\n",
      "Shape target: (50000,)\n",
      "Classificações Multiclasse: [ 1  2  3  4  7  8  9 10]\n",
      "Classificações Binárias: [0 1]\n"
     ]
    }
   ],
   "source": [
    "fN = '/Users/anaso/Documents/AA/AA-22-23/Trabalho Final/imdbFull.p'\n",
    "\n",
    "D = pickle.load(open(fN, 'rb'))\n",
    "\n",
    "corpus = D.data\n",
    "y = D.target\n",
    "yb = [1 if val>5 else 0 for val in y]\n",
    "\n",
    "print(\"Tamanho corpus: {} documentos\".format(len(corpus)))\n",
    "print(\"Shape target: {}\".format(y.shape))\n",
    "print(\"Classificações Multiclasse: {}\".format(np.unique(y)))\n",
    "print(\"Classificações Binárias: {}\".format(np.unique(yb)))"
   ]
  },
  {
   "cell_type": "code",
   "execution_count": 3,
   "metadata": {},
   "outputs": [
    {
     "name": "stdout",
     "output_type": "stream",
     "text": [
      "Type of corpus: <class 'list'>\n",
      "Type of text_train: <class 'list'>\n",
      "\n",
      "Train: \n",
      "Number of documents in text data (train): 25000\n",
      "Samples per class (train): [12500 12500]\n",
      "\n",
      "Test: \n",
      "Number of documents in text data (test): 25000\n",
      "Samples per class (test): [12500 12500]\n"
     ]
    }
   ],
   "source": [
    "text_train, text_test, y_train, y_test = train_test_split(corpus, yb, train_size=0.5, stratify=yb, random_state=42)\n",
    "\n",
    "print(\"Type of corpus: {}\".format(type(corpus)))\n",
    "print(\"Type of text_train: {}\".format(type(text_train)))\n",
    "\n",
    "print(\"\\nTrain: \")\n",
    "print(\"Number of documents in text data (train): {}\".format(len(text_train)))\n",
    "print(\"Samples per class (train): {}\".format(np.bincount(y_train)))\n",
    "\n",
    "print(\"\\nTest: \")\n",
    "print(\"Number of documents in text data (test): {}\".format(len(text_test)))\n",
    "print(\"Samples per class (test): {}\".format(np.bincount(y_test)))"
   ]
  },
  {
   "cell_type": "code",
   "execution_count": 4,
   "metadata": {},
   "outputs": [],
   "source": [
    "text_train = [critica.replace(\"<br />\", \" \") for critica in text_train]\n",
    "text_train = [re.sub( r'[^a-zA-Z]+', ' ', text.lower()) for text in text_train]"
   ]
  },
  {
   "cell_type": "code",
   "execution_count": 5,
   "metadata": {},
   "outputs": [
    {
     "name": "stderr",
     "output_type": "stream",
     "text": [
      "[nltk_data] Downloading package stopwords to\n",
      "[nltk_data]     C:\\Users\\anaso\\AppData\\Roaming\\nltk_data...\n",
      "[nltk_data]   Package stopwords is already up-to-date!\n"
     ]
    }
   ],
   "source": [
    "nltk.download('stopwords')\n",
    "stop_words = set(stopwords.words(\"english\")) \n",
    "\n",
    "no_stop_words = [\" \".join([(word if word not in (stop_words) else \"\") for word in critica.split()]) for critica in text_train]"
   ]
  },
  {
   "cell_type": "code",
   "execution_count": 6,
   "metadata": {},
   "outputs": [],
   "source": [
    "cv = CountVectorizer().fit(no_stop_words)\n",
    "cv_vect = cv.transform(no_stop_words)"
   ]
  },
  {
   "cell_type": "code",
   "execution_count": 7,
   "metadata": {},
   "outputs": [],
   "source": [
    "stemmer = PorterStemmer()\n",
    "docs_porter = [\" \".join([stemmer.stem(word) for word in critic.split()]) for critic in no_stop_words]\n",
    "cv_porter = CountVectorizer()\n",
    "porter_vect = cv_porter.fit_transform(docs_porter)"
   ]
  },
  {
   "cell_type": "code",
   "execution_count": 8,
   "metadata": {},
   "outputs": [],
   "source": [
    "stemmer = LancasterStemmer()\n",
    "docs_lancaster = [\" \".join([stemmer.stem(word) for word in critic.split()]) for critic in no_stop_words]\n",
    "cv_lancaster = CountVectorizer()\n",
    "lancaster_vect = cv_lancaster.fit_transform(docs_lancaster)"
   ]
  },
  {
   "cell_type": "code",
   "execution_count": 9,
   "metadata": {},
   "outputs": [],
   "source": [
    "stemmer = SnowballStemmer(\"english\")\n",
    "docs_snowball = [\" \".join([stemmer.stem(word) for word in critic.split()]) for critic in no_stop_words]\n",
    "cv_snowball = CountVectorizer()\n",
    "snowball_vect = cv_snowball.fit_transform(docs_snowball)"
   ]
  },
  {
   "cell_type": "code",
   "execution_count": 10,
   "metadata": {},
   "outputs": [],
   "source": [
    "lemma = WordNetLemmatizer()\n",
    "docs_lemma = [\" \".join([lemma.lemmatize(word) for word in critic.split()]) for critic in no_stop_words]\n",
    "cv_lemma = CountVectorizer()\n",
    "lemma_vect = cv_lemma.fit_transform(docs_lemma)\n"
   ]
  },
  {
   "cell_type": "code",
   "execution_count": 11,
   "metadata": {},
   "outputs": [
    {
     "name": "stdout",
     "output_type": "stream",
     "text": [
      "Tamanho do dicionário: (25000, 74794)\n",
      "Tamanho do dicionário (porter stemmer): (25000, 51286)\n",
      "Tamanho do dicionário (lancaster stemmer): (25000, 41858)\n",
      "Tamanho do dicionário (snowball stemmer): (25000, 50650)\n",
      "Tamanho do dicionário (lemmatization): (25000, 67119)\n"
     ]
    }
   ],
   "source": [
    "print(\"Tamanho do dicionário: {}\".format(cv_vect.shape))\n",
    "\n",
    "print(\"Tamanho do dicionário (porter stemmer): {}\".format(porter_vect.shape))\n",
    "print(\"Tamanho do dicionário (lancaster stemmer): {}\".format(lancaster_vect.shape))\n",
    "print(\"Tamanho do dicionário (snowball stemmer): {}\".format(snowball_vect.shape))\n",
    "\n",
    "print(\"Tamanho do dicionário (lemmatization): {}\".format(lemma_vect.shape))\n",
    "\n",
    "# print(\"CV: \", cv.get_feature_names_out())\n",
    "# print(\"\\nCV Porter: \", cv_porter.get_feature_names_out())\n",
    "# print(\"\\nCV Lancaster: \", cv_lancaster.get_feature_names_out())\n",
    "# print(\"\\nCV Snowball: \", cv_snowball.get_feature_names_out())\n",
    "# print(\"\\nCV lemma\", cv_lemma.get_feature_names_out())"
   ]
  },
  {
   "cell_type": "code",
   "execution_count": 12,
   "metadata": {},
   "outputs": [
    {
     "name": "stdout",
     "output_type": "stream",
     "text": [
      "Critica original: \n",
      " i found it hard to like anyone in this film the central characters lindy and michael chamberlain whose daughter disappears during a night out in the australian outback are not bad people but then surely not all or even most of the scores of people we see throughout this movie would be bad if we knew them better but though we are as sure as the film wants us to be of the guilt or innocence of the chamberlains from the start of their life s tragic disarray the film takes on a more or less sociological perspective pertaining to gossip news media crowds mobs and assumptions it s not a movie about the degenerate society of australia in particular it s merely an account of a true story that happened there society en masse is much less evolved than the individual feels ensured that we are when a warden insists upon killing all of an aborigine s dogs because of the unverified action of a single wild dog when a randomly ruined life spins even further out of control owing to the majority of magazines newspapers and tv programs distorts the tragic truth to a level of drama that provokes its consumers into a frenzy there is no sign of empathy or even any kind of looking outside of one s own unaware perceptions influenced left and right by the vigorous hearsay and vibes of those who surround one s life the reason i appreciate the film is because it turns the focus inside out from the victims to the masses the evidence against lindy chamberlain aside suspicion was jet fueled mostly by a virtue of hers to the public eye she did not seem sufficiently distraught by the death of her baby daughter why was she able to keep her cool even a sort of aloofness let alone holding her head up for tv and the press how much of the downward spiral could ve been prevented had she behaved more to the public s liking in the media meryl streep one of if not the greatest actress working today may not give a performance that particularly stands out and frankly neither does any other actor or department of film making but she and the screenwriters do understand lindy what is infuriating is that it s not that difficult apparently she was not naturally prone to showing emotion in public in any case whether or not she is approachable as a lovable character in the immediate sense we are naturally prone to sympathize with her situation whether or not her performance is as immediately gratifying as sophie s choice the devil wears prada angels in america or other such work it is a triumph it is difficult enrapture an audience when you purposely deny them insights into yourself she frustrates us because we don t know what she s thinking or feeling it took me awhile to feel endeared toward her but this is the movie s way of suggesting the reaction of the public s attention she is married to a pastor and they both practice a religion that is in a small minority and thus misinterpreted by most initially they react to their loss as if to be reconciling themselves to god s will kick starting a rumor mill generating the notion that their daughter s death was some sort of ritual killing on their part whatever happened to the little girl her parents were part of a margin with whom most of the media s intake didn t immediately identify so the first inclination was to go after them like a pack of hungry well meryl streep and sam neill are constantly on screen but the australian public plays the real leads here like punctuation for each plot advance director fred schepisi cuts away from restaurant to tennis court to dinner party to saloon to office where the public tries lindy and gets carried away into their own passionate projections this golan globus docudrama is not particularly memorable the setting s atmosphere doesn t give a pleasurable enough compensation for the fact that no performance or facet of production stands out but it is very successful as an indictment of the collective conscious of the public   | Palavras:  711\n",
      "\n",
      "Critica sem stop words: \n",
      "  found  hard  like anyone   film  central characters lindy  michael chamberlain whose daughter disappears   night    australian outback   bad people   surely    even    scores  people  see throughout  movie would  bad   knew  better  though    sure   film wants us     guilt  innocence   chamberlains   start   life  tragic disarray  film takes     less sociological perspective pertaining  gossip news media crowds mobs  assumptions     movie   degenerate society  australia  particular   merely  account   true story  happened  society en masse  much less evolved   individual feels ensured      warden insists upon killing    aborigine  dogs    unverified action   single wild dog   randomly ruined life spins even    control owing   majority  magazines newspapers  tv programs distorts  tragic truth   level  drama  provokes  consumers   frenzy    sign  empathy  even  kind  looking outside  one   unaware perceptions influenced left  right   vigorous hearsay  vibes    surround one  life  reason  appreciate  film    turns  focus inside    victims   masses  evidence  lindy chamberlain aside suspicion  jet fueled mostly   virtue     public eye    seem sufficiently distraught   death   baby daughter    able  keep  cool even  sort  aloofness let alone holding  head   tv   press  much   downward spiral could   prevented   behaved    public  liking   media meryl streep one     greatest actress working today may  give  performance  particularly stands   frankly neither    actor  department  film making     screenwriters  understand lindy   infuriating       difficult apparently    naturally prone  showing emotion  public   case whether     approachable   lovable character   immediate sense   naturally prone  sympathize   situation whether    performance   immediately gratifying  sophie  choice  devil wears prada angels  america    work    triumph   difficult enrapture  audience   purposely deny  insights    frustrates us     know    thinking  feeling  took  awhile  feel endeared toward      movie  way  suggesting  reaction   public  attention   married   pastor    practice  religion     small minority  thus misinterpreted   initially  react   loss     reconciling   god   kick starting  rumor mill generating  notion   daughter  death   sort  ritual killing   part whatever happened   little girl  parents  part   margin      media  intake   immediately identify   first inclination   go   like  pack  hungry well meryl streep  sam neill  constantly  screen   australian public plays  real leads  like punctuation   plot advance director fred schepisi cuts away  restaurant  tennis court  dinner party  saloon  office   public tries lindy  gets carried away    passionate projections  golan globus docudrama   particularly memorable  setting  atmosphere   give  pleasurable enough compensation   fact   performance  facet  production stands      successful   indictment   collective conscious   public  | Palavras:  341\n",
      "\n",
      "Critica CountVectorizer: \n",
      " ['aa' 'aaa' 'aaaaaaaaaaaahhhhhhhhhhhhhh' 'aaaaaaaargh' 'aaaaaaahhhhhhggg'\n",
      " 'aaaaagh' 'aaaaahhhh' 'aaaaargh' 'aaaaatch' 'aaaahhhhhh']  | Palavras:  74794\n",
      "\n",
      "\n",
      "\n",
      "TOKENIZAÇÃO\n",
      "\n",
      "Critica Porter Stemmer: \n",
      " found hard like anyon film central charact lindi michael chamberlain whose daughter disappear night australian outback bad peopl sure even score peopl see throughout movi would bad knew better though sure film want us guilt innoc chamberlain start life tragic disarray film take less sociolog perspect pertain gossip news media crowd mob assumpt movi degener societi australia particular mere account true stori happen societi en mass much less evolv individu feel ensur warden insist upon kill aborigin dog unverifi action singl wild dog randomli ruin life spin even control owe major magazin newspap tv program distort tragic truth level drama provok consum frenzi sign empathi even kind look outsid one unawar percept influenc left right vigor hearsay vibe surround one life reason appreci film turn focu insid victim mass evid lindi chamberlain asid suspicion jet fuel mostli virtu public eye seem suffici distraught death babi daughter abl keep cool even sort aloof let alon hold head tv press much downward spiral could prevent behav public like media meryl streep one greatest actress work today may give perform particularli stand frankli neither actor depart film make screenwrit understand lindi infuri difficult appar natur prone show emot public case whether approach lovabl charact immedi sens natur prone sympath situat whether perform immedi gratifi sophi choic devil wear prada angel america work triumph difficult enraptur audienc purpos deni insight frustrat us know think feel took awhil feel endear toward movi way suggest reaction public attent marri pastor practic religion small minor thu misinterpret initi react loss reconcil god kick start rumor mill gener notion daughter death sort ritual kill part whatev happen littl girl parent part margin media intak immedi identifi first inclin go like pack hungri well meryl streep sam neill constantli screen australian public play real lead like punctuat plot advanc director fred schepisi cut away restaur tenni court dinner parti saloon offic public tri lindi get carri away passion project golan globu docudrama particularli memor set atmospher give pleasur enough compens fact perform facet product stand success indict collect consciou public  | Palavras:  341\n",
      "\n",
      "Primeiros Tokens Porter Stemmer: \n",
      " ['aa' 'aaa' 'aaaaaaaaaaaahhhhhhhhhhhhhh' 'aaaaaaaargh' 'aaaaaaahhhhhhggg'\n",
      " 'aaaaagh' 'aaaaahhhh' 'aaaaargh' 'aaaaatch' 'aaaahhhhhh']  | Palavras:  51286\n",
      "\n",
      "Critica Lancaster Stemmer: \n",
      " found hard lik anyon film cent charact lindy michael chamberlain whos daught disappear night aust outback bad peopl sur ev scor peopl see throughout movy would bad knew bet though sur film want us guilt innoc chamberlain start lif trag disarray film tak less sociolog perspect pertain gossip new med crowd mob assum movy deg socy austral particul mer account tru story hap socy en mass much less evolv individ feel ens ward insist upon kil aborigin dog unver act singl wild dog random ruin lif spin ev control ow maj magazin newspap tv program distort trag tru level dram provok consum frenzy sign empathy ev kind look outsid on unaw perceiv influ left right vig hearsay vib surround on lif reason apprecy film turn foc insid victim mass evid lindy chamberlain asid susp jet fuel most virtu publ ey seem sufficy distraught dea baby daught abl keep cool ev sort aloof let alon hold head tv press much downward spir could prev behav publ lik med meryl streep on greatest actress work today may giv perform particul stand frank neith act depart film mak screenwriters understand lindy infury difficult app nat pron show emot publ cas wheth approach lov charact immedy sens nat pron sympath situ wheth perform immedy grat soph cho devil wear prad angel americ work triumph difficult enrapt audy purpos deny insight frust us know think feel took awhil feel endear toward movy way suggest react publ at marry past pract relig smal min thu misinterpret init react loss reconcil god kick start rum mil gen not daught dea sort rit kil part whatev hap littl girl par part margin med intak immedy ident first inclin go lik pack hungry wel meryl streep sam neil const screen aust publ play real lead lik punctu plot adv direct fred schepisi cut away resta ten court din party saloon off publ tri lindy get carry away pass project gol glob docudram particul mem set atmosph giv pleas enough compens fact perform facet produc stand success indict collect conscy publ  | Palavras:  341\n",
      "\n",
      "Primeiros Tokens Lancaster Stemmer: \n",
      " ['aa' 'aaaaaaaaaaaahhhhhhhhhhhhhh' 'aaaaaaaargh' 'aaaaaaahhhhhhgg'\n",
      " 'aaaaagh' 'aaaaahhhh' 'aaaaargh' 'aaaaatch' 'aaaahhhhhh' 'aaaahhhhhhh']  | Palavras:  41858\n",
      "\n",
      "\n",
      "\n",
      "Critica Snowball Stemmer: \n",
      " found hard like anyon film central charact lindi michael chamberlain whose daughter disappear night australian outback bad peopl sure even score peopl see throughout movi would bad knew better though sure film want us guilt innoc chamberlain start life tragic disarray film take less sociolog perspect pertain gossip news media crowd mob assumpt movi degener societi australia particular mere account true stori happen societi en mass much less evolv individu feel ensur warden insist upon kill aborigin dog unverifi action singl wild dog random ruin life spin even control owe major magazin newspap tv program distort tragic truth level drama provok consum frenzi sign empathi even kind look outsid one unawar percept influenc left right vigor hearsay vibe surround one life reason appreci film turn focus insid victim mass evid lindi chamberlain asid suspicion jet fuel most virtu public eye seem suffici distraught death babi daughter abl keep cool even sort aloof let alon hold head tv press much downward spiral could prevent behav public like media meryl streep one greatest actress work today may give perform particular stand frank neither actor depart film make screenwrit understand lindi infuri difficult appar natur prone show emot public case whether approach lovabl charact immedi sens natur prone sympath situat whether perform immedi gratifi sophi choic devil wear prada angel america work triumph difficult enraptur audienc purpos deni insight frustrat us know think feel took awhil feel endear toward movi way suggest reaction public attent marri pastor practic religion small minor thus misinterpret initi react loss reconcil god kick start rumor mill generat notion daughter death sort ritual kill part whatev happen littl girl parent part margin media intak immedi identifi first inclin go like pack hungri well meryl streep sam neill constant screen australian public play real lead like punctuat plot advanc director fred schepisi cut away restaur tenni court dinner parti saloon offic public tri lindi get carri away passion project golan globus docudrama particular memor set atmospher give pleasur enough compens fact perform facet product stand success indict collect conscious public  | Palavras:  341\n",
      "\n",
      "Primeiros Tokens Snowball Stemmer: \n",
      " ['aa' 'aaa' 'aaaaaaaaaaaahhhhhhhhhhhhhh' 'aaaaaaaargh' 'aaaaaaahhhhhhggg'\n",
      " 'aaaaagh' 'aaaaahhhh' 'aaaaargh' 'aaaaatch' 'aaaahhhhhh']  | Palavras:  50650\n",
      "\n",
      "\n",
      "\n",
      "LEMATIZAÇÃO\n",
      "\n",
      "Critica NetWord Lemmatizer: \n",
      " found hard like anyone film central character lindy michael chamberlain whose daughter disappears night australian outback bad people surely even score people see throughout movie would bad knew better though sure film want u guilt innocence chamberlain start life tragic disarray film take le sociological perspective pertaining gossip news medium crowd mob assumption movie degenerate society australia particular merely account true story happened society en masse much le evolved individual feel ensured warden insists upon killing aborigine dog unverified action single wild dog randomly ruined life spin even control owing majority magazine newspaper tv program distorts tragic truth level drama provokes consumer frenzy sign empathy even kind looking outside one unaware perception influenced left right vigorous hearsay vibe surround one life reason appreciate film turn focus inside victim mass evidence lindy chamberlain aside suspicion jet fueled mostly virtue public eye seem sufficiently distraught death baby daughter able keep cool even sort aloofness let alone holding head tv press much downward spiral could prevented behaved public liking medium meryl streep one greatest actress working today may give performance particularly stand frankly neither actor department film making screenwriter understand lindy infuriating difficult apparently naturally prone showing emotion public case whether approachable lovable character immediate sense naturally prone sympathize situation whether performance immediately gratifying sophie choice devil wear prada angel america work triumph difficult enrapture audience purposely deny insight frustrates u know thinking feeling took awhile feel endeared toward movie way suggesting reaction public attention married pastor practice religion small minority thus misinterpreted initially react loss reconciling god kick starting rumor mill generating notion daughter death sort ritual killing part whatever happened little girl parent part margin medium intake immediately identify first inclination go like pack hungry well meryl streep sam neill constantly screen australian public play real lead like punctuation plot advance director fred schepisi cut away restaurant tennis court dinner party saloon office public try lindy get carried away passionate projection golan globus docudrama particularly memorable setting atmosphere give pleasurable enough compensation fact performance facet production stand successful indictment collective conscious public  | Palavras:  341\n",
      "\n",
      "Primeiros Tokens NetWord Lemmatizer: \n",
      " ['aa' 'aaa' 'aaaaaaaaaaaahhhhhhhhhhhhhh' 'aaaaaaaargh' 'aaaaaaahhhhhhggg'\n",
      " 'aaaaagh' 'aaaaahhhh' 'aaaaargh' 'aaaaatch' 'aaaahhhhhh']  | Palavras:  67119\n"
     ]
    }
   ],
   "source": [
    "print(\"Critica original: \\n\", text_train[0], \" | Palavras: \", len(text_train[0].split()))\n",
    "print(\"\\nCritica sem stop words: \\n\", no_stop_words[0], \" | Palavras: \", len(no_stop_words[0].split()))\n",
    "print(\"\\nCritica CountVectorizer: \\n\", np.array(cv.get_feature_names_out())[:10], \" | Palavras: \", len(cv.get_feature_names_out()))\n",
    "\n",
    "print(\"\\n\\n\\nTOKENIZAÇÃO\")\n",
    "print(\"\\nCritica Porter Stemmer: \\n\", docs_porter[0], \" | Palavras: \", len(docs_porter[0].split()))\n",
    "print(\"\\nPrimeiros Tokens Porter Stemmer: \\n\", np.array(cv_porter.get_feature_names_out())[:10], \" | Palavras: \", len(cv_porter.get_feature_names_out()))\n",
    "\n",
    "print(\"\\nCritica Lancaster Stemmer: \\n\", docs_lancaster[0], \" | Palavras: \", len(docs_lancaster[0].split()))\n",
    "print(\"\\nPrimeiros Tokens Lancaster Stemmer: \\n\", np.array(cv_lancaster.get_feature_names_out())[:10], \" | Palavras: \", len(cv_lancaster.get_feature_names_out()))\n",
    "\n",
    "print(\"\\n\\n\\nCritica Snowball Stemmer: \\n\", docs_snowball[0], \" | Palavras: \", len(docs_snowball[0].split()))\n",
    "print(\"\\nPrimeiros Tokens Snowball Stemmer: \\n\", np.array(cv_snowball.get_feature_names_out())[:10], \" | Palavras: \", len(cv_snowball.get_feature_names_out()))\n",
    "\n",
    "print(\"\\n\\n\\nLEMATIZAÇÃO\")\n",
    "print(\"\\nCritica NetWord Lemmatizer: \\n\", docs_lemma[0], \" | Palavras: \", len(docs_lemma[0].split()))\n",
    "print(\"\\nPrimeiros Tokens NetWord Lemmatizer: \\n\", np.array(cv_lemma.get_feature_names_out())[:10], \" | Palavras: \", len(cv_lemma.get_feature_names_out()))\n"
   ]
  },
  {
   "cell_type": "markdown",
   "metadata": {},
   "source": [
    "Extração de caracteristicas"
   ]
  },
  {
   "cell_type": "code",
   "execution_count": 13,
   "metadata": {},
   "outputs": [
    {
     "name": "stdout",
     "output_type": "stream",
     "text": [
      "Mean cross-validation accuracy: 0.89\n"
     ]
    }
   ],
   "source": [
    "tf = TfidfVectorizer().fit(no_stop_words)\n",
    "tf_vect = tf.transform(no_stop_words)\n",
    "\n",
    "scores = cross_val_score(LogisticRegression(), tf_vect, y_train, cv=5)\n",
    "print(\"Mean cross-validation accuracy: {:.2f}\".format(np.mean(scores)))"
   ]
  },
  {
   "cell_type": "code",
   "execution_count": 14,
   "metadata": {},
   "outputs": [
    {
     "name": "stdout",
     "output_type": "stream",
     "text": [
      "Mean cross-validation accuracy: 0.89\n"
     ]
    }
   ],
   "source": [
    "tf_porter = TfidfVectorizer()\n",
    "porter_vect_tf = tf_porter.fit_transform(docs_porter)\n",
    "\n",
    "scores = cross_val_score(LogisticRegression(), porter_vect_tf, y_train, cv=5)\n",
    "print(\"Mean cross-validation accuracy: {:.2f}\".format(np.mean(scores)))"
   ]
  },
  {
   "cell_type": "code",
   "execution_count": 15,
   "metadata": {},
   "outputs": [
    {
     "name": "stdout",
     "output_type": "stream",
     "text": [
      "Mean cross-validation accuracy: 0.88\n"
     ]
    }
   ],
   "source": [
    "tf_lancaster = TfidfVectorizer()\n",
    "lancaster_vect_tf = tf_lancaster.fit_transform(docs_lancaster)\n",
    "\n",
    "scores = cross_val_score(LogisticRegression(), lancaster_vect_tf, y_train, cv=5)\n",
    "print(\"Mean cross-validation accuracy: {:.2f}\".format(np.mean(scores)))"
   ]
  },
  {
   "cell_type": "code",
   "execution_count": 16,
   "metadata": {},
   "outputs": [
    {
     "name": "stdout",
     "output_type": "stream",
     "text": [
      "Mean cross-validation accuracy: 0.89\n"
     ]
    }
   ],
   "source": [
    "tf_snowball = TfidfVectorizer()\n",
    "snowball_vect_tf = tf_snowball.fit_transform(docs_snowball)\n",
    "\n",
    "scores = cross_val_score(LogisticRegression(), snowball_vect_tf, y_train, cv=5)\n",
    "print(\"Mean cross-validation accuracy: {:.2f}\".format(np.mean(scores)))"
   ]
  },
  {
   "cell_type": "code",
   "execution_count": 17,
   "metadata": {},
   "outputs": [
    {
     "name": "stdout",
     "output_type": "stream",
     "text": [
      "Mean cross-validation accuracy: 0.89\n"
     ]
    }
   ],
   "source": [
    "tf_lemma = TfidfVectorizer()\n",
    "lemma_vect_tf = tf_lemma.fit_transform(docs_lemma)\n",
    "\n",
    "scores = cross_val_score(LogisticRegression(), lemma_vect_tf, y_train, cv=5)\n",
    "print(\"Mean cross-validation accuracy: {:.2f}\".format(np.mean(scores)))"
   ]
  },
  {
   "cell_type": "code",
   "execution_count": 18,
   "metadata": {},
   "outputs": [
    {
     "name": "stdout",
     "output_type": "stream",
     "text": [
      "Tamanho do dicionário: (25000, 74794)\n",
      "Tamanho do dicionário (porter stemmer): (25000, 51286)\n",
      "Tamanho do dicionário (lancaster stemmer): (25000, 41858)\n",
      "Tamanho do dicionário (snowball stemmer): (25000, 50650)\n",
      "Tamanho do dicionário (lemmatization): (25000, 67119)\n"
     ]
    }
   ],
   "source": [
    "print(\"Tamanho do dicionário: {}\".format(tf_vect.shape))\n",
    "\n",
    "print(\"Tamanho do dicionário (porter stemmer): {}\".format(porter_vect_tf.shape))\n",
    "print(\"Tamanho do dicionário (lancaster stemmer): {}\".format(lancaster_vect_tf.shape))\n",
    "print(\"Tamanho do dicionário (snowball stemmer): {}\".format(snowball_vect_tf.shape))\n",
    "\n",
    "print(\"Tamanho do dicionário (lemmatization): {}\".format(lemma_vect_tf.shape))"
   ]
  },
  {
   "cell_type": "code",
   "execution_count": 19,
   "metadata": {},
   "outputs": [
    {
     "name": "stdout",
     "output_type": "stream",
     "text": [
      "Features with lowest TFIDF: \n",
      " ['chokeslammed' 'rollup' 'somersaulting' 'sprinted' 'nwo' 'somersaulted'\n",
      " 'clotheslining' 'gloated' 'riksihi' 'brawled' 'hurracanrana'\n",
      " 'turnbuckles' 'ganged' 'dudleys' 'suplexing' 'pinfall' 'superkicked'\n",
      " 'bishoff' 'crossface' 'swig']\n",
      "Features with highest TFIDF: \n",
      " ['pasteur' 'gauri' 'gadget' 'primary' 'barney' 'shark' 'sasquatch' 'bye'\n",
      " 'zatoichi' 'colombo' 'fujimori' 'ernest' 'lv' 'uzumakis' 'dalmations'\n",
      " 'nr' 'doodlebops'\n",
      " 'blahblahblahblahblahblahblahblahblahblahblahblahblahblahblahblahblahblah'\n",
      " 'ghoulies' 'pokemon']\n"
     ]
    }
   ],
   "source": [
    "max_value = tf_vect.max(axis=0).toarray().ravel()\n",
    "sorted_by_tfidf = max_value.argsort()\n",
    "\n",
    "feature_names = np.array(tf.get_feature_names_out())\n",
    "\n",
    "print(\"Features with lowest TFIDF: \\n {}\".format(feature_names[sorted_by_tfidf[:20]]))\n",
    "print(\"Features with highest TFIDF: \\n {}\".format(feature_names[sorted_by_tfidf[-20:]]))\n",
    "\n"
   ]
  },
  {
   "cell_type": "code",
   "execution_count": 20,
   "metadata": {},
   "outputs": [
    {
     "name": "stdout",
     "output_type": "stream",
     "text": [
      "Features with lowest TFIDF: \n",
      " ['turnbuckl' 'nwo' 'crossfac' 'bishoff' 'riksihi' 'superkick' 'rollup'\n",
      " 'pinfal' 'hurracanrana' 'jaggi' 'browner' 'yamazaki' 'docker' 'probelm'\n",
      " 'maiten' 'stingri' 'asagiri' 'howitz' 'bigbossman' 'okerlund']\n",
      "Features with highest TFIDF: \n",
      " ['bye' 'primari' 'barney' 'zatoichi' 'sasquatch' 'shark' 'dahmer'\n",
      " 'fujimori' 'ernest' 'colombo' 'critter' 'nuke' 'lv' 'nr' 'uzumaki'\n",
      " 'blahblahblahblahblahblahblahblahblahblahblahblahblahblahblahblahblahblah'\n",
      " 'doodlebop' 'dalmat' 'ghouli' 'pokemon']\n"
     ]
    }
   ],
   "source": [
    "max_value = porter_vect_tf.max(axis=0).toarray().ravel()\n",
    "sorted_by_tfidf = max_value.argsort()\n",
    "\n",
    "feature_names = np.array(tf_porter.get_feature_names_out())\n",
    "\n",
    "print(\"Features with lowest TFIDF: \\n {}\".format(feature_names[sorted_by_tfidf[:20]]))\n",
    "print(\"Features with highest TFIDF: \\n {}\".format(feature_names[sorted_by_tfidf[-20:]]))\n"
   ]
  },
  {
   "cell_type": "code",
   "execution_count": 21,
   "metadata": {},
   "outputs": [
    {
     "name": "stdout",
     "output_type": "stream",
     "text": [
      "Features with lowest TFIDF: \n",
      " ['rollup' 'crossfac' 'turnbuckl' 'sprinted' 'superkick' 'pinfal' 'riksih'\n",
      " 'nwo' 'hurracanran' 'bishoff' 'jaggy' 'asagir' 'stingry' 'yamazak'\n",
      " 'probelm' 'howitz' 'apoplexy' 'gunsel' 'chlorine' 'guerrerro']\n",
      "Features with highest TFIDF: \n",
      " ['matrix' 'bye' 'barney' 'sasquatch' 'shark' 'zatoich' 'fujimor' 'ernest'\n",
      " 'dahm' 'rap' 'colombo' 'nuk' 'nr' 'lv' 'uzumak' 'doodlebop'\n",
      " 'blahblahblahblahblahblahblahblahblahblahblahblahblahblahblahblahblahblah'\n",
      " 'dalm' 'ghou' 'pokemon']\n"
     ]
    }
   ],
   "source": [
    "max_value = lancaster_vect_tf.max(axis=0).toarray().ravel()\n",
    "sorted_by_tfidf = max_value.argsort()\n",
    "\n",
    "feature_names = np.array(tf_lancaster.get_feature_names_out())\n",
    "\n",
    "print(\"Features with lowest TFIDF: \\n {}\".format(feature_names[sorted_by_tfidf[:20]]))\n",
    "print(\"Features with highest TFIDF: \\n {}\".format(feature_names[sorted_by_tfidf[-20:]]))"
   ]
  },
  {
   "cell_type": "code",
   "execution_count": 22,
   "metadata": {},
   "outputs": [
    {
     "name": "stdout",
     "output_type": "stream",
     "text": [
      "Features with lowest TFIDF: \n",
      " ['crossfac' 'riksihi' 'rollup' 'hurracanrana' 'pinfal' 'nwo' 'superkick'\n",
      " 'turnbuckl' 'bishoff' 'jaggi' 'browner' 'asagiri' 'stingri' 'yamazaki'\n",
      " 'probelm' 'maiten' 'docker' 'howitz' 'guerrerro' 'adnan']\n",
      "Features with highest TFIDF: \n",
      " ['bye' 'barney' 'primari' 'zatoichi' 'sasquatch' 'shark' 'dahmer'\n",
      " 'fujimori' 'ernest' 'colombo' 'critter' 'nuke' 'lv' 'nr' 'uzumaki'\n",
      " 'blahblahblahblahblahblahblahblahblahblahblahblahblahblahblahblahblahblah'\n",
      " 'doodlebop' 'dalmat' 'ghouli' 'pokemon']\n"
     ]
    }
   ],
   "source": [
    "max_value = snowball_vect_tf.max(axis=0).toarray().ravel()\n",
    "sorted_by_tfidf = max_value.argsort()\n",
    "\n",
    "feature_names = np.array(tf_snowball.get_feature_names_out())\n",
    "\n",
    "print(\"Features with lowest TFIDF: \\n {}\".format(feature_names[sorted_by_tfidf[:20]]))\n",
    "print(\"Features with highest TFIDF: \\n {}\".format(feature_names[sorted_by_tfidf[-20:]]))"
   ]
  },
  {
   "cell_type": "code",
   "execution_count": 23,
   "metadata": {},
   "outputs": [
    {
     "name": "stdout",
     "output_type": "stream",
     "text": [
      "Features with lowest TFIDF: \n",
      " ['pinfall' 'hurracanrana' 'gloated' 'suplexing' 'superkicked' 'nwo'\n",
      " 'clotheslining' 'turnbuckle' 'somersaulting' 'chokeslammed' 'rollup'\n",
      " 'bishoff' 'dudleys' 'ganged' 'sprinted' 'riksihi' 'brawled' 'crossface'\n",
      " 'somersaulted' 'jaggys']\n",
      "Features with highest TFIDF: \n",
      " ['botched' 'primary' 'sasquatch' 'barney' 'bye' 'zatoichi' 'colombo'\n",
      " 'fujimori' 'shark' 'ernest' 'nuke' 'critter' 'lv' 'uzumakis' 'dalmations'\n",
      " 'nr' 'doodlebops'\n",
      " 'blahblahblahblahblahblahblahblahblahblahblahblahblahblahblahblahblahblah'\n",
      " 'ghoulies' 'pokemon']\n"
     ]
    }
   ],
   "source": [
    "max_value = lemma_vect_tf.max(axis=0).toarray().ravel()\n",
    "sorted_by_tfidf = max_value.argsort()\n",
    "\n",
    "feature_names = np.array(tf_lemma.get_feature_names_out())\n",
    "\n",
    "print(\"Features with lowest TFIDF: \\n {}\".format(feature_names[sorted_by_tfidf[:20]]))\n",
    "print(\"Features with highest TFIDF: \\n {}\".format(feature_names[sorted_by_tfidf[-20:]]))"
   ]
  },
  {
   "cell_type": "code",
   "execution_count": 24,
   "metadata": {},
   "outputs": [
    {
     "data": {
      "text/plain": [
       "<matplotlib.legend.Legend at 0x265ac6ffa60>"
      ]
     },
     "execution_count": 24,
     "metadata": {},
     "output_type": "execute_result"
    },
    {
     "data": {
      "image/png": "[encoded data removed]",
      "text/plain": [
       "<Figure size 640x480 with 1 Axes>"
      ]
     },
     "metadata": {},
     "output_type": "display_data"
    }
   ],
   "source": [
    "from sklearn.metrics import roc_curve\n",
    "\n",
    "lr = LogisticRegression(max_iter=10000)\n",
    "y_train_e = lr.fit(tf_vect, y_train)\n",
    "fpr_rt, tpr_rf, thresholds_rf = roc_curve(y_train, lr.predict_proba(tf_vect)[:, 1])\n",
    "\n",
    "y_train_porter = lr.fit(porter_vect_tf, y_train)\n",
    "fpr_porter, tpr_porter, thresholds_porter = roc_curve(y_train, lr.predict_proba(porter_vect_tf)[:, 1])\n",
    "\n",
    "y_train_lanc = lr.fit(lancaster_vect_tf, y_train)\n",
    "fpr_lanc, tpr_lanc, thresholds_lanc = roc_curve(y_train, lr.predict_proba(lancaster_vect_tf)[:, 1])\n",
    "\n",
    "y_train_snow = lr.fit(snowball_vect_tf, y_train)\n",
    "fpr_snow, tpr_snow, thresholds_snow = roc_curve(y_train, lr.predict_proba(snowball_vect_tf)[:, 1])\n",
    "\n",
    "y_train_lemma = lr.fit(lemma_vect_tf, y_train)\n",
    "fpr_lemma, tpr_lemma, thresholds_lemma = roc_curve(y_train, lr.predict_proba(lemma_vect_tf)[:, 1])\n",
    "\n",
    "plt.plot(fpr_rt, tpr_rf, label=\"Sem stemming\")\n",
    "plt.plot(fpr_porter, tpr_porter, label=\"Porter\")\n",
    "plt.plot(fpr_lanc, tpr_lanc, label=\"Lancaster\")\n",
    "plt.plot(fpr_snow, tpr_snow, label=\"Snowball\")\n",
    "plt.plot(fpr_lemma, tpr_lemma, label=\"Lemma\")\n",
    "\n",
    "plt.xlabel(\"FPR\")\n",
    "plt.ylabel(\"TPR (recall)\")\n",
    "plt.legend()\n"
   ]
  },
  {
   "cell_type": "code",
   "execution_count": 26,
   "metadata": {},
   "outputs": [
    {
     "data": {
      "text/plain": [
       "Text(0, 0.5, 'TPR (recall)')"
      ]
     },
     "execution_count": 26,
     "metadata": {},
     "output_type": "execute_result"
    },
    {
     "data": {
      "image/png": "[encoded data removed]",
      "text/plain": [
       "<Figure size 640x480 with 1 Axes>"
      ]
     },
     "metadata": {},
     "output_type": "display_data"
    }
   ],
   "source": [
    "lr = LogisticRegression(max_iter=10000)\n",
    "y_train_e = lr.fit(porter_vect_tf, y_train)\n",
    "\n",
    "fpr_rt, tpr_rf, thresholds_rf = roc_curve(y_train, lr.predict_proba(porter_vect_tf)[:, 1])\n",
    "\n",
    "plt.plot(fpr_rt, tpr_rf, label=\"Logistic Regression\")\n",
    "\n",
    "plt.xlabel(\"FPR\")\n",
    "plt.ylabel(\"TPR (recall)\")"
   ]
  },
  {
   "cell_type": "code",
   "execution_count": 27,
   "metadata": {},
   "outputs": [
    {
     "name": "stderr",
     "output_type": "stream",
     "text": [
      "c:\\Users\\anaso\\anaconda3\\lib\\site-packages\\sklearn\\linear_model\\_logistic.py:444: ConvergenceWarning: lbfgs failed to converge (status=1):\n",
      "STOP: TOTAL NO. of ITERATIONS REACHED LIMIT.\n",
      "\n",
      "Increase the number of iterations (max_iter) or scale the data as shown in:\n",
      "    https://scikit-learn.org/stable/modules/preprocessing.html\n",
      "Please also refer to the documentation for alternative solver options:\n",
      "    https://scikit-learn.org/stable/modules/linear_model.html#logistic-regression\n",
      "  n_iter_i = _check_optimize_result(\n",
      "c:\\Users\\anaso\\anaconda3\\lib\\site-packages\\sklearn\\linear_model\\_logistic.py:444: ConvergenceWarning: lbfgs failed to converge (status=1):\n",
      "STOP: TOTAL NO. of ITERATIONS REACHED LIMIT.\n",
      "\n",
      "Increase the number of iterations (max_iter) or scale the data as shown in:\n",
      "    https://scikit-learn.org/stable/modules/preprocessing.html\n",
      "Please also refer to the documentation for alternative solver options:\n",
      "    https://scikit-learn.org/stable/modules/linear_model.html#logistic-regression\n",
      "  n_iter_i = _check_optimize_result(\n"
     ]
    },
    {
     "name": "stdout",
     "output_type": "stream",
     "text": [
      "Best cross-validation score: 0.89\n",
      "Best parameters: \n",
      "{'tfidfvectorizer__min_df': 2}\n"
     ]
    }
   ],
   "source": [
    "pipe = make_pipeline(TfidfVectorizer(), LogisticRegression())\n",
    "\n",
    "param_grid = {'tfidfvectorizer__min_df': [2, 4, 6, 8, 10]}\n",
    "\n",
    "grid = GridSearchCV(pipe, param_grid, cv=5)\n",
    "grid.fit(text_train, y_train)\n",
    "print(\"Best cross-validation score: {:.2f}\".format(grid.best_score_))\n",
    "print(\"Best parameters: \\n{}\".format(grid.best_params_))"
   ]
  },
  {
   "cell_type": "code",
   "execution_count": null,
   "metadata": {},
   "outputs": [],
   "source": [
    "# Gráfico"
   ]
  },
  {
   "cell_type": "code",
   "execution_count": 37,
   "metadata": {},
   "outputs": [
    {
     "name": "stderr",
     "output_type": "stream",
     "text": [
      "c:\\Users\\anaso\\anaconda3\\lib\\site-packages\\sklearn\\linear_model\\_logistic.py:444: ConvergenceWarning: lbfgs failed to converge (status=1):\n",
      "STOP: TOTAL NO. of ITERATIONS REACHED LIMIT.\n",
      "\n",
      "Increase the number of iterations (max_iter) or scale the data as shown in:\n",
      "    https://scikit-learn.org/stable/modules/preprocessing.html\n",
      "Please also refer to the documentation for alternative solver options:\n",
      "    https://scikit-learn.org/stable/modules/linear_model.html#logistic-regression\n",
      "  n_iter_i = _check_optimize_result(\n",
      "c:\\Users\\anaso\\anaconda3\\lib\\site-packages\\sklearn\\linear_model\\_logistic.py:444: ConvergenceWarning: lbfgs failed to converge (status=1):\n",
      "STOP: TOTAL NO. of ITERATIONS REACHED LIMIT.\n",
      "\n",
      "Increase the number of iterations (max_iter) or scale the data as shown in:\n",
      "    https://scikit-learn.org/stable/modules/preprocessing.html\n",
      "Please also refer to the documentation for alternative solver options:\n",
      "    https://scikit-learn.org/stable/modules/linear_model.html#logistic-regression\n",
      "  n_iter_i = _check_optimize_result(\n",
      "c:\\Users\\anaso\\anaconda3\\lib\\site-packages\\sklearn\\linear_model\\_logistic.py:444: ConvergenceWarning: lbfgs failed to converge (status=1):\n",
      "STOP: TOTAL NO. of ITERATIONS REACHED LIMIT.\n",
      "\n",
      "Increase the number of iterations (max_iter) or scale the data as shown in:\n",
      "    https://scikit-learn.org/stable/modules/preprocessing.html\n",
      "Please also refer to the documentation for alternative solver options:\n",
      "    https://scikit-learn.org/stable/modules/linear_model.html#logistic-regression\n",
      "  n_iter_i = _check_optimize_result(\n",
      "c:\\Users\\anaso\\anaconda3\\lib\\site-packages\\sklearn\\linear_model\\_logistic.py:444: ConvergenceWarning: lbfgs failed to converge (status=1):\n",
      "STOP: TOTAL NO. of ITERATIONS REACHED LIMIT.\n",
      "\n",
      "Increase the number of iterations (max_iter) or scale the data as shown in:\n",
      "    https://scikit-learn.org/stable/modules/preprocessing.html\n",
      "Please also refer to the documentation for alternative solver options:\n",
      "    https://scikit-learn.org/stable/modules/linear_model.html#logistic-regression\n",
      "  n_iter_i = _check_optimize_result(\n"
     ]
    },
    {
     "name": "stdout",
     "output_type": "stream",
     "text": [
      "Best cross-validation score: 0.89\n",
      "Best parameters: \n",
      "{'tfidfvectorizer__max_df': 0.95, 'tfidfvectorizer__min_df': 5}\n"
     ]
    }
   ],
   "source": [
    "pipe = make_pipeline(TfidfVectorizer(), LogisticRegression())\n",
    "\n",
    "param_grid = {'tfidfvectorizer__min_df': [2, 3, 4, 5, 6, 7, 8, 9, 10], \n",
    "            'tfidfvectorizer__max_df': [0.5, 0.6, 0.7, 0.8, 0.9, 0.95]}\n",
    "\n",
    "grid = GridSearchCV(pipe, param_grid, cv=5)\n",
    "grid.fit(text_train, y_train)\n",
    "print(\"Best cross-validation score: {:.2f}\".format(grid.best_score_))\n",
    "print(\"Best parameters: \\n{}\".format(grid.best_params_))"
   ]
  },
  {
   "cell_type": "code",
   "execution_count": 38,
   "metadata": {},
   "outputs": [
    {
     "data": {
      "text/plain": [
       "<matplotlib.colorbar.Colorbar at 0x265e03fdb80>"
      ]
     },
     "execution_count": 38,
     "metadata": {},
     "output_type": "execute_result"
    },
    {
     "data": {
      "image/png": "[encoded data removed]",
      "text/plain": [
       "<Figure size 640x480 with 2 Axes>"
      ]
     },
     "metadata": {},
     "output_type": "display_data"
    }
   ],
   "source": [
    "# Gráfico\n",
    "scores = grid.cv_results_['mean_test_score'].reshape(-1, 9).T\n",
    "heatmap = mglearn.tools.heatmap(\n",
    "    scores, xlabel=\"min_df\", ylabel=\"max_df\", cmap=\"viridis\", fmt=\"%.3f\", \n",
    "    xticklabels=param_grid[\"tfidfvectorizer__min_df\"], \n",
    "    yticklabels=param_grid[\"tfidfvectorizer__max_df\"]\n",
    ")\n",
    "plt.colorbar(heatmap)"
   ]
  },
  {
   "cell_type": "code",
   "execution_count": 30,
   "metadata": {},
   "outputs": [
    {
     "name": "stderr",
     "output_type": "stream",
     "text": [
      "c:\\Users\\anaso\\anaconda3\\lib\\site-packages\\sklearn\\model_selection\\_validation.py:378: FitFailedWarning: \n",
      "50 fits failed out of a total of 125.\n",
      "The score on these train-test partitions for these parameters will be set to nan.\n",
      "If these failures are not expected, you can try to debug them by setting error_score='raise'.\n",
      "\n",
      "Below are more details about the failures:\n",
      "--------------------------------------------------------------------------------\n",
      "50 fits failed with the following error:\n",
      "Traceback (most recent call last):\n",
      "  File \"c:\\Users\\anaso\\anaconda3\\lib\\site-packages\\sklearn\\model_selection\\_validation.py\", line 686, in _fit_and_score\n",
      "    estimator.fit(X_train, y_train, **fit_params)\n",
      "  File \"c:\\Users\\anaso\\anaconda3\\lib\\site-packages\\sklearn\\pipeline.py\", line 378, in fit\n",
      "    Xt = self._fit(X, y, **fit_params_steps)\n",
      "  File \"c:\\Users\\anaso\\anaconda3\\lib\\site-packages\\sklearn\\pipeline.py\", line 336, in _fit\n",
      "    X, fitted_transformer = fit_transform_one_cached(\n",
      "  File \"c:\\Users\\anaso\\anaconda3\\lib\\site-packages\\joblib\\memory.py\", line 349, in __call__\n",
      "    return self.func(*args, **kwargs)\n",
      "  File \"c:\\Users\\anaso\\anaconda3\\lib\\site-packages\\sklearn\\pipeline.py\", line 870, in _fit_transform_one\n",
      "    res = transformer.fit_transform(X, y, **fit_params)\n",
      "  File \"c:\\Users\\anaso\\anaconda3\\lib\\site-packages\\sklearn\\feature_extraction\\text.py\", line 2078, in fit_transform\n",
      "    X = super().fit_transform(raw_documents)\n",
      "  File \"c:\\Users\\anaso\\anaconda3\\lib\\site-packages\\sklearn\\feature_extraction\\text.py\", line 1352, in fit_transform\n",
      "    raise ValueError(\"max_df corresponds to < documents than min_df\")\n",
      "ValueError: max_df corresponds to < documents than min_df\n",
      "\n",
      "  warnings.warn(some_fits_failed_message, FitFailedWarning)\n",
      "c:\\Users\\anaso\\anaconda3\\lib\\site-packages\\sklearn\\model_selection\\_search.py:953: UserWarning: One or more of the test scores are non-finite: [0.54236     nan     nan     nan     nan 0.58012 0.536       nan     nan\n",
      "     nan 0.6068  0.57912 0.54164     nan     nan 0.62764 0.60268 0.57812\n",
      " 0.52808     nan 0.64164 0.62552 0.60196 0.56348 0.53188]\n",
      "  warnings.warn(\n"
     ]
    },
    {
     "name": "stdout",
     "output_type": "stream",
     "text": [
      "Best cross-validation score: 0.64\n",
      "Best parameters: \n",
      "{'tfidfvectorizer__max_df': 10, 'tfidfvectorizer__min_df': 2}\n"
     ]
    }
   ],
   "source": [
    "pipe = make_pipeline(TfidfVectorizer(), LogisticRegression())\n",
    "\n",
    "param_grid = {'tfidfvectorizer__min_df': [2, 4, 6, 8, 10], \n",
    "                'tfidfvectorizer__max_df': [2, 4, 6, 8, 10]}\n",
    "\n",
    "grid = GridSearchCV(pipe, param_grid, cv=5)\n",
    "grid.fit(docs_porter, y_train)\n",
    "print(\"Best cross-validation score: {:.2f}\".format(grid.best_score_))\n",
    "print(\"Best parameters: \\n{}\".format(grid.best_params_))"
   ]
  },
  {
   "cell_type": "code",
   "execution_count": 31,
   "metadata": {},
   "outputs": [
    {
     "name": "stderr",
     "output_type": "stream",
     "text": [
      "c:\\Users\\anaso\\anaconda3\\lib\\site-packages\\sklearn\\model_selection\\_validation.py:378: FitFailedWarning: \n",
      "50 fits failed out of a total of 125.\n",
      "The score on these train-test partitions for these parameters will be set to nan.\n",
      "If these failures are not expected, you can try to debug them by setting error_score='raise'.\n",
      "\n",
      "Below are more details about the failures:\n",
      "--------------------------------------------------------------------------------\n",
      "50 fits failed with the following error:\n",
      "Traceback (most recent call last):\n",
      "  File \"c:\\Users\\anaso\\anaconda3\\lib\\site-packages\\sklearn\\model_selection\\_validation.py\", line 686, in _fit_and_score\n",
      "    estimator.fit(X_train, y_train, **fit_params)\n",
      "  File \"c:\\Users\\anaso\\anaconda3\\lib\\site-packages\\sklearn\\pipeline.py\", line 378, in fit\n",
      "    Xt = self._fit(X, y, **fit_params_steps)\n",
      "  File \"c:\\Users\\anaso\\anaconda3\\lib\\site-packages\\sklearn\\pipeline.py\", line 336, in _fit\n",
      "    X, fitted_transformer = fit_transform_one_cached(\n",
      "  File \"c:\\Users\\anaso\\anaconda3\\lib\\site-packages\\joblib\\memory.py\", line 349, in __call__\n",
      "    return self.func(*args, **kwargs)\n",
      "  File \"c:\\Users\\anaso\\anaconda3\\lib\\site-packages\\sklearn\\pipeline.py\", line 870, in _fit_transform_one\n",
      "    res = transformer.fit_transform(X, y, **fit_params)\n",
      "  File \"c:\\Users\\anaso\\anaconda3\\lib\\site-packages\\sklearn\\feature_extraction\\text.py\", line 2078, in fit_transform\n",
      "    X = super().fit_transform(raw_documents)\n",
      "  File \"c:\\Users\\anaso\\anaconda3\\lib\\site-packages\\sklearn\\feature_extraction\\text.py\", line 1352, in fit_transform\n",
      "    raise ValueError(\"max_df corresponds to < documents than min_df\")\n",
      "ValueError: max_df corresponds to < documents than min_df\n",
      "\n",
      "  warnings.warn(some_fits_failed_message, FitFailedWarning)\n",
      "c:\\Users\\anaso\\anaconda3\\lib\\site-packages\\sklearn\\model_selection\\_search.py:953: UserWarning: One or more of the test scores are non-finite: [0.53548     nan     nan     nan     nan 0.57504 0.53184     nan     nan\n",
      "     nan 0.59672 0.5672  0.53552     nan     nan 0.61504 0.59164 0.56664\n",
      " 0.525       nan 0.63004 0.61112 0.5878  0.55392 0.52492]\n",
      "  warnings.warn(\n"
     ]
    },
    {
     "name": "stdout",
     "output_type": "stream",
     "text": [
      "Best cross-validation score: 0.63\n",
      "Best parameters: \n",
      "{'tfidfvectorizer__max_df': 10, 'tfidfvectorizer__min_df': 2}\n"
     ]
    }
   ],
   "source": [
    "pipe = make_pipeline(TfidfVectorizer(), LogisticRegression())\n",
    "\n",
    "param_grid = {'tfidfvectorizer__min_df': [2, 4, 6, 8, 10], \n",
    "                'tfidfvectorizer__max_df': [2, 4, 6, 8, 10]}\n",
    "\n",
    "grid = GridSearchCV(pipe, param_grid, cv=5)\n",
    "grid.fit(docs_lancaster, y_train)\n",
    "print(\"Best cross-validation score: {:.2f}\".format(grid.best_score_))\n",
    "print(\"Best parameters: \\n{}\".format(grid.best_params_))"
   ]
  },
  {
   "cell_type": "code",
   "execution_count": 32,
   "metadata": {},
   "outputs": [
    {
     "name": "stderr",
     "output_type": "stream",
     "text": [
      "c:\\Users\\anaso\\anaconda3\\lib\\site-packages\\sklearn\\model_selection\\_validation.py:378: FitFailedWarning: \n",
      "50 fits failed out of a total of 125.\n",
      "The score on these train-test partitions for these parameters will be set to nan.\n",
      "If these failures are not expected, you can try to debug them by setting error_score='raise'.\n",
      "\n",
      "Below are more details about the failures:\n",
      "--------------------------------------------------------------------------------\n",
      "50 fits failed with the following error:\n",
      "Traceback (most recent call last):\n",
      "  File \"c:\\Users\\anaso\\anaconda3\\lib\\site-packages\\sklearn\\model_selection\\_validation.py\", line 686, in _fit_and_score\n",
      "    estimator.fit(X_train, y_train, **fit_params)\n",
      "  File \"c:\\Users\\anaso\\anaconda3\\lib\\site-packages\\sklearn\\pipeline.py\", line 378, in fit\n",
      "    Xt = self._fit(X, y, **fit_params_steps)\n",
      "  File \"c:\\Users\\anaso\\anaconda3\\lib\\site-packages\\sklearn\\pipeline.py\", line 336, in _fit\n",
      "    X, fitted_transformer = fit_transform_one_cached(\n",
      "  File \"c:\\Users\\anaso\\anaconda3\\lib\\site-packages\\joblib\\memory.py\", line 349, in __call__\n",
      "    return self.func(*args, **kwargs)\n",
      "  File \"c:\\Users\\anaso\\anaconda3\\lib\\site-packages\\sklearn\\pipeline.py\", line 870, in _fit_transform_one\n",
      "    res = transformer.fit_transform(X, y, **fit_params)\n",
      "  File \"c:\\Users\\anaso\\anaconda3\\lib\\site-packages\\sklearn\\feature_extraction\\text.py\", line 2078, in fit_transform\n",
      "    X = super().fit_transform(raw_documents)\n",
      "  File \"c:\\Users\\anaso\\anaconda3\\lib\\site-packages\\sklearn\\feature_extraction\\text.py\", line 1352, in fit_transform\n",
      "    raise ValueError(\"max_df corresponds to < documents than min_df\")\n",
      "ValueError: max_df corresponds to < documents than min_df\n",
      "\n",
      "  warnings.warn(some_fits_failed_message, FitFailedWarning)\n",
      "c:\\Users\\anaso\\anaconda3\\lib\\site-packages\\sklearn\\model_selection\\_search.py:953: UserWarning: One or more of the test scores are non-finite: [0.54152     nan     nan     nan     nan 0.5802  0.53596     nan     nan\n",
      "     nan 0.6054  0.57724 0.54072     nan     nan 0.62656 0.60068 0.57668\n",
      " 0.528       nan 0.64236 0.62372 0.60084 0.56344 0.5326 ]\n",
      "  warnings.warn(\n"
     ]
    },
    {
     "name": "stdout",
     "output_type": "stream",
     "text": [
      "Best cross-validation score: 0.64\n",
      "Best parameters: \n",
      "{'tfidfvectorizer__max_df': 10, 'tfidfvectorizer__min_df': 2}\n"
     ]
    }
   ],
   "source": [
    "pipe = make_pipeline(TfidfVectorizer(), LogisticRegression())\n",
    "\n",
    "param_grid = {'tfidfvectorizer__min_df': [2, 4, 6, 8, 10], \n",
    "                'tfidfvectorizer__max_df': [2, 4, 6, 8, 10]}\n",
    "\n",
    "grid = GridSearchCV(pipe, param_grid, cv=5)\n",
    "grid.fit(docs_snowball, y_train)\n",
    "print(\"Best cross-validation score: {:.2f}\".format(grid.best_score_))\n",
    "print(\"Best parameters: \\n{}\".format(grid.best_params_))"
   ]
  },
  {
   "cell_type": "code",
   "execution_count": 33,
   "metadata": {},
   "outputs": [
    {
     "name": "stderr",
     "output_type": "stream",
     "text": [
      "c:\\Users\\anaso\\anaconda3\\lib\\site-packages\\sklearn\\model_selection\\_validation.py:378: FitFailedWarning: \n",
      "50 fits failed out of a total of 125.\n",
      "The score on these train-test partitions for these parameters will be set to nan.\n",
      "If these failures are not expected, you can try to debug them by setting error_score='raise'.\n",
      "\n",
      "Below are more details about the failures:\n",
      "--------------------------------------------------------------------------------\n",
      "50 fits failed with the following error:\n",
      "Traceback (most recent call last):\n",
      "  File \"c:\\Users\\anaso\\anaconda3\\lib\\site-packages\\sklearn\\model_selection\\_validation.py\", line 686, in _fit_and_score\n",
      "    estimator.fit(X_train, y_train, **fit_params)\n",
      "  File \"c:\\Users\\anaso\\anaconda3\\lib\\site-packages\\sklearn\\pipeline.py\", line 378, in fit\n",
      "    Xt = self._fit(X, y, **fit_params_steps)\n",
      "  File \"c:\\Users\\anaso\\anaconda3\\lib\\site-packages\\sklearn\\pipeline.py\", line 336, in _fit\n",
      "    X, fitted_transformer = fit_transform_one_cached(\n",
      "  File \"c:\\Users\\anaso\\anaconda3\\lib\\site-packages\\joblib\\memory.py\", line 349, in __call__\n",
      "    return self.func(*args, **kwargs)\n",
      "  File \"c:\\Users\\anaso\\anaconda3\\lib\\site-packages\\sklearn\\pipeline.py\", line 870, in _fit_transform_one\n",
      "    res = transformer.fit_transform(X, y, **fit_params)\n",
      "  File \"c:\\Users\\anaso\\anaconda3\\lib\\site-packages\\sklearn\\feature_extraction\\text.py\", line 2078, in fit_transform\n",
      "    X = super().fit_transform(raw_documents)\n",
      "  File \"c:\\Users\\anaso\\anaconda3\\lib\\site-packages\\sklearn\\feature_extraction\\text.py\", line 1352, in fit_transform\n",
      "    raise ValueError(\"max_df corresponds to < documents than min_df\")\n",
      "ValueError: max_df corresponds to < documents than min_df\n",
      "\n",
      "  warnings.warn(some_fits_failed_message, FitFailedWarning)\n",
      "c:\\Users\\anaso\\anaconda3\\lib\\site-packages\\sklearn\\model_selection\\_search.py:953: UserWarning: One or more of the test scores are non-finite: [0.54528     nan     nan     nan     nan 0.58176 0.53816     nan     nan\n",
      "     nan 0.619   0.58732 0.5468      nan     nan 0.63864 0.61524 0.58756\n",
      " 0.53456     nan 0.65436 0.63636 0.61104 0.57516 0.5386 ]\n",
      "  warnings.warn(\n"
     ]
    },
    {
     "name": "stdout",
     "output_type": "stream",
     "text": [
      "Best cross-validation score: 0.65\n",
      "Best parameters: \n",
      "{'tfidfvectorizer__max_df': 10, 'tfidfvectorizer__min_df': 2}\n"
     ]
    }
   ],
   "source": [
    "pipe = make_pipeline(TfidfVectorizer(), LogisticRegression())\n",
    "\n",
    "param_grid = {'tfidfvectorizer__min_df': [2, 4, 6, 8, 10], \n",
    "                'tfidfvectorizer__max_df': [2, 4, 6, 8, 10]}\n",
    "\n",
    "grid = GridSearchCV(pipe, param_grid, cv=5)\n",
    "grid.fit(docs_lemma, y_train)\n",
    "print(\"Best cross-validation score: {:.2f}\".format(grid.best_score_))\n",
    "print(\"Best parameters: \\n{}\".format(grid.best_params_))"
   ]
  },
  {
   "cell_type": "code",
   "execution_count": null,
   "metadata": {},
   "outputs": [],
   "source": []
  },
  {
   "cell_type": "code",
   "execution_count": null,
   "metadata": {},
   "outputs": [],
   "source": []
  },
  {
   "cell_type": "code",
   "execution_count": null,
   "metadata": {},
   "outputs": [],
   "source": []
  },
  {
   "cell_type": "code",
   "execution_count": null,
   "metadata": {},
   "outputs": [],
   "source": []
  },
  {
   "cell_type": "code",
   "execution_count": 34,
   "metadata": {},
   "outputs": [
    {
     "name": "stdout",
     "output_type": "stream",
     "text": [
      "Best cross-validation score: 0.89\n"
     ]
    }
   ],
   "source": [
    "param_grid = {'C': [0.001, 0.01, 0.1, 1, 10]}\n",
    "grid = GridSearchCV(LogisticRegression(max_iter=1000), param_grid, cv=5)\n",
    "grid.fit(tf_vect, y_train)\n",
    "\n",
    "print(\"Best cross-validation score: {:.2f}\".format(grid.best_score_))\n"
   ]
  },
  {
   "cell_type": "code",
   "execution_count": null,
   "metadata": {},
   "outputs": [
    {
     "data": {
      "text/plain": [
       "{'C': 10}"
      ]
     },
     "execution_count": 95,
     "metadata": {},
     "output_type": "execute_result"
    }
   ],
   "source": [
    "grid.best_params_"
   ]
  },
  {
   "cell_type": "code",
   "execution_count": 35,
   "metadata": {},
   "outputs": [
    {
     "name": "stdout",
     "output_type": "stream",
     "text": [
      "<class 'scipy.sparse.csr.csr_matrix'> (25000, 67119)\n",
      "<class 'scipy.sparse.csr.csr_matrix'> (25000, 74794)\n",
      "<class 'scipy.sparse.csr.csr_matrix'> (25000, 51286)\n",
      "<class 'scipy.sparse.csr.csr_matrix'> (25000, 41858)\n",
      "<class 'scipy.sparse.csr.csr_matrix'> (25000, 50650)\n"
     ]
    }
   ],
   "source": [
    "print(type(lemma_vect_tf), lemma_vect_tf.shape)\n",
    "print(type(tf_vect), tf_vect.shape)\n",
    "print(type(porter_vect_tf), porter_vect_tf.shape)\n",
    "print(type(lancaster_vect_tf), lancaster_vect_tf.shape)\n",
    "print(type(snowball_vect_tf), snowball_vect_tf.shape)"
   ]
  },
  {
   "cell_type": "code",
   "execution_count": 36,
   "metadata": {},
   "outputs": [
    {
     "name": "stdout",
     "output_type": "stream",
     "text": [
      "Best cross-validation score: 0.89\n",
      "Best parameters:  {'C': 10}\n"
     ]
    }
   ],
   "source": [
    "param_grid = {'C': [0.001, 0.01, 0.1, 1, 10]}\n",
    "grid = GridSearchCV(LogisticRegression(max_iter=1000), param_grid, cv=5)\n",
    "grid.fit(lemma_vect_tf, y_train)\n",
    "\n",
    "print(\"Best cross-validation score: {:.2f}\".format(np.mean(grid.best_score_)))\n",
    "print(\"Best parameters: \", grid.best_params_)"
   ]
  }
 ],
 "metadata": {
  "kernelspec": {
   "display_name": "Python 3 (ipykernel)",
   "language": "python",
   "name": "python3"
  },
  "language_info": {
   "codemirror_mode": {
    "name": "ipython",
    "version": 3
   },
   "file_extension": ".py",
   "mimetype": "text/x-python",
   "name": "python",
   "nbconvert_exporter": "python",
   "pygments_lexer": "ipython3",
   "version": "3.8.11"
  },
  "vscode": {
   "interpreter": {
    "hash": "4b40f68814b93475b29075cb0adeb1712a4387a9e06914676246b503f1ae483b"
   }
  }
 },
 "nbformat": 4,
 "nbformat_minor": 2
}
