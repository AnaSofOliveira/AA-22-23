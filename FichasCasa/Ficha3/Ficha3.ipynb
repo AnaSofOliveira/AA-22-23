{
 "cells": [
  {
   "cell_type": "code",
   "execution_count": 83,
   "metadata": {},
   "outputs": [],
   "source": [
    "import pickle\n",
    "import numpy as np\n",
    "import matplotlib.pyplot as plt\n",
    "import scipy.linalg as la\n",
    "\n",
    "from numpy.linalg import det\n",
    "\n",
    "from sklearn.metrics import confusion_matrix, mean_absolute_error, mean_squared_error\n",
    "\n",
    "from sklearn.decomposition import PCA\n",
    "\n",
    "fN = '/Users/anaso/Documents/AA/AA-22-23/FichasCasa/Ficha3/MNISTsmall.p'\n"
   ]
  },
  {
   "cell_type": "code",
   "execution_count": 95,
   "metadata": {},
   "outputs": [
    {
     "name": "stdout",
     "output_type": "stream",
     "text": [
      "(784, 381)\n"
     ]
    }
   ],
   "source": [
    "D = pickle.load(open(fN, 'rb'))\n",
    "\n",
    "X = D['X']*1.\n",
    "y = D['trueClass']\n",
    "\n",
    "f1 = D['foldTrain']\n",
    "f2 = D['foldTest']\n",
    "\n",
    "X1 = X[:, f1]\n",
    "y1 = y[f1]\n",
    "\n",
    "X2 = X[:, f2]\n",
    "y2 = y[f2]\n",
    "\n",
    "\n",
    "X_381_amostras = X2[:, y2==0][:, :381]\n",
    "print(X_381_amostras.shape)\n",
    "\n"
   ]
  },
  {
   "cell_type": "markdown",
   "metadata": {},
   "source": [
    "#### Exercício 1. \n",
    "#### (a) - [1, 0, 0, 0]"
   ]
  },
  {
   "cell_type": "code",
   "execution_count": 100,
   "metadata": {},
   "outputs": [
    {
     "name": "stdout",
     "output_type": "stream",
     "text": [
      "Número de componentes:  18\n",
      "mean_absolute_error (Manual):  14.0\n",
      "Número de componentes:  (18, 784)\n",
      "mean_absolute_error (PCA):  14.0\n"
     ]
    }
   ],
   "source": [
    "Cx = np.cov(X_381_amostras)\n",
    "u, V = la.eig(Cx)\n",
    "\n",
    "u = u.real\n",
    "V = V.real\n",
    "\n",
    "idx = np.argsort(-u)\n",
    "u = u[idx]\n",
    "V = V[:, idx]\n",
    "\n",
    "un = u/np.sum(u)\n",
    "ucum = np.cumsum(un)\n",
    "\n",
    "n_components = np.sum(ucum <= 0.75)\n",
    "\n",
    "print(\"Número de componentes: \", n_components+1)\n",
    "\n",
    "W = V[:, :n_components+1]\n",
    "\n",
    "X_381_projetado = np.dot(W.T, X_381_amostras)\n",
    "X_381_reconstruido = np.dot(W, X_381_projetado)\n",
    "\n",
    "print(\"mean_absolute_error (Manual): \", np.round(mean_absolute_error(X_381_amostras[:, 172], X_381_reconstruido[:, 172])))\n",
    "\n",
    "\n",
    "pca = PCA(n_components=0.75).fit(X_381_amostras.T)\n",
    "print(\"Número de componentes: \", pca.components_.shape)\n",
    "X_381_projetado = pca.transform(X_381_amostras.T)\n",
    "X_381_reconstruido = pca.inverse_transform(X_381_projetado).T\n",
    "\n",
    "print(\"mean_absolute_error (PCA): \", np.round(mean_absolute_error(X_381_amostras[:, 172], X_381_reconstruido[:, 172])))\n",
    "\n"
   ]
  },
  {
   "cell_type": "markdown",
   "metadata": {},
   "source": [
    "#### (b) - [0, 0, 0, 1]"
   ]
  },
  {
   "cell_type": "code",
   "execution_count": 102,
   "metadata": {},
   "outputs": [
    {
     "data": {
      "text/plain": [
       "array([[ 1. , -0.1],\n",
       "       [-0.1,  1. ]])"
      ]
     },
     "execution_count": 102,
     "metadata": {},
     "output_type": "execute_result"
    }
   ],
   "source": [
    "X_381_amostras.shape\n",
    "np.round(np.corrcoef(X_381_amostras[218], X_381_amostras[412]), 2)"
   ]
  },
  {
   "cell_type": "markdown",
   "metadata": {},
   "source": [
    "#### (c) - [0, 0, 0, 1]"
   ]
  },
  {
   "cell_type": "code",
   "execution_count": 115,
   "metadata": {},
   "outputs": [
    {
     "data": {
      "text/plain": [
       "<matplotlib.image.AxesImage at 0x20bc5a21730>"
      ]
     },
     "execution_count": 115,
     "metadata": {},
     "output_type": "execute_result"
    },
    {
     "data": {
      "image/png": "[encoded data removed]",
      "text/plain": [
       "<Figure size 640x480 with 2 Axes>"
      ]
     },
     "metadata": {},
     "output_type": "display_data"
    }
   ],
   "source": [
    "X_terceiro_digito = X_381_amostras[:, 2]\n",
    "segundo_vetor_proprio = V[:, 1]\n",
    "\n",
    "plt.figure()\n",
    "plt.subplot(121)\n",
    "plt.title('terceiro digito original')\n",
    "plt.axis('off')\n",
    "plt.imshow(255-X_terceiro_digito.reshape(28,28), cmap='gray', interpolation=None)\n",
    "\n",
    "plt.subplot(122)\n",
    "plt.title('segundo digito reconstruído')\n",
    "plt.axis('off')\n",
    "plt.imshow(segundo_vetor_proprio.reshape(28,28), cmap='gray', interpolation=None)"
   ]
  },
  {
   "cell_type": "markdown",
   "metadata": {},
   "source": [
    "#### (d) - [0, 1, 0, 0]"
   ]
  },
  {
   "cell_type": "code",
   "execution_count": 117,
   "metadata": {},
   "outputs": [
    {
     "name": "stdout",
     "output_type": "stream",
     "text": [
      "(784, 13)\n",
      "1103.0\n"
     ]
    }
   ],
   "source": [
    "X_178 = X_381_amostras[:, 178-1][:, np.newaxis]\n",
    "\n",
    "\n",
    "W_13 = W[:, :13]\n",
    "print(W_13.shape)\n",
    "\n",
    "X_178_projetado = np.dot(W_13.T, X_178)\n",
    "X_178_resconstruido = np.dot(W_13, X_178_projetado)\n",
    "\n",
    "print(np.round(mean_squared_error(X_178, X_178_resconstruido), 0))"
   ]
  },
  {
   "cell_type": "markdown",
   "metadata": {},
   "source": [
    "#### (e) - [1, 0, 0, 0]"
   ]
  },
  {
   "cell_type": "code",
   "execution_count": 89,
   "metadata": {},
   "outputs": [
    {
     "name": "stdout",
     "output_type": "stream",
     "text": [
      "(784, 784)\n",
      "0.0\n"
     ]
    }
   ],
   "source": [
    "cov = np.cov(X_381_amostras)\n",
    "\n",
    "print(cov.shape)\n",
    "print(det(cov))"
   ]
  },
  {
   "cell_type": "markdown",
   "metadata": {},
   "source": [
    "#### (f) - [0, 1, 0, 0]"
   ]
  },
  {
   "cell_type": "code",
   "execution_count": 99,
   "metadata": {},
   "outputs": [
    {
     "name": "stdout",
     "output_type": "stream",
     "text": [
      "(49, 784)\n",
      "49\n"
     ]
    }
   ],
   "source": [
    "pca = PCA(n_components=0.9).fit(X_381_amostras.T)\n",
    "\n",
    "print(pca.components_.shape)\n",
    "\n",
    "\n",
    "cov = np.cov(X_381_amostras)\n",
    "u, V = la.eig(cov)\n",
    "u = u.real\n",
    "V = V.real\n",
    "\n",
    "idx = np.argsort(-u)\n",
    "u = u[idx]\n",
    "V = V[:, idx]\n",
    "\n",
    "un = u/np.sum(u)\n",
    "ucum = np.cumsum(un)\n",
    "\n",
    "print(np.sum(ucum<=0.9)+1)\n"
   ]
  },
  {
   "cell_type": "markdown",
   "metadata": {},
   "source": [
    "#### (g) - [0, 1, 0, 0]"
   ]
  },
  {
   "cell_type": "code",
   "execution_count": 121,
   "metadata": {},
   "outputs": [
    {
     "name": "stdout",
     "output_type": "stream",
     "text": [
      "310\n"
     ]
    },
    {
     "data": {
      "image/png": "[encoded data removed]",
      "text/plain": [
       "<Figure size 640x480 with 1 Axes>"
      ]
     },
     "metadata": {},
     "output_type": "display_data"
    }
   ],
   "source": [
    "cov = np.cov(X_381_amostras)\n",
    "idx = np.diag(cov) != 0\n",
    "\n",
    "\n",
    "plt.figure()\n",
    "plt.imshow(idx.reshape(28,28), cmap='gray', interpolation=None)\n",
    "\n",
    "print(np.sum(idx == 0))\n"
   ]
  },
  {
   "cell_type": "markdown",
   "metadata": {},
   "source": [
    "#### (h) - [1, 0, 0, 0]"
   ]
  },
  {
   "cell_type": "code",
   "execution_count": 92,
   "metadata": {},
   "outputs": [
    {
     "name": "stdout",
     "output_type": "stream",
     "text": [
      "1917.0\n",
      "104.0\n"
     ]
    }
   ],
   "source": [
    "mX = np.mean(X_381_amostras, axis=1)\n",
    "print(np.round(la.norm(mX)))\n",
    "print(np.round(np.std(X_381_amostras[158-1])))"
   ]
  },
  {
   "cell_type": "markdown",
   "metadata": {},
   "source": [
    "#### (i) - [0, 0, 0, 1]"
   ]
  },
  {
   "cell_type": "code",
   "execution_count": 122,
   "metadata": {},
   "outputs": [
    {
     "name": "stdout",
     "output_type": "stream",
     "text": [
      "380\n"
     ]
    }
   ],
   "source": [
    "cov = np.cov(X_381_amostras)\n",
    "\n",
    "u, V = la.eig(cov)\n",
    "u = u.real\n",
    "V = V.real\n",
    "\n",
    "idx = np.argsort(-u)\n",
    "u = u[idx]\n",
    "V = V[:, idx]\n",
    "\n",
    "V = V[:, u>10e-10]\n",
    "\n",
    "print(np.sum(u>10e-10))\n"
   ]
  },
  {
   "cell_type": "markdown",
   "metadata": {},
   "source": [
    "#### (j) - [0, 1, 0, 0]"
   ]
  },
  {
   "cell_type": "code",
   "execution_count": 94,
   "metadata": {},
   "outputs": [
    {
     "name": "stdout",
     "output_type": "stream",
     "text": [
      "1333184.0\n",
      "2975543.0\n"
     ]
    }
   ],
   "source": [
    "x1 = X_381_amostras[:, 225-1]\n",
    "x2 = X_381_amostras[:, 226-1]\n",
    "x3 = X_381_amostras[:, 274-1]\n",
    "x4 = X_381_amostras[:, 292-1]\n",
    "\n",
    "\n",
    "print(np.round(np.dot(x1, x2)))\n",
    "print(np.round(np.dot(x3, x4)))\n"
   ]
  }
 ],
 "metadata": {
  "kernelspec": {
   "display_name": "Python 3.8.11 ('base')",
   "language": "python",
   "name": "python3"
  },
  "language_info": {
   "codemirror_mode": {
    "name": "ipython",
    "version": 3
   },
   "file_extension": ".py",
   "mimetype": "text/x-python",
   "name": "python",
   "nbconvert_exporter": "python",
   "pygments_lexer": "ipython3",
   "version": "3.8.11"
  },
  "orig_nbformat": 4,
  "vscode": {
   "interpreter": {
    "hash": "4b40f68814b93475b29075cb0adeb1712a4387a9e06914676246b503f1ae483b"
   }
  }
 },
 "nbformat": 4,
 "nbformat_minor": 2
}
