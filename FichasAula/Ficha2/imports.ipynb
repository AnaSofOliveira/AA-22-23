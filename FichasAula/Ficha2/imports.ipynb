{
 "cells": [
  {
   "cell_type": "code",
   "execution_count": null,
   "metadata": {},
   "outputs": [],
   "source": [
    "import numpy as np\n",
    "import matplotlib.pyplot as plt\n",
    "import pickle\n",
    "from sklearn.metrics import confusion_matrix\n",
    "\n",
    "from sklearn.neighbors import KNeighborsClassifier\n",
    "\n",
    "import sklearn.datasets as dt\n",
    "\n",
    "import scipy.spatial.distance as spd\n",
    "\n",
    "from numpy.linalg import pinv"
   ]
  },
  {
   "cell_type": "markdown",
   "metadata": {},
   "source": []
  },
  {
   "cell_type": "markdown",
   "metadata": {},
   "source": []
  },
  {
   "cell_type": "markdown",
   "metadata": {},
   "source": []
  },
  {
   "cell_type": "code",
   "execution_count": null,
   "metadata": {},
   "outputs": [],
   "source": [
    "# Distancia euclideana\n",
    "    # Diferença das amostras pela média ao quadrado\n",
    "    dif = (X_treino-m0[:,np.newaxis])\n",
    "    D0 = np.sqrt(np.sum(dif**2, axis=0))\n",
    "\n",
    "# Distância de Manhattan\n",
    "    dif = X_treino-m0[:,np.newaxis]\n",
    "    D1 = np.sum(abs(dif))\n",
    "\n",
    "# Distância de cosseno\n",
    "# Idêntica à euclideana mas tenho que dividir as amostras pela distância euclideana\n",
    "    # Valor das amostras ao quadrado\n",
    "    norma_x = np.sqrt(np.sum(amostras**2, axis=0))\n",
    "    X_normalizado = X/norma_x\n",
    "\n",
    "    Dc2 = 1-np.dot(Xn.T, Xn)\n",
    "\n",
    "    # Mostrar gráfico circular com distâncias\n",
    "    plt.plot(X_normalizado[0,:], X_normalizado[1, :], '.')\n",
    "    plt.axis('scaled')\n",
    "    plt.grid(True)\n",
    "\n",
    "\n",
    "# Distância de Mahalanobis\n",
    "    S1 = np.eye(2)*1/4 # Matrix de covariância dos dados (np.cov(X))\n",
    "    S1i = pinv(S1)\n",
    "    D1 =  np.sqrt(np.sum((X-m1[:, np.newaxis])*np.dot(S1i, (X-m1[:, np.newaxis])), axis=0))\n",
    "\n",
    "\n",
    "\n",
    "\n",
    "\n",
    "# Com SPD para calcular distancias de todos os pontos a todos os pontos\n",
    "# Necessário confirmar antes de distâncias estão ordenadas\n",
    "\n",
    "# Vamos buscar os primeiros 200 exemplos de cada classe\n",
    "Xb = X[:, y==0][:,:200]\n",
    "#print(Xb.shape)\n",
    "\n",
    "for i in range(1, 10): \n",
    "    Xtemp = X[:, y==i][:,:200]\n",
    "    Xb = np.hstack((Xb,Xtemp))\n",
    "\n",
    "print(Xb.shape)\n",
    "\n",
    "D2 = spd.squareform(spd.pdist(Xb.T, 'euclidean'))\n",
    "D1 = spd.squareform(spd.pdist(Xb.T, 'cityblock'))\n",
    "Dc = spd.squareform(spd.pdist(Xb.T, 'cosine'))\n",
    "\n",
    "# Mostrar gráficos das distâncias com SPD\n",
    "plt.figure(figsize=(10,5))\n",
    "plt.subplot(131) # Nro linhas, Nro colunas, Nro do plot\n",
    "plt.imshow(D2, cmap='gray')\n",
    "plt.axis('off')\n",
    "\n",
    "plt.subplot(132) \n",
    "plt.imshow(D1, cmap='gray')\n",
    "plt.axis('off')\n",
    "\n",
    "plt.subplot(133) \n",
    "plt.imshow(Dc, cmap='gray')\n",
    "plt.axis('off')\n"
   ]
  }
 ],
 "metadata": {
  "kernelspec": {
   "display_name": "Python 3.8.11 ('base')",
   "language": "python",
   "name": "python3"
  },
  "language_info": {
   "name": "python",
   "version": "3.8.11"
  },
  "orig_nbformat": 4,
  "vscode": {
   "interpreter": {
    "hash": "4b40f68814b93475b29075cb0adeb1712a4387a9e06914676246b503f1ae483b"
   }
  }
 },
 "nbformat": 4,
 "nbformat_minor": 2
}
