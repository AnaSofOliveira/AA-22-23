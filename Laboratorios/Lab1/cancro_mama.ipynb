{
 "cells": [
  {
   "cell_type": "code",
   "execution_count": 33,
   "metadata": {},
   "outputs": [],
   "source": [
    "import sklearn.datasets as dt\n",
    "from sklearn.metrics import confusion_matrix\n",
    "import numpy.random as rd\n",
    "import numpy as np\n",
    "import matplotlib.pyplot as plt"
   ]
  },
  {
   "cell_type": "code",
   "execution_count": 42,
   "metadata": {},
   "outputs": [
    {
     "name": "stdout",
     "output_type": "stream",
     "text": [
      "dict_keys(['data', 'target', 'frame', 'target_names', 'DESCR', 'feature_names', 'filename', 'data_module'])\n",
      "(30, 569)\n",
      "(569,)\n",
      "212 357\n",
      "Threshold:  0\n",
      "Matriz de Confusão: \n",
      " [[  0 212]\n",
      " [  0 357]]\n",
      "True Positives:  0\n",
      "True Negatives:  357\n",
      "False Positives:  0\n",
      "False Negatives:  212\n",
      "Threshold:  0.2\n",
      "Matriz de Confusão: \n",
      " [[  0 212]\n",
      " [  0 357]]\n",
      "True Positives:  0\n",
      "True Negatives:  357\n",
      "False Positives:  0\n",
      "False Negatives:  212\n",
      "Threshold:  0.4\n",
      "Matriz de Confusão: \n",
      " [[  0 212]\n",
      " [  0 357]]\n",
      "True Positives:  0\n",
      "True Negatives:  357\n",
      "False Positives:  0\n",
      "False Negatives:  212\n",
      "Threshold:  0.6\n",
      "Matriz de Confusão: \n",
      " [[  0 212]\n",
      " [  0 357]]\n",
      "True Positives:  0\n",
      "True Negatives:  357\n",
      "False Positives:  0\n",
      "False Negatives:  212\n",
      "Threshold:  0.8\n",
      "Matriz de Confusão: \n",
      " [[  0 212]\n",
      " [  0 357]]\n",
      "True Positives:  0\n",
      "True Negatives:  357\n",
      "False Positives:  0\n",
      "False Negatives:  212\n",
      "Threshold:  1.0\n",
      "Matriz de Confusão: \n",
      " [[212   0]\n",
      " [357   0]]\n",
      "True Positives:  212\n",
      "True Negatives:  0\n",
      "False Positives:  357\n",
      "False Negatives:  0\n"
     ]
    },
    {
     "name": "stderr",
     "output_type": "stream",
     "text": [
      "C:\\Users\\anaso\\AppData\\Local\\Temp\\ipykernel_15456\\1473532229.py:41: RuntimeWarning: invalid value encountered in true_divide\n",
      "  precision = np.divide(TP , (TP + FP))\n",
      "C:\\Users\\anaso\\AppData\\Local\\Temp\\ipykernel_15456\\1473532229.py:41: RuntimeWarning: invalid value encountered in true_divide\n",
      "  precision = np.divide(TP , (TP + FP))\n",
      "C:\\Users\\anaso\\AppData\\Local\\Temp\\ipykernel_15456\\1473532229.py:41: RuntimeWarning: invalid value encountered in true_divide\n",
      "  precision = np.divide(TP , (TP + FP))\n",
      "C:\\Users\\anaso\\AppData\\Local\\Temp\\ipykernel_15456\\1473532229.py:41: RuntimeWarning: invalid value encountered in true_divide\n",
      "  precision = np.divide(TP , (TP + FP))\n",
      "C:\\Users\\anaso\\AppData\\Local\\Temp\\ipykernel_15456\\1473532229.py:41: RuntimeWarning: invalid value encountered in true_divide\n",
      "  precision = np.divide(TP , (TP + FP))\n"
     ]
    },
    {
     "data": {
      "text/plain": [
       "(-0.05, 1.05, -0.05, 1.05)"
      ]
     },
     "execution_count": 42,
     "metadata": {},
     "output_type": "execute_result"
    },
    {
     "data": {
      "image/png": "[encoded data removed]",
      "text/plain": [
       "<Figure size 500x500 with 1 Axes>"
      ]
     },
     "metadata": {},
     "output_type": "display_data"
    }
   ],
   "source": [
    "D = dt.load_breast_cancer()\n",
    "\n",
    "print(D.keys())\n",
    "\n",
    "X = D.data\n",
    "X = X.T\n",
    "y = D.target\n",
    "\n",
    "print(X.shape)\n",
    "print(y.shape)\n",
    "\n",
    "print(np.sum(y==0), np.sum(y==1))\n",
    "\n",
    "# Gera N (y.shape[0]) amostras entre 0 e 1 e atribui 0 às amostras abaixo do threshold (th) \n",
    "# e 1 às amostras acima do threshold (th)\n",
    "rd.seed(42)\n",
    "ye = rd.rand(y.shape[0])\n",
    "plt.figure(figsize=(5,5))\n",
    "\n",
    "for th in [0, 0.2, 0.4, 0.6, 0.8, 1.0]:\n",
    "    print(\"Threshold: \", th)\n",
    "    ye = (ye > th) # Matriz de True e False\n",
    "    ye = ye*1 # Converte para valores entre [0, 1]\n",
    "\n",
    "    CM = confusion_matrix(y, ye)\n",
    "\n",
    "    print(\"Matriz de Confusão: \\n\", CM)\n",
    "\n",
    "    TP = CM[0][0]\n",
    "    FN = CM[0][1]\n",
    "    FP = CM[1][0]\n",
    "    TN = CM[1][1]\n",
    "\n",
    "    print(\"True Positives: \", TP)\n",
    "    print(\"True Negatives: \", TN)\n",
    "    print(\"False Positives: \", FP)\n",
    "    print(\"False Negatives: \", FN)\n",
    "\n",
    "    recall = np.divide(TP, (TP + FN))\n",
    "    false_alarm = np.divide(FP , (FP + TN))\n",
    "    precision = np.divide(TP , (TP + FP))\n",
    "\n",
    "    plt.plot(false_alarm, recall, '.')\n",
    "\n",
    "plt.axis('scaled')\n"
   ]
  }
 ],
 "metadata": {
  "kernelspec": {
   "display_name": "Python 3.8.11 ('base')",
   "language": "python",
   "name": "python3"
  },
  "language_info": {
   "codemirror_mode": {
    "name": "ipython",
    "version": 3
   },
   "file_extension": ".py",
   "mimetype": "text/x-python",
   "name": "python",
   "nbconvert_exporter": "python",
   "pygments_lexer": "ipython3",
   "version": "3.8.11"
  },
  "orig_nbformat": 4,
  "vscode": {
   "interpreter": {
    "hash": "4b40f68814b93475b29075cb0adeb1712a4387a9e06914676246b503f1ae483b"
   }
  }
 },
 "nbformat": 4,
 "nbformat_minor": 2
}
