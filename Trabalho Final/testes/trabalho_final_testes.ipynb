{
 "cells": [
  {
   "cell_type": "code",
   "execution_count": 1,
   "metadata": {},
   "outputs": [
    {
     "name": "stderr",
     "output_type": "stream",
     "text": [
      "[nltk_data] Downloading package wordnet to\n",
      "[nltk_data]     C:\\Users\\anaso\\AppData\\Roaming\\nltk_data...\n",
      "[nltk_data]   Package wordnet is already up-to-date!\n",
      "[nltk_data] Downloading package omw-1.4 to\n",
      "[nltk_data]     C:\\Users\\anaso\\AppData\\Roaming\\nltk_data...\n",
      "[nltk_data]   Package omw-1.4 is already up-to-date!\n"
     ]
    }
   ],
   "source": [
    "import numpy as np\n",
    "import matplotlib.pyplot as plt\n",
    "import pickle\n",
    "import re\n",
    "\n",
    "import mglearn\n",
    "import spacy\n",
    "import nltk\n",
    "from nltk.corpus import stopwords\n",
    "from nltk.stem import WordNetLemmatizer\n",
    "nltk.download('wordnet')\n",
    "nltk.download('omw-1.4')\n",
    "\n",
    "from nltk.stem import PorterStemmer, SnowballStemmer, LancasterStemmer\n",
    "from sklearn.feature_extraction.text import TfidfVectorizer, ENGLISH_STOP_WORDS\n",
    "\n",
    "\n",
    "from sklearn.model_selection import train_test_split, cross_val_score\n",
    "from sklearn.linear_model import LogisticRegression\n"
   ]
  },
  {
   "attachments": {},
   "cell_type": "markdown",
   "metadata": {},
   "source": [
    "Ler dados"
   ]
  },
  {
   "cell_type": "code",
   "execution_count": 2,
   "metadata": {},
   "outputs": [
    {
     "name": "stdout",
     "output_type": "stream",
     "text": [
      "Tamanho corpus: 50000 documentos\n",
      "Shape target: (50000,)\n",
      "Classificações Multiclasse: [ 1  2  3  4  7  8  9 10]\n",
      "Classificações Binárias: [0 1]\n"
     ]
    }
   ],
   "source": [
    "fN = '/Users/anaso/Documents/AA/AA-22-23/Trabalho Final/imdbFull.p'\n",
    "\n",
    "D = pickle.load(open(fN, 'rb'))\n",
    "\n",
    "corpus = D.data\n",
    "y = D.target\n",
    "yb = [1 if val>5 else 0 for val in y]\n",
    "\n",
    "print(\"Tamanho corpus: {} documentos\".format(len(corpus)))\n",
    "print(\"Shape target: {}\".format(y.shape))\n",
    "print(\"Classificações Multiclasse: {}\".format(np.unique(y)))\n",
    "print(\"Classificações Binárias: {}\".format(np.unique(yb)))\n",
    "\n"
   ]
  },
  {
   "attachments": {},
   "cell_type": "markdown",
   "metadata": {},
   "source": [
    "- Divisão dos dados em treino e teste"
   ]
  },
  {
   "cell_type": "code",
   "execution_count": 3,
   "metadata": {},
   "outputs": [
    {
     "name": "stdout",
     "output_type": "stream",
     "text": [
      "Type of corpus: <class 'list'>\n",
      "Type of text_train: <class 'list'>\n",
      "\n",
      "Train: \n",
      "Number of documents in text data (train): 25000\n",
      "Samples per class (train): [12500 12500]\n",
      "\n",
      "Test: \n",
      "Number of documents in text data (test): 25000\n",
      "Samples per class (test): [12500 12500]\n"
     ]
    }
   ],
   "source": [
    "text_train, text_test, y_train, y_test = train_test_split(corpus, yb, train_size=0.5, stratify=yb)\n",
    "\n",
    "print(\"Type of corpus: {}\".format(type(corpus)))\n",
    "print(\"Type of text_train: {}\".format(type(text_train)))\n",
    "\n",
    "print(\"\\nTrain: \")\n",
    "print(\"Number of documents in text data (train): {}\".format(len(text_train)))\n",
    "print(\"Samples per class (train): {}\".format(np.bincount(y_train)))\n",
    "\n",
    "print(\"\\nTest: \")\n",
    "print(\"Number of documents in text data (test): {}\".format(len(text_test)))\n",
    "print(\"Samples per class (test): {}\".format(np.bincount(y_test)))"
   ]
  },
  {
   "attachments": {},
   "cell_type": "markdown",
   "metadata": {},
   "source": [
    "<h2 style='color: #3792cb'>Limpeza de dados</h2>"
   ]
  },
  {
   "cell_type": "code",
   "execution_count": 4,
   "metadata": {},
   "outputs": [],
   "source": [
    "verbose = True\n",
    "num_critica = 0"
   ]
  },
  {
   "cell_type": "code",
   "execution_count": 5,
   "metadata": {},
   "outputs": [
    {
     "name": "stdout",
     "output_type": "stream",
     "text": [
      "\n",
      "Critica: \n",
      "The sound is terrible, the picture is worse than worse, the acting is awful, the female leading actress is chubby, and the story is... wait a minute... There is no story...! The plot is really bad and the title of the movie is misleading. If you expect to to see Piranhas, you might be disappointed. This movie has nothing to do with the Piranha movies from 1978 and 1981. Actually, I can only think of one scene involving Piranhas.<br /><br />The only thing that I liked about this movie, besides the fact that it runs for only about 85 minutes, is the song at the end. It's written and sung by Jim Stein and it's called \"Love all things that love the sun\".<br /><br />I don't recommend this movie. It is so bad it's not even funny to watch. I fell asleep after the first 20 minutes and I am the kind of person who watches anything.\n",
      "\n",
      "Critica sem </ br>: \n",
      "The sound is terrible, the picture is worse than worse, the acting is awful, the female leading actress is chubby, and the story is... wait a minute... There is no story...! The plot is really bad and the title of the movie is misleading. If you expect to to see Piranhas, you might be disappointed. This movie has nothing to do with the Piranha movies from 1978 and 1981. Actually, I can only think of one scene involving Piranhas.  The only thing that I liked about this movie, besides the fact that it runs for only about 85 minutes, is the song at the end. It's written and sung by Jim Stein and it's called \"Love all things that love the sun\".  I don't recommend this movie. It is so bad it's not even funny to watch. I fell asleep after the first 20 minutes and I am the kind of person who watches anything.\n",
      "\n",
      "Critica apenas com caracteres alfanuméricos: \n",
      "The sound is terrible the picture is worse than worse the acting is awful the female leading actress is chubby and the story is wait a minute There is no story The plot is really bad and the title of the movie is misleading If you expect to to see Piranhas you might be disappointed This movie has nothing to do with the Piranha movies from 1978 and 1981 Actually I can only think of one scene involving Piranhas The only thing that I liked about this movie besides the fact that it runs for only about 85 minutes is the song at the end It s written and sung by Jim Stein and it s called Love all things that love the sun I don t recommend this movie It is so bad it s not even funny to watch I fell asleep after the first 20 minutes and I am the kind of person who watches anything \n",
      "\n",
      "Critica apenas com caracteres alfabéticos minusculos: \n",
      "the sound is terrible the picture is worse than worse the acting is awful the female leading actress is chubby and the story is wait a minute there is no story the plot is really bad and the title of the movie is misleading if you expect to to see piranhas you might be disappointed this movie has nothing to do with the piranha movies from and actually i can only think of one scene involving piranhas the only thing that i liked about this movie besides the fact that it runs for only about minutes is the song at the end it s written and sung by jim stein and it s called love all things that love the sun i don t recommend this movie it is so bad it s not even funny to watch i fell asleep after the first minutes and i am the kind of person who watches anything \n"
     ]
    }
   ],
   "source": [
    "if verbose: (print(\"\\nCritica: \\n{}\".format(text_train[num_critica])))\n",
    "\n",
    "# Limpeza de quebras de linha (\"</ br>\")\n",
    "criticas = [critica.replace(\"<br />\", \" \") for critica in text_train]\n",
    "if verbose: (print(\"\\nCritica sem </ br>: \\n{}\".format(criticas[num_critica])))\n",
    "\n",
    "# Mantidos apenas caracteres alfanuméricos\n",
    "critica_alfanum = [re.sub(r'[^a-zA-Z0-9]+', ' ', critica) for critica in criticas]\n",
    "print(\"\\nCritica apenas com caracteres alfanuméricos: \\n{}\".format(critica_alfanum[num_critica]))\n",
    "\n",
    "# Mantidos apenas caracteres alfabéticos\n",
    "critica_alfabetica = [re.sub(r'[^a-z]+', ' ', critica.lower()) for critica in criticas]\n",
    "print(\"\\nCritica apenas com caracteres alfabéticos minusculos: \\n{}\".format(critica_alfabetica[num_critica]))\n"
   ]
  },
  {
   "attachments": {},
   "cell_type": "markdown",
   "metadata": {},
   "source": [
    "<p style='color: #45b6fe'>- Avaliação sem limpeza</p> "
   ]
  },
  {
   "cell_type": "code",
   "execution_count": 6,
   "metadata": {},
   "outputs": [
    {
     "name": "stdout",
     "output_type": "stream",
     "text": [
      "\n",
      "Tamanho do dicionário: 76652\n",
      "Mean cross-validation accuracy: 0.89\n",
      "Cross-validation accuracy: [0.8916 0.8884 0.8876 0.8822 0.887 ]\n"
     ]
    }
   ],
   "source": [
    "tf = TfidfVectorizer().fit(text_train)\n",
    "vocabulary = tf.get_feature_names_out()\n",
    "print(\"\\nTamanho do dicionário: {}\".format(len(vocabulary)))\n",
    "text_train_p = tf.transform(text_train)\n",
    "\n",
    "scores = cross_val_score(LogisticRegression(max_iter=1000), text_train_p, y_train, cv=5)\n",
    "print(\"Mean cross-validation accuracy: {:.2f}\".format(np.mean(scores)))\n",
    "print(\"Cross-validation accuracy: {}\".format(scores))"
   ]
  },
  {
   "attachments": {},
   "cell_type": "markdown",
   "metadata": {},
   "source": [
    "<p style='color: #45b6fe'>- Avaliação Limpeza Alfanumérica</p> "
   ]
  },
  {
   "cell_type": "code",
   "execution_count": 7,
   "metadata": {},
   "outputs": [
    {
     "name": "stdout",
     "output_type": "stream",
     "text": [
      "\n",
      "Tamanho do dicionário: 76246\n",
      "Mean cross-validation accuracy: 0.89\n",
      "Cross-validation accuracy: [0.8908 0.8914 0.8878 0.8814 0.8874]\n"
     ]
    }
   ],
   "source": [
    "tf = TfidfVectorizer().fit(critica_alfanum)\n",
    "vocabulary_alfanum = tf.get_feature_names_out()\n",
    "print(\"\\nTamanho do dicionário: {}\".format(len(vocabulary_alfanum)))\n",
    "text_train_p = tf.transform(critica_alfanum)\n",
    "\n",
    "scores = cross_val_score(LogisticRegression(max_iter=1000), text_train_p, y_train, cv=5)\n",
    "print(\"Mean cross-validation accuracy: {:.2f}\".format(np.mean(scores)))\n",
    "print(\"Cross-validation accuracy: {}\".format(scores))"
   ]
  },
  {
   "attachments": {},
   "cell_type": "markdown",
   "metadata": {},
   "source": [
    "<p style='color: #45b6fe'>- Avaliação Limpeza Alfabética</p> "
   ]
  },
  {
   "cell_type": "code",
   "execution_count": 8,
   "metadata": {},
   "outputs": [
    {
     "name": "stdout",
     "output_type": "stream",
     "text": [
      "\n",
      "Tamanho do dicionário: 74981\n",
      "Mean cross-validation accuracy: 0.89\n",
      "Cross-validation accuracy: [0.8914 0.8912 0.8878 0.8816 0.8866]\n"
     ]
    }
   ],
   "source": [
    "tf = TfidfVectorizer().fit(critica_alfabetica)\n",
    "vocabulary_alfab = tf.get_feature_names_out()\n",
    "print(\"\\nTamanho do dicionário: {}\".format(len(vocabulary_alfab)))\n",
    "text_train_p = tf.transform(critica_alfabetica)\n",
    "\n",
    "scores = cross_val_score(LogisticRegression(max_iter=1000), text_train_p, y_train, cv=5)\n",
    "print(\"Mean cross-validation accuracy: {:.2f}\".format(np.mean(scores)))\n",
    "print(\"Cross-validation accuracy: {}\".format(scores))"
   ]
  },
  {
   "attachments": {},
   "cell_type": "markdown",
   "metadata": {},
   "source": [
    "<h4 style='color: #3792cb'>Conclusões: </h4>\n",
    "<ul>\n",
    "    <li>Sem limpeza o tamanho do dicionário é de 101895 tokens;</li>\n",
    "    <li>A limpeza alfabética é a que mais diminui o tamanho do dicionário;</li>\n",
    "    <li>Não existe impacto na performance do classificador binário, independentemente do tipo de limpeza aplicada</li>\n",
    "    <li>Assim, podemos deduzir que a limpeza alfabética é a melhor limpeza a aplicar neste caso prático, pois diminui o número de tokens (diminuindo a complexidade computacional) sem comprometer a performance do classificador. </li>\n",
    "</ul>"
   ]
  },
  {
   "cell_type": "code",
   "execution_count": 9,
   "metadata": {},
   "outputs": [
    {
     "data": {
      "image/png": "[encoded data removed]",
      "text/plain": [
       "<Figure size 640x480 with 1 Axes>"
      ]
     },
     "metadata": {},
     "output_type": "display_data"
    }
   ],
   "source": [
    "plt.figure()\n",
    "plt.bar(\"s/ limpeza\", len(vocabulary))\n",
    "plt.bar(\"Alfanumérica\", len(vocabulary_alfanum))\n",
    "plt.bar(\"Alfabética\", len(vocabulary_alfab))\n",
    "plt.grid(True)\n",
    "\n",
    "plt.show()"
   ]
  },
  {
   "attachments": {},
   "cell_type": "markdown",
   "metadata": {},
   "source": [
    "<h2 style='color: #3792cb'>Stop Words</h2>"
   ]
  },
  {
   "cell_type": "code",
   "execution_count": 10,
   "metadata": {},
   "outputs": [
    {
     "name": "stderr",
     "output_type": "stream",
     "text": [
      "[nltk_data] Downloading package stopwords to\n",
      "[nltk_data]     C:\\Users\\anaso\\AppData\\Roaming\\nltk_data...\n",
      "[nltk_data]   Package stopwords is already up-to-date!\n"
     ]
    }
   ],
   "source": [
    "nltk.download('stopwords')\n",
    "stop_words = set(stopwords.words(\"english\")) \n",
    "\n",
    "no_stop_words = [\" \".join([(word if word not in (stop_words) else \"\") for word in critica.split()]) for critica in critica_alfabetica]\n"
   ]
  },
  {
   "attachments": {},
   "cell_type": "markdown",
   "metadata": {},
   "source": [
    "<p style='color: #45b6fe'>- Avaliação Stop Words</p> "
   ]
  },
  {
   "cell_type": "code",
   "execution_count": 11,
   "metadata": {},
   "outputs": [
    {
     "name": "stdout",
     "output_type": "stream",
     "text": [
      "\n",
      "Tamanho do dicionário com stop words: 74981\n",
      "Tamanho do dicionário sem stop words: 74837\n",
      "Mean cross-validation accuracy: 0.89\n",
      "Cross-validation accuracy: [0.8916 0.8914 0.89   0.8846 0.891 ]\n"
     ]
    }
   ],
   "source": [
    "tf = TfidfVectorizer().fit(no_stop_words)\n",
    "vocabulary_no_stop_words = tf.get_feature_names_out()\n",
    "print(\"\\nTamanho do dicionário com stop words: {}\".format(len(vocabulary_alfab)))\n",
    "print(\"Tamanho do dicionário sem stop words: {}\".format(len(vocabulary_no_stop_words)))\n",
    "text_train_p = tf.transform(no_stop_words)\n",
    "\n",
    "scores = cross_val_score(LogisticRegression(max_iter=1000), text_train_p, y_train, cv=5)\n",
    "print(\"Mean cross-validation accuracy: {:.2f}\".format(np.mean(scores)))\n",
    "print(\"Cross-validation accuracy: {}\".format(scores))"
   ]
  },
  {
   "attachments": {},
   "cell_type": "markdown",
   "metadata": {},
   "source": [
    "<h4 style='color: #3792cb'>Conclusões</h4>\n",
    "<ul>\n",
    "    <li></li>\n",
    "    <li></li>\n",
    "</ul>"
   ]
  },
  {
   "cell_type": "code",
   "execution_count": 12,
   "metadata": {},
   "outputs": [
    {
     "data": {
      "image/png": "[encoded data removed]",
      "text/plain": [
       "<Figure size 640x480 with 1 Axes>"
      ]
     },
     "metadata": {},
     "output_type": "display_data"
    }
   ],
   "source": [
    "plt.figure()\n",
    "plt.bar(\"c/ StopWords\", len(vocabulary_alfab))\n",
    "plt.bar(\"s/ StopWords\", len(vocabulary_no_stop_words))\n",
    "plt.autoscale()\n",
    "plt.grid(True)\n",
    "\n",
    "plt.show()"
   ]
  },
  {
   "attachments": {},
   "cell_type": "markdown",
   "metadata": {},
   "source": [
    "<h2 style='color: #3792cb'>Tokenização Vs Lemmatização</h2>"
   ]
  },
  {
   "cell_type": "code",
   "execution_count": 13,
   "metadata": {},
   "outputs": [],
   "source": [
    "def tokenization(documents, stemmer_name=\"porter\"):\n",
    "    stem = {\"porter\": PorterStemmer(), \n",
    "            \"lancaster\": LancasterStemmer(), \n",
    "            \"snowball\": SnowballStemmer(\"english\"), \n",
    "            \"lemma\": WordNetLemmatizer()} \n",
    "\n",
    "    stemmer = stem.get(stemmer_name) \n",
    "\n",
    "    if(stemmer_name==\"lemma\"):\n",
    "        return [\" \".join([stemmer.lemmatize(word, \"v\") for word in critic.split()]) for critic in documents]\n",
    "    else:  \n",
    "        return [\" \".join([stemmer.stem(word) for word in critic.split()]) for critic in documents]\n"
   ]
  },
  {
   "cell_type": "code",
   "execution_count": 14,
   "metadata": {},
   "outputs": [],
   "source": [
    "# Sem stop words\n",
    "docs_porter = tokenization(no_stop_words, stemmer_name=\"porter\")\n",
    "docs_lanc = tokenization(no_stop_words, stemmer_name=\"lancaster\")\n",
    "docs_snow = tokenization(no_stop_words, stemmer_name=\"snowball\")  \n",
    "\n",
    "docs_lemma = tokenization(no_stop_words, stemmer_name=\"lemma\")  \n",
    "\n",
    "# Com stop words\n",
    "docs_porter_s = tokenization(critica_alfabetica, stemmer_name=\"porter\")\n",
    "docs_lanc_s = tokenization(critica_alfabetica, stemmer_name=\"lancaster\")\n",
    "docs_snow_s = tokenization(critica_alfabetica, stemmer_name=\"snowball\")  \n",
    "\n",
    "docs_lemma_s = tokenization(critica_alfabetica, stemmer_name=\"lemma\") "
   ]
  },
  {
   "cell_type": "code",
   "execution_count": 15,
   "metadata": {},
   "outputs": [
    {
     "name": "stdout",
     "output_type": "stream",
     "text": [
      "Com Stop Words:\n",
      "\n",
      "Critica após limpeza alfabética: \n",
      "the sound is terrible the picture is worse than worse the acting is awful the female leading actress is chubby and the story is wait a minute there is no story the plot is really bad and the title of the movie is misleading if you expect to to see piranhas you might be disappointed this movie has nothing to do with the piranha movies from and actually i can only think of one scene involving piranhas the only thing that i liked about this movie besides the fact that it runs for only about minutes is the song at the end it s written and sung by jim stein and it s called love all things that love the sun i don t recommend this movie it is so bad it s not even funny to watch i fell asleep after the first minutes and i am the kind of person who watches anything \n",
      "\n",
      "Critica com Porter Stemmer: \n",
      "sound terribl pictur wors wors act aw femal lead actress chubbi stori wait minut stori plot realli bad titl movi mislead expect see piranha might disappoint movi noth piranha movi actual think one scene involv piranha thing like movi besid fact run minut song end written sung jim stein call love thing love sun recommend movi bad even funni watch fell asleep first minut kind person watch anyth\n",
      "\n",
      "Critica com Lancaster Stemmer: \n",
      "sound terr pict wors wors act aw fem lead actress chubby story wait minut story plot real bad titl movy mislead expect see piranha might disappoint movy noth piranh movy act think on scen involv piranha thing lik movy besid fact run minut song end writ sung jim stein cal lov thing lov sun recommend movy bad ev funny watch fel asleep first minut kind person watch anyth\n",
      "\n",
      "Critica com Snowball Stemmer: \n",
      "sound terribl pictur wors wors act aw femal lead actress chubbi stori wait minut stori plot realli bad titl movi mislead expect see piranha might disappoint movi noth piranha movi actual think one scene involv piranha thing like movi besid fact run minut song end written sung jim stein call love thing love sun recommend movi bad even funni watch fell asleep first minut kind person watch anyth\n",
      "\n",
      "Critica com NetWord Lemmatization: \n",
      "sound terrible picture worse worse act awful female lead actress chubby story wait minute story plot really bad title movie mislead expect see piranhas might disappoint movie nothing piranha movies actually think one scene involve piranhas thing like movie besides fact run minutes song end write sing jim stein call love things love sun recommend movie bad even funny watch fell asleep first minutes kind person watch anything\n",
      "Sem Stop Words:\n",
      "\n",
      "Critica após limpeza alfabética: \n",
      "the sound is terrible the picture is worse than worse the acting is awful the female leading actress is chubby and the story is wait a minute there is no story the plot is really bad and the title of the movie is misleading if you expect to to see piranhas you might be disappointed this movie has nothing to do with the piranha movies from and actually i can only think of one scene involving piranhas the only thing that i liked about this movie besides the fact that it runs for only about minutes is the song at the end it s written and sung by jim stein and it s called love all things that love the sun i don t recommend this movie it is so bad it s not even funny to watch i fell asleep after the first minutes and i am the kind of person who watches anything \n",
      "\n",
      "Critica com Porter Stemmer: \n",
      "sound terribl pictur wors wors act aw femal lead actress chubbi stori wait minut stori plot realli bad titl movi mislead expect see piranha might disappoint movi noth piranha movi actual think one scene involv piranha thing like movi besid fact run minut song end written sung jim stein call love thing love sun recommend movi bad even funni watch fell asleep first minut kind person watch anyth\n",
      "\n",
      "Critica com Lancaster Stemmer: \n",
      "sound terr pict wors wors act aw fem lead actress chubby story wait minut story plot real bad titl movy mislead expect see piranha might disappoint movy noth piranh movy act think on scen involv piranha thing lik movy besid fact run minut song end writ sung jim stein cal lov thing lov sun recommend movy bad ev funny watch fel asleep first minut kind person watch anyth\n",
      "\n",
      "Critica com Snowball Stemmer: \n",
      "sound terribl pictur wors wors act aw femal lead actress chubbi stori wait minut stori plot realli bad titl movi mislead expect see piranha might disappoint movi noth piranha movi actual think one scene involv piranha thing like movi besid fact run minut song end written sung jim stein call love thing love sun recommend movi bad even funni watch fell asleep first minut kind person watch anyth\n",
      "\n",
      "Critica com NetWord Lemmatization: \n",
      "sound terrible picture worse worse act awful female lead actress chubby story wait minute story plot really bad title movie mislead expect see piranhas might disappoint movie nothing piranha movies actually think one scene involve piranhas thing like movie besides fact run minutes song end write sing jim stein call love things love sun recommend movie bad even funny watch fell asleep first minutes kind person watch anything\n"
     ]
    }
   ],
   "source": [
    "print(\"Com Stop Words:\\n\")\n",
    "print(\"Critica após limpeza alfabética: \\n{}\".format(critica_alfabetica[num_critica]))\n",
    "print(\"\\nCritica com Porter Stemmer: \\n{}\".format(docs_porter[num_critica]))\n",
    "print(\"\\nCritica com Lancaster Stemmer: \\n{}\".format(docs_lanc[num_critica]))\n",
    "print(\"\\nCritica com Snowball Stemmer: \\n{}\".format(docs_snow[num_critica]))\n",
    "\n",
    "print(\"\\nCritica com NetWord Lemmatization: \\n{}\".format(docs_lemma[num_critica]))\n",
    "\n",
    "\n",
    "\n",
    "\n",
    "print(\"Sem Stop Words:\\n\")\n",
    "print(\"Critica após limpeza alfabética: \\n{}\".format(critica_alfabetica[num_critica]))\n",
    "print(\"\\nCritica com Porter Stemmer: \\n{}\".format(docs_porter[num_critica]))\n",
    "print(\"\\nCritica com Lancaster Stemmer: \\n{}\".format(docs_lanc[num_critica]))\n",
    "print(\"\\nCritica com Snowball Stemmer: \\n{}\".format(docs_snow[num_critica]))\n",
    "\n",
    "print(\"\\nCritica com NetWord Lemmatization: \\n{}\".format(docs_lemma[num_critica]))"
   ]
  },
  {
   "attachments": {},
   "cell_type": "markdown",
   "metadata": {},
   "source": [
    "<p style='color: #45b6fe'>- Avaliação Porter Stemmer</p> "
   ]
  },
  {
   "cell_type": "code",
   "execution_count": 16,
   "metadata": {},
   "outputs": [
    {
     "name": "stdout",
     "output_type": "stream",
     "text": [
      "\n",
      "Tamanho do dicionário: 51276\n",
      "Mean cross-validation accuracy: 0.88\n",
      "Cross-validation accuracy: [0.884  0.8894 0.884  0.881  0.8846]\n",
      "\n",
      "Tamanho do dicionário: 51342\n",
      "Mean cross-validation accuracy: 0.88\n",
      "Cross-validation accuracy: [0.8862 0.8896 0.883  0.8796 0.8862]\n"
     ]
    }
   ],
   "source": [
    "tf = TfidfVectorizer().fit(docs_porter)\n",
    "vocabulary_porter = tf.get_feature_names_out()\n",
    "print(\"\\nTamanho do dicionário: {}\".format(len(vocabulary_porter)))\n",
    "corpusVect = tf.transform(docs_porter)\n",
    "\n",
    "scores = cross_val_score(LogisticRegression(max_iter=1000), corpusVect, y_train, cv=5)\n",
    "print(\"Mean cross-validation accuracy: {:.2f}\".format(np.mean(scores)))\n",
    "print(\"Cross-validation accuracy: {}\".format(scores))\n",
    "\n",
    "\n",
    "\n",
    "# Com stop words\n",
    "tf = TfidfVectorizer().fit(docs_porter_s)\n",
    "vocabulary_porter_s = tf.get_feature_names_out()\n",
    "print(\"\\nTamanho do dicionário: {}\".format(len(vocabulary_porter_s)))\n",
    "corpusVect = tf.transform(docs_porter_s)\n",
    "\n",
    "scores = cross_val_score(LogisticRegression(max_iter=1000), corpusVect, y_train, cv=5)\n",
    "print(\"Mean cross-validation accuracy: {:.2f}\".format(np.mean(scores)))\n",
    "print(\"Cross-validation accuracy: {}\".format(scores))"
   ]
  },
  {
   "attachments": {},
   "cell_type": "markdown",
   "metadata": {},
   "source": [
    "<p style='color: #45b6fe'>- Avaliação Lancaster Stemmer</p> "
   ]
  },
  {
   "cell_type": "code",
   "execution_count": 17,
   "metadata": {},
   "outputs": [
    {
     "name": "stdout",
     "output_type": "stream",
     "text": [
      "\n",
      "Tamanho do dicionário: 41828\n",
      "Mean cross-validation accuracy: 0.88\n",
      "Cross-validation accuracy: [0.8796 0.8858 0.8782 0.8804 0.881 ]\n",
      "\n",
      "Tamanho do dicionário: 41882\n",
      "Mean cross-validation accuracy: 0.88\n",
      "Cross-validation accuracy: [0.8824 0.8854 0.884  0.8772 0.8824]\n"
     ]
    }
   ],
   "source": [
    "tf = TfidfVectorizer().fit(docs_lanc)\n",
    "vocabulary_lanc = tf.get_feature_names_out()\n",
    "print(\"\\nTamanho do dicionário: {}\".format(len(vocabulary_lanc)))\n",
    "corpusVect = tf.transform(docs_lanc)\n",
    "\n",
    "scores = cross_val_score(LogisticRegression(max_iter=1000), corpusVect, y_train, cv=5)\n",
    "print(\"Mean cross-validation accuracy: {:.2f}\".format(np.mean(scores)))\n",
    "print(\"Cross-validation accuracy: {}\".format(scores))\n",
    "\n",
    "\n",
    "# Com stop words\n",
    "tf = TfidfVectorizer().fit(docs_lanc_s)\n",
    "vocabulary_lanc_s = tf.get_feature_names_out()\n",
    "print(\"\\nTamanho do dicionário: {}\".format(len(vocabulary_lanc_s)))\n",
    "corpusVect = tf.transform(docs_lanc_s)\n",
    "\n",
    "scores = cross_val_score(LogisticRegression(max_iter=1000), corpusVect, y_train, cv=5)\n",
    "print(\"Mean cross-validation accuracy: {:.2f}\".format(np.mean(scores)))\n",
    "print(\"Cross-validation accuracy: {}\".format(scores))"
   ]
  },
  {
   "attachments": {},
   "cell_type": "markdown",
   "metadata": {},
   "source": [
    "<p style='color: #45b6fe'>- Avaliação Snowball Stemmer</p> "
   ]
  },
  {
   "cell_type": "code",
   "execution_count": 18,
   "metadata": {},
   "outputs": [
    {
     "name": "stdout",
     "output_type": "stream",
     "text": [
      "\n",
      "Tamanho do dicionário: 50641\n",
      "Mean cross-validation accuracy: 0.89\n",
      "Cross-validation accuracy: [0.8846 0.8892 0.8832 0.883  0.8874]\n",
      "\n",
      "Tamanho do dicionário: 50723\n",
      "Mean cross-validation accuracy: 0.89\n",
      "Cross-validation accuracy: [0.886  0.8896 0.8842 0.8794 0.8866]\n"
     ]
    }
   ],
   "source": [
    "tf = TfidfVectorizer().fit(docs_snow)\n",
    "vocabulary_snow = tf.get_feature_names_out()\n",
    "print(\"\\nTamanho do dicionário: {}\".format(len(vocabulary_snow)))\n",
    "corpusVect = tf.transform(docs_snow)\n",
    "\n",
    "scores = cross_val_score(LogisticRegression(max_iter=1000), corpusVect, y_train, cv=5)\n",
    "print(\"Mean cross-validation accuracy: {:.2f}\".format(np.mean(scores)))\n",
    "print(\"Cross-validation accuracy: {}\".format(scores))\n",
    "\n",
    "# Com stop words\n",
    "tf = TfidfVectorizer().fit(docs_snow_s)\n",
    "vocabulary_snow_s = tf.get_feature_names_out()\n",
    "print(\"\\nTamanho do dicionário: {}\".format(len(vocabulary_snow_s)))\n",
    "corpusVect = tf.transform(docs_snow_s)\n",
    "\n",
    "scores = cross_val_score(LogisticRegression(max_iter=1000), corpusVect, y_train, cv=5)\n",
    "print(\"Mean cross-validation accuracy: {:.2f}\".format(np.mean(scores)))\n",
    "print(\"Cross-validation accuracy: {}\".format(scores))"
   ]
  },
  {
   "attachments": {},
   "cell_type": "markdown",
   "metadata": {},
   "source": [
    "<p style='color: #45b6fe'>- Avaliação Lemmatização</p> "
   ]
  },
  {
   "cell_type": "code",
   "execution_count": 19,
   "metadata": {},
   "outputs": [
    {
     "name": "stdout",
     "output_type": "stream",
     "text": [
      "\n",
      "Tamanho do dicionário: 63776\n",
      "Mean cross-validation accuracy: 0.89\n",
      "Cross-validation accuracy: [0.8892 0.89   0.8828 0.8802 0.8892]\n",
      "\n",
      "Tamanho do dicionário: 63894\n",
      "Mean cross-validation accuracy: 0.89\n",
      "Cross-validation accuracy: [0.8906 0.8924 0.8892 0.8796 0.887 ]\n"
     ]
    }
   ],
   "source": [
    "tf = TfidfVectorizer().fit(docs_lemma)\n",
    "vocabulary_lemma = tf.get_feature_names_out()\n",
    "print(\"\\nTamanho do dicionário: {}\".format(len(vocabulary_lemma)))\n",
    "corpusVect = tf.transform(docs_lemma)\n",
    "\n",
    "scores = cross_val_score(LogisticRegression(max_iter=1000), corpusVect, y_train, cv=5)\n",
    "print(\"Mean cross-validation accuracy: {:.2f}\".format(np.mean(scores)))\n",
    "print(\"Cross-validation accuracy: {}\".format(scores))\n",
    "\n",
    "\n",
    "\n",
    "# Com stop words\n",
    "tf = TfidfVectorizer().fit(docs_lemma_s)\n",
    "vocabulary_lemma_s = tf.get_feature_names_out()\n",
    "print(\"\\nTamanho do dicionário: {}\".format(len(vocabulary_lemma_s)))\n",
    "corpusVect = tf.transform(docs_lemma_s)\n",
    "\n",
    "scores = cross_val_score(LogisticRegression(max_iter=1000), corpusVect, y_train, cv=5)\n",
    "print(\"Mean cross-validation accuracy: {:.2f}\".format(np.mean(scores)))\n",
    "print(\"Cross-validation accuracy: {}\".format(scores))"
   ]
  },
  {
   "attachments": {},
   "cell_type": "markdown",
   "metadata": {},
   "source": [
    "<h4 style='color: #3792cb'>Conclusões</h4>\n",
    "<ul>\n",
    "    <li>O processo que minimiza o tamanho do dicionário é o Stemming com o algoritmo de Lancaster. </li>\n",
    "    <li>Aplicando o algoritmo de Snowbal verificamos a perda de 0.01 na percisão do classificador. </li>\n",
    "    <li>Os processos de stemming não consideram o contexto das palavras pelo que na fase seguinte podemos ter tokens que contém</li>\n",
    "</ul>"
   ]
  },
  {
   "cell_type": "code",
   "execution_count": 20,
   "metadata": {},
   "outputs": [],
   "source": [
    "# criticas_teste = [\"john bouth a car to visit his mum\", \"sara is responsable for the mummies in the museum\", \n",
    "# \"My mother is going to take care of me\", \"can i go to the park\", \"i bought a canoe to sail on the river\", \"i will cancel the tour\"]\n",
    "\n",
    "# print(\"\\nOriginal: \\n{}\".format(criticas_teste))\n",
    "\n",
    "# print(\"\\nPorter: \\n{}\".format(tokenization(criticas_teste, stemmer_name=\"porter\")))\n",
    "# print(\"\\nLancaster: \\n{}\".format(tokenization(criticas_teste, stemmer_name=\"lancaster\")))\n",
    "# print(\"\\nSnowball: \\n{}\".format(tokenization(criticas_teste, stemmer_name=\"snowball\")))\n",
    "\n",
    "# print(\"\\nLemmatization: \\n{}\".format(tokenization(criticas_teste, stemmer_name=\"lemma\")))"
   ]
  },
  {
   "cell_type": "code",
   "execution_count": 21,
   "metadata": {},
   "outputs": [
    {
     "data": {
      "image/png": "[encoded data removed]",
      "text/plain": [
       "<Figure size 640x480 with 1 Axes>"
      ]
     },
     "metadata": {},
     "output_type": "display_data"
    },
    {
     "data": {
      "image/png": "[encoded data removed]",
      "text/plain": [
       "<Figure size 640x480 with 1 Axes>"
      ]
     },
     "metadata": {},
     "output_type": "display_data"
    }
   ],
   "source": [
    "plt.figure()\n",
    "plt.title(\"Tokenization Vs Stemming (s/stop words)\")\n",
    "plt.bar(\"s/ stemming\", len(vocabulary_alfab))\n",
    "plt.bar(\"Porter\", len(vocabulary_porter))\n",
    "plt.bar(\"Lancaster\", len(vocabulary_lanc))\n",
    "plt.bar(\"Snowball\", len(vocabulary_snow))\n",
    "plt.bar(\"Lemmatização\", len(vocabulary_lemma))\n",
    "plt.autoscale()\n",
    "plt.grid(True)\n",
    "plt.show()\n",
    "\n",
    "\n",
    "plt.figure()\n",
    "plt.title(\"Tokenization Vs Stemming (C/stop words)\")\n",
    "plt.bar(\"s/ stemming\", len(vocabulary_alfab))\n",
    "plt.bar(\"Porter\", len(vocabulary_porter_s))\n",
    "plt.bar(\"Lancaster\", len(vocabulary_lanc_s))\n",
    "plt.bar(\"Snowball\", len(vocabulary_snow_s))\n",
    "plt.bar(\"Lemmatização\", len(vocabulary_lemma_s))\n",
    "plt.autoscale()\n",
    "plt.grid(True)\n",
    "plt.show()"
   ]
  },
  {
   "attachments": {},
   "cell_type": "markdown",
   "metadata": {},
   "source": [
    "<h2 style='color: #3792cb'>Feature Extraction</h2>"
   ]
  },
  {
   "cell_type": "code",
   "execution_count": null,
   "metadata": {},
   "outputs": [],
   "source": []
  }
 ],
 "metadata": {
  "kernelspec": {
   "display_name": "base",
   "language": "python",
   "name": "python3"
  },
  "language_info": {
   "codemirror_mode": {
    "name": "ipython",
    "version": 3
   },
   "file_extension": ".py",
   "mimetype": "text/x-python",
   "name": "python",
   "nbconvert_exporter": "python",
   "pygments_lexer": "ipython3",
   "version": "3.8.11 (default, Aug  6 2021, 09:57:55) [MSC v.1916 64 bit (AMD64)]"
  },
  "orig_nbformat": 4,
  "vscode": {
   "interpreter": {
    "hash": "4b40f68814b93475b29075cb0adeb1712a4387a9e06914676246b503f1ae483b"
   }
  }
 },
 "nbformat": 4,
 "nbformat_minor": 2
}
