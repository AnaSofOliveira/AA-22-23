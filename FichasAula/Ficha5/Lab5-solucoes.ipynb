{
 "cells": [
  {
   "cell_type": "markdown",
   "metadata": {},
   "source": [
    "# LAb5: Generalização de modelos lineares"
   ]
  },
  {
   "cell_type": "markdown",
   "metadata": {},
   "source": [
    "<hr style=\"border:1px  solid black\"> </hr>"
   ]
  },
  {
   "cell_type": "markdown",
   "metadata": {},
   "source": [
    "### (Preencher)\n",
    "## Nome: \n",
    "## Número: "
   ]
  },
  {
   "cell_type": "markdown",
   "metadata": {},
   "source": [
    "<hr style=\"border:1px  solid black\"> </hr>"
   ]
  },
  {
   "cell_type": "markdown",
   "metadata": {},
   "source": [
    "## Desenvolva e corra o código pedido nas células imediatamente abaixo das perguntas."
   ]
  },
  {
   "cell_type": "markdown",
   "metadata": {},
   "source": [
    "# IMPORTANTE:\n",
    "## Uma vez completado, grave este Jupyter notebook com o seguinte nome:\n",
    "## Axxxxx-Lab5.ipynb (Axxxxx: número de aluno)\n",
    "##  e depois submeta o ficheiro no link do Moodle providenciado para o efeito."
   ]
  },
  {
   "cell_type": "markdown",
   "metadata": {},
   "source": [
    "<hr style=\"border:2px solid black\"> </hr>"
   ]
  },
  {
   "cell_type": "markdown",
   "metadata": {},
   "source": [
    "# Dados: $\\texttt{breast_cancer}$ dataset do $\\texttt{sklearn}$\n",
    "### Considere os dados do $\\texttt{breast_cancer}$ dataset do $\\texttt{sklearn}$, divididos em três conjuntos, treino/validação/teste, segundo os comandos da próxima célula.\n",
    "* ### X1a: dados de treino (array de $319\\times30$)\n",
    "* ### y1a: classe do dados de treino\n",
    "* ### X1b: dados de validação (array de $100\\times30$)\n",
    "* ### y1b: classe do dados de validação\n",
    "* ### X2: dados de treino (array de $150\\times30$)\n",
    "* ### y2: classe do dados de teste"
   ]
  },
  {
   "cell_type": "code",
   "execution_count": 46,
   "metadata": {},
   "outputs": [],
   "source": [
    "import numpy as np\n",
    "import matplotlib.pyplot as plt\n",
    "from sklearn.metrics import confusion_matrix, roc_curve\n",
    "from sklearn.model_selection import  train_test_split\n",
    "import sklearn.datasets as DT\n",
    "from sklearn.svm import SVC\n",
    "from sklearn.linear_model import LogisticRegression\n",
    "\n",
    "D=DT.load_breast_cancer()\n",
    "X=D.data\n",
    "y=D.target\n",
    "\n",
    "################################################################\n",
    "#ATENÇÃO: Considerar os casos malígnos como positivos (classe 1)\n",
    "#Necessário inverter classes\n",
    "y=np.abs(y-1)\n",
    "################################################################\n",
    "\n",
    "#divitir em treino, validação e teste\n",
    "X1,X2,y1,y2=train_test_split(X,y,test_size=150,stratify=y,random_state=42)\n",
    "X1a,X1b,y1a,y1b=train_test_split(X1,y1,test_size=100,stratify=y1,random_state=42)"
   ]
  },
  {
   "cell_type": "markdown",
   "metadata": {},
   "source": [
    "# Pergunta 1: Discriminantes logístico\n",
    "##  Considere um discriminante logístico com regularização $\\ell_1$ (lasso) e com os parâmetros $\\texttt{C=2}$, $\\texttt{solver='saga'}$ e $\\texttt{max_iter=5000}$. Treine o classificador com os conjuntos de treino e validação (419 exemplos).\n",
    "### a) Imprima o número total de erros e matriz de confusão (não normalizada) deste classificador para o conjunto de teste.\n",
    "### b) Imprima o índice e os nomes (feature names) das dimensões dos dados que não interferem no processo de classificação (dimensões descartadas).\n",
    "### c) Calibre este classificador de maneira a ter um número máximo de falsos negativos no teste inferior o igual a 5, e ao mesmo tempo mantendo o número total de erros igual à da alínea 1.a).\n",
    "### d) Faça um plot da curva ROC deste classificador com os dados de teste. Inclua nesse plot o ponto operacional dos classificadores da alínea 1.a) e 1.c)."
   ]
  },
  {
   "cell_type": "markdown",
   "metadata": {},
   "source": [
    "## 1.a)"
   ]
  },
  {
   "cell_type": "code",
   "execution_count": 60,
   "metadata": {
    "scrolled": true
   },
   "outputs": [
    {
     "name": "stdout",
     "output_type": "stream",
     "text": [
      "Nº total de erros 12\n",
      "Matriz de confusão:\n",
      "[[93  1]\n",
      " [11 45]]\n"
     ]
    }
   ],
   "source": [
    "lr=LogisticRegression(penalty='l1',solver='saga',C=2,max_iter=5000).fit(X1,y1)\n",
    "y2e=lr.predict(X2)\n",
    "print('Nº total de erros',np.sum(y2!=y2e))\n",
    "print('Matriz de confusão:')\n",
    "print(confusion_matrix(y2,y2e))"
   ]
  },
  {
   "cell_type": "markdown",
   "metadata": {},
   "source": [
    "## 1.b)"
   ]
  },
  {
   "cell_type": "code",
   "execution_count": 61,
   "metadata": {},
   "outputs": [
    {
     "name": "stdout",
     "output_type": "stream",
     "text": [
      "Dimensões descartadas (total de 11):\n",
      " 4 mean smoothness\n",
      " 9 mean fractal dimension\n",
      "10 radius error\n",
      "14 smoothness error\n",
      "15 compactness error\n",
      "16 concavity error\n",
      "17 concave points error\n",
      "18 symmetry error\n",
      "19 fractal dimension error\n",
      "24 worst smoothness\n",
      "29 worst fractal dimension\n"
     ]
    }
   ],
   "source": [
    "w=lr.coef_\n",
    "w=w.squeeze()\n",
    "idx=np.argwhere(w==0).squeeze()\n",
    "fN=D.feature_names\n",
    "print('Dimensões descartadas (total de %d):'%idx.shape[0])\n",
    "for i in idx:\n",
    "    print('%2d'%i,fN[i])"
   ]
  },
  {
   "cell_type": "markdown",
   "metadata": {},
   "source": [
    "## 1.c)"
   ]
  },
  {
   "cell_type": "code",
   "execution_count": 62,
   "metadata": {},
   "outputs": [
    {
     "name": "stdout",
     "output_type": "stream",
     "text": [
      "[[87  7]\n",
      " [ 5 51]]\n"
     ]
    }
   ],
   "source": [
    "y2c=lr.decision_function(X2)\n",
    "print(confusion_matrix(y2,y2c>-1.45))"
   ]
  },
  {
   "cell_type": "markdown",
   "metadata": {},
   "source": [
    "## 1.d)"
   ]
  },
  {
   "cell_type": "code",
   "execution_count": 68,
   "metadata": {
    "scrolled": false
   },
   "outputs": [
    {
     "data": {
      "image/png": "[encoded data removed]",
      "text/plain": [
       "<Figure size 432x432 with 1 Axes>"
      ]
     },
     "metadata": {
      "needs_background": "light"
     },
     "output_type": "display_data"
    }
   ],
   "source": [
    "fpr,tpr,t=roc_curve(y2,y2c)\n",
    "\n",
    "#Classificador 1\n",
    "#fp-rate=FP/(FP+TN)\n",
    "p11=1/(93+1)\n",
    "#tp-rate=TP/(TP+FN)\n",
    "p12=45/(45+11)\n",
    "\n",
    "#Classificador 2\n",
    "#fp-rate=FP/(FP+TN)\n",
    "p21=7/(87+7)\n",
    "#tp-rate=TP/(TP+FN)\n",
    "p22=51/(5+51)\n",
    "\n",
    "plt.figure(figsize=(6,6))\n",
    "plt.plot(p11,p12,'ok')\n",
    "plt.plot(p21,p22,'or')\n",
    "\n",
    "plt.plot(fpr,tpr)\n",
    "plt.axis('scaled')\n",
    "plt.grid(True)\n",
    "\n"
   ]
  },
  {
   "cell_type": "markdown",
   "metadata": {},
   "source": [
    "<hr style=\"border:2px solid black\"> </hr>"
   ]
  },
  {
   "cell_type": "markdown",
   "metadata": {},
   "source": [
    "# Pergunta 2 - SVMs:\n",
    "## Considere o classificador da função $\\texttt{SVC}$ com os parâmetros $\\texttt{kernel='rbf'}$ e $\\texttt{C=2}$.\n",
    "### a) Faça um pré-processamento dos dados usando a função $\\texttt{StandardScaler}$. Treine esta função com os dados treino e aplique a transformação aos três conjuntos (treino, validação e teste). Use os dados pré-processados nas alíneas seguintes.\n",
    "### b) Pertende-se estimar o valor do parâmetro $\\texttt{gamma}$  ($\\gamma$) mais adequado para este problema. Para tal, use o conjunto de validação para achar o valor de $\\gamma$ que resulta no menor número de erros (treine o $\\texttt{SVC}$ com o conjunto de treino). Teste os seguintes valores de $\\gamma$: $[0.005 , 0.0075, 0.01  , 0.0125, 0.015 , 0.0175]$.\n",
    "### c) Volte a treinar o classificador $\\texttt{SVC}$ com os dados de treino e validação, e com o melhor valor de $\\gamma$. Faça um plot da curva ROC deste classificador com os dados de teste. Inclua nesse plot o ponto operacional do classificadore. \n",
    "### d)  Calibre o classificador da alínea anterior de modo a obter zero (0) falsos negativos nos dados de teste. Após a calibração qual o número mínimo de falso positivos obtidos no teste?"
   ]
  },
  {
   "cell_type": "markdown",
   "metadata": {},
   "source": [
    "## 2.a)"
   ]
  },
  {
   "cell_type": "code",
   "execution_count": 20,
   "metadata": {},
   "outputs": [],
   "source": [
    "from sklearn.preprocessing import StandardScaler\n",
    "sc=StandardScaler().fit(X1a)\n",
    "X1an=sc.transform(X1a)\n",
    "X1bn=sc.transform(X1b)\n",
    "X2n=sc.transform(X2)\n"
   ]
  },
  {
   "cell_type": "markdown",
   "metadata": {},
   "source": [
    "## 2.b)"
   ]
  },
  {
   "cell_type": "code",
   "execution_count": 48,
   "metadata": {},
   "outputs": [
    {
     "name": "stdout",
     "output_type": "stream",
     "text": [
      "Best Gamma: 0.009999999999999998\n",
      "Best Score: 0.99\n",
      "Conjunto de validação - matriz de confusão\n",
      "[[63  0]\n",
      " [ 2 35]]\n"
     ]
    }
   ],
   "source": [
    "#svm=SVC(kernel='rbf',C=2)\n",
    "G=np.arange(0.0050,0.02,0.0025)\n",
    "scoreTop=0\n",
    "gBest=0\n",
    "for g in G:\n",
    "    svm=SVC(kernel='rbf',C=2,gamma=g).fit(X1an,y1a)\n",
    "    score=svm.score(X1bn,y1b)\n",
    "    if score>scoreTop:\n",
    "        scoreTop=score\n",
    "        gBest=g\n",
    "print('Best Gamma:',gBest)\n",
    "print('Best Score:',scoreTop)\n",
    "print('Conjunto de validação - matriz de confusão')\n",
    "print(confusion_matrix(y1b,svm.predict(X1bn)))"
   ]
  },
  {
   "cell_type": "markdown",
   "metadata": {
    "scrolled": false
   },
   "source": [
    "## 2.c)"
   ]
  },
  {
   "cell_type": "code",
   "execution_count": 27,
   "metadata": {},
   "outputs": [
    {
     "name": "stdout",
     "output_type": "stream",
     "text": [
      "[[94  0]\n",
      " [ 2 54]]\n"
     ]
    },
    {
     "data": {
      "image/png": "[encoded data removed]",
      "text/plain": [
       "<Figure size 432x432 with 1 Axes>"
      ]
     },
     "metadata": {
      "needs_background": "light"
     },
     "output_type": "display_data"
    }
   ],
   "source": [
    "X1n=sc.transform(X1)\n",
    "svm=SVC(kernel='rbf',C=2,gamma=0.01).fit(X1n,y1)\n",
    "y2c=svm.decision_function(X2n)\n",
    "fpr,tpr,t=roc_curve(y2,y2c)\n",
    "\n",
    "print(confusion_matrix(y2,svm.predict(X2n)))\n",
    "\n",
    "#fp-rate=FP/(FP+TN)\n",
    "p1=0\n",
    "#tp-rate=TP/(TP+FN)\n",
    "p2=54/(2+54)\n",
    "\n",
    "plt.figure(figsize=(6,6))\n",
    "plt.plot(p1,p2,'ok')\n",
    "plt.plot(fpr,tpr)\n",
    "plt.axis('scaled')\n",
    "plt.grid(True)\n",
    "\n"
   ]
  },
  {
   "cell_type": "markdown",
   "metadata": {},
   "source": [
    "## 2.d)"
   ]
  },
  {
   "cell_type": "code",
   "execution_count": 43,
   "metadata": {
    "scrolled": false
   },
   "outputs": [
    {
     "name": "stdout",
     "output_type": "stream",
     "text": [
      "[[84 10]\n",
      " [ 0 56]]\n",
      "Número de falsos positivos = 10\n"
     ]
    }
   ],
   "source": [
    "print(confusion_matrix(y2,y2c>=-.9))\n",
    "print('Número de falsos positivos = 10')"
   ]
  }
 ],
 "metadata": {
  "kernelspec": {
   "display_name": "Python 3",
   "language": "python",
   "name": "python3"
  },
  "language_info": {
   "codemirror_mode": {
    "name": "ipython",
    "version": 3
   },
   "file_extension": ".py",
   "mimetype": "text/x-python",
   "name": "python",
   "nbconvert_exporter": "python",
   "pygments_lexer": "ipython3",
   "version": "3.6.9"
  }
 },
 "nbformat": 4,
 "nbformat_minor": 4
}
