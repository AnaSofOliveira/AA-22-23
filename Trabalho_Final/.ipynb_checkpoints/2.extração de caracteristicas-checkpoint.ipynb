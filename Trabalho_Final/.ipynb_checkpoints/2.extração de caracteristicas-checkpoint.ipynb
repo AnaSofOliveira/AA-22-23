{
 "cells": [
  {
   "cell_type": "code",
   "execution_count": 1,
   "id": "f803a1b0-fd47-4191-a175-6062b7a9eb22",
   "metadata": {},
   "outputs": [],
   "source": [
    "import pickle\n",
    "\n",
    "import numpy as np\n",
    "import matplotlib.pyplot as plt\n",
    "\n",
    "import nltk\n",
    "from nltk.corpus import stopwords\n",
    "stop_words = set(stopwords.words('english'))\n",
    "\n",
    "from nltk.stem import WordNetLemmatizer\n",
    "lemma = WordNetLemmatizer()\n",
    "\n",
    "from sklearn.model_selection import train_test_split, GridSearchCV\n",
    "from sklearn.pipeline import make_pipeline\n",
    "\n",
    "from sklearn.feature_extraction.text import TfidfVectorizer\n",
    "from sklearn.linear_model import LogisticRegression\n",
    "\n",
    "import mglearn\n",
    "from sklearn.metrics import confusion_matrix, ConfusionMatrixDisplay, accuracy_score\n"
   ]
  },
  {
   "cell_type": "code",
   "execution_count": 2,
   "id": "c968036f-eca7-465d-a2ce-e3649ac5c296",
   "metadata": {},
   "outputs": [],
   "source": [
    "fN = '/Users/anaso/Documents/AA/AA-22-23/Trabalho Final/imdbFull.p'\n",
    "\n",
    "D = pickle.load(open(fN, 'rb'))"
   ]
  },
  {
   "cell_type": "code",
   "execution_count": 3,
   "id": "d9912322-9fd7-4182-9f12-de5b643d565b",
   "metadata": {},
   "outputs": [
    {
     "name": "stdout",
     "output_type": "stream",
     "text": [
      "dict_keys(['data', 'target', 'DESCR'])\n"
     ]
    }
   ],
   "source": [
    "print(D.keys())"
   ]
  },
  {
   "cell_type": "code",
   "execution_count": 4,
   "id": "e96f6a66-89f3-4e17-8fb7-b77f8d26fb3d",
   "metadata": {},
   "outputs": [
    {
     "name": "stdout",
     "output_type": "stream",
     "text": [
      "Tamanho do corpus:  5000\n",
      "Classes:  [ 1  2  3  4  7  8  9 10]\n"
     ]
    },
    {
     "data": {
      "text/plain": [
       "<BarContainer object of 10 artists>"
      ]
     },
     "execution_count": 4,
     "metadata": {},
     "output_type": "execute_result"
    },
    {
     "data": {
      "image/png": "[encoded data removed]",
      "text/plain": [
       "<Figure size 640x480 with 1 Axes>"
      ]
     },
     "metadata": {},
     "output_type": "display_data"
    }
   ],
   "source": [
    "nDocs = 5000\n",
    "\n",
    "corpus = D.data[:nDocs]\n",
    "y = D.target[:nDocs]\n",
    "\n",
    "print(\"Tamanho do corpus: \", len(corpus))\n",
    "print(\"Classes: \", np.unique(y))\n",
    "\n",
    "plt.figure()\n",
    "plt.title(\"Distribuição de documentos por classe\")\n",
    "labels = [str(val) for val in np.arange(10)]\n",
    "sizes, _ = np.histogram(y)\n",
    "plt.bar(labels, sizes)\n",
    "\n"
   ]
  },
  {
   "cell_type": "markdown",
   "id": "f78a4e0a-c0d2-475e-8676-d4852d9f9008",
   "metadata": {},
   "source": [
    "## Limpeza dos dados"
   ]
  },
  {
   "cell_type": "code",
   "execution_count": 5,
   "id": "d598a37f-a6d1-454c-a297-4d8a4110b256",
   "metadata": {},
   "outputs": [],
   "source": [
    "corpus = [critica.replace(\"<br />\", \" \") for critica in corpus]\n",
    "corpus = [\" \".join((palavra if palavra not in stop_words else \" \") for palavra in critica.split()) for critica in corpus]\n",
    "corpus = [\" \".join(lemma.lemmatize(palavra) for palavra in critica.split()) for critica in corpus]"
   ]
  },
  {
   "cell_type": "code",
   "execution_count": 6,
   "id": "9c471825-90c6-435d-8b8f-db64d11d85e3",
   "metadata": {},
   "outputs": [],
   "source": [
    "corpus_train, corpus_test, y_train, y_test = train_test_split(corpus, y, shuffle=True, stratify=y, test_size=1/3) \n",
    "corpus_train, corpus_validacao, y_train, y_validacao = train_test_split(corpus_train, y_train, shuffle=True, stratify=y_train, test_size=1/2)"
   ]
  },
  {
   "cell_type": "code",
   "execution_count": 7,
   "id": "a00dfb19-622a-4896-9892-028c9e33f2c3",
   "metadata": {},
   "outputs": [
    {
     "name": "stdout",
     "output_type": "stream",
     "text": [
      "Tamanho do conjunto de treino:  1666\n",
      "Tamanho do conjunto de validação:  1667\n",
      "Tamanho do conjunto de teste:  1667\n"
     ]
    }
   ],
   "source": [
    "print(\"Tamanho do conjunto de treino: \", len(corpus_train))\n",
    "print(\"Tamanho do conjunto de validação: \", len(corpus_validacao))\n",
    "print(\"Tamanho do conjunto de teste: \", len(corpus_test))"
   ]
  },
  {
   "cell_type": "markdown",
   "id": "560b8806-6184-4480-a6eb-15644eb41b25",
   "metadata": {},
   "source": [
    "## TFIDF sem parametros"
   ]
  },
  {
   "cell_type": "code",
   "execution_count": 8,
   "id": "24826a39-bdff-4926-9211-62a48c2ff961",
   "metadata": {},
   "outputs": [],
   "source": [
    "tf = TfidfVectorizer().fit(corpus_train)\n",
    "\n",
    "dicionario_tf_default = len(tf.get_feature_names_out())\n",
    "\n",
    "corpus_train_p = tf.transform(corpus_train)\n",
    "corpus_test_p = tf.transform(corpus_test)\n"
   ]
  },
  {
   "cell_type": "markdown",
   "id": "95e86b39-4504-4c47-aca4-bf2d4a749717",
   "metadata": {},
   "source": [
    "## LogisiticRegression sem parametros"
   ]
  },
  {
   "cell_type": "code",
   "execution_count": 9,
   "id": "b08cecbd-d243-40b7-86c1-b4704b9d8291",
   "metadata": {},
   "outputs": [],
   "source": [
    "lr = LogisticRegression(max_iter=10000).fit(corpus_train_p, y_train)"
   ]
  },
  {
   "cell_type": "markdown",
   "id": "45e71525-1317-4a6c-b494-a631e19f356c",
   "metadata": {},
   "source": [
    "## Avaliação"
   ]
  },
  {
   "cell_type": "code",
   "execution_count": 10,
   "id": "f0f1f014-d384-434d-bfe2-53d55d98edd6",
   "metadata": {},
   "outputs": [
    {
     "name": "stdout",
     "output_type": "stream",
     "text": [
      "Score Treino:  0.8703481392557023\n",
      "Score Teste:  0.36172765446910615\n"
     ]
    }
   ],
   "source": [
    "print(\"Score Treino: \", lr.score(corpus_train_p, y_train))\n",
    "print(\"Score Teste: \", lr.score(corpus_test_p, y_test))"
   ]
  },
  {
   "cell_type": "markdown",
   "id": "ef96fd0d-5720-4bef-96fc-b8677a3d1e7a",
   "metadata": {},
   "source": [
    "# Validação de parametros TfidfVectorizer"
   ]
  },
  {
   "cell_type": "code",
   "execution_count": null,
   "id": "df6951e5-acee-4c02-8783-fd3510ca653f",
   "metadata": {},
   "outputs": [
    {
     "name": "stdout",
     "output_type": "stream",
     "text": [
      "Fitting 3 folds for each of 70 candidates, totalling 210 fits\n",
      "[CV 1/3] END tfidfvectorizer__max_df=0.95, tfidfvectorizer__min_df=1;, score=0.360 total time=   1.1s\n",
      "[CV 2/3] END tfidfvectorizer__max_df=0.95, tfidfvectorizer__min_df=1;, score=0.363 total time=   1.0s\n",
      "[CV 3/3] END tfidfvectorizer__max_df=0.95, tfidfvectorizer__min_df=1;, score=0.369 total time=   1.1s\n",
      "[CV 1/3] END tfidfvectorizer__max_df=0.95, tfidfvectorizer__min_df=2;, score=0.371 total time=   0.6s\n",
      "[CV 2/3] END tfidfvectorizer__max_df=0.95, tfidfvectorizer__min_df=2;, score=0.371 total time=   0.5s\n",
      "[CV 3/3] END tfidfvectorizer__max_df=0.95, tfidfvectorizer__min_df=2;, score=0.368 total time=   0.5s\n",
      "[CV 1/3] END tfidfvectorizer__max_df=0.95, tfidfvectorizer__min_df=3;, score=0.365 total time=   0.4s\n",
      "[CV 2/3] END tfidfvectorizer__max_df=0.95, tfidfvectorizer__min_df=3;, score=0.365 total time=   0.5s\n",
      "[CV 3/3] END tfidfvectorizer__max_df=0.95, tfidfvectorizer__min_df=3;, score=0.360 total time=   0.4s\n",
      "[CV 1/3] END tfidfvectorizer__max_df=0.95, tfidfvectorizer__min_df=4;, score=0.369 total time=   0.4s\n",
      "[CV 2/3] END tfidfvectorizer__max_df=0.95, tfidfvectorizer__min_df=4;, score=0.365 total time=   0.4s\n",
      "[CV 3/3] END tfidfvectorizer__max_df=0.95, tfidfvectorizer__min_df=4;, score=0.368 total time=   0.4s\n",
      "[CV 1/3] END tfidfvectorizer__max_df=0.95, tfidfvectorizer__min_df=5;, score=0.367 total time=   0.4s\n",
      "[CV 2/3] END tfidfvectorizer__max_df=0.95, tfidfvectorizer__min_df=5;, score=0.363 total time=   0.3s\n",
      "[CV 3/3] END tfidfvectorizer__max_df=0.95, tfidfvectorizer__min_df=5;, score=0.364 total time=   0.3s\n",
      "[CV 1/3] END tfidfvectorizer__max_df=0.85, tfidfvectorizer__min_df=1;, score=0.360 total time=   1.1s\n",
      "[CV 2/3] END tfidfvectorizer__max_df=0.85, tfidfvectorizer__min_df=1;, score=0.363 total time=   1.1s\n",
      "[CV 3/3] END tfidfvectorizer__max_df=0.85, tfidfvectorizer__min_df=1;, score=0.369 total time=   1.0s\n",
      "[CV 1/3] END tfidfvectorizer__max_df=0.85, tfidfvectorizer__min_df=2;, score=0.371 total time=   0.5s\n",
      "[CV 2/3] END tfidfvectorizer__max_df=0.85, tfidfvectorizer__min_df=2;, score=0.371 total time=   0.6s\n",
      "[CV 3/3] END tfidfvectorizer__max_df=0.85, tfidfvectorizer__min_df=2;, score=0.368 total time=   0.5s\n",
      "[CV 1/3] END tfidfvectorizer__max_df=0.85, tfidfvectorizer__min_df=3;, score=0.365 total time=   0.5s\n",
      "[CV 2/3] END tfidfvectorizer__max_df=0.85, tfidfvectorizer__min_df=3;, score=0.365 total time=   0.4s\n",
      "[CV 3/3] END tfidfvectorizer__max_df=0.85, tfidfvectorizer__min_df=3;, score=0.360 total time=   0.4s\n",
      "[CV 1/3] END tfidfvectorizer__max_df=0.85, tfidfvectorizer__min_df=4;, score=0.369 total time=   0.5s\n",
      "[CV 2/3] END tfidfvectorizer__max_df=0.85, tfidfvectorizer__min_df=4;, score=0.365 total time=   0.4s\n",
      "[CV 3/3] END tfidfvectorizer__max_df=0.85, tfidfvectorizer__min_df=4;, score=0.368 total time=   0.3s\n",
      "[CV 1/3] END tfidfvectorizer__max_df=0.85, tfidfvectorizer__min_df=5;, score=0.367 total time=   0.3s\n",
      "[CV 2/3] END tfidfvectorizer__max_df=0.85, tfidfvectorizer__min_df=5;, score=0.363 total time=   0.5s\n",
      "[CV 3/3] END tfidfvectorizer__max_df=0.85, tfidfvectorizer__min_df=5;, score=0.364 total time=   0.3s\n",
      "[CV 1/3] END tfidfvectorizer__max_df=0.75, tfidfvectorizer__min_df=1;, score=0.360 total time=   1.1s\n",
      "[CV 2/3] END tfidfvectorizer__max_df=0.75, tfidfvectorizer__min_df=1;, score=0.363 total time=   1.0s\n",
      "[CV 3/3] END tfidfvectorizer__max_df=0.75, tfidfvectorizer__min_df=1;, score=0.369 total time=   1.1s\n",
      "[CV 1/3] END tfidfvectorizer__max_df=0.75, tfidfvectorizer__min_df=2;, score=0.371 total time=   0.5s\n",
      "[CV 2/3] END tfidfvectorizer__max_df=0.75, tfidfvectorizer__min_df=2;, score=0.371 total time=   0.5s\n",
      "[CV 3/3] END tfidfvectorizer__max_df=0.75, tfidfvectorizer__min_df=2;, score=0.368 total time=   0.5s\n",
      "[CV 1/3] END tfidfvectorizer__max_df=0.75, tfidfvectorizer__min_df=3;, score=0.365 total time=   0.4s\n",
      "[CV 2/3] END tfidfvectorizer__max_df=0.75, tfidfvectorizer__min_df=3;, score=0.365 total time=   0.4s\n",
      "[CV 3/3] END tfidfvectorizer__max_df=0.75, tfidfvectorizer__min_df=3;, score=0.360 total time=   0.5s\n",
      "[CV 1/3] END tfidfvectorizer__max_df=0.75, tfidfvectorizer__min_df=4;, score=0.369 total time=   0.3s\n",
      "[CV 2/3] END tfidfvectorizer__max_df=0.75, tfidfvectorizer__min_df=4;, score=0.365 total time=   0.3s\n",
      "[CV 3/3] END tfidfvectorizer__max_df=0.75, tfidfvectorizer__min_df=4;, score=0.368 total time=   0.3s\n",
      "[CV 1/3] END tfidfvectorizer__max_df=0.75, tfidfvectorizer__min_df=5;, score=0.367 total time=   0.4s\n",
      "[CV 2/3] END tfidfvectorizer__max_df=0.75, tfidfvectorizer__min_df=5;, score=0.363 total time=   0.3s\n",
      "[CV 3/3] END tfidfvectorizer__max_df=0.75, tfidfvectorizer__min_df=5;, score=0.364 total time=   0.3s\n",
      "[CV 1/3] END tfidfvectorizer__max_df=0.65, tfidfvectorizer__min_df=1;, score=0.362 total time=   1.0s\n",
      "[CV 2/3] END tfidfvectorizer__max_df=0.65, tfidfvectorizer__min_df=1;, score=0.365 total time=   1.1s\n",
      "[CV 3/3] END tfidfvectorizer__max_df=0.65, tfidfvectorizer__min_df=1;, score=0.362 total time=   1.1s\n",
      "[CV 1/3] END tfidfvectorizer__max_df=0.65, tfidfvectorizer__min_df=2;, score=0.372 total time=   0.4s\n",
      "[CV 2/3] END tfidfvectorizer__max_df=0.65, tfidfvectorizer__min_df=2;, score=0.369 total time=   0.6s\n",
      "[CV 3/3] END tfidfvectorizer__max_df=0.65, tfidfvectorizer__min_df=2;, score=0.368 total time=   0.5s\n",
      "[CV 1/3] END tfidfvectorizer__max_df=0.65, tfidfvectorizer__min_df=3;, score=0.369 total time=   0.4s\n",
      "[CV 2/3] END tfidfvectorizer__max_df=0.65, tfidfvectorizer__min_df=3;, score=0.367 total time=   0.5s\n",
      "[CV 3/3] END tfidfvectorizer__max_df=0.65, tfidfvectorizer__min_df=3;, score=0.371 total time=   0.4s\n",
      "[CV 1/3] END tfidfvectorizer__max_df=0.65, tfidfvectorizer__min_df=4;, score=0.371 total time=   0.4s\n",
      "[CV 2/3] END tfidfvectorizer__max_df=0.65, tfidfvectorizer__min_df=4;, score=0.367 total time=   0.4s\n",
      "[CV 3/3] END tfidfvectorizer__max_df=0.65, tfidfvectorizer__min_df=4;, score=0.373 total time=   0.4s\n",
      "[CV 1/3] END tfidfvectorizer__max_df=0.65, tfidfvectorizer__min_df=5;, score=0.363 total time=   0.3s\n",
      "[CV 2/3] END tfidfvectorizer__max_df=0.65, tfidfvectorizer__min_df=5;, score=0.367 total time=   0.3s\n",
      "[CV 3/3] END tfidfvectorizer__max_df=0.65, tfidfvectorizer__min_df=5;, score=0.373 total time=   0.5s\n",
      "[CV 1/3] END tfidfvectorizer__max_df=0.55, tfidfvectorizer__min_df=1;, score=0.369 total time=   1.0s\n",
      "[CV 2/3] END tfidfvectorizer__max_df=0.55, tfidfvectorizer__min_df=1;, score=0.354 total time=   1.0s\n",
      "[CV 3/3] END tfidfvectorizer__max_df=0.55, tfidfvectorizer__min_df=1;, score=0.362 total time=   1.0s\n",
      "[CV 1/3] END tfidfvectorizer__max_df=0.55, tfidfvectorizer__min_df=2;, score=0.376 total time=   0.6s\n",
      "[CV 2/3] END tfidfvectorizer__max_df=0.55, tfidfvectorizer__min_df=2;, score=0.369 total time=   0.7s\n",
      "[CV 3/3] END tfidfvectorizer__max_df=0.55, tfidfvectorizer__min_df=2;, score=0.364 total time=   0.5s\n",
      "[CV 1/3] END tfidfvectorizer__max_df=0.55, tfidfvectorizer__min_df=3;, score=0.371 total time=   0.5s\n",
      "[CV 2/3] END tfidfvectorizer__max_df=0.55, tfidfvectorizer__min_df=3;, score=0.372 total time=   0.4s\n",
      "[CV 3/3] END tfidfvectorizer__max_df=0.55, tfidfvectorizer__min_df=3;, score=0.371 total time=   0.4s\n",
      "[CV 1/3] END tfidfvectorizer__max_df=0.55, tfidfvectorizer__min_df=4;, score=0.379 total time=   0.3s\n",
      "[CV 2/3] END tfidfvectorizer__max_df=0.55, tfidfvectorizer__min_df=4;, score=0.372 total time=   0.5s\n",
      "[CV 3/3] END tfidfvectorizer__max_df=0.55, tfidfvectorizer__min_df=4;, score=0.371 total time=   0.3s\n",
      "[CV 1/3] END tfidfvectorizer__max_df=0.55, tfidfvectorizer__min_df=5;, score=0.371 total time=   0.3s\n",
      "[CV 2/3] END tfidfvectorizer__max_df=0.55, tfidfvectorizer__min_df=5;, score=0.367 total time=   0.3s\n",
      "[CV 3/3] END tfidfvectorizer__max_df=0.55, tfidfvectorizer__min_df=5;, score=0.377 total time=   0.3s\n",
      "[CV 1/3] END logisticregression__C=0.01, tfidfvectorizer__ngram_range=(1, 1);, score=0.205 total time=   0.5s\n",
      "[CV 2/3] END logisticregression__C=0.01, tfidfvectorizer__ngram_range=(1, 1);, score=0.205 total time=   0.5s\n",
      "[CV 3/3] END logisticregression__C=0.01, tfidfvectorizer__ngram_range=(1, 1);, score=0.205 total time=   0.5s\n",
      "[CV 1/3] END logisticregression__C=0.01, tfidfvectorizer__ngram_range=(1, 2);, score=0.205 total time=   3.0s\n",
      "[CV 2/3] END logisticregression__C=0.01, tfidfvectorizer__ngram_range=(1, 2);, score=0.205 total time=   3.1s\n"
     ]
    },
    {
     "name": "stdout",
     "output_type": "stream",
     "text": [
      "[CV 3/3] END logisticregression__C=0.01, tfidfvectorizer__ngram_range=(1, 2);, score=0.205 total time=   3.1s\n",
      "[CV 1/3] END logisticregression__C=0.01, tfidfvectorizer__ngram_range=(2, 2);, score=0.205 total time=   2.4s\n",
      "[CV 2/3] END logisticregression__C=0.01, tfidfvectorizer__ngram_range=(2, 2);, score=0.205 total time=   2.3s\n",
      "[CV 3/3] END logisticregression__C=0.01, tfidfvectorizer__ngram_range=(2, 2);, score=0.205 total time=   2.5s\n",
      "[CV 1/3] END logisticregression__C=0.01, tfidfvectorizer__ngram_range=(1, 3);, score=0.205 total time=   5.7s\n",
      "[CV 2/3] END logisticregression__C=0.01, tfidfvectorizer__ngram_range=(1, 3);, score=0.205 total time=   6.3s\n",
      "[CV 3/3] END logisticregression__C=0.01, tfidfvectorizer__ngram_range=(1, 3);, score=0.205 total time=   5.9s\n",
      "[CV 1/3] END logisticregression__C=0.01, tfidfvectorizer__ngram_range=(2, 3);, score=0.205 total time=   4.9s\n",
      "[CV 2/3] END logisticregression__C=0.01, tfidfvectorizer__ngram_range=(2, 3);, score=0.205 total time=   5.4s\n",
      "[CV 3/3] END logisticregression__C=0.01, tfidfvectorizer__ngram_range=(2, 3);, score=0.205 total time=   5.5s\n",
      "[CV 1/3] END logisticregression__C=0.01, tfidfvectorizer__ngram_range=(3, 3);, score=0.205 total time=   2.7s\n",
      "[CV 2/3] END logisticregression__C=0.01, tfidfvectorizer__ngram_range=(3, 3);, score=0.205 total time=   3.4s\n",
      "[CV 3/3] END logisticregression__C=0.01, tfidfvectorizer__ngram_range=(3, 3);, score=0.205 total time=   3.3s\n",
      "[CV 1/3] END logisticregression__C=0.1, tfidfvectorizer__ngram_range=(1, 1);, score=0.295 total time=   0.6s\n",
      "[CV 2/3] END logisticregression__C=0.1, tfidfvectorizer__ngram_range=(1, 1);, score=0.270 total time=   0.6s\n",
      "[CV 3/3] END logisticregression__C=0.1, tfidfvectorizer__ngram_range=(1, 1);, score=0.299 total time=   0.6s\n",
      "[CV 1/3] END logisticregression__C=0.1, tfidfvectorizer__ngram_range=(1, 2);, score=0.219 total time=   4.2s\n",
      "[CV 2/3] END logisticregression__C=0.1, tfidfvectorizer__ngram_range=(1, 2);, score=0.221 total time=   4.2s\n",
      "[CV 3/3] END logisticregression__C=0.1, tfidfvectorizer__ngram_range=(1, 2);, score=0.218 total time=   3.9s\n",
      "[CV 1/3] END logisticregression__C=0.1, tfidfvectorizer__ngram_range=(2, 2);, score=0.205 total time=   3.2s\n",
      "[CV 2/3] END logisticregression__C=0.1, tfidfvectorizer__ngram_range=(2, 2);, score=0.205 total time=   3.6s\n",
      "[CV 3/3] END logisticregression__C=0.1, tfidfvectorizer__ngram_range=(2, 2);, score=0.205 total time=   3.3s\n",
      "[CV 1/3] END logisticregression__C=0.1, tfidfvectorizer__ngram_range=(1, 3);, score=0.209 total time=   7.9s\n",
      "[CV 2/3] END logisticregression__C=0.1, tfidfvectorizer__ngram_range=(1, 3);, score=0.210 total time=   8.1s\n",
      "[CV 3/3] END logisticregression__C=0.1, tfidfvectorizer__ngram_range=(1, 3);, score=0.211 total time=   8.2s\n",
      "[CV 1/3] END logisticregression__C=0.1, tfidfvectorizer__ngram_range=(2, 3);, score=0.205 total time=   7.1s\n",
      "[CV 2/3] END logisticregression__C=0.1, tfidfvectorizer__ngram_range=(2, 3);, score=0.205 total time=   7.4s\n",
      "[CV 3/3] END logisticregression__C=0.1, tfidfvectorizer__ngram_range=(2, 3);, score=0.205 total time=   7.2s\n",
      "[CV 1/3] END logisticregression__C=0.1, tfidfvectorizer__ngram_range=(3, 3);, score=0.205 total time=   3.8s\n",
      "[CV 2/3] END logisticregression__C=0.1, tfidfvectorizer__ngram_range=(3, 3);, score=0.205 total time=   3.9s\n",
      "[CV 3/3] END logisticregression__C=0.1, tfidfvectorizer__ngram_range=(3, 3);, score=0.205 total time=   4.0s\n",
      "[CV 1/3] END logisticregression__C=1, tfidfvectorizer__ngram_range=(1, 1);, score=0.360 total time=   1.0s\n",
      "[CV 2/3] END logisticregression__C=1, tfidfvectorizer__ngram_range=(1, 1);, score=0.363 total time=   1.0s\n",
      "[CV 3/3] END logisticregression__C=1, tfidfvectorizer__ngram_range=(1, 1);, score=0.369 total time=   1.1s\n",
      "[CV 1/3] END logisticregression__C=1, tfidfvectorizer__ngram_range=(1, 2);, score=0.353 total time=   7.2s\n",
      "[CV 2/3] END logisticregression__C=1, tfidfvectorizer__ngram_range=(1, 2);, score=0.342 total time=   8.1s\n",
      "[CV 3/3] END logisticregression__C=1, tfidfvectorizer__ngram_range=(1, 2);, score=0.333 total time=   7.0s\n",
      "[CV 1/3] END logisticregression__C=1, tfidfvectorizer__ngram_range=(2, 2);, score=0.277 total time=   5.7s\n",
      "[CV 2/3] END logisticregression__C=1, tfidfvectorizer__ngram_range=(2, 2);, score=0.279 total time=   5.8s\n",
      "[CV 3/3] END logisticregression__C=1, tfidfvectorizer__ngram_range=(2, 2);, score=0.268 total time=   5.2s\n",
      "[CV 1/3] END logisticregression__C=1, tfidfvectorizer__ngram_range=(1, 3);, score=0.336 total time=  14.6s\n",
      "[CV 2/3] END logisticregression__C=1, tfidfvectorizer__ngram_range=(1, 3);, score=0.324 total time=  15.0s\n",
      "[CV 3/3] END logisticregression__C=1, tfidfvectorizer__ngram_range=(1, 3);, score=0.330 total time=  14.4s\n",
      "[CV 1/3] END logisticregression__C=1, tfidfvectorizer__ngram_range=(2, 3);, score=0.252 total time=  13.2s\n",
      "[CV 2/3] END logisticregression__C=1, tfidfvectorizer__ngram_range=(2, 3);, score=0.264 total time=  14.2s\n",
      "[CV 3/3] END logisticregression__C=1, tfidfvectorizer__ngram_range=(2, 3);, score=0.256 total time=  12.4s\n"
     ]
    }
   ],
   "source": [
    "pipe = make_pipeline(TfidfVectorizer(), LogisticRegression(max_iter=10000))\n",
    "\n",
    "param_grid = [{'tfidfvectorizer__min_df': [1, 2, 3, 4, 5], \n",
    "              'tfidfvectorizer__max_df': [0.95, 0.85, 0.75, 0.65, 0.55]},  \n",
    "             \n",
    "             {'tfidfvectorizer__ngram_range': [(1,1), (1,2), (2,2), (1, 3), (2,3), (3,3)], \n",
    "              'logisticregression__C': [0.01, 0.1, 1, 10, 100]}, \n",
    "             \n",
    "             {'tfidfvectorizer__token_pattern': [r'(\\S+)', r'\\b[a-zA-Z]{3,}\\b', r'\\b\\w{3,}\\b'], \n",
    "              'logisticregression__C': [0.01, 0.1, 1, 10, 100]}]\n",
    "\n",
    "grid = GridSearchCV(pipe, param_grid, cv=3, verbose=3)\n",
    "grid.fit(corpus_validacao, y_validacao)\n",
    "\n",
    "print(\"Best parameters: \", grid.best_params_)"
   ]
  },
  {
   "cell_type": "markdown",
   "id": "1e7ce797-a114-442c-b281-d301a38a9bc0",
   "metadata": {},
   "source": [
    "## Análise dos parametros min_df e max_dt do TfidfVectorizer"
   ]
  },
  {
   "cell_type": "code",
   "execution_count": null,
   "id": "f00ff033-1187-460c-b2a4-02ae9f598e34",
   "metadata": {},
   "outputs": [],
   "source": [
    "scores = grid.cv_results_['mean_test_score'][:25].reshape(-1, 5)\n",
    "heatmap = mglearn.tools.heatmap(\n",
    "    scores, ylabel=\"TFIDF max_df\", xlabel=\"TFIDF min_df\", cmap=\"viridis\", fmt=\"%.3f\", \n",
    "    xticklabels=param_grid[0][\"tfidfvectorizer__min_df\"], \n",
    "    yticklabels=param_grid[0][\"tfidfvectorizer__max_df\"]\n",
    ")\n",
    "plt.colorbar(heatmap)"
   ]
  },
  {
   "cell_type": "markdown",
   "id": "7e8bdba6-07c4-40fc-8e3f-a9a4faa3e815",
   "metadata": {},
   "source": [
    "## Análise do parametro ngram_range do TfidfVectorizer"
   ]
  },
  {
   "cell_type": "code",
   "execution_count": null,
   "id": "f2b2ca49-c914-480c-9a17-f536931b4758",
   "metadata": {},
   "outputs": [],
   "source": [
    "scores = grid.cv_results_['mean_test_score'][25:55].reshape(-1, 6)\n",
    "heatmap = mglearn.tools.heatmap(\n",
    "    scores, xlabel=\"TFIDF ngram_range\", ylabel=\"LogisticRegression C\", cmap=\"viridis\", fmt=\"%.3f\", \n",
    "    yticklabels=param_grid[1][\"logisticregression__C\"], \n",
    "    xticklabels=param_grid[1][\"tfidfvectorizer__ngram_range\"]\n",
    ")\n",
    "plt.colorbar(heatmap)"
   ]
  },
  {
   "cell_type": "markdown",
   "id": "7c3f53fd-835a-4e8a-a546-215540347362",
   "metadata": {},
   "source": [
    "## Análise do parametro token_pattern do TfidfVectorizer"
   ]
  },
  {
   "cell_type": "code",
   "execution_count": null,
   "id": "7b283b75-5a91-454b-8771-faba1222bc74",
   "metadata": {},
   "outputs": [],
   "source": [
    "scores = grid.cv_results_['mean_test_score'][55:].reshape(-1, 5)\n",
    "heatmap = mglearn.tools.heatmap(\n",
    "    scores, ylabel=\"TFIDF token_pattern\", xlabel=\"LogisticRegression C\", cmap=\"viridis\", fmt=\"%.3f\", \n",
    "    xticklabels=param_grid[2][\"logisticregression__C\"], \n",
    "    yticklabels=param_grid[2][\"tfidfvectorizer__token_pattern\"]\n",
    ")\n",
    "plt.colorbar(heatmap)"
   ]
  },
  {
   "cell_type": "markdown",
   "id": "c214722d-a3a6-403f-8015-ff89c8aa04c5",
   "metadata": {},
   "source": [
    "## Análise filtrada com os melhores parametros encontrados acima"
   ]
  },
  {
   "cell_type": "code",
   "execution_count": null,
   "id": "ae2cfc30-0a75-465f-9473-2c64524de5cc",
   "metadata": {},
   "outputs": [],
   "source": [
    "pipe = make_pipeline(TfidfVectorizer(token_pattern=r'\\b\\w{3,}\\b'), LogisticRegression(max_iter=10000))\n",
    "\n",
    "param_grid = {'tfidfvectorizer__min_df': [3, 4, 5], \n",
    "             'tfidfvectorizer__max_df': [0.75, 0.65, 0.55],\n",
    "             'tfidfvectorizer__ngram_range': [(1,1), (1,2), (1,3)],\n",
    "              'logisticregression__C': [0.1, 1, 10, 100]}\n",
    "grid = GridSearchCV(pipe, param_grid, cv=5, verbose=3)\n",
    "grid.fit(corpus_validacao, y_validacao)\n",
    "\n",
    "print(\"Best parameters: \", grid.best_params_)\n"
   ]
  },
  {
   "cell_type": "code",
   "execution_count": null,
   "id": "46adaad4-2bd9-41c4-b881-cffb1f184be7",
   "metadata": {},
   "outputs": [],
   "source": [
    "# corpus de treino e validação\n",
    "corpus_treino_validacao = np.hstack((corpus_train, corpus_validacao))\n",
    "y_treino_validacao = np.hstack((y_train, y_validacao))\n"
   ]
  },
  {
   "cell_type": "code",
   "execution_count": null,
   "id": "27c1ca62-ed92-444b-ab58-188df66a0b8a",
   "metadata": {},
   "outputs": [],
   "source": [
    "tf = TfidfVectorizer(min_df=3, max_df=0.75, ngram_range=(1,3), token_pattern=r'\\b\\w{3,}\\b').fit(corpus_treino_validacao) \n",
    "\n",
    "\n",
    "corpus_treino_validacao_p = tf.transform(corpus_treino_validacao)\n",
    "corpus_test_p = tf.transform(corpus_test)"
   ]
  },
  {
   "cell_type": "code",
   "execution_count": null,
   "id": "e36173e3-cd27-4554-bd8a-b788239cc548",
   "metadata": {},
   "outputs": [],
   "source": [
    "lr = LogisticRegression(max_iter=10000, C = 10).fit(corpus_treino_validacao_p, y_treino_validacao)\n",
    "\n",
    "print(\"Treino: \", lr.score(corpus_treino_validacao_p, y_treino_validacao))\n",
    "print(\"Teste: \", lr.score(corpus_test_p, y_test))"
   ]
  },
  {
   "cell_type": "code",
   "execution_count": null,
   "id": "c1a5d0dc-a63b-41fb-99cb-63ec2c5a7e1d",
   "metadata": {},
   "outputs": [],
   "source": [
    "y_treino_e = lr.predict(corpus_treino_validacao_p)\n",
    "y_teste_e = lr.predict(corpus_test_p)"
   ]
  },
  {
   "cell_type": "markdown",
   "id": "f04fe674-b60f-47ae-b766-e8ade5aee380",
   "metadata": {},
   "source": [
    "## Resultados Treino"
   ]
  },
  {
   "cell_type": "code",
   "execution_count": null,
   "id": "b558b6ee-3630-4680-a560-2c31973dbb88",
   "metadata": {},
   "outputs": [],
   "source": [
    "print(\"Número de erros: \", np.sum(y_treino_validacao != y_treino_e))\n",
    "print(\"Accuracy: \", accuracy_score(y_treino_validacao, y_treino_e))\n",
    "matriz_confusao = confusion_matrix(y_treino_validacao, y_treino_e)\n",
    "\n",
    "disp = ConfusionMatrixDisplay(matriz_confusao)\n",
    "disp.plot()\n",
    "\n",
    "print(np.unique(y_treino_validacao))\n"
   ]
  },
  {
   "cell_type": "markdown",
   "id": "7c22a9bd-5e9c-4266-ac53-3a2cf2a9b4b2",
   "metadata": {},
   "source": [
    "## Resultados Teste"
   ]
  },
  {
   "cell_type": "code",
   "execution_count": null,
   "id": "96267fe3-4d70-487b-b87e-60a91cdba0f8",
   "metadata": {},
   "outputs": [],
   "source": [
    "print(\"Número de erros: \", np.sum(y_test != y_teste_e))\n",
    "print(\"Accuracy: \", accuracy_score(y_test, y_teste_e))\n",
    "matriz_confusao = confusion_matrix(y_test, y_teste_e)\n",
    "\n",
    "disp = ConfusionMatrixDisplay(matriz_confusao, display_labels=np.unique(y_test))\n",
    "disp.plot()\n",
    "plt.show()"
   ]
  },
  {
   "cell_type": "markdown",
   "id": "ae1e4a11-56e2-40f5-8628-5f043cb0a8ba",
   "metadata": {},
   "source": [
    "## Análise do parametro max_features do TfidfVectorizer"
   ]
  },
  {
   "cell_type": "code",
   "execution_count": null,
   "id": "ed60420f-7fd0-44c4-8707-7c073d4a5889",
   "metadata": {},
   "outputs": [],
   "source": [
    "pipe = make_pipeline(TfidfVectorizer(min_df=3, max_df=0.75, ngram_range=(1,3), token_pattern=r'\\b\\w{3,}\\b'), LogisticRegression(max_iter=10000))\n",
    "\n",
    "param_grid = {'tfidfvectorizer__max_features': [10000, 5000, 3000, 2000, 1000, 500, 300],\n",
    "              'logisticregression__C': [0.1, 1, 10, 100]}\n",
    "grid = GridSearchCV(pipe, param_grid, cv=3, verbose=3)\n",
    "grid.fit(corpus_validacao, y_validacao)\n",
    "\n",
    "print(\"Best parameters: \", grid.best_params_)"
   ]
  },
  {
   "cell_type": "code",
   "execution_count": null,
   "id": "77ffd535-78ee-4834-811b-4774b133c407",
   "metadata": {},
   "outputs": [],
   "source": [
    "scores = grid.cv_results_['mean_test_score'].reshape(-1, 4)\n",
    "heatmap = mglearn.tools.heatmap(\n",
    "    scores, xlabel=\"LogisticRegression C\", ylabel=\"TFIDF max_features\", cmap=\"viridis\", fmt=\"%.3f\", \n",
    "    yticklabels=param_grid[\"tfidfvectorizer__max_features\"], \n",
    "    xticklabels=param_grid[\"logisticregression__C\"]\n",
    ")\n",
    "plt.colorbar(heatmap)"
   ]
  },
  {
   "cell_type": "markdown",
   "id": "2dceed66",
   "metadata": {},
   "source": [
    "## Análise ao tamanho do vocabulário"
   ]
  },
  {
   "cell_type": "code",
   "execution_count": null,
   "id": "6067e432",
   "metadata": {},
   "outputs": [],
   "source": [
    "tf_default = TfidfVectorizer().fit(corpus)\n",
    "tf_parametrizado = TfidfVectorizer(min_df=3, max_df=0.75, ngram_range=(1,3), token_pattern=r'\\b\\w{3,}\\b').fit(corpus)"
   ]
  },
  {
   "cell_type": "code",
   "execution_count": null,
   "id": "539cb9c8",
   "metadata": {},
   "outputs": [],
   "source": [
    "dicionarios = ['Default', 'Parametrizado']\n",
    "tamanhos = [len(tf_default.get_feature_names_out()), len(tf_parametrizado.get_feature_names_out())]\n",
    "\n",
    "plt.figure()\n",
    "plt.title(\"Tamanho Vocabulário - TFIDF\")\n",
    "plt.bar(dicionarios, tamanhos)\n",
    "plt.xticks(rotation = 45)\n",
    "plt.show()\n",
    "\n",
    "for i in range(len(dicionarios)): \n",
    "    print(\"Tamanho vocabulário\", dicionarios[i], ':', tamanhos[i])"
   ]
  }
 ],
 "metadata": {
  "kernelspec": {
   "display_name": "Python 3 (ipykernel)",
   "language": "python",
   "name": "python3"
  },
  "language_info": {
   "codemirror_mode": {
    "name": "ipython",
    "version": 3
   },
   "file_extension": ".py",
   "mimetype": "text/x-python",
   "name": "python",
   "nbconvert_exporter": "python",
   "pygments_lexer": "ipython3",
   "version": "3.8.11"
  }
 },
 "nbformat": 4,
 "nbformat_minor": 5
}
