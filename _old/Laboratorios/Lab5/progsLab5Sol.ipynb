{
 "cells": [
  {
   "cell_type": "markdown",
   "metadata": {},
   "source": [
    "# LAB5 e Texto"
   ]
  },
  {
   "cell_type": "markdown",
   "metadata": {},
   "source": [
    "<hr style=\"border:1px  solid black\"> </hr>"
   ]
  },
  {
   "cell_type": "markdown",
   "metadata": {},
   "source": [
    "### (Preencher)\n",
    "## Nome: \n",
    "## Número: "
   ]
  },
  {
   "cell_type": "markdown",
   "metadata": {},
   "source": [
    "<hr style=\"border:1px  solid black\"> </hr>"
   ]
  },
  {
   "cell_type": "markdown",
   "metadata": {},
   "source": [
    "## Desenvolva e corra o código pedido nas células imediatamente abaixo das perguntas."
   ]
  },
  {
   "cell_type": "markdown",
   "metadata": {},
   "source": [
    "# IMPORTANTE:\n",
    "## Uma vez completado, grave este Jupyter notebook com o seguinte nome:\n",
    "## Axxxxx-Lab5.ipynb (Axxxxx: número de aluno)\n",
    "##  e depois submeta o ficheiro no link do Moodle providenciado para o efeito."
   ]
  },
  {
   "cell_type": "markdown",
   "metadata": {},
   "source": [
    "<hr style=\"border:2px solid black\"> </hr>"
   ]
  },
  {
   "cell_type": "markdown",
   "metadata": {},
   "source": [
    "## Considere o ficheiro pickle $\\texttt{Lab5Data.p}$\n",
    "### Neste ficheiro encontra-se um dicionário de Python com as seguintes variáveis:\n",
    "### 1. \"X\":             dados bi-dimensionais (1500 amostras)\n",
    "### 2. \"y\":              classe dos dados (3 classes, inteiros de 0 a 2)\n",
    "### 3. \"foldTrain\": array boleano indicando os dados a serem usados para treinar os classificadores\n",
    "### 3. \"foldTest\": array boleano indicando os dados a serem usados para testar os classificadores\n"
   ]
  },
  {
   "cell_type": "markdown",
   "metadata": {},
   "source": [
    "# Pergunta 1 - SVMs:\n",
    "## i. Use os dados de treino para treinar uma máquina de suporte vetorial (SVM) para classificar os dados. Não especifique nenhum parâmetro ao declarar o classificador (ex: $\\texttt{svm=SVC()}$). Classifique os dados de treino e de teste. Imprima o número total de erros e as matrizes de confusão para o treino e teste.\n",
    "## ii. Repita a alínea anterior especificando o kernel RBF, e fazendo uma pesquisa em grelha (usando a função $\\texttt{GridSearchCV}$, com o número de folds igual a 3 (três), para os parâmetros $\\texttt{C}$ e $\\texttt{gamma}$. Use os seguintes valores: $\\texttt{C}=\\{0.1,1,10,20\\}$ e $\\texttt{gamma}=\\{0.01,0.1,1\\}$. Imprima os valores dos parâmetros que obtiveram os melhores resultados.\n",
    "## iii. Use os dados de treino para treinar uma máquina de suporte vetorial (SVM) com um kernel RBF e com os valores de $\\texttt{C}$ e $\\texttt{gamma}$ que obtiveram os melhores resultados na alínea anterior. Classifique os dados de treino e de teste. Imprima o número total de erros e as matrizes de confusão para o treino e teste.\n",
    "## iv. Faça um \"plot\" dos dados de teste por classe, e dos erros do classificador SVM."
   ]
  },
  {
   "cell_type": "code",
   "execution_count": 1,
   "metadata": {},
   "outputs": [
    {
     "name": "stdout",
     "output_type": "stream",
     "text": [
      "dict_keys(['X', 'y', 'foldTrain', 'foldTest'])\n"
     ]
    }
   ],
   "source": [
    "import numpy as np\n",
    "import matplotlib.pyplot as plt\n",
    "import pickle\n",
    "from sklearn.metrics import confusion_matrix\n",
    "from sklearn.svm import SVC\n",
    "D=pickle.load(open('Lab5Data.p','rb'))\n",
    "print(D.keys())\n"
   ]
  },
  {
   "cell_type": "code",
   "execution_count": 2,
   "metadata": {},
   "outputs": [
    {
     "name": "stdout",
     "output_type": "stream",
     "text": [
      "Dados de Treino\n",
      "Nº total de erros: 55\n",
      "Matriz de confusão\n",
      "[[220  12   9]\n",
      " [  9 241   6]\n",
      " [ 11   8 217]]\n",
      "================================================================================\n",
      "Dados de Teste\n",
      "Nº total de erros: 53\n",
      "Matriz de confusão\n",
      "[[243  11   5]\n",
      " [  8 231   5]\n",
      " [ 14  10 240]]\n"
     ]
    }
   ],
   "source": [
    "X=D['X']\n",
    "y=D['y']\n",
    "f1=D['foldTrain']\n",
    "f2=D['foldTest']\n",
    "X1=X[:,f1]\n",
    "y1=y[f1]\n",
    "X2=X[:,f2]\n",
    "y2=y[f2]\n",
    "svm=SVC().fit(X1.T,y1)\n",
    "y1e=svm.predict(X1.T)\n",
    "y2e=svm.predict(X2.T)\n",
    "print('Dados de Treino')\n",
    "print('Nº total de erros:',np.sum(y1!=y1e))\n",
    "print('Matriz de confusão')\n",
    "print(confusion_matrix(y1,y1e))\n",
    "print('='*80)\n",
    "print('Dados de Teste')\n",
    "print('Nº total de erros:',np.sum(y2!=y2e))\n",
    "print('Matriz de confusão')\n",
    "print(confusion_matrix(y2,y2e))"
   ]
  },
  {
   "cell_type": "code",
   "execution_count": 3,
   "metadata": {},
   "outputs": [
    {
     "name": "stdout",
     "output_type": "stream",
     "text": [
      "{'C': 20, 'gamma': 0.1}\n"
     ]
    }
   ],
   "source": [
    "from sklearn.model_selection import GridSearchCV\n",
    "gVal={'C':[0.1,1,10,20],'gamma':[0.01,0.1,1]}\n",
    "gS=GridSearchCV(SVC(kernel='rbf'),gVal,cv=3).fit(X1.T,y1)\n",
    "print(gS.best_params_)"
   ]
  },
  {
   "cell_type": "code",
   "execution_count": 4,
   "metadata": {},
   "outputs": [
    {
     "name": "stdout",
     "output_type": "stream",
     "text": [
      "Dados de Treino\n",
      "Nº total de erros: 62\n",
      "Matriz de confusão\n",
      "[[217  12  12]\n",
      " [  9 237  10]\n",
      " [ 10   9 217]]\n",
      "================================================================================\n",
      "Dados de Teste\n",
      "Nº total de erros: 53\n",
      "Matriz de confusão\n",
      "[[243  11   5]\n",
      " [  9 228   7]\n",
      " [ 13   8 243]]\n"
     ]
    }
   ],
   "source": [
    "svm=SVC(kernel='rbf',C=20,gamma=0.1).fit(X1.T,y1)\n",
    "y1e=svm.predict(X1.T)\n",
    "y2e=svm.predict(X2.T)\n",
    "print('Dados de Treino')\n",
    "print('Nº total de erros:',np.sum(y1!=y1e))\n",
    "print('Matriz de confusão')\n",
    "print(confusion_matrix(y1,y1e))\n",
    "print('='*80)\n",
    "print('Dados de Teste')\n",
    "print('Nº total de erros:',np.sum(y2!=y2e))\n",
    "print('Matriz de confusão')\n",
    "print(confusion_matrix(y2,y2e))"
   ]
  },
  {
   "cell_type": "code",
   "execution_count": 6,
   "metadata": {},
   "outputs": [
    {
     "data": {
      "text/plain": [
       "(-1.4186088292721362,\n",
       " 1.5199547290941977,\n",
       " -1.8006926676528003,\n",
       " 1.5271648142253822)"
      ]
     },
     "execution_count": 6,
     "metadata": {},
     "output_type": "execute_result"
    },
    {
     "data": {
      "image/png": "[encoded data removed]",
      "text/plain": [
       "<Figure size 432x288 with 1 Axes>"
      ]
     },
     "metadata": {
      "needs_background": "light"
     },
     "output_type": "display_data"
    }
   ],
   "source": [
    "plt.plot(X2[0,y2==0],X2[1,y2==0],'.')\n",
    "plt.plot(X2[0,y2==1],X2[1,y2==1],'.')\n",
    "plt.plot(X2[0,y2==2],X2[1,y2==2],'.')\n",
    "plt.plot(X2[0,y2!=y2e],X2[1,y2!=y2e],'ok',alpha=0.5)\n",
    "plt.grid(True)\n",
    "plt.axis('scaled')"
   ]
  },
  {
   "cell_type": "markdown",
   "metadata": {},
   "source": [
    "<hr style=\"border:2px solid black\"> </hr>"
   ]
  },
  {
   "cell_type": "markdown",
   "metadata": {},
   "source": [
    "# Pergunta 2 - Dados de texto $\\texttt{melville-moby_dick.txt}$:\n",
    "## i. Considere os documentos da lista \"$\\texttt{Docs}$\" (obtidos a partir do texto de Moby Dick).  Limpe cada documento de modo a só conterem caracteres alfabéticos. \n",
    "## ii. Faça a representação tf-idf dos documentos limpos. Use só os seguintes parâmetros: $\\texttt{min_df=3}$ e $\\texttt{token_pattern=r'\\b\\w\\w\\w\\w+\\b'}$\n",
    "## iii. Liste as 100 palavras (tokens) do vocabulário mais representativas.\n",
    "## iv.  Liste as 100 palavras do vocabulário que aparecem no maior número de documentos."
   ]
  },
  {
   "cell_type": "code",
   "execution_count": 7,
   "metadata": {},
   "outputs": [],
   "source": [
    "f=open('melville-moby_dick.txt','r')\n",
    "book=f.read()\n",
    "bL=book.split('\\n\\n')\n",
    "lc=[len(k) for k in bL]\n",
    "Docs=[bL[k] for k in range(len(bL)) if lc[k]>100]\n",
    "Docs=[d.replace('\\n',' ') for d in Docs]"
   ]
  },
  {
   "cell_type": "code",
   "execution_count": 8,
   "metadata": {},
   "outputs": [],
   "source": [
    "import re\n",
    "Docs=[re.sub(r'[^a-zA-Z\\u00C0-\\u00FF]+',' ',doc) for doc in Docs]"
   ]
  },
  {
   "cell_type": "code",
   "execution_count": 14,
   "metadata": {},
   "outputs": [],
   "source": [
    "from sklearn.feature_extraction.text import TfidfVectorizer\n",
    "tfidf=TfidfVectorizer(min_df=3,token_pattern=r'\\b\\w\\w\\w\\w+\\b').fit(Docs)\n"
   ]
  },
  {
   "cell_type": "code",
   "execution_count": 17,
   "metadata": {},
   "outputs": [
    {
     "name": "stdout",
     "output_type": "stream",
     "text": [
      "['ginger', 'start', 'spring', 'porpoise', 'thunder', 'delight', 'cook', 'pull', 'owners', 'hearse', 'chap', 'fool', 'monsieur', 'follow', 'bell', 'waif', 'speaking', 'crow', 'huzza', 'purse', 'squeeze', 'bunger', 'canallers', 'bildad', 'heeded', 'queen', 'jonah', 'loose', 'drive', 'elephant', 'langsdorff', 'ghosts', 'chicha', 'grow', 'shiver', 'macey', 'flask', 'hemp', 'indispensable', 'bouton', 'line', 'cabaco', 'burtons', 'game', 'immortal', 'devil', 'queer', 'seven', 'down', 'turn', 'statement', 'luck', 'stump', 'letter', 'carpenter', 'master', 'compass', 'beer', 'stop', 'together', 'sleep', 'considering', 'monkey', 'yarman', 'shark', 'thou', 'aboard', 'balls', 'kill', 'roll', 'helm', 'blows', 'coffee', 'desert', 'gone', 'read', 'buffalo', 'temple', 'fish', 'sabbath', 'breeze', 'ambergris', 'lesson', 'deacon', 'child', 'maketh', 'examples', 'person', 'three', 'news', 'didst', 'farewell', 'doubts', 'yourself', 'whaling', 'facts', 'savage', 'remember', 'avast', 'perth']\n"
     ]
    }
   ],
   "source": [
    "voc=tfidf.get_feature_names()\n",
    "X=tfidf.transform(Docs)\n",
    "xM=np.max(X,axis=0).toarray().squeeze()\n",
    "idx=np.argsort(-xM)\n",
    "voc2=[voc[i] for i in idx]\n",
    "print(voc2[:100])"
   ]
  },
  {
   "cell_type": "code",
   "execution_count": 20,
   "metadata": {},
   "outputs": [
    {
     "name": "stdout",
     "output_type": "stream",
     "text": [
      "['that', 'with', 'this', 'from', 'whale', 'there', 'have', 'which', 'then', 'some', 'were', 'like', 'when', 'upon', 'they', 'what', 'into', 'their', 'more', 'ship', 'them', 'other', 'these', 'over', 'ahab', 'been', 'would', 'only', 'down', 'will', 'such', 'though', 'time', 'long', 'still', 'than', 'very', 'head', 'great', 'before', 'here', 'about', 'those', 'last', 'must', 'said', 'most', 'after', 'seemed', 'again', 'boat', 'while', 'captain', 'round', 'first', 'little', 'every', 'much', 'whales', 'could', 'white', 'being', 'three', 'through', 'same', 'almost', 'hand', 'well', 'where', 'ever', 'side', 'might', 'sperm', 'thing', 'himself', 'even', 'good', 'away', 'stubb', 'water', 'never', 'deck', 'made', 'queequeg', 'look', 'should', 'your', 'world', 'among', 'without', 'many', 'pequod', 'starbuck', 'life', 'once', 'come', 'sort', 'seen', 'back', 'thou']\n"
     ]
    }
   ],
   "source": [
    "voc=tfidf.get_feature_names()\n",
    "idf=tfidf.idf_\n",
    "idx=np.argsort(idf)\n",
    "voc3=[voc[i] for i in idx]\n",
    "print(voc3[:100])"
   ]
  },
  {
   "cell_type": "code",
   "execution_count": null,
   "metadata": {},
   "outputs": [],
   "source": []
  }
 ],
 "metadata": {
  "kernelspec": {
   "display_name": "Python 3",
   "language": "python",
   "name": "python3"
  },
  "language_info": {
   "codemirror_mode": {
    "name": "ipython",
    "version": 3
   },
   "file_extension": ".py",
   "mimetype": "text/x-python",
   "name": "python",
   "nbconvert_exporter": "python",
   "pygments_lexer": "ipython3",
   "version": "3.6.9"
  }
 },
 "nbformat": 4,
 "nbformat_minor": 4
}
