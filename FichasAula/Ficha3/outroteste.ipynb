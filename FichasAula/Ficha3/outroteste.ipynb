{
 "cells": [
  {
   "cell_type": "code",
   "execution_count": 2,
   "metadata": {},
   "outputs": [],
   "source": [
    "import pickle\n",
    "import numpy as np\n",
    "import matplotlib.pyplot as plt\n",
    "import scipy.linalg as la\n",
    "from sklearn.metrics import confusion_matrix\n",
    "\n",
    "from sklearn.decomposition import PCA\n",
    "from sklearn.discriminant_analysis import LinearDiscriminantAnalysis as LDA\n",
    "\n",
    "from sklearn.svm import SVC\n",
    "svc=SVC(kernel='rbf')\n",
    "\n",
    "fN = '/Users/anaso/Documents/AA/AA-22-23/FichasAula/Ficha3/MNISTsmall.p'"
   ]
  },
  {
   "cell_type": "markdown",
   "metadata": {},
   "source": [
    "# Pergunta 1: Considere os dígitos \"2\" e \"8\"  dos dados (2000 dígitos de treino e 1000 de teste).\n",
    "## a) Calcule a matriz de PCA para os 2000 dígitos de treino. Guarde só as componentes principais cujos valores próprios seja maiores que cem (100) e especifique (imprima) esse o número. "
   ]
  },
  {
   "cell_type": "code",
   "execution_count": 3,
   "metadata": {},
   "outputs": [
    {
     "name": "stdout",
     "output_type": "stream",
     "text": [
      "dict_keys(['foldTrain', 'trueClass', 'foldTest', 'X'])\n",
      "Numero de componentes principais:  419\n"
     ]
    }
   ],
   "source": [
    "D = pickle.load(open(fN, 'rb'))\n",
    "\n",
    "print(D.keys())\n",
    "\n",
    "X = D['X']*1.\n",
    "y = D['trueClass']\n",
    "f1 = D['foldTrain']\n",
    "f2 = D['foldTest']\n",
    "\n",
    "# Dados de treino\n",
    "X1 = X[:, f1]\n",
    "y1 = y[f1]\n",
    "\n",
    "# Dados de teste\n",
    "X2 = X[:, f2]\n",
    "y2 = y[f2]\n",
    "\n",
    "# Dados de treino com classe = 2 ou 8\n",
    "X1 = X1[:, (y1==2) | (y1==8)]\n",
    "y1 = y1[(y1==2) | (y1==8)]\n",
    "\n",
    "# Dados de teste com classe = 2 ou 8\n",
    "X2 = X2[:, (y2==2) | (y2==8)]\n",
    "y2 = y2[(y2==2) | (y2==8)]\n",
    "\n",
    "\n",
    "Cx = np.cov(X1)\n",
    "u, V = la.eig(Cx)\n",
    "u = u.real\n",
    "V = V.real\n",
    "\n",
    "# Ordenar os valores próprios\n",
    "idx = np.argsort(-u)\n",
    "u = u[idx]\n",
    "V = V[:, idx]\n",
    "\n",
    "# obter vetores próprios cujos valores próprios são > 100\n",
    "V = V[:, u>100]\n",
    "\n",
    "comp = V.shape[1]\n",
    "\n",
    "print(\"Numero de componentes principais: \", comp)\n"
   ]
  },
  {
   "cell_type": "markdown",
   "metadata": {},
   "source": [
    "## b) Visualize em forma de imagem, as três primeiras componetes principais (3 imagens de $28\\times28$).\n"
   ]
  },
  {
   "cell_type": "code",
   "execution_count": 4,
   "metadata": {},
   "outputs": [
    {
     "data": {
      "text/plain": [
       "Text(0.5, 1.0, '3ªcomponente')"
      ]
     },
     "execution_count": 4,
     "metadata": {},
     "output_type": "execute_result"
    },
    {
     "data": {
      "image/png": "[encoded data removed]",
      "text/plain": [
       "<Figure size 1000x500 with 3 Axes>"
      ]
     },
     "metadata": {},
     "output_type": "display_data"
    }
   ],
   "source": [
    "W = V[:, :comp]\n",
    "\n",
    "W1 = W[:, 0].reshape(28,28)\n",
    "W2 = W[:, 1].reshape(28,28)\n",
    "W3 = W[:, 2].reshape(28,28)\n",
    "\n",
    "\n",
    "plt.figure(figsize=(10,5))\n",
    "plt.subplot(131)\n",
    "plt.imshow(W1, cmap='binary')\n",
    "plt.axis('off')\n",
    "plt.title('1ªcomponente')\n",
    "\n",
    "plt.subplot(132)\n",
    "plt.imshow(W2, cmap='binary')\n",
    "plt.axis('off')\n",
    "plt.title('2ªcomponente')\n",
    "\n",
    "plt.subplot(133)\n",
    "plt.imshow(W3, cmap='binary')\n",
    "plt.axis('off')\n",
    "plt.title('3ªcomponente')\n"
   ]
  },
  {
   "cell_type": "markdown",
   "metadata": {},
   "source": [
    "## c) Aplique a transformação PCA aos dígitos  do conjunto de teste e faça a transformação inversa. Calcule o erro quadrático médio entre os dígitos de teste originais e os reconstruídos. Imprima o valor obtido."
   ]
  },
  {
   "cell_type": "code",
   "execution_count": 5,
   "metadata": {},
   "outputs": [
    {
     "name": "stdout",
     "output_type": "stream",
     "text": [
      "Erro médio quadrático: 12.47\n"
     ]
    }
   ],
   "source": [
    "X2p = np.dot(W.T, X2)\n",
    "X2r = np.dot(W, X2p)\n",
    "\n",
    "erro = np.mean((X2-X2r)**2)\n",
    "\n",
    "print(\"Erro médio quadrático: %.2f\"%erro)\n",
    "\n"
   ]
  },
  {
   "cell_type": "markdown",
   "metadata": {},
   "source": [
    "# Pergunta 2: Considere os dígitos \"1\", \"4\" e \"7\" dos dados (3000 dígitos de treino e 1500 dígitos de teste).\n",
    "## a) Estime a transformação PCA com os dados de treino, de modo aos dados projetados terem $90\\%$ da variância total dos dados e aplique a transformação aos dados de treino e teste. \n"
   ]
  },
  {
   "cell_type": "code",
   "execution_count": 6,
   "metadata": {},
   "outputs": [
    {
     "name": "stdout",
     "output_type": "stream",
     "text": [
      "(1500, 67)\n"
     ]
    }
   ],
   "source": [
    "X1 = X[:, f1]\n",
    "y1 = y[f1]\n",
    "\n",
    "X2 = X[:, f2]\n",
    "y2 = y[f2]\n",
    "\n",
    "X1 = X1[:, (y1==1) | (y1==4) |(y1==7)]\n",
    "y1 = y1[(y1==1) | (y1==4) |(y1==7)]\n",
    "\n",
    "X2 = X2[:, (y2==1) | (y2==4) |(y2==7)]\n",
    "y2 = y2[(y2==1) | (y2==4) |(y2==7)]\n",
    "\n",
    "\n",
    "pca = PCA(n_components=0.9).fit(X1.T)\n",
    "X1p = pca.transform(X1.T)\n",
    "X2p = pca.transform(X2.T)\n",
    "\n",
    "print(X2p.shape)\n",
    "\n"
   ]
  },
  {
   "cell_type": "markdown",
   "metadata": {},
   "source": [
    "## b) Treine o classificador $\\texttt{SVC(kernel='rbf')}$ com os dados de treino transformados, e calcule a matriz de confusão e o número total de erros nos dados de teste transformados."
   ]
  },
  {
   "cell_type": "code",
   "execution_count": 7,
   "metadata": {},
   "outputs": [
    {
     "name": "stdout",
     "output_type": "stream",
     "text": [
      "Matriz de confusão:\n",
      "[[497   0   3]\n",
      " [  0 500   0]\n",
      " [ 13   7 480]]\n",
      "Número total de erros no conjunto de teste: 23\n"
     ]
    }
   ],
   "source": [
    "svc.fit(X1p, y1)\n",
    "y2e = svc.predict(X2p)\n",
    "\n",
    "print('Matriz de confusão:')\n",
    "print(confusion_matrix(y2,y2e))\n",
    "print('Número total de erros no conjunto de teste: %d'%np.sum(y2!=y2e))"
   ]
  },
  {
   "cell_type": "markdown",
   "metadata": {},
   "source": [
    "## c) Pretende-se aplicar a transformação LDA aos dados processados com PCA. Estime a transformação LDA com os dados de treino e aplique a transformação aos dados de treino e teste. Faça um \"plot\"  dos dados de teste por classe no mesmo gráfico.\n"
   ]
  },
  {
   "cell_type": "code",
   "execution_count": 8,
   "metadata": {},
   "outputs": [
    {
     "name": "stdout",
     "output_type": "stream",
     "text": [
      "(1500, 2)\n"
     ]
    },
    {
     "data": {
      "image/png": "[encoded data removed]",
      "text/plain": [
       "<Figure size 500x500 with 1 Axes>"
      ]
     },
     "metadata": {},
     "output_type": "display_data"
    }
   ],
   "source": [
    "lda = LDA().fit(X1p, y1)\n",
    "X1l = lda.transform(X1p)\n",
    "X2l = lda.transform(X2p)\n",
    "\n",
    "print(X2l.shape)\n",
    "\n",
    "\n",
    "plt.figure(figsize=(5,5))\n",
    "plt.plot(X2l[y2==1, 0], X2l[y2==1, 1], '.')\n",
    "plt.plot(X2l[y2==4, 0], X2l[y2==4, 1], '.')\n",
    "plt.plot(X2l[y2==7, 0], X2l[y2==7, 1], '.')\n",
    "plt.axis('scaled')\n",
    "plt.grid(True)"
   ]
  },
  {
   "cell_type": "markdown",
   "metadata": {},
   "source": [
    "## d) Treine o classificador $\\texttt{SVC(kernel='rbf')}$ com os dados transformados da alínea anterior, e calcule a matriz de confusão e o número total de erros nos dados de teste."
   ]
  },
  {
   "cell_type": "code",
   "execution_count": 9,
   "metadata": {},
   "outputs": [
    {
     "name": "stdout",
     "output_type": "stream",
     "text": [
      "Matriz de confusão:\n",
      "[[497   1   2]\n",
      " [  0 492   8]\n",
      " [ 17  18 465]]\n",
      "Número total de erros no conjunto de teste: 46\n"
     ]
    }
   ],
   "source": [
    "svc.fit(X1l, y1)\n",
    "y2e = svc.predict(X2l)\n",
    "\n",
    "print('Matriz de confusão:')\n",
    "print(confusion_matrix(y2,y2e))\n",
    "print('Número total de erros no conjunto de teste: %d'%np.sum(y2!=y2e))"
   ]
  },
  {
   "cell_type": "markdown",
   "metadata": {},
   "source": [
    "# Pergunta 100 - Conjunto de dados $\\texttt{MNISTsmall.p}$:\n",
    "## 1. Com os dados de treino calcule a matriz de PCA. Use o número mínimo de componentes principais de modo aos dados projetados terem 75% da variância total dos dados originais. Especifique (imprima) qual o número de componentes obtidas. \n"
   ]
  },
  {
   "cell_type": "code",
   "execution_count": 10,
   "metadata": {},
   "outputs": [
    {
     "name": "stdout",
     "output_type": "stream",
     "text": [
      "dict_keys(['foldTrain', 'trueClass', 'foldTest', 'X'])\n"
     ]
    }
   ],
   "source": [
    "D = pickle.load(open(fN, 'rb'))\n",
    "\n",
    "print(D.keys())\n",
    "\n",
    "X = D['X']*1.\n",
    "y = D['trueClass']\n",
    "f1 = D['foldTrain']\n",
    "f2 = D['foldTest']\n",
    "\n",
    "# Dados de treino\n",
    "X1 = X[:, f1]\n",
    "y1 = y[f1]\n",
    "\n",
    "# Dados de teste\n",
    "X2 = X[:, f2]\n",
    "y2 = y[f2]"
   ]
  },
  {
   "cell_type": "code",
   "execution_count": 19,
   "metadata": {},
   "outputs": [
    {
     "name": "stdout",
     "output_type": "stream",
     "text": [
      "Nro Componentes Principais:  32\n",
      "Percentagem da variância total dos dados: 0.7529636562502182\n"
     ]
    }
   ],
   "source": [
    "Cx = np.cov(X1)\n",
    "u, V = la.eig(Cx)\n",
    "u = u.real\n",
    "V = V.real\n",
    "\n",
    "idx = np.argsort(-u)\n",
    "u = u[idx]\n",
    "V = V[:, idx]\n",
    "\n",
    "un = u/np.sum(u)\n",
    "ucum = np.cumsum(un)\n",
    "\n",
    "comp = np.sum(ucum <= 0.75)\n",
    "\n",
    "print(\"Nro Componentes Principais: \", comp)\n",
    "print('Percentagem da variância total dos dados:', ucum[32])\n"
   ]
  },
  {
   "cell_type": "markdown",
   "metadata": {},
   "source": [
    "## 2. Transforme os conjuntos de treino e teste com a transformação da alínea anterior.\n"
   ]
  },
  {
   "cell_type": "code",
   "execution_count": 21,
   "metadata": {},
   "outputs": [],
   "source": [
    "W = V[:, :comp]\n",
    "\n",
    "X1p = np.dot(W.T, X1)\n",
    "X2p = np.dot(W.T, X2)"
   ]
  },
  {
   "cell_type": "markdown",
   "metadata": {},
   "source": [
    "## 3. Para os dados transformados aplique a transformação LDA usando a função $\\texttt{LinearDiscriminantAnalysis}$ do $\\texttt{sklearn}$.\n"
   ]
  },
  {
   "cell_type": "code",
   "execution_count": 31,
   "metadata": {},
   "outputs": [
    {
     "name": "stdout",
     "output_type": "stream",
     "text": [
      "(9, 10000) (9, 5000)\n"
     ]
    }
   ],
   "source": [
    "lda = LDA().fit(X1p.T, y1)\n",
    "X1l = lda.transform(X1p.T).T\n",
    "X2l = lda.transform(X2p.T).T\n",
    "\n",
    "print(X1l.shape, X2l.shape)"
   ]
  },
  {
   "cell_type": "markdown",
   "metadata": {},
   "source": [
    "## 4.  Use o classificador da alínea anterior e calcule as matrizes de confusão e o número total de erros nos dados de treino e de teste. Imprima os resultados."
   ]
  },
  {
   "cell_type": "code",
   "execution_count": 34,
   "metadata": {},
   "outputs": [
    {
     "name": "stdout",
     "output_type": "stream",
     "text": [
      "Treino:\n",
      "Nº de erros: 1423\n",
      "[[914   0   6   7   2  35  20   2  10   4]\n",
      " [  0 965   3   0   1   9   0   2  17   3]\n",
      " [  9  57 801  23  20   8  19  13  36  14]\n",
      " [  0  25  31 816   1  53   9  21  17  27]\n",
      " [  0  10   7   0 847   4  12   1  10 109]\n",
      " [ 15  10   4  54  12 831  19   3  39  13]\n",
      " [ 10  19   8   1  13  31 913   0   5   0]\n",
      " [  4  33   7   5  31   2   0 860   3  55]\n",
      " [  9  50  12  43  11  59  12   4 771  29]\n",
      " [  9  10   5  10  47  11   2  37  10 859]]\n",
      "Teste:\n",
      "Nº de erros: 899\n",
      "[[458   0   1   1   1  19  17   0   3   0]\n",
      " [  0 483   2   3   1   3   2   1   5   0]\n",
      " [  4  46 368  18   7   3   7  15  29   3]\n",
      " [  2   5   7 402   2  44   5  14  12   7]\n",
      " [  1   4   3   0 395   3   9   1   5  79]\n",
      " [ 10   4   0  29  11 396  13   8  16  13]\n",
      " [ 11  10   3   0  15  28 427   1   3   2]\n",
      " [  1  40  13   2  13   1   0 394   5  31]\n",
      " [  6  29   4  27  10  36   5  10 360  13]\n",
      " [  4  11   3   9  26  10   2  14   3 418]]\n"
     ]
    }
   ],
   "source": [
    "y1e = lda.predict(X1p.T)\n",
    "y2e = lda.predict(X2p.T)\n",
    "\n",
    "print('Treino:')\n",
    "print('Nº de erros:',np.sum(y1!=y1e))\n",
    "print(confusion_matrix(y1,y1e))\n",
    "\n",
    "print('Teste:')\n",
    "print('Nº de erros:',np.sum(y2!=y2e))\n",
    "print(confusion_matrix(y2,y2e))\n"
   ]
  }
 ],
 "metadata": {
  "kernelspec": {
   "display_name": "Python 3.8.11 ('base')",
   "language": "python",
   "name": "python3"
  },
  "language_info": {
   "codemirror_mode": {
    "name": "ipython",
    "version": 3
   },
   "file_extension": ".py",
   "mimetype": "text/x-python",
   "name": "python",
   "nbconvert_exporter": "python",
   "pygments_lexer": "ipython3",
   "version": "3.8.11"
  },
  "orig_nbformat": 4,
  "vscode": {
   "interpreter": {
    "hash": "4b40f68814b93475b29075cb0adeb1712a4387a9e06914676246b503f1ae483b"
   }
  }
 },
 "nbformat": 4,
 "nbformat_minor": 2
}
