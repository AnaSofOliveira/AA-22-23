{
 "cells": [
  {
   "cell_type": "markdown",
   "metadata": {},
   "source": [
    "### Laboratório 1\n"
   ]
  },
  {
   "cell_type": "code",
   "execution_count": 11,
   "metadata": {},
   "outputs": [],
   "source": [
    "import numpy as np\n",
    "import numpy.random as rd\n",
    "import matplotlib.pyplot as plt"
   ]
  },
  {
   "cell_type": "markdown",
   "metadata": {},
   "source": [
    "#### Variáveis aleatórias\n",
    "\n",
    "Vamos usar principalmente as seguintes:\n",
    "\n",
    "- rand - Variável aleatória distribuida uniformemente;\n",
    "- randn - Variável aleatória gausiana com média nula e variancia 1 ($\\mu = 0$ ; $\\sigma = 1$);\n",
    "- randint - Gera números inteiros aleatórios entre 2 limites especificados;\n",
    "\n",
    "- permutation - Gera números inteiros aleatórios entre 2 limites especificados e baralha a lista. Útil quando recebemos dados ordenados e pretendemos treinar os algoritmos. \n",
    "\n",
    "- seed - Inicializa o gerador de números aleatórios para que possamos simular com números aleatórios, mas nas próximas iterações usar sempre os mesmos números aleatórios para treino, \n",
    "\n",
    "Exemplo (seed): </br>\n",
    "    <b>NOTAS:</b> Cada vez que corro o script o x altera, porém o y, embora seja aleatório, mantém-se o mesmo devido ao seed anterior.  "
   ]
  },
  {
   "cell_type": "code",
   "execution_count": 10,
   "metadata": {},
   "outputs": [
    {
     "name": "stdout",
     "output_type": "stream",
     "text": [
      "Random sem seed:  [0.95071431]\n",
      "Random com seed:  [0.37454012]\n"
     ]
    }
   ],
   "source": [
    "x = rd.rand(1); \n",
    "print(\"Random sem seed: \", x)\n",
    "\n",
    "rd.seed(42)\n",
    "y = rd.rand(1)\n",
    "print(\"Random com seed: \", y)"
   ]
  },
  {
   "cell_type": "markdown",
   "metadata": {},
   "source": [
    "Exemplo (geração de variáveis aleatórias 1D) </br>\n",
    "Gerar pontos 1D segundo a distribuição de Wald e apresentar o seu histograma"
   ]
  },
  {
   "cell_type": "code",
   "execution_count": 12,
   "metadata": {},
   "outputs": [
    {
     "ename": "TypeError",
     "evalue": "the first argument to axis() must be an iterable of the form [xmin, xmax, ymin, ymax]",
     "output_type": "error",
     "traceback": [
      "\u001b[1;31m---------------------------------------------------------------------------\u001b[0m",
      "\u001b[1;31mValueError\u001b[0m                                Traceback (most recent call last)",
      "File \u001b[1;32mc:\\Users\\anaso\\anaconda3\\lib\\site-packages\\matplotlib\\axes\\_base.py:2080\u001b[0m, in \u001b[0;36m_AxesBase.axis\u001b[1;34m(self, emit, *args, **kwargs)\u001b[0m\n\u001b[0;32m   2079\u001b[0m \u001b[39mtry\u001b[39;00m:\n\u001b[1;32m-> 2080\u001b[0m     xmin, xmax, ymin, ymax \u001b[39m=\u001b[39m limits\n\u001b[0;32m   2081\u001b[0m \u001b[39mexcept\u001b[39;00m (\u001b[39mTypeError\u001b[39;00m, \u001b[39mValueError\u001b[39;00m) \u001b[39mas\u001b[39;00m err:\n",
      "\u001b[1;31mValueError\u001b[0m: not enough values to unpack (expected 4, got 3)",
      "\nThe above exception was the direct cause of the following exception:\n",
      "\u001b[1;31mTypeError\u001b[0m                                 Traceback (most recent call last)",
      "\u001b[1;32mc:\\Users\\anaso\\Documents\\AA\\AA-22-23\\Laboratorios\\Lab1\\Lab1.ipynb Cell 6\u001b[0m in \u001b[0;36m<cell line: 17>\u001b[1;34m()\u001b[0m\n\u001b[0;32m     <a href='vscode-notebook-cell:/c%3A/Users/anaso/Documents/AA/AA-22-23/Laboratorios/Lab1/Lab1.ipynb#X13sZmlsZQ%3D%3D?line=14'>15</a>\u001b[0m plt\u001b[39m.\u001b[39mbar(b, hx, width\u001b[39m=\u001b[39m\u001b[39m0.025\u001b[39m, color\u001b[39m=\u001b[39m[\u001b[39m0.7\u001b[39m,\u001b[39m0.7\u001b[39m, \u001b[39m0.7\u001b[39m])\n\u001b[0;32m     <a href='vscode-notebook-cell:/c%3A/Users/anaso/Documents/AA/AA-22-23/Laboratorios/Lab1/Lab1.ipynb#X13sZmlsZQ%3D%3D?line=15'>16</a>\u001b[0m plt\u001b[39m.\u001b[39mplot(t, fx, \u001b[39m'\u001b[39m\u001b[39mr\u001b[39m\u001b[39m'\u001b[39m, linewidth\u001b[39m=\u001b[39m\u001b[39m2\u001b[39m)\n\u001b[1;32m---> <a href='vscode-notebook-cell:/c%3A/Users/anaso/Documents/AA/AA-22-23/Laboratorios/Lab1/Lab1.ipynb#X13sZmlsZQ%3D%3D?line=16'>17</a>\u001b[0m plt\u001b[39m.\u001b[39;49maxis([\u001b[39m0.5\u001b[39;49m, \u001b[39m0\u001b[39;49m, \u001b[39m1.1\u001b[39;49m])\n",
      "File \u001b[1;32mc:\\Users\\anaso\\anaconda3\\lib\\site-packages\\matplotlib\\pyplot.py:2373\u001b[0m, in \u001b[0;36maxis\u001b[1;34m(emit, *args, **kwargs)\u001b[0m\n\u001b[0;32m   2371\u001b[0m \u001b[39m@_copy_docstring_and_deprecators\u001b[39m(Axes\u001b[39m.\u001b[39maxis)\n\u001b[0;32m   2372\u001b[0m \u001b[39mdef\u001b[39;00m \u001b[39maxis\u001b[39m(\u001b[39m*\u001b[39margs, emit\u001b[39m=\u001b[39m\u001b[39mTrue\u001b[39;00m, \u001b[39m*\u001b[39m\u001b[39m*\u001b[39mkwargs):\n\u001b[1;32m-> 2373\u001b[0m     \u001b[39mreturn\u001b[39;00m gca()\u001b[39m.\u001b[39;49maxis(\u001b[39m*\u001b[39;49margs, emit\u001b[39m=\u001b[39;49memit, \u001b[39m*\u001b[39;49m\u001b[39m*\u001b[39;49mkwargs)\n",
      "File \u001b[1;32mc:\\Users\\anaso\\anaconda3\\lib\\site-packages\\matplotlib\\axes\\_base.py:2082\u001b[0m, in \u001b[0;36m_AxesBase.axis\u001b[1;34m(self, emit, *args, **kwargs)\u001b[0m\n\u001b[0;32m   2080\u001b[0m         xmin, xmax, ymin, ymax \u001b[39m=\u001b[39m limits\n\u001b[0;32m   2081\u001b[0m     \u001b[39mexcept\u001b[39;00m (\u001b[39mTypeError\u001b[39;00m, \u001b[39mValueError\u001b[39;00m) \u001b[39mas\u001b[39;00m err:\n\u001b[1;32m-> 2082\u001b[0m         \u001b[39mraise\u001b[39;00m \u001b[39mTypeError\u001b[39;00m(\u001b[39m'\u001b[39m\u001b[39mthe first argument to axis() must be an \u001b[39m\u001b[39m'\u001b[39m\n\u001b[0;32m   2083\u001b[0m                         \u001b[39m'\u001b[39m\u001b[39miterable of the form \u001b[39m\u001b[39m'\u001b[39m\n\u001b[0;32m   2084\u001b[0m                         \u001b[39m'\u001b[39m\u001b[39m[xmin, xmax, ymin, ymax]\u001b[39m\u001b[39m'\u001b[39m) \u001b[39mfrom\u001b[39;00m \u001b[39merr\u001b[39;00m\n\u001b[0;32m   2085\u001b[0m \u001b[39melse\u001b[39;00m:\n\u001b[0;32m   2086\u001b[0m     xmin \u001b[39m=\u001b[39m kwargs\u001b[39m.\u001b[39mpop(\u001b[39m'\u001b[39m\u001b[39mxmin\u001b[39m\u001b[39m'\u001b[39m, \u001b[39mNone\u001b[39;00m)\n",
      "\u001b[1;31mTypeError\u001b[0m: the first argument to axis() must be an iterable of the form [xmin, xmax, ymin, ymax]"
     ]
    },
    {
     "data": {
      "image/png": "[encoded data removed]",
      "text/plain": [
       "<Figure size 800x400 with 1 Axes>"
      ]
     },
     "metadata": {},
     "output_type": "display_data"
    }
   ],
   "source": [
    "from turtle import color\n",
    "\n",
    "\n",
    "x = rd.wald(1, 3, int(100000))\n",
    "\n",
    "hx, b = np.histogram(x, np.linspace(0, 5, 201), density=True)\n",
    "\n",
    "b = (b[:-1] + b[1:])/2.\n",
    "\n",
    "t = np.linspace(0.1e-6, 5, 100)\n",
    "\n",
    "fx = np.sqrt(3/(2*np.pi*t**3))*np.exp(-3*(t-1)**2/(2*t))\n",
    "\n",
    "plt.figure(figsize=(8, 4))\n",
    "plt.bar(b, hx, width=0.025, color=[0.7,0.7, 0.7])\n",
    "plt.plot(t, fx, 'r', linewidth=2)\n",
    "plt.axis([0.5, 0, 1.1])\n"
   ]
  },
  {
   "cell_type": "code",
   "execution_count": null,
   "metadata": {},
   "outputs": [],
   "source": []
  }
 ],
 "metadata": {
  "kernelspec": {
   "display_name": "Python 3.8.11 ('base')",
   "language": "python",
   "name": "python3"
  },
  "language_info": {
   "codemirror_mode": {
    "name": "ipython",
    "version": 3
   },
   "file_extension": ".py",
   "mimetype": "text/x-python",
   "name": "python",
   "nbconvert_exporter": "python",
   "pygments_lexer": "ipython3",
   "version": "3.8.11"
  },
  "orig_nbformat": 4,
  "vscode": {
   "interpreter": {
    "hash": "4b40f68814b93475b29075cb0adeb1712a4387a9e06914676246b503f1ae483b"
   }
  }
 },
 "nbformat": 4,
 "nbformat_minor": 2
}
