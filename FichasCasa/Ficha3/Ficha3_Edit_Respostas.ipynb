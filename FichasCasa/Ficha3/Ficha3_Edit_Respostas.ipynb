{
 "cells": [
  {
   "cell_type": "code",
   "execution_count": 9,
   "metadata": {},
   "outputs": [
    {
     "name": "stdout",
     "output_type": "stream",
     "text": [
      "dict_keys(['Q001', 'nome', 'numero'])\n",
      "Q001 :  [[1. 0. 0. 0.]\n",
      " [0. 0. 0. 1.]\n",
      " [0. 0. 0. 1.]\n",
      " [0. 1. 0. 0.]\n",
      " [1. 0. 0. 0.]\n",
      " [0. 1. 0. 0.]\n",
      " [0. 1. 0. 0.]\n",
      " [1. 0. 0. 0.]\n",
      " [0. 0. 0. 1.]\n",
      " [0. 1. 0. 0.]] \n",
      "\n",
      "nome :  Ana Sofia Preto Oliveira \n",
      "\n",
      "numero :  A39275 \n",
      "\n"
     ]
    }
   ],
   "source": [
    "import pickle\n",
    "import numpy as np\n",
    "\n",
    "# Ler dados\n",
    "fN = '/Users/anaso/Documents/AA/AA-22-23/FichasCasa/Ficha3/A39275_Ficha3_Respostas.p'\n",
    "QuestDic = pickle.load(open(fN, 'rb'))\n",
    "\n",
    "print(QuestDic.keys())\n",
    "for quest in QuestDic:\n",
    "    print(quest, \": \", QuestDic[quest], \"\\n\")\n"
   ]
  },
  {
   "cell_type": "code",
   "execution_count": 7,
   "metadata": {},
   "outputs": [
    {
     "name": "stdout",
     "output_type": "stream",
     "text": [
      "Q001 : \n",
      " [[1. 0. 0. 0.]\n",
      " [0. 0. 0. 1.]\n",
      " [0. 0. 0. 1.]\n",
      " [0. 1. 0. 0.]\n",
      " [1. 0. 0. 0.]\n",
      " [0. 1. 0. 0.]\n",
      " [0. 1. 0. 0.]\n",
      " [1. 0. 0. 0.]\n",
      " [0. 0. 0. 1.]\n",
      " [0. 1. 0. 0.]] \n",
      "\n",
      "nome : \n",
      " Ana Sofia Preto Oliveira \n",
      "\n",
      "numero : \n",
      " A39275 \n",
      "\n"
     ]
    }
   ],
   "source": [
    "# Editar respostas\n",
    "QuestDic['Q001'][0, :] = np.array([1, 0, 0, 0])\n",
    "QuestDic['Q001'][1, :] = np.array([0, 0, 0, 1])\n",
    "QuestDic['Q001'][2, :] = np.array([0, 0, 0, 1])\n",
    "QuestDic['Q001'][3, :] = np.array([0, 1, 0, 0])\n",
    "QuestDic['Q001'][4, :] = np.array([1, 0, 0, 0])\n",
    "QuestDic['Q001'][5, :] = np.array([0, 1, 0, 0])\n",
    "QuestDic['Q001'][6, :] = np.array([0, 1, 0, 0])\n",
    "QuestDic['Q001'][7, :] = np.array([1, 0, 0, 0])\n",
    "QuestDic['Q001'][8, :] = np.array([0, 0, 0, 1])\n",
    "QuestDic['Q001'][9, :] = np.array([0, 1, 0, 0])\n",
    "\n",
    "# Ver respostas\n",
    "for quest in QuestDic:\n",
    "    print(quest, \": \\n\", QuestDic[quest], \"\\n\")"
   ]
  },
  {
   "cell_type": "code",
   "execution_count": 8,
   "metadata": {},
   "outputs": [],
   "source": [
    "# Guardar Respostas\n",
    "pickle.dump(QuestDic,open(fN,'wb'))"
   ]
  }
 ],
 "metadata": {
  "kernelspec": {
   "display_name": "Python 3.8.11 ('base')",
   "language": "python",
   "name": "python3"
  },
  "language_info": {
   "codemirror_mode": {
    "name": "ipython",
    "version": 3
   },
   "file_extension": ".py",
   "mimetype": "text/x-python",
   "name": "python",
   "nbconvert_exporter": "python",
   "pygments_lexer": "ipython3",
   "version": "3.8.11"
  },
  "orig_nbformat": 4,
  "vscode": {
   "interpreter": {
    "hash": "4b40f68814b93475b29075cb0adeb1712a4387a9e06914676246b503f1ae483b"
   }
  }
 },
 "nbformat": 4,
 "nbformat_minor": 2
}
