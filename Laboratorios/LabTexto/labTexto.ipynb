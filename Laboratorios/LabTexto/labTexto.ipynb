{
 "cells": [
  {
   "cell_type": "code",
   "execution_count": 19,
   "metadata": {},
   "outputs": [
    {
     "name": "stdout",
     "output_type": "stream",
     "text": [
      "{'you': 29, 'better': 3, 'start': 18, 'swimming': 20, 'or': 13, 'll': 10, 'sink': 16, 'like': 9, 'stone': 19, 'for': 6, 'the': 21, 'times': 23, 'they': 22, 'are': 1, 'changing': 5, 'loser': 11, 'now': 12, 'will': 26, 'be': 2, 'later': 8, 'to': 24, 'win': 27, 'cause': 4, 'it': 7, 'soon': 17, 'shake': 15, 'your': 30, 'windows': 28, 'and': 0, 'rattle': 14, 'walls': 25}\n",
      "['and', 'are', 'be', 'better', 'cause', 'changing', 'for', 'it', 'later', 'like', 'll', 'loser', 'now', 'or', 'rattle', 'shake', 'sink', 'soon', 'start', 'stone', 'swimming', 'the', 'they', 'times', 'to', 'walls', 'will', 'win', 'windows', 'you', 'your']\n"
     ]
    },
    {
     "name": "stderr",
     "output_type": "stream",
     "text": [
      "c:\\Users\\anaso\\anaconda3\\lib\\site-packages\\sklearn\\utils\\deprecation.py:87: FutureWarning: Function get_feature_names is deprecated; get_feature_names is deprecated in 1.0 and will be removed in 1.2. Please use get_feature_names_out instead.\n",
      "  warnings.warn(msg, category=FutureWarning)\n"
     ]
    }
   ],
   "source": [
    "# Converter texto em vetores\n",
    "\n",
    "import numpy as np\n",
    "import matplotlib.pyplot as plt\n",
    "import pickle\n",
    "from sklearn.feature_extraction.text import CountVectorizer, TfidfVectorizer\n",
    "\n",
    "corpus = [ \"you better start swimming or you’ll sink like a stone for the times they are a-changing\", \"the loser now will be later to win cause the times they are a-changing\", \"it’ll soon shake your windows and rattle your walls for the times they are a-changing\"]\n",
    "\n",
    "cv = CountVectorizer().fit(corpus)\n",
    "\n",
    "print(cv.vocabulary_)\n",
    "words = cv.get_feature_names()\n",
    "print(words)"
   ]
  },
  {
   "cell_type": "code",
   "execution_count": 6,
   "metadata": {},
   "outputs": [
    {
     "name": "stdout",
     "output_type": "stream",
     "text": [
      "(3, 31)\n"
     ]
    },
    {
     "data": {
      "text/plain": [
       "array([[0, 1, 0, 1, 0, 1, 1, 0, 0, 1, 1, 0, 0, 1, 0, 0, 1, 0, 1, 1, 1, 1,\n",
       "        1, 1, 0, 0, 0, 0, 0, 2, 0],\n",
       "       [0, 1, 1, 0, 1, 1, 0, 0, 1, 0, 0, 1, 1, 0, 0, 0, 0, 0, 0, 0, 0, 2,\n",
       "        1, 1, 1, 0, 1, 1, 0, 0, 0],\n",
       "       [1, 1, 0, 0, 0, 1, 1, 1, 0, 0, 1, 0, 0, 0, 1, 1, 0, 1, 0, 0, 0, 1,\n",
       "        1, 1, 0, 1, 0, 0, 1, 0, 2]], dtype=int64)"
      ]
     },
     "execution_count": 6,
     "metadata": {},
     "output_type": "execute_result"
    }
   ],
   "source": [
    "# Converter em vetores\n",
    "\n",
    "X = cv.transform(corpus)\n",
    "# 2 textos representados em 31 dimensões (palavras)\n",
    "print(X.shape)\n",
    "\n",
    "# Se tentar fazer print(X) é indicado que a matriz é esparça -> Matriz cuja maior parte dos seus elementos são zero\n",
    "# Posso converter num numpy array normal\n",
    "X.toarray()\n",
    "\n",
    "# NOTA: não é indicar converter para numpy arrray as matrizes esparças que tenham muitos elementos\n",
    "\n",
    "\n"
   ]
  },
  {
   "cell_type": "code",
   "execution_count": 12,
   "metadata": {},
   "outputs": [
    {
     "name": "stdout",
     "output_type": "stream",
     "text": [
      "[[0.         0.15841025 0.         0.26821186 0.         0.15841025\n",
      "  0.20398203 0.         0.         0.26821186 0.20398203 0.\n",
      "  0.         0.26821186 0.         0.         0.26821186 0.\n",
      "  0.26821186 0.26821186 0.26821186 0.15841025 0.15841025 0.15841025\n",
      "  0.         0.         0.         0.         0.         0.53642372\n",
      "  0.        ]\n",
      " [0.         0.17979686 0.30442255 0.         0.30442255 0.17979686\n",
      "  0.         0.         0.30442255 0.         0.         0.30442255\n",
      "  0.30442255 0.         0.         0.         0.         0.\n",
      "  0.         0.         0.         0.35959372 0.17979686 0.17979686\n",
      "  0.30442255 0.         0.30442255 0.30442255 0.         0.\n",
      "  0.        ]\n",
      " [0.26821186 0.15841025 0.         0.         0.         0.15841025\n",
      "  0.20398203 0.26821186 0.         0.         0.20398203 0.\n",
      "  0.         0.         0.26821186 0.26821186 0.         0.26821186\n",
      "  0.         0.         0.         0.15841025 0.15841025 0.15841025\n",
      "  0.         0.26821186 0.         0.         0.26821186 0.\n",
      "  0.53642372]]\n"
     ]
    }
   ],
   "source": [
    "# um termo que aparece em poucos documentos mas com grande frequência nos documentos em que aparece, devem ser bons caracterizadores do que está dito no documento\n",
    "\n",
    "# TF-IDF\n",
    "tfidf = TfidfVectorizer().fit(corpus)\n",
    "X2 = tfidf.transform(corpus)\n",
    "\n",
    "print(X2.toarray())\n"
   ]
  },
  {
   "cell_type": "markdown",
   "metadata": {},
   "source": [
    "#### Criticas IMDB"
   ]
  },
  {
   "cell_type": "code",
   "execution_count": 22,
   "metadata": {},
   "outputs": [
    {
     "ename": "UnpicklingError",
     "evalue": "invalid load key, '\\xef'.",
     "output_type": "error",
     "traceback": [
      "\u001b[1;31m---------------------------------------------------------------------------\u001b[0m",
      "\u001b[1;31mUnpicklingError\u001b[0m                           Traceback (most recent call last)",
      "\u001b[1;32mAnaSofOliveira\\AA-22-23\\Laboratorios\\LabTexto\\labTexto.ipynb Cell 5\u001b[0m in \u001b[0;36m<cell line: 2>\u001b[1;34m()\u001b[0m\n\u001b[0;32m      <a href='vscode-notebook-cell://github%2B7b2276223a312c22726566223a7b2274797065223a342c226964223a22646576656c6f706d656e74227d7d/AnaSofOliveira/AA-22-23/Laboratorios/LabTexto/labTexto.ipynb#W4sdnNjb2RlLXZmcw%3D%3D?line=0'>1</a>\u001b[0m fN \u001b[39m=\u001b[39m \u001b[39m'\u001b[39m\u001b[39m/Users/anaso/Documents/AA/AA-22-23/Laboratorios/LabTexto/Material fornecido/imdbCriticas.p\u001b[39m\u001b[39m'\u001b[39m\n\u001b[1;32m----> <a href='vscode-notebook-cell://github%2B7b2276223a312c22726566223a7b2274797065223a342c226964223a22646576656c6f706d656e74227d7d/AnaSofOliveira/AA-22-23/Laboratorios/LabTexto/labTexto.ipynb#W4sdnNjb2RlLXZmcw%3D%3D?line=1'>2</a>\u001b[0m D \u001b[39m=\u001b[39m pickle\u001b[39m.\u001b[39;49mload(\u001b[39mopen\u001b[39;49m(fN, \u001b[39m'\u001b[39;49m\u001b[39mrb\u001b[39;49m\u001b[39m'\u001b[39;49m))\n\u001b[0;32m      <a href='vscode-notebook-cell://github%2B7b2276223a312c22726566223a7b2274797065223a342c226964223a22646576656c6f706d656e74227d7d/AnaSofOliveira/AA-22-23/Laboratorios/LabTexto/labTexto.ipynb#W4sdnNjb2RlLXZmcw%3D%3D?line=3'>4</a>\u001b[0m corpus \u001b[39m=\u001b[39m D\u001b[39m.\u001b[39mdata\n\u001b[0;32m      <a href='vscode-notebook-cell://github%2B7b2276223a312c22726566223a7b2274797065223a342c226964223a22646576656c6f706d656e74227d7d/AnaSofOliveira/AA-22-23/Laboratorios/LabTexto/labTexto.ipynb#W4sdnNjb2RlLXZmcw%3D%3D?line=4'>5</a>\u001b[0m y \u001b[39m=\u001b[39m D\u001b[39m.\u001b[39mtarget\n",
      "\u001b[1;31mUnpicklingError\u001b[0m: invalid load key, '\\xef'."
     ]
    }
   ],
   "source": [
    "fN = '/Users/anaso/Documents/AA/AA-22-23/Laboratorios/LabTexto/Material fornecido/imdbCriticas.p'\n",
    "D = pickle.load(open(fN, 'rb'))\n",
    "\n",
    "corpus = D.data\n",
    "y = D.target\n",
    "\n",
    "print(type(corpus))\n",
    "print(corpus[7])\n",
    "print(y[:20])\n",
    "\n",
    "\n",
    "tfidf = TfidfVectorizer().fit(corpus)\n",
    "\n",
    "voc = tfidf.get_feature_names()\n",
    "\n",
    "\n",
    "\n",
    "\n"
   ]
  }
 ],
 "metadata": {
  "kernelspec": {
   "display_name": "Python 3.8.11 ('base')",
   "language": "python",
   "name": "python3"
  },
  "language_info": {
   "codemirror_mode": {
    "name": "ipython",
    "version": 3
   },
   "file_extension": ".py",
   "mimetype": "text/x-python",
   "name": "python",
   "nbconvert_exporter": "python",
   "pygments_lexer": "ipython3",
   "version": "3.8.11"
  },
  "orig_nbformat": 4,
  "vscode": {
   "interpreter": {
    "hash": "4b40f68814b93475b29075cb0adeb1712a4387a9e06914676246b503f1ae483b"
   }
  }
 },
 "nbformat": 4,
 "nbformat_minor": 2
}
