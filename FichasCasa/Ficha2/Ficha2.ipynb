{
 "cells": [
  {
   "cell_type": "code",
   "execution_count": 82,
   "metadata": {},
   "outputs": [],
   "source": [
    "import numpy as np\n",
    "from scipy.linalg import pinv\n",
    "import pickle\n",
    "import matplotlib.pyplot as plt\n",
    "from sklearn.metrics import confusion_matrix, classification_report\n",
    "from sklearn.neighbors import KNeighborsClassifier\n",
    "from scipy.spatial.distance import pdist\n"
   ]
  },
  {
   "cell_type": "markdown",
   "metadata": {},
   "source": [
    "#### Exercício 1"
   ]
  },
  {
   "cell_type": "code",
   "execution_count": 34,
   "metadata": {},
   "outputs": [
    {
     "name": "stdout",
     "output_type": "stream",
     "text": [
      "dict_keys(['trueClass', 'estClass'])\n",
      "(1400,)\n",
      "Número de pontos positivos:  280\n",
      "Número de pontos negativos:  1120\n",
      "Número de pontos classificados como positivos:  406\n",
      "Número de pontos classificados como negativos:  994\n",
      "\n",
      "Matriz de Confusão: \n",
      " [[938 182]\n",
      " [ 56 224]]\n",
      "\n",
      "Verdadeiros Positivos:  224\n",
      "Falsos Positivos:  182\n",
      "Total Positivos:  280\n",
      "\n",
      "Verdadeiros Negativos:  938\n",
      "Falsos Negativos:  56\n",
      "Total Negativos:  1120\n"
     ]
    },
    {
     "data": {
      "image/png": "[encoded data removed]",
      "text/plain": [
       "<Figure size 640x480 with 1 Axes>"
      ]
     },
     "metadata": {},
     "output_type": "display_data"
    }
   ],
   "source": [
    "fN = '/Users/anaso/Documents/AA/AA-22-23/FichasCasa/Ficha2/A39275_Q001_data.p'\n",
    "\n",
    "D = pickle.load(open(fN, 'rb'))\n",
    "\n",
    "print(D.keys())\n",
    "\n",
    "classe = D['trueClass']\n",
    "classeEstimada = D['estClass']\n",
    "\n",
    "print(classe.shape)\n",
    "\n",
    "print(\"Número de pontos positivos: \", np.sum(classe == 1))\n",
    "print(\"Número de pontos negativos: \", np.sum(classe == 0))\n",
    "\n",
    "print(\"Número de pontos classificados como positivos: \", np.sum(classeEstimada == 1))\n",
    "print(\"Número de pontos classificados como negativos: \", np.sum(classeEstimada == 0))\n",
    "\n",
    "\n",
    "CM = confusion_matrix(classe, classeEstimada)\n",
    "print(\"\")\n",
    "print(\"Matriz de Confusão: \\n\", CM)\n",
    "#print(\"Verdadeiros Positivos: \", np.sum(classe[classe==1] == classeEstimada[classeEstimada==1]))\n",
    "\n",
    "plt.plot(classe)\n",
    "plt.plot(classeEstimada, alpha=0.3)\n",
    "\n",
    "TP = CM[1][1]\n",
    "FP = CM[0][1]\n",
    "TN = CM[0][0]\n",
    "FN = CM[1][0]\n",
    "\n",
    "print(\"\")\n",
    "print(\"Verdadeiros Positivos: \", TP)\n",
    "print(\"Falsos Positivos: \", FP)\n",
    "print(\"Total Positivos: \", TP + FN)\n",
    "print(\"\")\n",
    "print(\"Verdadeiros Negativos: \", TN)\n",
    "print(\"Falsos Negativos: \", FN)\n",
    "print(\"Total Negativos: \", TN + FP)\n"
   ]
  },
  {
   "cell_type": "code",
   "execution_count": 35,
   "metadata": {},
   "outputs": [
    {
     "name": "stdout",
     "output_type": "stream",
     "text": [
      "Falsos Positivos (falsos alarmes):  0.1625\n",
      "Recall:  0.8\n"
     ]
    }
   ],
   "source": [
    "# (a)\n",
    "alarme = FP/(FP+TN)\n",
    "recall = TP/(TP+FN)\n",
    "print(\"Falsos Positivos (falsos alarmes): \", alarme)\n",
    "print(\"Recall: \", np.round(recall, 3))"
   ]
  },
  {
   "cell_type": "code",
   "execution_count": 36,
   "metadata": {},
   "outputs": [
    {
     "name": "stdout",
     "output_type": "stream",
     "text": [
      "Percentagem acertos positivos:  80.0 %\n",
      "Percentagem acertos negativos:  83.8 %\n"
     ]
    }
   ],
   "source": [
    "# (b)\n",
    "acertosPositivos_percentagem = (TP / (TP + FN))*100\n",
    "acertosNegativos_percentagem = (TN / (TN + FP))*100\n",
    "\n",
    "print(\"Percentagem acertos positivos: \", np.round(acertosPositivos_percentagem, 1), \"%\")\n",
    "print(\"Percentagem acertos negativos: \", np.round(acertosNegativos_percentagem, 1), \"%\")\n",
    "\n",
    "\n"
   ]
  },
  {
   "cell_type": "code",
   "execution_count": 37,
   "metadata": {},
   "outputs": [
    {
     "name": "stdout",
     "output_type": "stream",
     "text": [
      "Verdadeiros Negativos:  938\n",
      "Falsos Positivos:  182\n"
     ]
    }
   ],
   "source": [
    "# (c)\n",
    "print(\"Verdadeiros Negativos: \", np.round(TN, 0))\n",
    "print(\"Falsos Positivos: \", np.round(FP, 0))"
   ]
  },
  {
   "cell_type": "code",
   "execution_count": 38,
   "metadata": {},
   "outputs": [
    {
     "name": "stdout",
     "output_type": "stream",
     "text": [
      "Report de Classificação: \n",
      "               precision    recall  f1-score   support\n",
      "\n",
      "   Negativos       0.94      0.84      0.89      1120\n",
      "   Positivos       0.55      0.80      0.65       280\n",
      "\n",
      "    accuracy                           0.83      1400\n",
      "   macro avg       0.75      0.82      0.77      1400\n",
      "weighted avg       0.87      0.83      0.84      1400\n",
      "\n"
     ]
    }
   ],
   "source": [
    "target_names = [\"Negativos\", \"Positivos\"]\n",
    "report = classification_report(classe, classeEstimada, target_names=target_names)\n",
    "\n",
    "print(\"Report de Classificação: \\n\", report)"
   ]
  },
  {
   "cell_type": "markdown",
   "metadata": {},
   "source": [
    "#### Exercício 2"
   ]
  },
  {
   "cell_type": "code",
   "execution_count": 39,
   "metadata": {},
   "outputs": [
    {
     "name": "stdout",
     "output_type": "stream",
     "text": [
      "dict_keys(['trueClass', 'trueClassTrain', 'Xtrain', 'trueClassTest', 'Xtest'])\n",
      "(563,) (140,) (2, 140) (423,) (2, 423)\n",
      "Matriz de confusão: \n",
      " [[178   0  17]\n",
      " [  0  93   0]\n",
      " [ 11   0 124]]\n"
     ]
    }
   ],
   "source": [
    "fN = '/Users/anaso/Documents/AA/AA-22-23/FichasCasa/Ficha2/A39275_Q002_data.p'\n",
    "\n",
    "D = pickle.load(open(fN, 'rb'))\n",
    "\n",
    "print(D.keys())\n",
    "\n",
    "trueClass = D['trueClass']\n",
    "\n",
    "trueClassTrain = D['trueClassTrain']\n",
    "Xtrain = D['Xtrain']\n",
    "\n",
    "trueClassTest = D['trueClassTest']\n",
    "Xtest = D['Xtest']\n",
    "\n",
    "\n",
    "print (trueClass.shape, trueClassTrain.shape, Xtrain.shape, trueClassTest.shape, Xtest.shape)\n",
    "\n",
    "\n",
    "def metrica(x, y): \n",
    "    m = np.array([np.array([1,-2]) , np.array([1,1])])\n",
    "    return np.dot(np.dot((x-y).T, m), (x-y))\n",
    "\n",
    "k = 11\n",
    "\n",
    "knn = KNeighborsClassifier(n_neighbors=k, metric=metrica, algorithm='brute').fit(Xtrain.T, trueClassTrain)\n",
    "yTestePredicted = knn.predict(Xtest.T)\n",
    "\n",
    "# (a)\n",
    "print(\"Matriz de confusão: \\n\", confusion_matrix(trueClassTest, yTestePredicted))\n",
    "\n"
   ]
  },
  {
   "cell_type": "code",
   "execution_count": 40,
   "metadata": {},
   "outputs": [
    {
     "name": "stdout",
     "output_type": "stream",
     "text": [
      "Número total de erros:  28\n"
     ]
    }
   ],
   "source": [
    "# (b)\n",
    "print(\"Número total de erros: \", np.sum(trueClassTest != yTestePredicted))"
   ]
  },
  {
   "cell_type": "markdown",
   "metadata": {},
   "source": [
    "#### Exercício 3"
   ]
  },
  {
   "cell_type": "code",
   "execution_count": 41,
   "metadata": {},
   "outputs": [
    {
     "name": "stdout",
     "output_type": "stream",
     "text": [
      "(2, 9)\n",
      "(9,)\n"
     ]
    }
   ],
   "source": [
    "X = np.array([np.array([-6, -4, -2, -6, 2, 1, 5, 3, 4]), np.array([1, 3, 4, 4, 1, 3, 3, 4, 0])])\n",
    "y = np.array([0, 0, 0, 0, 1, 1, 1, 1, 1])\n",
    "\n",
    "print(X.shape)\n",
    "print(y.shape)"
   ]
  },
  {
   "cell_type": "code",
   "execution_count": 71,
   "metadata": {},
   "outputs": [
    {
     "name": "stdout",
     "output_type": "stream",
     "text": [
      "Amostras: \n",
      " [[-4  1]\n",
      " [-3 -3]]\n",
      "(2, 4) (2, 5)\n",
      "[-4.5  3. ] [3.  2.2]\n",
      "Covariancia 0: \n",
      " [[3.66666667 1.33333333]\n",
      " [1.33333333 2.        ]] \n",
      "Covariancia 1: \n",
      " [[ 2.5  -0.25]\n",
      " [-0.25  2.7 ]]\n",
      "Covariancia Invertida 0: \n",
      " [[ 0.36 -0.24]\n",
      " [-0.24  0.66]] \n",
      "Covariancia Invertida 1: \n",
      " [[0.40373832 0.03738318]\n",
      " [0.03738318 0.37383178]]\n",
      "O ponto ( -4 ,  -3 ) foi classificado na classe  0\n",
      "O ponto ( 1 ,  -3 ) foi classificado na classe  1\n"
     ]
    },
    {
     "data": {
      "text/plain": [
       "(-6.55, 5.55, -3.35, 4.35)"
      ]
     },
     "execution_count": 71,
     "metadata": {},
     "output_type": "execute_result"
    },
    {
     "data": {
      "image/png": "[encoded data removed]",
      "text/plain": [
       "<Figure size 640x480 with 1 Axes>"
      ]
     },
     "metadata": {},
     "output_type": "display_data"
    }
   ],
   "source": [
    "# (a)\n",
    "\n",
    "amostras = np.array([np.array([-4, 1]), np.array([-3, -3])])\n",
    "print(\"Amostras: \\n\", amostras)\n",
    "\n",
    "X0 = X[:, y==0]\n",
    "X1 = X[:, y==1]\n",
    "\n",
    "m0 = np.mean(X0, axis=1)\n",
    "m1 = np.mean(X1, axis=1)\n",
    "\n",
    "print(X0.shape, X1.shape)\n",
    "print(m0, m1)\n",
    "\n",
    "cov0 = np.cov(X0)\n",
    "cov1 = np.cov(X1)\n",
    "print(\"Covariancia 0: \\n\", cov0, \"\\nCovariancia 1: \\n\", cov1)\n",
    "\n",
    "S0i = pinv(cov0)\n",
    "S1i = pinv(cov1)\n",
    "print(\"Covariancia Invertida 0: \\n\", S0i, \"\\nCovariancia Invertida 1: \\n\", S1i)\n",
    "\n",
    "\n",
    "D0 =  np.sqrt(np.sum((amostras-m0[:, np.newaxis])*np.dot(S0i, (amostras-m0[:, np.newaxis])), axis=0))\n",
    "D1 =  np.sqrt(np.sum((amostras-m1[:, np.newaxis])*np.dot(S1i, (amostras-m1[:, np.newaxis])), axis=0))\n",
    "\n",
    "D = np.vstack((D0, D1))\n",
    "\n",
    "y2e = np.argmin(D, axis=1)\n",
    "\n",
    "print(\"O ponto (\", amostras[0, 0], \", \", amostras[1, 0], \") foi classificado na classe \", y2e[0])\n",
    "print(\"O ponto (\", amostras[0, 1], \", \", amostras[1, 1], \") foi classificado na classe \", y2e[1])\n",
    "\n",
    "\n",
    "plt.plot(X[0, y==0], X[1, y==0], '.')\n",
    "plt.plot(X[0, y==1], X[1, y==1], '.')\n",
    "plt.plot(m0[0], m0[1], '*')\n",
    "plt.plot(m1[0], m1[1], '*')\n",
    "plt.plot(amostras[0, :], amostras[1, :], 'ok')\n",
    "plt.grid(True)\n",
    "plt.axis('scaled')"
   ]
  },
  {
   "cell_type": "code",
   "execution_count": 45,
   "metadata": {},
   "outputs": [
    {
     "name": "stdout",
     "output_type": "stream",
     "text": [
      "M0:  [-4.5  3. ]\n",
      "M1:  [3.  2.2]\n",
      "Matriz de confusão: \n",
      " [[4 0]\n",
      " [0 5]]\n",
      "\n",
      "Verdadeiros Positivos:  5\n",
      "Falsos Positivos:  0\n",
      "Total Positivos:  5\n",
      "\n",
      "Verdadeiros Negativos:  4\n",
      "Falsos Negativos:  0\n",
      "Total Negativos:  4\n"
     ]
    }
   ],
   "source": [
    "# (b)\n",
    "\n",
    "m0 = np.mean(X[:, y==0], axis=1)\n",
    "m1 = np.mean(X[:, y==1], axis=1)\n",
    "\n",
    "D0 = np.sqrt(np.sum((X-m0[:, np.newaxis])**2, axis=0))\n",
    "D1 = np.sqrt(np.sum((X-m1[:, np.newaxis])**2, axis=0))\n",
    "\n",
    "D = np.vstack((D0, D1))\n",
    "\n",
    "y2e = np.argmin(D, axis=0)\n",
    "\n",
    "CM = confusion_matrix(y, y2e)\n",
    "\n",
    "\n",
    "print(\"M0: \", m0)\n",
    "print(\"M1: \", m1)\n",
    "\n",
    "\n",
    "print(\"Matriz de confusão: \\n\", CM)\n",
    "TP = CM[1][1]\n",
    "FP = CM[0][1]\n",
    "TN = CM[0][0]\n",
    "FN = CM[1][0]\n",
    "\n",
    "print(\"\")\n",
    "print(\"Verdadeiros Positivos: \", TP)\n",
    "print(\"Falsos Positivos: \", FP)\n",
    "print(\"Total Positivos: \", TP + FN)\n",
    "print(\"\")\n",
    "print(\"Verdadeiros Negativos: \", TN)\n",
    "print(\"Falsos Negativos: \", FN)\n",
    "print(\"Total Negativos: \", TN + FP)\n"
   ]
  },
  {
   "cell_type": "code",
   "execution_count": 70,
   "metadata": {},
   "outputs": [
    {
     "name": "stdout",
     "output_type": "stream",
     "text": [
      "[1 1]\n"
     ]
    },
    {
     "data": {
      "text/plain": [
       "(-6.55, 5.55, -3.35, 4.35)"
      ]
     },
     "execution_count": 70,
     "metadata": {},
     "output_type": "execute_result"
    },
    {
     "data": {
      "image/png": "[encoded data removed]",
      "text/plain": [
       "<Figure size 640x480 with 1 Axes>"
      ]
     },
     "metadata": {},
     "output_type": "display_data"
    }
   ],
   "source": [
    "\n",
    "# (c)\n",
    "m0 = np.mean(X[:, y==0], axis=1)\n",
    "m1 = np.mean(X[:, y==1], axis=1)\n",
    "\n",
    "amostras = np.array([np.array([1, 1]), np.array([-3, 3])])\n",
    "\n",
    "D0 = np.sum(abs(amostras-m0[:, np.newaxis]), axis=0)\n",
    "D1 = np.sum(abs(amostras-m1[:, np.newaxis]), axis=0)\n",
    "D = np.vstack((D0, D1))\n",
    "\n",
    "y2e = np.argmin(D, axis=1)\n",
    "\n",
    "print(y2e)\n",
    "\n",
    "\n",
    "plt.plot(X[0, y==0], X[1, y==0], '.')\n",
    "plt.plot(X[0, y==1], X[1, y==1], '.')\n",
    "plt.plot(m0[0], m0[1], '*')\n",
    "plt.plot(m1[0], m1[1], '*')\n",
    "plt.plot(amostras[0, :], amostras[1, :], 'ok')\n",
    "plt.grid(True)\n",
    "plt.axis('scaled')"
   ]
  },
  {
   "cell_type": "code",
   "execution_count": 83,
   "metadata": {},
   "outputs": [
    {
     "name": "stdout",
     "output_type": "stream",
     "text": [
      "[-4.5  3. ] [3.  2.2]\n",
      "man  [8.3]\n",
      "cos  [1.34]\n",
      "8.3\n"
     ]
    }
   ],
   "source": [
    "# (d)\n",
    "\n",
    "m0 = np.mean(X[:, y==0], axis=1)\n",
    "m1 = np.mean(X[:, y==1], axis=1)\n",
    "\n",
    "print(m0, m1)\n",
    "\n",
    "m = np.vstack((m0.T,m1.T))\n",
    "\n",
    "man_dist = pdist(m, 'cityblock')\n",
    "cos_dist = pdist(m, 'cosine')\n",
    "\n",
    "print('man ' , np.round(man_dist, 2))\n",
    "print('cos ' , np.round(cos_dist, 2))\n",
    "\n",
    "man2 = np.sum(np.abs(m0-m1),axis=0)\n",
    "#print(man2)\n"
   ]
  },
  {
   "cell_type": "code",
   "execution_count": 97,
   "metadata": {},
   "outputs": [
    {
     "name": "stdout",
     "output_type": "stream",
     "text": [
      "[[-6 -4 -2 -6  2  1  5  3  4]\n",
      " [ 1  3  4  4  1  3  3  4  0]]\n",
      "[0 0 0 0 1 0 1 0 1]\n",
      "Matriz de confusão: \n",
      " [[4 0]\n",
      " [2 3]]\n",
      "Número total de erros:  2\n",
      "\n",
      "Verdadeiros Positivos:  3\n",
      "Falsos Positivos:  0\n",
      "Total Positivos:  5\n",
      "\n",
      "Verdadeiros Negativos:  4\n",
      "Falsos Negativos:  2\n",
      "Total Negativos:  4\n"
     ]
    }
   ],
   "source": [
    "# (e)\n",
    "\n",
    "print(X)\n",
    "\n",
    "norma_x = np.sqrt(np.sum(X**2, axis=0))\n",
    "Xn = X/norma_x\n",
    "\n",
    "y2e = np.argmin(Xn, axis=0)\n",
    "\n",
    "print(y2e)\n",
    "\n",
    "CM = confusion_matrix(y, y2e)\n",
    "\n",
    "\n",
    "print(\"Matriz de confusão: \\n\", CM)\n",
    "print(\"Número total de erros: \", np.sum(y!=y2e))\n",
    "TP = CM[1][1]\n",
    "FP = CM[0][1]\n",
    "TN = CM[0][0]\n",
    "FN = CM[1][0]\n",
    "\n",
    "print(\"\")\n",
    "print(\"Verdadeiros Positivos: \", TP)\n",
    "print(\"Falsos Positivos: \", FP)\n",
    "print(\"Total Positivos: \", TP + FN)\n",
    "print(\"\")\n",
    "print(\"Verdadeiros Negativos: \", TN)\n",
    "print(\"Falsos Negativos: \", FN)\n",
    "print(\"Total Negativos: \", TN + FP)\n"
   ]
  }
 ],
 "metadata": {
  "kernelspec": {
   "display_name": "Python 3.8.11 ('base')",
   "language": "python",
   "name": "python3"
  },
  "language_info": {
   "codemirror_mode": {
    "name": "ipython",
    "version": 3
   },
   "file_extension": ".py",
   "mimetype": "text/x-python",
   "name": "python",
   "nbconvert_exporter": "python",
   "pygments_lexer": "ipython3",
   "version": "3.8.11"
  },
  "orig_nbformat": 4,
  "vscode": {
   "interpreter": {
    "hash": "4b40f68814b93475b29075cb0adeb1712a4387a9e06914676246b503f1ae483b"
   }
  }
 },
 "nbformat": 4,
 "nbformat_minor": 2
}
