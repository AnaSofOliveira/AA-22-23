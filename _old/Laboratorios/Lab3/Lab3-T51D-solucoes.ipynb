{
 "cells": [
  {
   "cell_type": "markdown",
   "metadata": {},
   "source": [
    "# LAB3: PCA + LDA + conjunto de dados MNIST"
   ]
  },
  {
   "cell_type": "markdown",
   "metadata": {},
   "source": [
    "<hr style=\"border:1px  solid black\"> </hr>"
   ]
  },
  {
   "cell_type": "markdown",
   "metadata": {},
   "source": [
    "### (Preencher)\n",
    "## Nome: \n",
    "## Número: "
   ]
  },
  {
   "cell_type": "markdown",
   "metadata": {},
   "source": [
    "<hr style=\"border:1px  solid black\"> </hr>"
   ]
  },
  {
   "cell_type": "markdown",
   "metadata": {},
   "source": [
    "## Desenvolva e corra o código pedido nas células imediatamente abaixo das perguntas."
   ]
  },
  {
   "cell_type": "markdown",
   "metadata": {},
   "source": [
    "# IMPORTANTE:\n",
    "## Uma vez completado, grave este Jupyter notebook com o seguinte nome:\n",
    "## Axxxxx-Lab3.ipynb (Axxxxx: número de aluno)\n",
    "##  e depois submeta o ficheiro no link do Moodle providenciado para o efeito."
   ]
  },
  {
   "cell_type": "markdown",
   "metadata": {},
   "source": [
    "<hr style=\"border:2px solid black\"> </hr>"
   ]
  },
  {
   "cell_type": "markdown",
   "metadata": {},
   "source": [
    "# Conjunto de dados $\\texttt{MNISTsmall.p}$:"
   ]
  },
  {
   "cell_type": "markdown",
   "metadata": {},
   "source": [
    "# Pergunta 1: Considere os dígitos \"2\" e \"8\"  dos dados (2000 dígitos de treino e 1000 de teste).\n",
    "## a) Calcule a matriz de PCA para os 2000 dígitos de treino. Guarde só as componentes principais cujos valores próprios seja maiores que cem (100) e especifique (imprima) esse o número. \n",
    "## b) Visualize em forma de imagem, as três primeiras componetes principais (3 imagens de $28\\times28$).\n",
    "## c) Aplique a transformação PCA aos dígitos  do conjunto de teste e faça a transformação inversa. Calcule o erro quadrático médio entre os dígitos de teste originais e os reconstruídos. Imprima o valor obtido.\n"
   ]
  },
  {
   "cell_type": "code",
   "execution_count": 1,
   "metadata": {},
   "outputs": [],
   "source": [
    "import numpy as np\n",
    "import matplotlib.pyplot as plt\n",
    "import scipy.linalg as la\n",
    "import pickle\n"
   ]
  },
  {
   "cell_type": "code",
   "execution_count": 14,
   "metadata": {},
   "outputs": [],
   "source": [
    "dataDir='/home/gcm/gcm/aulas/AA/aulas/Praticas/LAB3-PCA_LDA/src/'\n",
    "D=pickle.load(open(dataDir+'MNISTsmall.p','rb'))\n",
    "\n",
    "X=D['X']*1.0\n",
    "y=D['trueClass']\n",
    "f1=D['foldTrain']\n",
    "f2=D['foldTest']\n",
    "X1=X[:,f1]\n",
    "y1=y[f1]\n",
    "X2=X[:,f2]\n",
    "y2=y[f2]\n",
    "X1=X1[:,(y1==2) | (y1==8)] #dígitos de treino 2 e 8\n",
    "X2=X2[:,(y2==2) | (y2==8)] #dígitos de teste 2 e 8\n"
   ]
  },
  {
   "cell_type": "markdown",
   "metadata": {},
   "source": [
    "### Pergunta 1.a)"
   ]
  },
  {
   "cell_type": "code",
   "execution_count": 20,
   "metadata": {},
   "outputs": [
    {
     "name": "stdout",
     "output_type": "stream",
     "text": [
      "Nº de componentes principais: 419\n"
     ]
    }
   ],
   "source": [
    "Cx=np.cov(X1)\n",
    "u,V=la.eig(Cx)\n",
    "u=u.real\n",
    "V=V.real\n",
    "idx=np.argsort(-u)\n",
    "u=u[idx]\n",
    "V=V[:,idx]\n",
    "V=V[:,u>100]\n",
    "nCPs=V.shape[1]\n",
    "print('Nº de componentes principais:',nCPs)\n",
    "\n",
    "#matriz de transformação (75% da variância)\n",
    "W=V[:,:nCPs]\n"
   ]
  },
  {
   "cell_type": "markdown",
   "metadata": {},
   "source": [
    "### Pergunta 1.b)"
   ]
  },
  {
   "cell_type": "code",
   "execution_count": 11,
   "metadata": {
    "scrolled": false
   },
   "outputs": [
    {
     "data": {
      "text/plain": [
       "Text(0.5, 1.0, '$CP_3$')"
      ]
     },
     "execution_count": 11,
     "metadata": {},
     "output_type": "execute_result"
    },
    {
     "data": {
      "image/png": "[encoded data removed]",
      "text/plain": [
       "<Figure size 720x360 with 3 Axes>"
      ]
     },
     "metadata": {
      "needs_background": "light"
     },
     "output_type": "display_data"
    }
   ],
   "source": [
    "#1ªs 3 CPs\n",
    "w1=W[:,0].reshape(28,28)\n",
    "w2=W[:,1].reshape(28,28)\n",
    "w3=W[:,2].reshape(28,28)\n",
    "plt.figure(figsize=(10,5))\n",
    "plt.subplot(131)\n",
    "plt.imshow(w1,cmap='binary')\n",
    "plt.axis('off')\n",
    "plt.title('$CP_1$')\n",
    "plt.subplot(132)\n",
    "plt.imshow(w2,cmap='binary')\n",
    "plt.axis('off')\n",
    "plt.title('$CP_2$')\n",
    "plt.subplot(133)\n",
    "plt.imshow(w3,cmap='binary')\n",
    "plt.axis('off')\n",
    "plt.title('$CP_3$')"
   ]
  },
  {
   "cell_type": "markdown",
   "metadata": {},
   "source": [
    "### Pergunta 1.c)"
   ]
  },
  {
   "cell_type": "code",
   "execution_count": 21,
   "metadata": {},
   "outputs": [
    {
     "name": "stdout",
     "output_type": "stream",
     "text": [
      "Erro Quadrático Médio: 12.47\n"
     ]
    }
   ],
   "source": [
    "#dados transformados\n",
    "X2p=np.dot(W.T,X2)\n",
    "#dados reconstruídos\n",
    "X2r=np.dot(W,X2p)\n",
    "#EQM\n",
    "E=np.mean((X2-X2r)**2)\n",
    "print('Erro Quadrático Médio: %.2f'%E)\n"
   ]
  },
  {
   "cell_type": "markdown",
   "metadata": {},
   "source": [
    "# Pergunta 2: Considere os dígitos \"1\", \"4\" e \"7\" dos dados (3000 dígitos de treino e 1500 dígitos de teste).\n",
    "## a) Estime a transformação PCA com os dados de treino, de modo aos dados projetados terem $90\\%$ da variância total dos dados e aplique a transformação aos dados de treino e teste. \n",
    "## b) Treine o classificador $\\texttt{SVC(kernel='rbf')}$ com os dados de treino transformados, e calcule a matriz de confusão e o número total de erros nos dados de teste transformados.\n",
    "## c) Pretende-se aplicar a transformação LDA aos dados processados com PCA. Estime a transformação LDA com os dados de treino e aplique a transformação aos dados de treino e teste. Faça um \"plot\"  dos dados de teste por classe no mesmo gráfico.\n",
    "## d) Treine o classificador $\\texttt{SVC(kernel='rbf')}$ com os dados transformados da alínea anterior, e calcule a matriz de confusão e o número total de erros nos dados de teste."
   ]
  },
  {
   "cell_type": "code",
   "execution_count": 34,
   "metadata": {},
   "outputs": [],
   "source": [
    "from sklearn.metrics import confusion_matrix\n",
    "from sklearn.discriminant_analysis import LinearDiscriminantAnalysis as LDA\n",
    "from sklearn.svm import SVC\n",
    "svm=SVC(kernel='rbf')"
   ]
  },
  {
   "cell_type": "markdown",
   "metadata": {},
   "source": [
    "### Perguntas 2.a) e 2.b)"
   ]
  },
  {
   "cell_type": "code",
   "execution_count": 35,
   "metadata": {},
   "outputs": [
    {
     "name": "stdout",
     "output_type": "stream",
     "text": [
      "(1500, 67)\n",
      "Matriz de confusão:\n",
      "[[497   0   3]\n",
      " [  0 500   0]\n",
      " [ 13   7 480]]\n",
      "Número total de erros no conjunto de teste:23\n"
     ]
    }
   ],
   "source": [
    "from sklearn.decomposition import PCA\n",
    "dataDir='/home/gcm/gcm/aulas/AA/aulas/Praticas/LAB3-PCA_LDA/src/'\n",
    "D=pickle.load(open(dataDir+'MNISTsmall.p','rb'))\n",
    "\n",
    "X=D['X']*1.0\n",
    "y=D['trueClass']\n",
    "f1=D['foldTrain']\n",
    "f2=D['foldTest']\n",
    "X1=X[:,f1]\n",
    "y1=y[f1]\n",
    "X2=X[:,f2]\n",
    "y2=y[f2]\n",
    "\n",
    "X1=X1[:,(y1==1) | (y1==4) | (y1==7)] #dígitos de treino 1, 4 e 7\n",
    "y1=y1[(y1==1) | (y1==4) | (y1==7)]\n",
    "X2=X2[:,(y2==1) | (y2==4) | (y2==7)] #dígitos de teste 1, 4 e 7\n",
    "y2=y2[(y2==1) | (y2==4) | (y2==7)]\n",
    "\n",
    "# Pergunta 2.a)\n",
    "pca=PCA(n_components=0.90).fit(X1.T)\n",
    "X1p=pca.transform(X1.T)\n",
    "X2p=pca.transform(X2.T)\n",
    "print(X2p.shape)\n",
    "# Pergunta 2.b)\n",
    "svm.fit(X1p,y1)\n",
    "y2e=svm.predict(X2p)\n",
    "print('Matriz de confusão:')\n",
    "print(confusion_matrix(y2,y2e))\n",
    "print('Número total de erros no conjunto de teste:%d'%np.sum(y2!=y2e))"
   ]
  },
  {
   "cell_type": "markdown",
   "metadata": {},
   "source": [
    "### Perguntas 2.c) e 2.d)"
   ]
  },
  {
   "cell_type": "code",
   "execution_count": 36,
   "metadata": {},
   "outputs": [
    {
     "name": "stdout",
     "output_type": "stream",
     "text": [
      "(1500, 2)\n",
      "Matriz de confusão:\n",
      "[[497   1   2]\n",
      " [  0 492   8]\n",
      " [ 17  18 465]]\n",
      "Número total de erros no conjunto de teste:46\n"
     ]
    },
    {
     "data": {
      "image/png": "[encoded data removed]",
      "text/plain": [
       "<Figure size 720x504 with 1 Axes>"
      ]
     },
     "metadata": {
      "needs_background": "light"
     },
     "output_type": "display_data"
    }
   ],
   "source": [
    "# Pergunta 2.c)\n",
    "lda=LDA().fit(X1p,y1)\n",
    "X1l=lda.transform(X1p)\n",
    "X2l=lda.transform(X2p)\n",
    "print(X2l.shape)\n",
    "plt.figure(figsize=(10,7))\n",
    "plt.plot(X2l[y2==1,0],X2l[y2==1,1],'.')\n",
    "plt.plot(X2l[y2==4,0],X2l[y2==4,1],'.')\n",
    "plt.plot(X2l[y2==7,0],X2l[y2==7,1],'.')\n",
    "plt.axis('scaled')\n",
    "plt.grid(True)\n",
    "# Pergunta 2.d)\n",
    "svm.fit(X1l,y1)\n",
    "y2e=svm.predict(X2l)\n",
    "print('Matriz de confusão:')\n",
    "print(confusion_matrix(y2,y2e))\n",
    "print('Número total de erros no conjunto de teste:%d'%np.sum(y2!=y2e))"
   ]
  },
  {
   "cell_type": "code",
   "execution_count": null,
   "metadata": {},
   "outputs": [],
   "source": []
  }
 ],
 "metadata": {
  "kernelspec": {
   "display_name": "Python 3",
   "language": "python",
   "name": "python3"
  },
  "language_info": {
   "codemirror_mode": {
    "name": "ipython",
    "version": 3
   },
   "file_extension": ".py",
   "mimetype": "text/x-python",
   "name": "python",
   "nbconvert_exporter": "python",
   "pygments_lexer": "ipython3",
   "version": "3.6.9"
  }
 },
 "nbformat": 4,
 "nbformat_minor": 4
}
